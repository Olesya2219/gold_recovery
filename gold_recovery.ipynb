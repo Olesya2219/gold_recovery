{
 "cells": [
  {
   "cell_type": "markdown",
   "metadata": {},
   "source": [
    "# Восстановление золота из руды"
   ]
  },
  {
   "cell_type": "markdown",
   "metadata": {},
   "source": [
    "Подготовьте прототип модели машинного обучения для «Цифры». Компания разрабатывает решения для эффективной работы промышленных предприятий.\n",
    "\n",
    "Модель должна предсказать коэффициент восстановления золота из золотосодержащей руды. Используйте данные с параметрами добычи и очистки. \n",
    "\n",
    "Модель поможет оптимизировать производство, чтобы не запускать предприятие с убыточными характеристиками.\n",
    "\n",
    "Вам нужно:\n",
    "\n",
    "1. Подготовить данные;\n",
    "2. Провести исследовательский анализ данных;\n",
    "3. Построить и обучить модель.\n",
    "\n",
    "Чтобы выполнить проект, обращайтесь к библиотекам *pandas*, *matplotlib* и *sklearn.* Вам поможет их документация.\n",
    "\n",
    "**Цель проекта:** предсказание коэффициента восстановления золота из золотосодержащей руды.\n",
    "\n",
    "<br>**Задачи исследования:**\n",
    "<br>1.Изучить исходные данные и выполнить их предобработку.\n",
    "<br>2.Анализ данных.\n",
    "<br>3.Построение модели.\n",
    "<br>5.Сделать общий вывод."
   ]
  },
  {
   "cell_type": "markdown",
   "metadata": {},
   "source": [
    "## Подготовка данных"
   ]
  },
  {
   "cell_type": "code",
   "execution_count": 607,
   "metadata": {},
   "outputs": [],
   "source": [
    "import pandas as pd\n",
    "import seaborn as sns"
   ]
  },
  {
   "cell_type": "code",
   "execution_count": 608,
   "metadata": {},
   "outputs": [],
   "source": [
    "import matplotlib.pyplot as plt\n",
    "from sklearn.linear_model import LinearRegression\n",
    "from sklearn.ensemble import RandomForestRegressor\n",
    "from sklearn.model_selection import GridSearchCV\n",
    "from sklearn.preprocessing import StandardScaler "
   ]
  },
  {
   "cell_type": "code",
   "execution_count": 609,
   "metadata": {},
   "outputs": [],
   "source": [
    "from sklearn.metrics import mean_squared_error\n",
    "from sklearn.metrics import mean_absolute_error"
   ]
  },
  {
   "cell_type": "code",
   "execution_count": 610,
   "metadata": {},
   "outputs": [],
   "source": [
    "# обучающая выборка\n",
    "data_train = pd.read_csv('/datasets/gold_recovery_train_new.csv')\n",
    "# тестовая выборка\n",
    "data_test = pd.read_csv('/datasets/gold_recovery_test_new.csv')\n",
    "# исходная выборка\n",
    "data_full = pd.read_csv('/datasets/gold_recovery_full_new.csv')"
   ]
  },
  {
   "cell_type": "code",
   "execution_count": 611,
   "metadata": {},
   "outputs": [
    {
     "name": "stdout",
     "output_type": "stream",
     "text": [
      "<class 'pandas.core.frame.DataFrame'>\n",
      "RangeIndex: 14149 entries, 0 to 14148\n",
      "Data columns (total 87 columns):\n",
      " #   Column                                              Non-Null Count  Dtype  \n",
      "---  ------                                              --------------  -----  \n",
      " 0   date                                                14149 non-null  object \n",
      " 1   final.output.concentrate_ag                         14148 non-null  float64\n",
      " 2   final.output.concentrate_pb                         14148 non-null  float64\n",
      " 3   final.output.concentrate_sol                        13938 non-null  float64\n",
      " 4   final.output.concentrate_au                         14149 non-null  float64\n",
      " 5   final.output.recovery                               14149 non-null  float64\n",
      " 6   final.output.tail_ag                                14149 non-null  float64\n",
      " 7   final.output.tail_pb                                14049 non-null  float64\n",
      " 8   final.output.tail_sol                               14144 non-null  float64\n",
      " 9   final.output.tail_au                                14149 non-null  float64\n",
      " 10  primary_cleaner.input.sulfate                       14129 non-null  float64\n",
      " 11  primary_cleaner.input.depressant                    14117 non-null  float64\n",
      " 12  primary_cleaner.input.feed_size                     14149 non-null  float64\n",
      " 13  primary_cleaner.input.xanthate                      14049 non-null  float64\n",
      " 14  primary_cleaner.output.concentrate_ag               14149 non-null  float64\n",
      " 15  primary_cleaner.output.concentrate_pb               14063 non-null  float64\n",
      " 16  primary_cleaner.output.concentrate_sol              13863 non-null  float64\n",
      " 17  primary_cleaner.output.concentrate_au               14149 non-null  float64\n",
      " 18  primary_cleaner.output.tail_ag                      14148 non-null  float64\n",
      " 19  primary_cleaner.output.tail_pb                      14134 non-null  float64\n",
      " 20  primary_cleaner.output.tail_sol                     14103 non-null  float64\n",
      " 21  primary_cleaner.output.tail_au                      14149 non-null  float64\n",
      " 22  primary_cleaner.state.floatbank8_a_air              14145 non-null  float64\n",
      " 23  primary_cleaner.state.floatbank8_a_level            14148 non-null  float64\n",
      " 24  primary_cleaner.state.floatbank8_b_air              14145 non-null  float64\n",
      " 25  primary_cleaner.state.floatbank8_b_level            14148 non-null  float64\n",
      " 26  primary_cleaner.state.floatbank8_c_air              14147 non-null  float64\n",
      " 27  primary_cleaner.state.floatbank8_c_level            14148 non-null  float64\n",
      " 28  primary_cleaner.state.floatbank8_d_air              14146 non-null  float64\n",
      " 29  primary_cleaner.state.floatbank8_d_level            14148 non-null  float64\n",
      " 30  rougher.calculation.sulfate_to_au_concentrate       14148 non-null  float64\n",
      " 31  rougher.calculation.floatbank10_sulfate_to_au_feed  14148 non-null  float64\n",
      " 32  rougher.calculation.floatbank11_sulfate_to_au_feed  14148 non-null  float64\n",
      " 33  rougher.calculation.au_pb_ratio                     14149 non-null  float64\n",
      " 34  rougher.input.feed_ag                               14149 non-null  float64\n",
      " 35  rougher.input.feed_pb                               14049 non-null  float64\n",
      " 36  rougher.input.feed_rate                             14141 non-null  float64\n",
      " 37  rougher.input.feed_size                             14005 non-null  float64\n",
      " 38  rougher.input.feed_sol                              14071 non-null  float64\n",
      " 39  rougher.input.feed_au                               14149 non-null  float64\n",
      " 40  rougher.input.floatbank10_sulfate                   14120 non-null  float64\n",
      " 41  rougher.input.floatbank10_xanthate                  14141 non-null  float64\n",
      " 42  rougher.input.floatbank11_sulfate                   14113 non-null  float64\n",
      " 43  rougher.input.floatbank11_xanthate                  13721 non-null  float64\n",
      " 44  rougher.output.concentrate_ag                       14149 non-null  float64\n",
      " 45  rougher.output.concentrate_pb                       14149 non-null  float64\n",
      " 46  rougher.output.concentrate_sol                      14127 non-null  float64\n",
      " 47  rougher.output.concentrate_au                       14149 non-null  float64\n",
      " 48  rougher.output.recovery                             14149 non-null  float64\n",
      " 49  rougher.output.tail_ag                              14148 non-null  float64\n",
      " 50  rougher.output.tail_pb                              14149 non-null  float64\n",
      " 51  rougher.output.tail_sol                             14149 non-null  float64\n",
      " 52  rougher.output.tail_au                              14149 non-null  float64\n",
      " 53  rougher.state.floatbank10_a_air                     14148 non-null  float64\n",
      " 54  rougher.state.floatbank10_a_level                   14148 non-null  float64\n",
      " 55  rougher.state.floatbank10_b_air                     14148 non-null  float64\n",
      " 56  rougher.state.floatbank10_b_level                   14148 non-null  float64\n",
      " 57  rougher.state.floatbank10_c_air                     14148 non-null  float64\n",
      " 58  rougher.state.floatbank10_c_level                   14148 non-null  float64\n",
      " 59  rougher.state.floatbank10_d_air                     14149 non-null  float64\n",
      " 60  rougher.state.floatbank10_d_level                   14149 non-null  float64\n",
      " 61  rougher.state.floatbank10_e_air                     13713 non-null  float64\n",
      " 62  rougher.state.floatbank10_e_level                   14149 non-null  float64\n",
      " 63  rougher.state.floatbank10_f_air                     14149 non-null  float64\n",
      " 64  rougher.state.floatbank10_f_level                   14149 non-null  float64\n",
      " 65  secondary_cleaner.output.tail_ag                    14147 non-null  float64\n",
      " 66  secondary_cleaner.output.tail_pb                    14139 non-null  float64\n",
      " 67  secondary_cleaner.output.tail_sol                   12544 non-null  float64\n",
      " 68  secondary_cleaner.output.tail_au                    14149 non-null  float64\n",
      " 69  secondary_cleaner.state.floatbank2_a_air            13932 non-null  float64\n",
      " 70  secondary_cleaner.state.floatbank2_a_level          14148 non-null  float64\n",
      " 71  secondary_cleaner.state.floatbank2_b_air            14128 non-null  float64\n",
      " 72  secondary_cleaner.state.floatbank2_b_level          14148 non-null  float64\n",
      " 73  secondary_cleaner.state.floatbank3_a_air            14145 non-null  float64\n",
      " 74  secondary_cleaner.state.floatbank3_a_level          14148 non-null  float64\n",
      " 75  secondary_cleaner.state.floatbank3_b_air            14148 non-null  float64\n",
      " 76  secondary_cleaner.state.floatbank3_b_level          14148 non-null  float64\n",
      " 77  secondary_cleaner.state.floatbank4_a_air            14143 non-null  float64\n",
      " 78  secondary_cleaner.state.floatbank4_a_level          14148 non-null  float64\n",
      " 79  secondary_cleaner.state.floatbank4_b_air            14148 non-null  float64\n",
      " 80  secondary_cleaner.state.floatbank4_b_level          14148 non-null  float64\n",
      " 81  secondary_cleaner.state.floatbank5_a_air            14148 non-null  float64\n",
      " 82  secondary_cleaner.state.floatbank5_a_level          14148 non-null  float64\n",
      " 83  secondary_cleaner.state.floatbank5_b_air            14148 non-null  float64\n",
      " 84  secondary_cleaner.state.floatbank5_b_level          14148 non-null  float64\n",
      " 85  secondary_cleaner.state.floatbank6_a_air            14147 non-null  float64\n",
      " 86  secondary_cleaner.state.floatbank6_a_level          14148 non-null  float64\n",
      "dtypes: float64(86), object(1)\n",
      "memory usage: 9.4+ MB\n"
     ]
    }
   ],
   "source": [
    "data_train.info()"
   ]
  },
  {
   "cell_type": "code",
   "execution_count": 612,
   "metadata": {},
   "outputs": [
    {
     "name": "stdout",
     "output_type": "stream",
     "text": [
      "<class 'pandas.core.frame.DataFrame'>\n",
      "RangeIndex: 5290 entries, 0 to 5289\n",
      "Data columns (total 53 columns):\n",
      " #   Column                                      Non-Null Count  Dtype  \n",
      "---  ------                                      --------------  -----  \n",
      " 0   date                                        5290 non-null   object \n",
      " 1   primary_cleaner.input.sulfate               5286 non-null   float64\n",
      " 2   primary_cleaner.input.depressant            5285 non-null   float64\n",
      " 3   primary_cleaner.input.feed_size             5290 non-null   float64\n",
      " 4   primary_cleaner.input.xanthate              5286 non-null   float64\n",
      " 5   primary_cleaner.state.floatbank8_a_air      5290 non-null   float64\n",
      " 6   primary_cleaner.state.floatbank8_a_level    5290 non-null   float64\n",
      " 7   primary_cleaner.state.floatbank8_b_air      5290 non-null   float64\n",
      " 8   primary_cleaner.state.floatbank8_b_level    5290 non-null   float64\n",
      " 9   primary_cleaner.state.floatbank8_c_air      5290 non-null   float64\n",
      " 10  primary_cleaner.state.floatbank8_c_level    5290 non-null   float64\n",
      " 11  primary_cleaner.state.floatbank8_d_air      5290 non-null   float64\n",
      " 12  primary_cleaner.state.floatbank8_d_level    5290 non-null   float64\n",
      " 13  rougher.input.feed_ag                       5290 non-null   float64\n",
      " 14  rougher.input.feed_pb                       5290 non-null   float64\n",
      " 15  rougher.input.feed_rate                     5287 non-null   float64\n",
      " 16  rougher.input.feed_size                     5289 non-null   float64\n",
      " 17  rougher.input.feed_sol                      5269 non-null   float64\n",
      " 18  rougher.input.feed_au                       5290 non-null   float64\n",
      " 19  rougher.input.floatbank10_sulfate           5285 non-null   float64\n",
      " 20  rougher.input.floatbank10_xanthate          5290 non-null   float64\n",
      " 21  rougher.input.floatbank11_sulfate           5282 non-null   float64\n",
      " 22  rougher.input.floatbank11_xanthate          5265 non-null   float64\n",
      " 23  rougher.state.floatbank10_a_air             5290 non-null   float64\n",
      " 24  rougher.state.floatbank10_a_level           5290 non-null   float64\n",
      " 25  rougher.state.floatbank10_b_air             5290 non-null   float64\n",
      " 26  rougher.state.floatbank10_b_level           5290 non-null   float64\n",
      " 27  rougher.state.floatbank10_c_air             5290 non-null   float64\n",
      " 28  rougher.state.floatbank10_c_level           5290 non-null   float64\n",
      " 29  rougher.state.floatbank10_d_air             5290 non-null   float64\n",
      " 30  rougher.state.floatbank10_d_level           5290 non-null   float64\n",
      " 31  rougher.state.floatbank10_e_air             5290 non-null   float64\n",
      " 32  rougher.state.floatbank10_e_level           5290 non-null   float64\n",
      " 33  rougher.state.floatbank10_f_air             5290 non-null   float64\n",
      " 34  rougher.state.floatbank10_f_level           5290 non-null   float64\n",
      " 35  secondary_cleaner.state.floatbank2_a_air    5287 non-null   float64\n",
      " 36  secondary_cleaner.state.floatbank2_a_level  5290 non-null   float64\n",
      " 37  secondary_cleaner.state.floatbank2_b_air    5288 non-null   float64\n",
      " 38  secondary_cleaner.state.floatbank2_b_level  5290 non-null   float64\n",
      " 39  secondary_cleaner.state.floatbank3_a_air    5281 non-null   float64\n",
      " 40  secondary_cleaner.state.floatbank3_a_level  5290 non-null   float64\n",
      " 41  secondary_cleaner.state.floatbank3_b_air    5290 non-null   float64\n",
      " 42  secondary_cleaner.state.floatbank3_b_level  5290 non-null   float64\n",
      " 43  secondary_cleaner.state.floatbank4_a_air    5290 non-null   float64\n",
      " 44  secondary_cleaner.state.floatbank4_a_level  5290 non-null   float64\n",
      " 45  secondary_cleaner.state.floatbank4_b_air    5290 non-null   float64\n",
      " 46  secondary_cleaner.state.floatbank4_b_level  5290 non-null   float64\n",
      " 47  secondary_cleaner.state.floatbank5_a_air    5290 non-null   float64\n",
      " 48  secondary_cleaner.state.floatbank5_a_level  5290 non-null   float64\n",
      " 49  secondary_cleaner.state.floatbank5_b_air    5290 non-null   float64\n",
      " 50  secondary_cleaner.state.floatbank5_b_level  5290 non-null   float64\n",
      " 51  secondary_cleaner.state.floatbank6_a_air    5290 non-null   float64\n",
      " 52  secondary_cleaner.state.floatbank6_a_level  5290 non-null   float64\n",
      "dtypes: float64(52), object(1)\n",
      "memory usage: 2.1+ MB\n"
     ]
    }
   ],
   "source": [
    "data_test.info()"
   ]
  },
  {
   "cell_type": "code",
   "execution_count": 613,
   "metadata": {},
   "outputs": [
    {
     "name": "stdout",
     "output_type": "stream",
     "text": [
      "<class 'pandas.core.frame.DataFrame'>\n",
      "RangeIndex: 19439 entries, 0 to 19438\n",
      "Data columns (total 87 columns):\n",
      " #   Column                                              Non-Null Count  Dtype  \n",
      "---  ------                                              --------------  -----  \n",
      " 0   date                                                19439 non-null  object \n",
      " 1   final.output.concentrate_ag                         19438 non-null  float64\n",
      " 2   final.output.concentrate_pb                         19438 non-null  float64\n",
      " 3   final.output.concentrate_sol                        19228 non-null  float64\n",
      " 4   final.output.concentrate_au                         19439 non-null  float64\n",
      " 5   final.output.recovery                               19439 non-null  float64\n",
      " 6   final.output.tail_ag                                19438 non-null  float64\n",
      " 7   final.output.tail_pb                                19338 non-null  float64\n",
      " 8   final.output.tail_sol                               19433 non-null  float64\n",
      " 9   final.output.tail_au                                19439 non-null  float64\n",
      " 10  primary_cleaner.input.sulfate                       19415 non-null  float64\n",
      " 11  primary_cleaner.input.depressant                    19402 non-null  float64\n",
      " 12  primary_cleaner.input.feed_size                     19439 non-null  float64\n",
      " 13  primary_cleaner.input.xanthate                      19335 non-null  float64\n",
      " 14  primary_cleaner.output.concentrate_ag               19439 non-null  float64\n",
      " 15  primary_cleaner.output.concentrate_pb               19323 non-null  float64\n",
      " 16  primary_cleaner.output.concentrate_sol              19069 non-null  float64\n",
      " 17  primary_cleaner.output.concentrate_au               19439 non-null  float64\n",
      " 18  primary_cleaner.output.tail_ag                      19435 non-null  float64\n",
      " 19  primary_cleaner.output.tail_pb                      19418 non-null  float64\n",
      " 20  primary_cleaner.output.tail_sol                     19377 non-null  float64\n",
      " 21  primary_cleaner.output.tail_au                      19439 non-null  float64\n",
      " 22  primary_cleaner.state.floatbank8_a_air              19435 non-null  float64\n",
      " 23  primary_cleaner.state.floatbank8_a_level            19438 non-null  float64\n",
      " 24  primary_cleaner.state.floatbank8_b_air              19435 non-null  float64\n",
      " 25  primary_cleaner.state.floatbank8_b_level            19438 non-null  float64\n",
      " 26  primary_cleaner.state.floatbank8_c_air              19437 non-null  float64\n",
      " 27  primary_cleaner.state.floatbank8_c_level            19438 non-null  float64\n",
      " 28  primary_cleaner.state.floatbank8_d_air              19436 non-null  float64\n",
      " 29  primary_cleaner.state.floatbank8_d_level            19438 non-null  float64\n",
      " 30  rougher.calculation.sulfate_to_au_concentrate       19437 non-null  float64\n",
      " 31  rougher.calculation.floatbank10_sulfate_to_au_feed  19437 non-null  float64\n",
      " 32  rougher.calculation.floatbank11_sulfate_to_au_feed  19437 non-null  float64\n",
      " 33  rougher.calculation.au_pb_ratio                     19439 non-null  float64\n",
      " 34  rougher.input.feed_ag                               19439 non-null  float64\n",
      " 35  rougher.input.feed_pb                               19339 non-null  float64\n",
      " 36  rougher.input.feed_rate                             19428 non-null  float64\n",
      " 37  rougher.input.feed_size                             19294 non-null  float64\n",
      " 38  rougher.input.feed_sol                              19340 non-null  float64\n",
      " 39  rougher.input.feed_au                               19439 non-null  float64\n",
      " 40  rougher.input.floatbank10_sulfate                   19405 non-null  float64\n",
      " 41  rougher.input.floatbank10_xanthate                  19431 non-null  float64\n",
      " 42  rougher.input.floatbank11_sulfate                   19395 non-null  float64\n",
      " 43  rougher.input.floatbank11_xanthate                  18986 non-null  float64\n",
      " 44  rougher.output.concentrate_ag                       19439 non-null  float64\n",
      " 45  rougher.output.concentrate_pb                       19439 non-null  float64\n",
      " 46  rougher.output.concentrate_sol                      19416 non-null  float64\n",
      " 47  rougher.output.concentrate_au                       19439 non-null  float64\n",
      " 48  rougher.output.recovery                             19439 non-null  float64\n",
      " 49  rougher.output.tail_ag                              19438 non-null  float64\n",
      " 50  rougher.output.tail_pb                              19439 non-null  float64\n",
      " 51  rougher.output.tail_sol                             19439 non-null  float64\n",
      " 52  rougher.output.tail_au                              19439 non-null  float64\n",
      " 53  rougher.state.floatbank10_a_air                     19438 non-null  float64\n",
      " 54  rougher.state.floatbank10_a_level                   19438 non-null  float64\n",
      " 55  rougher.state.floatbank10_b_air                     19438 non-null  float64\n",
      " 56  rougher.state.floatbank10_b_level                   19438 non-null  float64\n",
      " 57  rougher.state.floatbank10_c_air                     19438 non-null  float64\n",
      " 58  rougher.state.floatbank10_c_level                   19438 non-null  float64\n",
      " 59  rougher.state.floatbank10_d_air                     19439 non-null  float64\n",
      " 60  rougher.state.floatbank10_d_level                   19439 non-null  float64\n",
      " 61  rougher.state.floatbank10_e_air                     19003 non-null  float64\n",
      " 62  rougher.state.floatbank10_e_level                   19439 non-null  float64\n",
      " 63  rougher.state.floatbank10_f_air                     19439 non-null  float64\n",
      " 64  rougher.state.floatbank10_f_level                   19439 non-null  float64\n",
      " 65  secondary_cleaner.output.tail_ag                    19437 non-null  float64\n",
      " 66  secondary_cleaner.output.tail_pb                    19427 non-null  float64\n",
      " 67  secondary_cleaner.output.tail_sol                   17691 non-null  float64\n",
      " 68  secondary_cleaner.output.tail_au                    19439 non-null  float64\n",
      " 69  secondary_cleaner.state.floatbank2_a_air            19219 non-null  float64\n",
      " 70  secondary_cleaner.state.floatbank2_a_level          19438 non-null  float64\n",
      " 71  secondary_cleaner.state.floatbank2_b_air            19416 non-null  float64\n",
      " 72  secondary_cleaner.state.floatbank2_b_level          19438 non-null  float64\n",
      " 73  secondary_cleaner.state.floatbank3_a_air            19426 non-null  float64\n",
      " 74  secondary_cleaner.state.floatbank3_a_level          19438 non-null  float64\n",
      " 75  secondary_cleaner.state.floatbank3_b_air            19438 non-null  float64\n",
      " 76  secondary_cleaner.state.floatbank3_b_level          19438 non-null  float64\n",
      " 77  secondary_cleaner.state.floatbank4_a_air            19433 non-null  float64\n",
      " 78  secondary_cleaner.state.floatbank4_a_level          19438 non-null  float64\n",
      " 79  secondary_cleaner.state.floatbank4_b_air            19438 non-null  float64\n",
      " 80  secondary_cleaner.state.floatbank4_b_level          19438 non-null  float64\n",
      " 81  secondary_cleaner.state.floatbank5_a_air            19438 non-null  float64\n",
      " 82  secondary_cleaner.state.floatbank5_a_level          19438 non-null  float64\n",
      " 83  secondary_cleaner.state.floatbank5_b_air            19438 non-null  float64\n",
      " 84  secondary_cleaner.state.floatbank5_b_level          19438 non-null  float64\n",
      " 85  secondary_cleaner.state.floatbank6_a_air            19437 non-null  float64\n",
      " 86  secondary_cleaner.state.floatbank6_a_level          19438 non-null  float64\n",
      "dtypes: float64(86), object(1)\n",
      "memory usage: 12.9+ MB\n"
     ]
    }
   ],
   "source": [
    "data_full.info()"
   ]
  },
  {
   "cell_type": "markdown",
   "metadata": {},
   "source": [
    "Согласно описанию к данным:\n",
    "\n",
    "Rougher feed — исходное сырье <br>\n",
    "Rougher additions (или reagent additions) — флотационные реагенты: Xanthate, Sulphate, Depressant <br>\n",
    "Xanthate **— ксантогенат (промотер, или активатор флотации); <br>\n",
    "Sulphate — сульфат (на данном производстве сульфид натрия); <br>\n",
    "Depressant — депрессант (силикат натрия).<br>\n",
    "Rougher process (англ. «грубый процесс») — флотация <br>\n",
    "Rougher tails — отвальные хвосты <br>\n",
    "Float banks — флотационная установка <br>\n",
    "Cleaner process — очистка <br>\n",
    "Rougher Au — черновой концентрат золота <br>\n",
    "Final Au — финальный концентрат золота <br>\n",
    "\n",
    "Параметры этапов <br>\n",
    "air amount — объём воздуха<br>\n",
    "fluid levels — уровень жидкости<br>\n",
    "feed size — размер гранул сырья<br>\n",
    "feed rate — скорость подачи<br>\n",
    "\n",
    "Возможные значения для блока [этап]:<br>\n",
    "rougher — флотация <br>\n",
    "primary_cleaner — первичная очистка <br>\n",
    "secondary_cleaner — вторичная очистка <br>\n",
    "final — финальные характеристики <br>\n",
    "\n",
    "Возможные значения для блока [тип_параметра]:<br>\n",
    "input — параметры сырья<br>\n",
    "output — параметры продукта<br>\n",
    "state — параметры, характеризующие текущее состояние этапа<br>\n",
    "calculation — расчётные характеристики<br>"
   ]
  },
  {
   "cell_type": "markdown",
   "metadata": {},
   "source": [
    "### Проверка расчета эффективности обогащения на обучающей выборке"
   ]
  },
  {
   "cell_type": "markdown",
   "metadata": {},
   "source": [
    "Проверим расчет эффективности обогащения."
   ]
  },
  {
   "cell_type": "code",
   "execution_count": 614,
   "metadata": {},
   "outputs": [],
   "source": [
    "def recovery(row):\n",
    "    # доля золота в сырье/концентрате до флотации/очистки\n",
    "    F = row['rougher.input.feed_au']\n",
    "    # доля золота в отвальных хвостах после флотации/очистки \n",
    "    T = row['rougher.output.tail_au']\n",
    "    # доля золота в концентрате после флотации/очистки\n",
    "    C = row['rougher.output.concentrate_au']\n",
    "    \n",
    "    # эффективность обогащения\n",
    "    result = (C*(F-T))/(F*(C-T))*100\n",
    "    \n",
    "    return result"
   ]
  },
  {
   "cell_type": "markdown",
   "metadata": {},
   "source": [
    "С помощью функции выполним расчет эффективности обогащения, результаты добавим в столбец recovery."
   ]
  },
  {
   "cell_type": "code",
   "execution_count": 615,
   "metadata": {},
   "outputs": [],
   "source": [
    "data_train['recovery'] = data_train.apply(recovery, axis=1)"
   ]
  },
  {
   "cell_type": "markdown",
   "metadata": {},
   "source": [
    "Вычислим МАЕ между рассчитанными и имеющимися значениями."
   ]
  },
  {
   "cell_type": "code",
   "execution_count": 616,
   "metadata": {},
   "outputs": [
    {
     "data": {
      "text/plain": [
       "9.73512347450521e-15"
      ]
     },
     "execution_count": 616,
     "metadata": {},
     "output_type": "execute_result"
    }
   ],
   "source": [
    "mean_absolute_error(data_train['rougher.output.recovery'], data_train['recovery'])"
   ]
  },
  {
   "cell_type": "markdown",
   "metadata": {},
   "source": [
    "МАЕ имеет небольшое значение, значит эффективность обогащения рассчитана верно."
   ]
  },
  {
   "cell_type": "markdown",
   "metadata": {},
   "source": [
    "### Анализ признаков, недоступных в тестовой выборке"
   ]
  },
  {
   "cell_type": "markdown",
   "metadata": {},
   "source": [
    "Создадим списки с названиями доступных параметров для обучающей и тестовой выборки. "
   ]
  },
  {
   "cell_type": "code",
   "execution_count": 617,
   "metadata": {},
   "outputs": [],
   "source": [
    "train_columns = list(data_train.columns.values)\n",
    "test_columns = list(data_test.columns.values)"
   ]
  },
  {
   "cell_type": "markdown",
   "metadata": {},
   "source": [
    "Создадим список из наименований тех параметров, которые есть в обучающем датасете, но нет в тестовой выборке."
   ]
  },
  {
   "cell_type": "code",
   "execution_count": 618,
   "metadata": {},
   "outputs": [
    {
     "name": "stdout",
     "output_type": "stream",
     "text": [
      "final.output.concentrate_ag\n",
      "final.output.concentrate_pb\n",
      "final.output.concentrate_sol\n",
      "final.output.concentrate_au\n",
      "final.output.recovery\n",
      "final.output.tail_ag\n",
      "final.output.tail_pb\n",
      "final.output.tail_sol\n",
      "final.output.tail_au\n",
      "primary_cleaner.output.concentrate_ag\n",
      "primary_cleaner.output.concentrate_pb\n",
      "primary_cleaner.output.concentrate_sol\n",
      "primary_cleaner.output.concentrate_au\n",
      "primary_cleaner.output.tail_ag\n",
      "primary_cleaner.output.tail_pb\n",
      "primary_cleaner.output.tail_sol\n",
      "primary_cleaner.output.tail_au\n",
      "rougher.calculation.sulfate_to_au_concentrate\n",
      "rougher.calculation.floatbank10_sulfate_to_au_feed\n",
      "rougher.calculation.floatbank11_sulfate_to_au_feed\n",
      "rougher.calculation.au_pb_ratio\n",
      "rougher.output.concentrate_ag\n",
      "rougher.output.concentrate_pb\n",
      "rougher.output.concentrate_sol\n",
      "rougher.output.concentrate_au\n",
      "rougher.output.recovery\n",
      "rougher.output.tail_ag\n",
      "rougher.output.tail_pb\n",
      "rougher.output.tail_sol\n",
      "rougher.output.tail_au\n",
      "secondary_cleaner.output.tail_ag\n",
      "secondary_cleaner.output.tail_pb\n",
      "secondary_cleaner.output.tail_sol\n",
      "secondary_cleaner.output.tail_au\n",
      "recovery\n"
     ]
    }
   ],
   "source": [
    "columns = []\n",
    "for i in train_columns:\n",
    "    if i not in test_columns:\n",
    "        columns.append(i)\n",
    "print(*columns, sep = '\\n')"
   ]
  },
  {
   "cell_type": "markdown",
   "metadata": {},
   "source": [
    "Таким образом, получаем, что в тестовой выборке недоступны данные, характеризующие параметры получаемого продукта, а также значения концентрации после первичной очистки, расчетные характеристики."
   ]
  },
  {
   "cell_type": "markdown",
   "metadata": {},
   "source": [
    "### Предобработка данных"
   ]
  },
  {
   "cell_type": "markdown",
   "metadata": {},
   "source": [
    "Проверим обучающую выборку на наличие дубликатов."
   ]
  },
  {
   "cell_type": "code",
   "execution_count": 619,
   "metadata": {},
   "outputs": [
    {
     "data": {
      "text/plain": [
       "0"
      ]
     },
     "execution_count": 619,
     "metadata": {},
     "output_type": "execute_result"
    }
   ],
   "source": [
    "data_train.duplicated().sum()"
   ]
  },
  {
   "cell_type": "markdown",
   "metadata": {},
   "source": [
    "Дубликаты не обнаружены. Проверим наличие пропусков в данных."
   ]
  },
  {
   "cell_type": "code",
   "execution_count": 620,
   "metadata": {},
   "outputs": [
    {
     "data": {
      "text/plain": [
       "date                                          0.000000\n",
       "final.output.concentrate_ag                   0.000071\n",
       "final.output.concentrate_pb                   0.000071\n",
       "final.output.concentrate_sol                  0.014913\n",
       "final.output.concentrate_au                   0.000000\n",
       "                                                ...   \n",
       "secondary_cleaner.state.floatbank5_b_air      0.000071\n",
       "secondary_cleaner.state.floatbank5_b_level    0.000071\n",
       "secondary_cleaner.state.floatbank6_a_air      0.000141\n",
       "secondary_cleaner.state.floatbank6_a_level    0.000071\n",
       "recovery                                      0.000000\n",
       "Length: 88, dtype: float64"
      ]
     },
     "execution_count": 620,
     "metadata": {},
     "output_type": "execute_result"
    }
   ],
   "source": [
    "data_train.isna().mean()"
   ]
  },
  {
   "cell_type": "markdown",
   "metadata": {},
   "source": [
    "В данных есть пропуски, проверим есть ли параметры со значениями пропусков более 1 %."
   ]
  },
  {
   "cell_type": "code",
   "execution_count": 621,
   "metadata": {},
   "outputs": [
    {
     "data": {
      "text/plain": [
       "final.output.concentrate_sol                0.014913\n",
       "primary_cleaner.output.concentrate_sol      0.020213\n",
       "rougher.input.feed_size                     0.010177\n",
       "rougher.input.floatbank11_xanthate          0.030249\n",
       "rougher.state.floatbank10_e_air             0.030815\n",
       "secondary_cleaner.output.tail_sol           0.113436\n",
       "secondary_cleaner.state.floatbank2_a_air    0.015337\n",
       "Name: nans, dtype: float64"
      ]
     },
     "execution_count": 621,
     "metadata": {},
     "output_type": "execute_result"
    }
   ],
   "source": [
    "data_train.isna().mean().to_frame(name=\"nans\").query(\"nans > 0.01\")[\"nans\"]"
   ]
  },
  {
   "cell_type": "markdown",
   "metadata": {},
   "source": [
    "Заполним пропуски в переменной медианным значением."
   ]
  },
  {
   "cell_type": "code",
   "execution_count": 622,
   "metadata": {},
   "outputs": [],
   "source": [
    "data_train['secondary_cleaner.output.tail_sol'] = data_train['secondary_cleaner.output.tail_sol'].fillna(\n",
    "    method='ffill') "
   ]
  },
  {
   "cell_type": "code",
   "execution_count": 623,
   "metadata": {},
   "outputs": [
    {
     "data": {
      "text/plain": [
       "final.output.concentrate_sol                0.014913\n",
       "primary_cleaner.output.concentrate_sol      0.020213\n",
       "rougher.input.feed_size                     0.010177\n",
       "rougher.input.floatbank11_xanthate          0.030249\n",
       "rougher.state.floatbank10_e_air             0.030815\n",
       "secondary_cleaner.state.floatbank2_a_air    0.015337\n",
       "Name: nans, dtype: float64"
      ]
     },
     "execution_count": 623,
     "metadata": {},
     "output_type": "execute_result"
    }
   ],
   "source": [
    "data_train.isna().mean().to_frame(name=\"nans\").query(\"nans > 0.01\")[\"nans\"]"
   ]
  },
  {
   "cell_type": "markdown",
   "metadata": {},
   "source": [
    "Остальные пропущенные значения удалим."
   ]
  },
  {
   "cell_type": "code",
   "execution_count": 624,
   "metadata": {},
   "outputs": [],
   "source": [
    "data_train = data_train.dropna()"
   ]
  },
  {
   "cell_type": "code",
   "execution_count": 625,
   "metadata": {},
   "outputs": [
    {
     "data": {
      "text/plain": [
       "Series([], Name: nans, dtype: float64)"
      ]
     },
     "execution_count": 625,
     "metadata": {},
     "output_type": "execute_result"
    }
   ],
   "source": [
    "data_train.isna().mean().to_frame(name=\"nans\").query(\"nans > 0\")[\"nans\"]"
   ]
  },
  {
   "cell_type": "markdown",
   "metadata": {},
   "source": [
    "Проверим наличие пропусков в тестовой выборке."
   ]
  },
  {
   "cell_type": "code",
   "execution_count": 626,
   "metadata": {},
   "outputs": [
    {
     "data": {
      "text/plain": [
       "rougher.input.feed_sol                      0.003970\n",
       "rougher.input.floatbank11_sulfate           0.001512\n",
       "rougher.input.floatbank11_xanthate          0.004726\n",
       "secondary_cleaner.state.floatbank3_a_air    0.001701\n",
       "Name: nans, dtype: float64"
      ]
     },
     "execution_count": 626,
     "metadata": {},
     "output_type": "execute_result"
    }
   ],
   "source": [
    "data_test.isna().mean().to_frame(name=\"nans\").query(\"nans > 0.001\")[\"nans\"]"
   ]
  },
  {
   "cell_type": "markdown",
   "metadata": {},
   "source": [
    "Поскольку количество пропусков менее 1%, то просто удалим их, чтобы не искажать результаты."
   ]
  },
  {
   "cell_type": "code",
   "execution_count": 627,
   "metadata": {},
   "outputs": [],
   "source": [
    "data_test = data_test.dropna()"
   ]
  },
  {
   "cell_type": "code",
   "execution_count": 628,
   "metadata": {},
   "outputs": [
    {
     "data": {
      "text/plain": [
       "Series([], Name: nans, dtype: float64)"
      ]
     },
     "execution_count": 628,
     "metadata": {},
     "output_type": "execute_result"
    }
   ],
   "source": [
    "data_test.isna().mean().to_frame(name=\"nans\").query(\"nans > 0\")[\"nans\"]"
   ]
  },
  {
   "cell_type": "markdown",
   "metadata": {},
   "source": [
    "Удалим пропуски из полной выборки."
   ]
  },
  {
   "cell_type": "code",
   "execution_count": 629,
   "metadata": {},
   "outputs": [
    {
     "data": {
      "text/plain": [
       "final.output.concentrate_sol                0.010854\n",
       "primary_cleaner.output.concentrate_sol      0.019034\n",
       "rougher.input.floatbank11_xanthate          0.023304\n",
       "rougher.state.floatbank10_e_air             0.022429\n",
       "secondary_cleaner.output.tail_sol           0.089922\n",
       "secondary_cleaner.state.floatbank2_a_air    0.011317\n",
       "Name: nans, dtype: float64"
      ]
     },
     "execution_count": 629,
     "metadata": {},
     "output_type": "execute_result"
    }
   ],
   "source": [
    "data_full.isna().mean().to_frame(name=\"nans\").query(\"nans > 0.01\")[\"nans\"]"
   ]
  },
  {
   "cell_type": "code",
   "execution_count": 630,
   "metadata": {},
   "outputs": [],
   "source": [
    "data_full = data_full.dropna()"
   ]
  },
  {
   "cell_type": "code",
   "execution_count": 631,
   "metadata": {},
   "outputs": [
    {
     "data": {
      "text/plain": [
       "Series([], Name: nans, dtype: float64)"
      ]
     },
     "execution_count": 631,
     "metadata": {},
     "output_type": "execute_result"
    }
   ],
   "source": [
    "data_full.isna().mean().to_frame(name=\"nans\").query(\"nans > 0\")[\"nans\"]"
   ]
  },
  {
   "cell_type": "markdown",
   "metadata": {},
   "source": [
    "В выборке устранены пропуски, перейдем к анализу."
   ]
  },
  {
   "cell_type": "markdown",
   "metadata": {},
   "source": [
    "## Анализ данных"
   ]
  },
  {
   "cell_type": "markdown",
   "metadata": {},
   "source": [
    "### Изменение концентрации металлов"
   ]
  },
  {
   "cell_type": "markdown",
   "metadata": {},
   "source": [
    "Посмотрим, как меняется концентрация металлов (Au, Ag, Pb) на различных этапах очистки."
   ]
  },
  {
   "cell_type": "code",
   "execution_count": 632,
   "metadata": {},
   "outputs": [],
   "source": [
    "rougher_input_concentrate_au = data_train['rougher.input.feed_au'].median()\n",
    "rougher_output_concentrate_au = data_train['rougher.output.concentrate_au'].median()\n",
    "final_concentrate_au = data_train['final.output.concentrate_au'].median()\n",
    "\n",
    "au = [rougher_input_concentrate_au, rougher_output_concentrate_au, final_concentrate_au]"
   ]
  },
  {
   "cell_type": "code",
   "execution_count": 633,
   "metadata": {},
   "outputs": [],
   "source": [
    "rougher_input_concentrate_ag = data_train['rougher.input.feed_ag'].median()\n",
    "rougher_output_concentrate_ag = data_train['rougher.output.concentrate_ag'].median()\n",
    "final_concentrate_ag = data_train['final.output.concentrate_ag'].median()\n",
    "\n",
    "ag = [rougher_input_concentrate_ag, rougher_output_concentrate_ag, final_concentrate_ag]"
   ]
  },
  {
   "cell_type": "code",
   "execution_count": 634,
   "metadata": {},
   "outputs": [],
   "source": [
    "rougher_input_concentrate_pb = data_train['rougher.input.feed_pb'].median()\n",
    "rougher_output_concentrate_pb = data_train['rougher.output.concentrate_pb'].median()\n",
    "final_concentrate_pb = data_train['final.output.concentrate_pb'].median()\n",
    "\n",
    "pb = [rougher_input_concentrate_pb, rougher_output_concentrate_pb, final_concentrate_pb]"
   ]
  },
  {
   "cell_type": "code",
   "execution_count": 635,
   "metadata": {},
   "outputs": [],
   "source": [
    "name = ['Концентрация в смеси золотоносной руды', 'Концентрация в черновом концентрате',\n",
    "        'Концентрация в финальном концентрате']"
   ]
  },
  {
   "cell_type": "code",
   "execution_count": 636,
   "metadata": {},
   "outputs": [
    {
     "name": "stdout",
     "output_type": "stream",
     "text": [
      "                                     name         au         ag         pb\n",
      "0  Концентрация в смеси золотоносной руды   7.688152   8.148057   3.459495\n",
      "1     Концентрация в черновом концентрате  20.045231  11.729089   7.772689\n",
      "2    Концентрация в финальном концентрате  44.898711   4.916966  10.385437\n"
     ]
    }
   ],
   "source": [
    "data = {'name' : name,\n",
    "        'au' : au,\n",
    "        'ag' : ag,\n",
    "        'pb' : pb}\n",
    "concentrate = pd.DataFrame(data)\n",
    "print(concentrate)"
   ]
  },
  {
   "cell_type": "code",
   "execution_count": 637,
   "metadata": {},
   "outputs": [
    {
     "data": {
      "image/png": "[encoded data removed]",
      "text/plain": [
       "<Figure size 432x288 with 1 Axes>"
      ]
     },
     "metadata": {
      "needs_background": "light"
     },
     "output_type": "display_data"
    }
   ],
   "source": [
    "plt.hist(x = data_train['rougher.input.feed_au'], bins = 30, alpha = 0.5,\n",
    "         label = 'Смесь золотоносной руды', color = 'green')\n",
    "plt.legend(bbox_to_anchor=(0.1, 0.82), loc=2, borderaxespad=0.)\n",
    "plt.hist(x = data_train['rougher.output.concentrate_au'], bins = 30, \n",
    "         alpha = 0.5, label = 'Черновой концентрат')\n",
    "plt.legend(bbox_to_anchor=(0.1, 0.95), loc=2, borderaxespad=0.)\n",
    "plt.hist(x = data_train['final.output.concentrate_au'], bins = 30, \n",
    "         alpha = 0.5, label = 'Финальный концентрат')\n",
    "plt.legend(bbox_to_anchor=(0.1, 0.95), loc=2, borderaxespad=0.)\n",
    "plt.title('Распределение концентрации золота')\n",
    "plt.grid(visible = True)"
   ]
  },
  {
   "cell_type": "code",
   "execution_count": 638,
   "metadata": {},
   "outputs": [
    {
     "data": {
      "image/png": "[encoded data removed]",
      "text/plain": [
       "<Figure size 432x288 with 1 Axes>"
      ]
     },
     "metadata": {
      "needs_background": "light"
     },
     "output_type": "display_data"
    }
   ],
   "source": [
    "plt.hist(x = data_train['rougher.input.feed_ag'], bins = 30, alpha = 0.5,\n",
    "         label = 'Смесь руды', color = 'green')\n",
    "plt.legend(bbox_to_anchor=(0.55, 0.82), loc=2, borderaxespad=0.)\n",
    "plt.hist(x = data_train['rougher.output.concentrate_ag'], bins = 30, \n",
    "         alpha = 0.5, label = 'Черновой концентрат')\n",
    "plt.legend(bbox_to_anchor=(0.55, 0.95), loc=2, borderaxespad=0.)\n",
    "plt.hist(x = data_train['final.output.concentrate_ag'], bins = 30, \n",
    "         alpha = 0.5, label = 'Финальный концентрат')\n",
    "plt.legend(bbox_to_anchor=(0.55, 0.95), loc=2, borderaxespad=0.)\n",
    "plt.title('Распределение концентрации серебра')\n",
    "plt.grid(visible = True)"
   ]
  },
  {
   "cell_type": "code",
   "execution_count": 639,
   "metadata": {},
   "outputs": [
    {
     "data": {
      "image/png": "[encoded data removed]",
      "text/plain": [
       "<Figure size 432x288 with 1 Axes>"
      ]
     },
     "metadata": {
      "needs_background": "light"
     },
     "output_type": "display_data"
    }
   ],
   "source": [
    "plt.hist(x = data_train['rougher.input.feed_pb'], bins = 30, alpha = 0.5,\n",
    "         label = 'Смесь руды', color = 'green')\n",
    "plt.legend(bbox_to_anchor=(0, 0.98), loc=2, borderaxespad=0.)\n",
    "plt.hist(x = data_train['rougher.output.concentrate_pb'], bins = 30, \n",
    "         alpha = 0.5, label = 'Черновой концентрат')\n",
    "plt.legend(bbox_to_anchor=(0, 0.98), loc=2, borderaxespad=0.)\n",
    "plt.hist(x = data_train['final.output.concentrate_pb'], bins = 30, \n",
    "         alpha = 0.5, label = 'Финальный концентрат')\n",
    "plt.legend(bbox_to_anchor=(0, 0.98), loc=2, borderaxespad=0.)\n",
    "plt.title('Распределение концентрации свинца')\n",
    "plt.grid(visible = True)"
   ]
  },
  {
   "cell_type": "markdown",
   "metadata": {},
   "source": [
    "По полученным значениям и распределениям можно сделать вывод о том, что концетрация золота при очистке увеличивается, концентрация серебра после очистки снизилось, концентрация свинца увеличивается."
   ]
  },
  {
   "cell_type": "markdown",
   "metadata": {},
   "source": [
    "### Распределение размеров гранул сырья"
   ]
  },
  {
   "cell_type": "code",
   "execution_count": 640,
   "metadata": {},
   "outputs": [
    {
     "data": {
      "text/plain": [
       "(0.0, 150.0)"
      ]
     },
     "execution_count": 640,
     "metadata": {},
     "output_type": "execute_result"
    },
    {
     "data": {
      "image/png": "[encoded data removed]",
      "text/plain": [
       "<Figure size 432x288 with 2 Axes>"
      ]
     },
     "metadata": {
      "needs_background": "light"
     },
     "output_type": "display_data"
    }
   ],
   "source": [
    "plt.hist(x = data_test['rougher.input.feed_size'], bins = 30, alpha = 0.5,\n",
    "         label = 'Тестовая выборка', color = 'green')\n",
    "plt.legend(bbox_to_anchor=(0.5, 0.82), loc=2, borderaxespad=0.)\n",
    "plt.twinx().hist(x = data_train['rougher.input.feed_size'], bins = 30, \n",
    "         alpha = 0.5, label = 'Тренировочная выборка')\n",
    "plt.legend(bbox_to_anchor=(0.5, 0.95), loc=2, borderaxespad=0.)\n",
    "plt.title('Распределение гранул сырья')\n",
    "plt.grid(visible = True)\n",
    "plt.xlim([0, 150])"
   ]
  },
  {
   "cell_type": "markdown",
   "metadata": {},
   "source": [
    "Распределения размеров гранул сырья на обучающей и тестовой выборках, значит оценка моделей будет правильной."
   ]
  },
  {
   "cell_type": "markdown",
   "metadata": {},
   "source": [
    "<div class=\"alert alert-success\"> \n",
    "<h3> Комментарий ревьюера v1</h3>\n",
    "\n",
    "Да, тут можно и на глазок определить =)"
   ]
  },
  {
   "cell_type": "markdown",
   "metadata": {},
   "source": [
    "### Исследование суммарной концентрации всех веществ"
   ]
  },
  {
   "cell_type": "markdown",
   "metadata": {},
   "source": [
    "Создадим столбец с суммарными значениями концентрации всех веществ в ранее созданном датафрейме."
   ]
  },
  {
   "cell_type": "code",
   "execution_count": 641,
   "metadata": {},
   "outputs": [],
   "source": [
    "concentrate['sum'] = concentrate['au'] + concentrate['ag'] + concentrate['pb']"
   ]
  },
  {
   "cell_type": "code",
   "execution_count": 642,
   "metadata": {},
   "outputs": [
    {
     "data": {
      "text/html": [
       "<div>\n",
       "<style scoped>\n",
       "    .dataframe tbody tr th:only-of-type {\n",
       "        vertical-align: middle;\n",
       "    }\n",
       "\n",
       "    .dataframe tbody tr th {\n",
       "        vertical-align: top;\n",
       "    }\n",
       "\n",
       "    .dataframe thead th {\n",
       "        text-align: right;\n",
       "    }\n",
       "</style>\n",
       "<table border=\"1\" class=\"dataframe\">\n",
       "  <thead>\n",
       "    <tr style=\"text-align: right;\">\n",
       "      <th></th>\n",
       "      <th>name</th>\n",
       "      <th>au</th>\n",
       "      <th>ag</th>\n",
       "      <th>pb</th>\n",
       "      <th>sum</th>\n",
       "    </tr>\n",
       "  </thead>\n",
       "  <tbody>\n",
       "    <tr>\n",
       "      <th>0</th>\n",
       "      <td>Концентрация в смеси золотоносной руды</td>\n",
       "      <td>7.688152</td>\n",
       "      <td>8.148057</td>\n",
       "      <td>3.459495</td>\n",
       "      <td>19.295703</td>\n",
       "    </tr>\n",
       "    <tr>\n",
       "      <th>1</th>\n",
       "      <td>Концентрация в черновом концентрате</td>\n",
       "      <td>20.045231</td>\n",
       "      <td>11.729089</td>\n",
       "      <td>7.772689</td>\n",
       "      <td>39.547009</td>\n",
       "    </tr>\n",
       "    <tr>\n",
       "      <th>2</th>\n",
       "      <td>Концентрация в финальном концентрате</td>\n",
       "      <td>44.898711</td>\n",
       "      <td>4.916966</td>\n",
       "      <td>10.385437</td>\n",
       "      <td>60.201115</td>\n",
       "    </tr>\n",
       "  </tbody>\n",
       "</table>\n",
       "</div>"
      ],
      "text/plain": [
       "                                     name         au         ag         pb  \\\n",
       "0  Концентрация в смеси золотоносной руды   7.688152   8.148057   3.459495   \n",
       "1     Концентрация в черновом концентрате  20.045231  11.729089   7.772689   \n",
       "2    Концентрация в финальном концентрате  44.898711   4.916966  10.385437   \n",
       "\n",
       "         sum  \n",
       "0  19.295703  \n",
       "1  39.547009  \n",
       "2  60.201115  "
      ]
     },
     "execution_count": 642,
     "metadata": {},
     "output_type": "execute_result"
    }
   ],
   "source": [
    "concentrate"
   ]
  },
  {
   "cell_type": "code",
   "execution_count": 643,
   "metadata": {},
   "outputs": [],
   "source": [
    "data_train['sum_concentrate_input'] = data_train['rougher.input.feed_au'] + \\\n",
    "                                      data_train['rougher.input.feed_ag'] + \\\n",
    "                                      data_train['rougher.input.feed_pb']\n",
    "\n",
    "data_train['sum_output_concentrate'] = data_train['rougher.output.concentrate_au'] + \\\n",
    "                                       data_train['rougher.output.concentrate_ag'] + \\\n",
    "                                       data_train['rougher.output.concentrate_pb']\n",
    "\n",
    "data_train['sum_final_concentrate'] = data_train['final.output.concentrate_au'] + \\\n",
    "                                      data_train['final.output.concentrate_ag'] + \\\n",
    "                                      data_train['final.output.concentrate_pb']"
   ]
  },
  {
   "cell_type": "code",
   "execution_count": 644,
   "metadata": {},
   "outputs": [
    {
     "data": {
      "image/png": "[encoded data removed]",
      "text/plain": [
       "<Figure size 432x288 with 1 Axes>"
      ]
     },
     "metadata": {
      "needs_background": "light"
     },
     "output_type": "display_data"
    }
   ],
   "source": [
    "plt.hist(x = data_train['sum_concentrate_input'], bins = 30, alpha = 0.5,\n",
    "         label = 'Смесь руды', color = 'green')\n",
    "plt.legend(bbox_to_anchor=(0.1, 0.98), loc=2, borderaxespad=0.)\n",
    "plt.hist(x = data_train['sum_output_concentrate'], bins = 30, \n",
    "         alpha = 0.5, label = 'Черновой концентрат')\n",
    "plt.legend(bbox_to_anchor=(0.1, 0.98), loc=2, borderaxespad=0.)\n",
    "plt.hist(x = data_train['sum_final_concentrate'], bins = 30, \n",
    "         alpha = 0.5, label = 'Финальный концентрат', color = 'black')\n",
    "plt.legend(bbox_to_anchor=(0.1, 0.98), loc=2, borderaxespad=0.)\n",
    "plt.title('Распределение суммарной концентрации')\n",
    "plt.grid(visible = True)"
   ]
  },
  {
   "cell_type": "markdown",
   "metadata": {},
   "source": [
    "По полученным значениям концентрации можно сделать вывод о том, что суммарная концентрация повышается на каждом этапе."
   ]
  },
  {
   "cell_type": "code",
   "execution_count": 645,
   "metadata": {},
   "outputs": [
    {
     "data": {
      "image/png": "[encoded data removed]",
      "text/plain": [
       "<Figure size 432x288 with 1 Axes>"
      ]
     },
     "metadata": {
      "needs_background": "light"
     },
     "output_type": "display_data"
    }
   ],
   "source": [
    "plt.hist(x = data_train['sum_concentrate_input'], bins = 30, alpha = 0.5,\n",
    "         label = 'Смесь руды', color = 'green')\n",
    "plt.title('Распределение суммарной концентрации для смеси руды')\n",
    "plt.grid(visible = True)"
   ]
  },
  {
   "cell_type": "markdown",
   "metadata": {},
   "source": [
    "По полученному распределению можно заметить, что значения концентрации менее 10 встречаются редко. Удалим эти даннные из обучающей выборки для построения более точной модели."
   ]
  },
  {
   "cell_type": "code",
   "execution_count": 646,
   "metadata": {},
   "outputs": [],
   "source": [
    "data_train = data_train.loc[data_train['sum_concentrate_input'] > 10]"
   ]
  },
  {
   "cell_type": "code",
   "execution_count": 647,
   "metadata": {},
   "outputs": [
    {
     "data": {
      "image/png": "[encoded data removed]",
      "text/plain": [
       "<Figure size 432x288 with 1 Axes>"
      ]
     },
     "metadata": {
      "needs_background": "light"
     },
     "output_type": "display_data"
    }
   ],
   "source": [
    "plt.hist(x = data_train['sum_output_concentrate'], bins = 30, \n",
    "         alpha = 0.5, label = 'Черновой концентрат')\n",
    "plt.title('Распределение суммарной концентрации для чернового концентрата')\n",
    "plt.grid(visible = True)"
   ]
  },
  {
   "cell_type": "markdown",
   "metadata": {},
   "source": [
    "Также удалим значения концентрации в черновом концентрате менее 20."
   ]
  },
  {
   "cell_type": "code",
   "execution_count": 648,
   "metadata": {},
   "outputs": [],
   "source": [
    "data_train = data_train.loc[data_train['sum_output_concentrate'] > 20]"
   ]
  },
  {
   "cell_type": "code",
   "execution_count": 649,
   "metadata": {},
   "outputs": [
    {
     "data": {
      "image/png": "[encoded data removed]",
      "text/plain": [
       "<Figure size 432x288 with 1 Axes>"
      ]
     },
     "metadata": {
      "needs_background": "light"
     },
     "output_type": "display_data"
    }
   ],
   "source": [
    "plt.hist(x = data_train['sum_final_concentrate'], bins = 30, \n",
    "         alpha = 0.5, label = 'Финальный концентрат', color = 'black')\n",
    "plt.title('Распределение суммарной концентрации для финального концентрата')\n",
    "plt.grid(visible = True)"
   ]
  },
  {
   "cell_type": "markdown",
   "metadata": {},
   "source": [
    "Для данного распределения удалим значения концентрации менее 40."
   ]
  },
  {
   "cell_type": "code",
   "execution_count": 650,
   "metadata": {},
   "outputs": [],
   "source": [
    "data_train = data_train.loc[data_train['sum_final_concentrate'] > 40]"
   ]
  },
  {
   "cell_type": "markdown",
   "metadata": {},
   "source": [
    "В результате из датасета удалены аномальные значения и можно переходить к построению модели."
   ]
  },
  {
   "cell_type": "markdown",
   "metadata": {},
   "source": [
    "## Модель"
   ]
  },
  {
   "cell_type": "markdown",
   "metadata": {},
   "source": [
    "### Функция для вычисления итогового sMAPE"
   ]
  },
  {
   "cell_type": "code",
   "execution_count": 651,
   "metadata": {},
   "outputs": [],
   "source": [
    "def final_smape(rougher_true, rougher_pred, final_true, final_pred):\n",
    "\n",
    "# rogher_true - значение эффективности обогащения чернового концентрата\n",
    "# rougher_pred - предсказанное значение эффективности обогащения чернового концентрата\n",
    "# final_true - значение эффективности обогащения финального концентрата\n",
    "# final_pred - предсказанное значение эффективности финального концентрата\n",
    "\n",
    "    sum_rougher = 0 # суммарное значение по всем объектам для чернового концентрата\n",
    "    sum_final = 0 # суммарное значение по всем объектам для финального концентрата\n",
    "\n",
    "    n = len(rougher_true) # количество объектов\n",
    "\n",
    "# расчет суммы\n",
    "\n",
    "    for i in range(n):\n",
    "    # расчет значения для каждого элемента\n",
    "        rougher_i = (abs(rougher_true[i] - rougher_pred[i]))/((abs(rougher_true[i])\n",
    "                                                               + abs(rougher_pred[i]))/2)*100 \n",
    "        final_i = (abs(final_true[i] - final_pred[i]))/((abs(final_true[i]) \n",
    "                                                         + abs(final_pred[i]))/2)*100\n",
    "    # расчет общей суммы\n",
    "        sum_rougher += rougher_i\n",
    "        sum_final += final_i\n",
    " \n",
    "# sMAPE для финального концентрата\n",
    "    smape_rougher = sum_rougher / n \n",
    "# sMAPE для финального концентрата\n",
    "    smape_final = sum_final / n \n",
    "    \n",
    "# итоговое sMAPE\n",
    "    smape = 0.25 * smape_rougher + 0.75 * smape_final \n",
    "    \n",
    "    return smape"
   ]
  },
  {
   "cell_type": "markdown",
   "metadata": {},
   "source": [
    "### Обучение моделей"
   ]
  },
  {
   "cell_type": "markdown",
   "metadata": {},
   "source": [
    "Для обучения модели выберем из тренировочной выборки параметры, соответствующие параметры rougher."
   ]
  },
  {
   "cell_type": "code",
   "execution_count": 652,
   "metadata": {},
   "outputs": [],
   "source": [
    "rougher_target = data_train['rougher.output.recovery']"
   ]
  },
  {
   "cell_type": "code",
   "execution_count": 653,
   "metadata": {},
   "outputs": [],
   "source": [
    "data_train = data_train.drop(columns, axis = 1)"
   ]
  },
  {
   "cell_type": "code",
   "execution_count": 654,
   "metadata": {},
   "outputs": [],
   "source": [
    "train_columns = data_train.columns"
   ]
  },
  {
   "cell_type": "markdown",
   "metadata": {},
   "source": [
    "На данном этапе выберем признаки для построения моделей. Признаки были выбраны с учетом того, какие значения доступны на этапе флотации."
   ]
  },
  {
   "cell_type": "code",
   "execution_count": 655,
   "metadata": {},
   "outputs": [
    {
     "name": "stdout",
     "output_type": "stream",
     "text": [
      "rougher.input.feed_ag\n",
      "rougher.input.feed_pb\n",
      "rougher.input.feed_rate\n",
      "rougher.input.feed_size\n",
      "rougher.input.feed_sol\n",
      "rougher.input.feed_au\n",
      "rougher.input.floatbank10_sulfate\n",
      "rougher.input.floatbank10_xanthate\n",
      "rougher.input.floatbank11_sulfate\n",
      "rougher.input.floatbank11_xanthate\n",
      "rougher.state.floatbank10_a_air\n",
      "rougher.state.floatbank10_a_level\n",
      "rougher.state.floatbank10_b_air\n",
      "rougher.state.floatbank10_b_level\n",
      "rougher.state.floatbank10_c_air\n",
      "rougher.state.floatbank10_c_level\n",
      "rougher.state.floatbank10_d_air\n",
      "rougher.state.floatbank10_d_level\n",
      "rougher.state.floatbank10_e_air\n",
      "rougher.state.floatbank10_e_level\n",
      "rougher.state.floatbank10_f_air\n",
      "rougher.state.floatbank10_f_level\n"
     ]
    }
   ],
   "source": [
    "rougher_columns = []\n",
    "for i in train_columns:\n",
    "    if 'rougher' in i:\n",
    "        rougher_columns.append(i)\n",
    "print(*rougher_columns, sep = '\\n')"
   ]
  },
  {
   "cell_type": "markdown",
   "metadata": {},
   "source": [
    "Сосотавим выборку для построения модели с учетом выбранных параметров."
   ]
  },
  {
   "cell_type": "code",
   "execution_count": 656,
   "metadata": {},
   "outputs": [],
   "source": [
    "rougher_params = data_train[rougher_columns]"
   ]
  },
  {
   "cell_type": "markdown",
   "metadata": {},
   "source": [
    "Перейдем к построению моделей. Для наилучшего результата построим две модели - с помощью алгоритма линейной регрессии и с помощью случайного леса."
   ]
  },
  {
   "cell_type": "code",
   "execution_count": 657,
   "metadata": {},
   "outputs": [],
   "source": [
    "linreg_rougher = LinearRegression().fit(rougher_params, rougher_target)"
   ]
  },
  {
   "cell_type": "code",
   "execution_count": 658,
   "metadata": {},
   "outputs": [],
   "source": [
    "pred_linreg = linreg_rougher.predict(rougher_params)"
   ]
  },
  {
   "cell_type": "code",
   "execution_count": 659,
   "metadata": {},
   "outputs": [],
   "source": [
    "rougher_target = pd.Series(rougher_target).reset_index(drop=True)\n",
    "result_linreg = pd.Series(pred_linreg)"
   ]
  },
  {
   "cell_type": "code",
   "execution_count": 660,
   "metadata": {},
   "outputs": [
    {
     "name": "stdout",
     "output_type": "stream",
     "text": [
      "RMSE для линейной регрессии: 5.254\n"
     ]
    }
   ],
   "source": [
    "rmse_linreg = mean_squared_error(rougher_target, pred_linreg)**0.5\n",
    "print('RMSE для линейной регрессии: {:.3f}'.format(rmse_linreg))"
   ]
  },
  {
   "cell_type": "code",
   "execution_count": 661,
   "metadata": {},
   "outputs": [
    {
     "data": {
      "text/plain": [
       "RandomForestRegressor(random_state=123)"
      ]
     },
     "execution_count": 661,
     "metadata": {},
     "output_type": "execute_result"
    }
   ],
   "source": [
    "rand_for = RandomForestRegressor(random_state=123)\n",
    "rand_for.fit(rougher_params, rougher_target)"
   ]
  },
  {
   "cell_type": "code",
   "execution_count": 662,
   "metadata": {},
   "outputs": [],
   "source": [
    "pred_rand_for = rand_for.predict(rougher_params)"
   ]
  },
  {
   "cell_type": "code",
   "execution_count": 663,
   "metadata": {},
   "outputs": [
    {
     "name": "stdout",
     "output_type": "stream",
     "text": [
      "RMSE для случайного леса: 1.138\n"
     ]
    }
   ],
   "source": [
    "rmse_rand_for = mean_squared_error(rougher_target, pred_rand_for)**0.5\n",
    "print('RMSE для случайного леса: {:.3f}'.format(rmse_rand_for))"
   ]
  },
  {
   "cell_type": "markdown",
   "metadata": {},
   "source": [
    "Построение модели будем осуществлять с помощью случайного леса. Подберем гиперпараметры модели."
   ]
  },
  {
   "cell_type": "code",
   "execution_count": 664,
   "metadata": {},
   "outputs": [],
   "source": [
    "params = [ {'max_depth': list(range(3,6)), 'random_state' : [123],\n",
    "            'n_estimators' : list(range(60, 65, 1))}]"
   ]
  },
  {
   "cell_type": "code",
   "execution_count": 665,
   "metadata": {},
   "outputs": [],
   "source": [
    "model_forest = GridSearchCV(RandomForestRegressor(), param_grid = params, cv = 5, verbose=True,\n",
    "                            n_jobs=-1)"
   ]
  },
  {
   "cell_type": "code",
   "execution_count": 666,
   "metadata": {},
   "outputs": [
    {
     "name": "stdout",
     "output_type": "stream",
     "text": [
      "Fitting 5 folds for each of 15 candidates, totalling 75 fits\n"
     ]
    }
   ],
   "source": [
    "model_forest = model_forest.fit(rougher_params, rougher_target)"
   ]
  },
  {
   "cell_type": "code",
   "execution_count": 667,
   "metadata": {},
   "outputs": [
    {
     "data": {
      "text/plain": [
       "RandomForestRegressor(max_depth=5, n_estimators=62, random_state=123)"
      ]
     },
     "execution_count": 667,
     "metadata": {},
     "output_type": "execute_result"
    }
   ],
   "source": [
    "model_forest.best_estimator_"
   ]
  },
  {
   "cell_type": "code",
   "execution_count": 668,
   "metadata": {},
   "outputs": [],
   "source": [
    "forest_result = model_forest.predict(rougher_params)"
   ]
  },
  {
   "cell_type": "markdown",
   "metadata": {},
   "source": [
    "С помощью полученной модели получим значения эффективности обогащения на этапе флотации для тренировочной выборки и для полной выборки"
   ]
  },
  {
   "cell_type": "code",
   "execution_count": 669,
   "metadata": {},
   "outputs": [],
   "source": [
    "data_train['rougher_recovery'] = forest_result"
   ]
  },
  {
   "cell_type": "code",
   "execution_count": 670,
   "metadata": {},
   "outputs": [],
   "source": [
    "full = data_full[rougher_columns]"
   ]
  },
  {
   "cell_type": "code",
   "execution_count": 671,
   "metadata": {},
   "outputs": [],
   "source": [
    "rougher_recovery = model_forest.predict(full)"
   ]
  },
  {
   "cell_type": "code",
   "execution_count": 672,
   "metadata": {},
   "outputs": [],
   "source": [
    "data_full['rougher_recovery'] = rougher_recovery"
   ]
  },
  {
   "cell_type": "markdown",
   "metadata": {},
   "source": [
    "Перейдем к построению модели для определения финальной эффективности обогащения руды.\n",
    "\n",
    "Создадим массив из параметров, которые уже были использованы для построения первой модели."
   ]
  },
  {
   "cell_type": "code",
   "execution_count": 673,
   "metadata": {},
   "outputs": [
    {
     "data": {
      "text/plain": [
       "Index(['rougher.input.feed_ag', 'rougher.input.feed_pb',\n",
       "       'rougher.input.feed_rate', 'rougher.input.feed_size',\n",
       "       'rougher.input.feed_sol', 'rougher.input.feed_au',\n",
       "       'rougher.input.floatbank10_sulfate',\n",
       "       'rougher.input.floatbank10_xanthate',\n",
       "       'rougher.input.floatbank11_sulfate',\n",
       "       'rougher.input.floatbank11_xanthate', 'rougher.state.floatbank10_a_air',\n",
       "       'rougher.state.floatbank10_a_level', 'rougher.state.floatbank10_b_air',\n",
       "       'rougher.state.floatbank10_b_level', 'rougher.state.floatbank10_c_air',\n",
       "       'rougher.state.floatbank10_c_level', 'rougher.state.floatbank10_d_air',\n",
       "       'rougher.state.floatbank10_d_level', 'rougher.state.floatbank10_e_air',\n",
       "       'rougher.state.floatbank10_e_level', 'rougher.state.floatbank10_f_air',\n",
       "       'rougher.state.floatbank10_f_level'],\n",
       "      dtype='object')"
      ]
     },
     "execution_count": 673,
     "metadata": {},
     "output_type": "execute_result"
    }
   ],
   "source": [
    "col_rougher = rougher_params.columns\n",
    "col_rougher"
   ]
  },
  {
   "cell_type": "markdown",
   "metadata": {},
   "source": [
    "Сохраним в отдельной переменной значения целевой переменной."
   ]
  },
  {
   "cell_type": "code",
   "execution_count": 674,
   "metadata": {},
   "outputs": [],
   "source": [
    "final_recovery = data_full['final.output.recovery']"
   ]
  },
  {
   "cell_type": "markdown",
   "metadata": {},
   "source": [
    "Соберем перечень параметров для создания модели с учетом параметров, доступных на этом этапе."
   ]
  },
  {
   "cell_type": "code",
   "execution_count": 675,
   "metadata": {},
   "outputs": [
    {
     "name": "stdout",
     "output_type": "stream",
     "text": [
      "primary_cleaner.input.sulfate\n",
      "primary_cleaner.input.depressant\n",
      "primary_cleaner.input.feed_size\n",
      "primary_cleaner.input.xanthate\n",
      "primary_cleaner.state.floatbank8_a_air\n",
      "primary_cleaner.state.floatbank8_a_level\n",
      "primary_cleaner.state.floatbank8_b_air\n",
      "primary_cleaner.state.floatbank8_b_level\n",
      "primary_cleaner.state.floatbank8_c_air\n",
      "primary_cleaner.state.floatbank8_c_level\n",
      "primary_cleaner.state.floatbank8_d_air\n",
      "primary_cleaner.state.floatbank8_d_level\n",
      "secondary_cleaner.state.floatbank2_a_air\n",
      "secondary_cleaner.state.floatbank2_a_level\n",
      "secondary_cleaner.state.floatbank2_b_air\n",
      "secondary_cleaner.state.floatbank2_b_level\n",
      "secondary_cleaner.state.floatbank3_a_air\n",
      "secondary_cleaner.state.floatbank3_a_level\n",
      "secondary_cleaner.state.floatbank3_b_air\n",
      "secondary_cleaner.state.floatbank3_b_level\n",
      "secondary_cleaner.state.floatbank4_a_air\n",
      "secondary_cleaner.state.floatbank4_a_level\n",
      "secondary_cleaner.state.floatbank4_b_air\n",
      "secondary_cleaner.state.floatbank4_b_level\n",
      "secondary_cleaner.state.floatbank5_a_air\n",
      "secondary_cleaner.state.floatbank5_a_level\n",
      "secondary_cleaner.state.floatbank5_b_air\n",
      "secondary_cleaner.state.floatbank5_b_level\n",
      "secondary_cleaner.state.floatbank6_a_air\n",
      "secondary_cleaner.state.floatbank6_a_level\n",
      "rougher_recovery\n"
     ]
    }
   ],
   "source": [
    "test_columns = data_test.columns\n",
    "final_columns = []\n",
    "for i in test_columns:\n",
    "    if 'secondary_cleaner' in i or 'primary_cleaner' in i:\n",
    "        final_columns.append(i)\n",
    "final_columns.append('rougher_recovery')\n",
    "print(*final_columns, sep = '\\n')"
   ]
  },
  {
   "cell_type": "markdown",
   "metadata": {},
   "source": [
    "Соберем обучающую и тренировочную выборки с учетом параметров из датасета data_full. Для этого добавим необходимые параметры в датасет."
   ]
  },
  {
   "cell_type": "code",
   "execution_count": 676,
   "metadata": {},
   "outputs": [],
   "source": [
    "data_final_train = data_train[final_columns]\n",
    "data_final_train['date'] = data_train['date']"
   ]
  },
  {
   "cell_type": "code",
   "execution_count": 677,
   "metadata": {},
   "outputs": [
    {
     "data": {
      "text/plain": [
       "(11867, 32)"
      ]
     },
     "execution_count": 677,
     "metadata": {},
     "output_type": "execute_result"
    }
   ],
   "source": [
    "data_final_train.shape"
   ]
  },
  {
   "cell_type": "code",
   "execution_count": 678,
   "metadata": {},
   "outputs": [],
   "source": [
    "target = data_full[['date', 'final.output.recovery', 'rougher_recovery', 'rougher.output.recovery']]"
   ]
  },
  {
   "cell_type": "code",
   "execution_count": 679,
   "metadata": {},
   "outputs": [
    {
     "data": {
      "text/plain": [
       "(16094, 4)"
      ]
     },
     "execution_count": 679,
     "metadata": {},
     "output_type": "execute_result"
    }
   ],
   "source": [
    "target.shape"
   ]
  },
  {
   "cell_type": "code",
   "execution_count": 680,
   "metadata": {},
   "outputs": [],
   "source": [
    "data_train = pd.merge(data_final_train, target,how='inner')\n",
    "rougher_recovery_true_train = data_train['rougher.output.recovery']\n",
    "data_train = data_train.drop(['date', 'rougher.output.recovery'], axis = 1)"
   ]
  },
  {
   "cell_type": "code",
   "execution_count": 681,
   "metadata": {},
   "outputs": [
    {
     "data": {
      "text/plain": [
       "(10656, 32)"
      ]
     },
     "execution_count": 681,
     "metadata": {},
     "output_type": "execute_result"
    }
   ],
   "source": [
    "data_train.shape"
   ]
  },
  {
   "cell_type": "code",
   "execution_count": 682,
   "metadata": {},
   "outputs": [
    {
     "data": {
      "text/plain": [
       "Index(['primary_cleaner.input.sulfate', 'primary_cleaner.input.depressant',\n",
       "       'primary_cleaner.input.feed_size', 'primary_cleaner.input.xanthate',\n",
       "       'primary_cleaner.state.floatbank8_a_air',\n",
       "       'primary_cleaner.state.floatbank8_a_level',\n",
       "       'primary_cleaner.state.floatbank8_b_air',\n",
       "       'primary_cleaner.state.floatbank8_b_level',\n",
       "       'primary_cleaner.state.floatbank8_c_air',\n",
       "       'primary_cleaner.state.floatbank8_c_level',\n",
       "       'primary_cleaner.state.floatbank8_d_air',\n",
       "       'primary_cleaner.state.floatbank8_d_level',\n",
       "       'secondary_cleaner.state.floatbank2_a_air',\n",
       "       'secondary_cleaner.state.floatbank2_a_level',\n",
       "       'secondary_cleaner.state.floatbank2_b_air',\n",
       "       'secondary_cleaner.state.floatbank2_b_level',\n",
       "       'secondary_cleaner.state.floatbank3_a_air',\n",
       "       'secondary_cleaner.state.floatbank3_a_level',\n",
       "       'secondary_cleaner.state.floatbank3_b_air',\n",
       "       'secondary_cleaner.state.floatbank3_b_level',\n",
       "       'secondary_cleaner.state.floatbank4_a_air',\n",
       "       'secondary_cleaner.state.floatbank4_a_level',\n",
       "       'secondary_cleaner.state.floatbank4_b_air',\n",
       "       'secondary_cleaner.state.floatbank4_b_level',\n",
       "       'secondary_cleaner.state.floatbank5_a_air',\n",
       "       'secondary_cleaner.state.floatbank5_a_level',\n",
       "       'secondary_cleaner.state.floatbank5_b_air',\n",
       "       'secondary_cleaner.state.floatbank5_b_level',\n",
       "       'secondary_cleaner.state.floatbank6_a_air',\n",
       "       'secondary_cleaner.state.floatbank6_a_level', 'rougher_recovery',\n",
       "       'final.output.recovery'],\n",
       "      dtype='object')"
      ]
     },
     "execution_count": 682,
     "metadata": {},
     "output_type": "execute_result"
    }
   ],
   "source": [
    "data_train.columns"
   ]
  },
  {
   "cell_type": "code",
   "execution_count": 683,
   "metadata": {},
   "outputs": [
    {
     "data": {
      "text/plain": [
       "(11867, 32)"
      ]
     },
     "execution_count": 683,
     "metadata": {},
     "output_type": "execute_result"
    }
   ],
   "source": [
    "data_final_train.shape"
   ]
  },
  {
   "cell_type": "code",
   "execution_count": 684,
   "metadata": {},
   "outputs": [],
   "source": [
    "target_train_true = data_train['final.output.recovery'] # целевой признак в тренировочной выборке\n",
    "feature_final_train = data_train[final_columns] # переменные для обучения модели"
   ]
  },
  {
   "cell_type": "code",
   "execution_count": 685,
   "metadata": {},
   "outputs": [
    {
     "data": {
      "text/plain": [
       "(10656, 31)"
      ]
     },
     "execution_count": 685,
     "metadata": {},
     "output_type": "execute_result"
    }
   ],
   "source": [
    "feature_final_train.shape"
   ]
  },
  {
   "cell_type": "code",
   "execution_count": 686,
   "metadata": {},
   "outputs": [],
   "source": [
    "target = data_full[['date', 'final.output.recovery', 'rougher_recovery', 'rougher.output.recovery']]"
   ]
  },
  {
   "cell_type": "code",
   "execution_count": 687,
   "metadata": {},
   "outputs": [],
   "source": [
    "data_test = pd.merge(data_test, target, how='inner')\n",
    "rougher_recovery_true = data_test['rougher.output.recovery']\n",
    "data_test = data_test.drop(['date', 'rougher.output.recovery'], axis = 1)"
   ]
  },
  {
   "cell_type": "code",
   "execution_count": 688,
   "metadata": {},
   "outputs": [],
   "source": [
    "target_test_true = data_test['final.output.recovery'] # целевой признак в тестовой выборке\n",
    "feature_final_test = data_test[final_columns] # переменные тестовой выборки"
   ]
  },
  {
   "cell_type": "code",
   "execution_count": 689,
   "metadata": {},
   "outputs": [
    {
     "data": {
      "text/plain": [
       "(10656,)"
      ]
     },
     "execution_count": 689,
     "metadata": {},
     "output_type": "execute_result"
    }
   ],
   "source": [
    "target_train_true.shape"
   ]
  },
  {
   "cell_type": "code",
   "execution_count": 690,
   "metadata": {},
   "outputs": [
    {
     "data": {
      "text/plain": [
       "(10656, 31)"
      ]
     },
     "execution_count": 690,
     "metadata": {},
     "output_type": "execute_result"
    }
   ],
   "source": [
    "feature_final_train.shape"
   ]
  },
  {
   "cell_type": "code",
   "execution_count": 691,
   "metadata": {},
   "outputs": [
    {
     "data": {
      "text/plain": [
       "(5077,)"
      ]
     },
     "execution_count": 691,
     "metadata": {},
     "output_type": "execute_result"
    }
   ],
   "source": [
    "target_test_true.shape"
   ]
  },
  {
   "cell_type": "code",
   "execution_count": 692,
   "metadata": {},
   "outputs": [
    {
     "data": {
      "text/plain": [
       "(5077, 31)"
      ]
     },
     "execution_count": 692,
     "metadata": {},
     "output_type": "execute_result"
    }
   ],
   "source": [
    "feature_final_test.shape"
   ]
  },
  {
   "cell_type": "markdown",
   "metadata": {},
   "source": [
    "Построим модель линейной регрессий и случайного леса, выберем наиболее точную из них по значению sMAPE."
   ]
  },
  {
   "cell_type": "code",
   "execution_count": 693,
   "metadata": {},
   "outputs": [],
   "source": [
    "model_lr = LinearRegression().fit(feature_final_train, target_train_true)"
   ]
  },
  {
   "cell_type": "code",
   "execution_count": 694,
   "metadata": {},
   "outputs": [],
   "source": [
    "lr_result = model_lr.predict(feature_final_test)"
   ]
  },
  {
   "cell_type": "markdown",
   "metadata": {},
   "source": [
    "Рассчитаем значение sMAPE на тестовой выборке по данным, полученным с помощью линейной регрессии."
   ]
  },
  {
   "cell_type": "code",
   "execution_count": 695,
   "metadata": {},
   "outputs": [],
   "source": [
    "lr_pred = model_lr.predict(feature_final_train)\n",
    "lr_rougher_pred = feature_final_train['rougher_recovery']"
   ]
  },
  {
   "cell_type": "code",
   "execution_count": 696,
   "metadata": {},
   "outputs": [
    {
     "data": {
      "text/plain": [
       "6.083032814989257"
      ]
     },
     "execution_count": 696,
     "metadata": {},
     "output_type": "execute_result"
    }
   ],
   "source": [
    "final_smape(rougher_recovery_true_train, lr_rougher_pred, target_train_true, lr_pred)"
   ]
  },
  {
   "cell_type": "markdown",
   "metadata": {},
   "source": [
    "Перейдем к построению модели с помощью алгоритма случайного леса. При этом подберем оптимальные параметры для модели."
   ]
  },
  {
   "cell_type": "code",
   "execution_count": 697,
   "metadata": {},
   "outputs": [],
   "source": [
    "params = [ {'max_depth': list(range(4,7)), 'n_estimators': list(range(37, 47, 5)), \n",
    "            'random_state' : [123], }]"
   ]
  },
  {
   "cell_type": "code",
   "execution_count": 698,
   "metadata": {},
   "outputs": [],
   "source": [
    "best_model = GridSearchCV( RandomForestRegressor(), param_grid = params, cv = 5, verbose=True, n_jobs=-1)"
   ]
  },
  {
   "cell_type": "code",
   "execution_count": 699,
   "metadata": {},
   "outputs": [
    {
     "name": "stdout",
     "output_type": "stream",
     "text": [
      "Fitting 5 folds for each of 6 candidates, totalling 30 fits\n"
     ]
    }
   ],
   "source": [
    "best_model = best_model.fit(feature_final_train, target_train_true)"
   ]
  },
  {
   "cell_type": "code",
   "execution_count": 700,
   "metadata": {},
   "outputs": [],
   "source": [
    "pred_randfor_final = best_model.predict(feature_final_test)"
   ]
  },
  {
   "cell_type": "code",
   "execution_count": 701,
   "metadata": {},
   "outputs": [
    {
     "data": {
      "text/plain": [
       "RandomForestRegressor(max_depth=4, n_estimators=37, random_state=123)"
      ]
     },
     "execution_count": 701,
     "metadata": {},
     "output_type": "execute_result"
    }
   ],
   "source": [
    "best_model.best_estimator_"
   ]
  },
  {
   "cell_type": "markdown",
   "metadata": {},
   "source": [
    "Вычислим sMAPE для значений, полученных с помощью алгоритма слуайного леса."
   ]
  },
  {
   "cell_type": "code",
   "execution_count": 702,
   "metadata": {},
   "outputs": [
    {
     "data": {
      "text/plain": [
       "5.932037644589392"
      ]
     },
     "execution_count": 702,
     "metadata": {},
     "output_type": "execute_result"
    }
   ],
   "source": [
    "pred_randfor_train = best_model.predict(feature_final_train)\n",
    "final_smape(rougher_recovery_true_train, lr_rougher_pred, target_train_true, pred_randfor_train)"
   ]
  },
  {
   "cell_type": "markdown",
   "metadata": {},
   "source": [
    "Наименьшее значение было получено с помощью модели случайного леса.\n",
    "\n",
    "Вычислим значение метрики на тестовой выборке, использую полученную модель."
   ]
  },
  {
   "cell_type": "code",
   "execution_count": 703,
   "metadata": {},
   "outputs": [],
   "source": [
    "rougher_pred = feature_final_test['rougher_recovery']"
   ]
  },
  {
   "cell_type": "code",
   "execution_count": 704,
   "metadata": {},
   "outputs": [
    {
     "data": {
      "text/plain": [
       "7.985248798653486"
      ]
     },
     "execution_count": 704,
     "metadata": {},
     "output_type": "execute_result"
    }
   ],
   "source": [
    "final_smape(rougher_recovery_true, rougher_pred, target_test_true, pred_randfor_final)"
   ]
  },
  {
   "cell_type": "markdown",
   "metadata": {},
   "source": [
    "# Общий вывод"
   ]
  },
  {
   "cell_type": "markdown",
   "metadata": {},
   "source": [
    "В ходе работы была выполнена подготовка данных, проведен анализ данных и построена модель для прогнозирования целевого признака.<br>\n",
    "При анализе данных выяснилось, что концетрация золота и свинца при очистке увеличивается, концентрация серебра после очистки снижается. По полученному распределению суммарной концентрации металлов можно сделать вывод о том, что с каждым этапов значение концентрации увеличивается.<br>\n",
    "По подготовленным данным с помощью алгоритма случайного леса были построены модели для прогнозирования целевого признака. В результате на тестовой выборке было получено значение метрики sMAPE, равное 7,99 %.\n"
   ]
  }
 ],
 "metadata": {
  "ExecuteTimeLog": [
   {
    "duration": 482,
    "start_time": "2022-03-21T13:56:28.807Z"
   },
   {
    "duration": 147,
    "start_time": "2022-03-21T14:02:35.902Z"
   },
   {
    "duration": 1021,
    "start_time": "2022-03-21T14:04:05.789Z"
   },
   {
    "duration": 42,
    "start_time": "2022-03-21T14:04:33.369Z"
   },
   {
    "duration": 34,
    "start_time": "2022-03-21T14:05:01.194Z"
   },
   {
    "duration": 43,
    "start_time": "2022-03-21T14:05:15.857Z"
   },
   {
    "duration": 30,
    "start_time": "2022-03-21T14:06:09.349Z"
   },
   {
    "duration": 29,
    "start_time": "2022-03-21T14:08:53.605Z"
   },
   {
    "duration": 34,
    "start_time": "2022-03-21T14:12:44.712Z"
   },
   {
    "duration": 514,
    "start_time": "2022-03-21T14:21:30.757Z"
   },
   {
    "duration": 305,
    "start_time": "2022-03-22T13:53:56.834Z"
   },
   {
    "duration": 5,
    "start_time": "2022-03-22T13:59:25.810Z"
   },
   {
    "duration": 59,
    "start_time": "2022-03-22T13:59:54.974Z"
   },
   {
    "duration": 430,
    "start_time": "2022-03-22T13:59:59.422Z"
   },
   {
    "duration": 13424,
    "start_time": "2022-03-22T13:59:59.853Z"
   },
   {
    "duration": 18,
    "start_time": "2022-03-22T14:00:13.278Z"
   },
   {
    "duration": 21,
    "start_time": "2022-03-22T14:00:13.297Z"
   },
   {
    "duration": 17,
    "start_time": "2022-03-22T14:00:13.321Z"
   },
   {
    "duration": 3,
    "start_time": "2022-03-22T14:00:13.339Z"
   },
   {
    "duration": 29,
    "start_time": "2022-03-22T14:00:13.344Z"
   },
   {
    "duration": 8,
    "start_time": "2022-03-22T14:00:26.033Z"
   },
   {
    "duration": 7,
    "start_time": "2022-03-22T14:00:30.474Z"
   },
   {
    "duration": 3,
    "start_time": "2022-03-22T14:00:43.941Z"
   },
   {
    "duration": 7,
    "start_time": "2022-03-22T14:00:46.738Z"
   },
   {
    "duration": 4,
    "start_time": "2022-03-22T14:01:12.050Z"
   },
   {
    "duration": 273,
    "start_time": "2022-03-22T14:01:17.482Z"
   },
   {
    "duration": 5810,
    "start_time": "2022-03-22T14:01:22.314Z"
   },
   {
    "duration": 4,
    "start_time": "2022-03-22T14:01:41.537Z"
   },
   {
    "duration": 256,
    "start_time": "2022-03-22T14:01:43.898Z"
   },
   {
    "duration": 1200,
    "start_time": "2022-03-22T14:04:20.405Z"
   },
   {
    "duration": 6123,
    "start_time": "2022-03-22T14:05:22.365Z"
   },
   {
    "duration": 15,
    "start_time": "2022-03-22T14:06:02.909Z"
   },
   {
    "duration": 8,
    "start_time": "2022-03-22T14:06:58.809Z"
   },
   {
    "duration": 6,
    "start_time": "2022-03-22T14:07:24.865Z"
   },
   {
    "duration": 8,
    "start_time": "2022-03-22T14:08:16.165Z"
   },
   {
    "duration": 5,
    "start_time": "2022-03-22T14:08:21.781Z"
   },
   {
    "duration": 5,
    "start_time": "2022-03-22T14:08:27.668Z"
   },
   {
    "duration": 5,
    "start_time": "2022-03-22T14:08:30.781Z"
   },
   {
    "duration": 4,
    "start_time": "2022-03-22T14:16:05.810Z"
   },
   {
    "duration": 224,
    "start_time": "2022-03-22T14:16:08.118Z"
   },
   {
    "duration": 6,
    "start_time": "2022-03-22T14:16:10.286Z"
   },
   {
    "duration": 5,
    "start_time": "2022-03-22T14:16:12.491Z"
   },
   {
    "duration": 7,
    "start_time": "2022-03-22T14:19:28.358Z"
   },
   {
    "duration": 5297,
    "start_time": "2022-03-22T14:19:55.739Z"
   },
   {
    "duration": 12914,
    "start_time": "2022-03-22T14:20:27.146Z"
   },
   {
    "duration": 202,
    "start_time": "2022-03-22T14:22:18.973Z"
   },
   {
    "duration": 8,
    "start_time": "2022-03-22T14:22:53.128Z"
   },
   {
    "duration": 9,
    "start_time": "2022-03-22T14:23:44.502Z"
   },
   {
    "duration": 9,
    "start_time": "2022-03-22T14:24:41.381Z"
   },
   {
    "duration": 9,
    "start_time": "2022-03-22T14:25:11.449Z"
   },
   {
    "duration": 9,
    "start_time": "2022-03-22T14:31:35.725Z"
   },
   {
    "duration": 6,
    "start_time": "2022-03-22T14:31:55.465Z"
   },
   {
    "duration": 3,
    "start_time": "2022-03-22T14:33:25.525Z"
   },
   {
    "duration": 6,
    "start_time": "2022-03-22T14:33:30.485Z"
   },
   {
    "duration": 3,
    "start_time": "2022-03-22T14:33:46.689Z"
   },
   {
    "duration": 5,
    "start_time": "2022-03-22T14:33:49.169Z"
   },
   {
    "duration": 4,
    "start_time": "2022-03-22T14:34:27.013Z"
   },
   {
    "duration": 230,
    "start_time": "2022-03-22T14:34:29.265Z"
   },
   {
    "duration": 5,
    "start_time": "2022-03-22T14:34:32.577Z"
   },
   {
    "duration": 3,
    "start_time": "2022-03-22T14:34:43.649Z"
   },
   {
    "duration": 232,
    "start_time": "2022-03-22T14:34:46.892Z"
   },
   {
    "duration": 5,
    "start_time": "2022-03-22T14:34:49.177Z"
   },
   {
    "duration": 2,
    "start_time": "2022-03-22T14:43:36.128Z"
   },
   {
    "duration": 2,
    "start_time": "2022-03-22T14:44:20.117Z"
   },
   {
    "duration": 3,
    "start_time": "2022-03-22T14:44:52.520Z"
   },
   {
    "duration": 5,
    "start_time": "2022-03-22T14:48:14.528Z"
   },
   {
    "duration": 2,
    "start_time": "2022-03-22T14:48:48.744Z"
   },
   {
    "duration": 3,
    "start_time": "2022-03-22T14:50:05.996Z"
   },
   {
    "duration": 5,
    "start_time": "2022-03-22T14:50:12.491Z"
   },
   {
    "duration": 5,
    "start_time": "2022-03-22T14:50:24.843Z"
   },
   {
    "duration": 6,
    "start_time": "2022-03-22T14:50:39.188Z"
   },
   {
    "duration": 3,
    "start_time": "2022-03-22T15:08:47.149Z"
   },
   {
    "duration": 15,
    "start_time": "2022-03-22T15:27:28.999Z"
   },
   {
    "duration": 130,
    "start_time": "2022-03-22T15:27:37.308Z"
   },
   {
    "duration": 122,
    "start_time": "2022-03-22T15:27:44.823Z"
   },
   {
    "duration": 9,
    "start_time": "2022-03-22T15:30:23.907Z"
   },
   {
    "duration": 7,
    "start_time": "2022-03-22T15:30:49.779Z"
   },
   {
    "duration": 8,
    "start_time": "2022-03-22T15:30:55.207Z"
   },
   {
    "duration": 9,
    "start_time": "2022-03-22T15:35:00.134Z"
   },
   {
    "duration": 9,
    "start_time": "2022-03-22T15:35:06.345Z"
   },
   {
    "duration": 12,
    "start_time": "2022-03-22T15:36:34.231Z"
   },
   {
    "duration": 12,
    "start_time": "2022-03-22T15:37:46.723Z"
   },
   {
    "duration": 11,
    "start_time": "2022-03-22T15:38:03.762Z"
   },
   {
    "duration": 11,
    "start_time": "2022-03-22T15:39:37.042Z"
   },
   {
    "duration": 10,
    "start_time": "2022-03-22T15:40:31.189Z"
   },
   {
    "duration": 12,
    "start_time": "2022-03-22T15:41:20.650Z"
   },
   {
    "duration": 11,
    "start_time": "2022-03-22T15:41:30.709Z"
   },
   {
    "duration": 5,
    "start_time": "2022-03-22T15:45:51.790Z"
   },
   {
    "duration": 14,
    "start_time": "2022-03-22T15:46:05.377Z"
   },
   {
    "duration": 77,
    "start_time": "2022-03-22T15:46:19.413Z"
   },
   {
    "duration": 7,
    "start_time": "2022-03-22T15:46:24.426Z"
   },
   {
    "duration": 10,
    "start_time": "2022-03-22T15:46:34.009Z"
   },
   {
    "duration": 72,
    "start_time": "2022-03-23T12:56:32.237Z"
   },
   {
    "duration": 514,
    "start_time": "2022-03-23T12:56:39.757Z"
   },
   {
    "duration": 994,
    "start_time": "2022-03-23T12:56:40.273Z"
   },
   {
    "duration": 784,
    "start_time": "2022-03-23T12:56:41.269Z"
   },
   {
    "duration": 28,
    "start_time": "2022-03-23T12:56:42.057Z"
   },
   {
    "duration": 19,
    "start_time": "2022-03-23T12:56:42.088Z"
   },
   {
    "duration": 61,
    "start_time": "2022-03-23T12:56:42.110Z"
   },
   {
    "duration": 6,
    "start_time": "2022-03-23T12:56:42.173Z"
   },
   {
    "duration": 389,
    "start_time": "2022-03-23T12:56:42.181Z"
   },
   {
    "duration": 15,
    "start_time": "2022-03-23T12:56:42.573Z"
   },
   {
    "duration": 7,
    "start_time": "2022-03-23T12:56:42.591Z"
   },
   {
    "duration": 11,
    "start_time": "2022-03-23T12:56:42.601Z"
   },
   {
    "duration": 56,
    "start_time": "2022-03-23T12:56:42.616Z"
   },
   {
    "duration": 138,
    "start_time": "2022-03-23T12:56:42.674Z"
   },
   {
    "duration": 16,
    "start_time": "2022-03-23T12:56:42.815Z"
   },
   {
    "duration": 43,
    "start_time": "2022-03-23T12:56:42.833Z"
   },
   {
    "duration": 2081,
    "start_time": "2022-03-23T12:56:47.517Z"
   },
   {
    "duration": 838,
    "start_time": "2022-03-23T12:56:59.437Z"
   },
   {
    "duration": 5,
    "start_time": "2022-03-23T12:59:40.241Z"
   },
   {
    "duration": 6,
    "start_time": "2022-03-23T12:59:40.248Z"
   },
   {
    "duration": 827,
    "start_time": "2022-03-23T12:59:40.256Z"
   },
   {
    "duration": 26,
    "start_time": "2022-03-23T12:59:41.086Z"
   },
   {
    "duration": 18,
    "start_time": "2022-03-23T12:59:41.115Z"
   },
   {
    "duration": 48,
    "start_time": "2022-03-23T12:59:41.135Z"
   },
   {
    "duration": 4,
    "start_time": "2022-03-23T12:59:41.186Z"
   },
   {
    "duration": 388,
    "start_time": "2022-03-23T12:59:41.192Z"
   },
   {
    "duration": 7,
    "start_time": "2022-03-23T12:59:41.582Z"
   },
   {
    "duration": 5,
    "start_time": "2022-03-23T12:59:41.592Z"
   },
   {
    "duration": 12,
    "start_time": "2022-03-23T12:59:41.599Z"
   },
   {
    "duration": 200,
    "start_time": "2022-03-23T12:59:59.620Z"
   },
   {
    "duration": 13,
    "start_time": "2022-03-23T13:00:01.784Z"
   },
   {
    "duration": 17,
    "start_time": "2022-03-23T13:00:08.180Z"
   },
   {
    "duration": 16,
    "start_time": "2022-03-23T13:00:15.101Z"
   },
   {
    "duration": 23,
    "start_time": "2022-03-23T13:18:12.209Z"
   },
   {
    "duration": 35,
    "start_time": "2022-03-23T13:18:18.709Z"
   },
   {
    "duration": 196,
    "start_time": "2022-03-23T14:31:18.243Z"
   },
   {
    "duration": 8,
    "start_time": "2022-03-23T14:32:23.075Z"
   },
   {
    "duration": 6,
    "start_time": "2022-03-23T14:32:37.683Z"
   },
   {
    "duration": 6,
    "start_time": "2022-03-23T14:32:54.203Z"
   },
   {
    "duration": 11,
    "start_time": "2022-03-23T14:39:48.532Z"
   },
   {
    "duration": 5,
    "start_time": "2022-03-23T14:39:54.299Z"
   },
   {
    "duration": 8,
    "start_time": "2022-03-23T14:39:56.016Z"
   },
   {
    "duration": 6,
    "start_time": "2022-03-23T14:40:15.216Z"
   },
   {
    "duration": 4,
    "start_time": "2022-03-23T14:43:47.400Z"
   },
   {
    "duration": 7,
    "start_time": "2022-03-23T14:43:49.480Z"
   },
   {
    "duration": 5,
    "start_time": "2022-03-23T14:43:59.139Z"
   },
   {
    "duration": 6,
    "start_time": "2022-03-23T14:44:07.780Z"
   },
   {
    "duration": 3,
    "start_time": "2022-03-23T14:44:11.671Z"
   },
   {
    "duration": 3,
    "start_time": "2022-03-23T14:44:11.681Z"
   },
   {
    "duration": 744,
    "start_time": "2022-03-23T14:44:11.687Z"
   },
   {
    "duration": 35,
    "start_time": "2022-03-23T14:44:12.433Z"
   },
   {
    "duration": 19,
    "start_time": "2022-03-23T14:44:12.470Z"
   },
   {
    "duration": 24,
    "start_time": "2022-03-23T14:44:12.492Z"
   },
   {
    "duration": 4,
    "start_time": "2022-03-23T14:44:12.518Z"
   },
   {
    "duration": 385,
    "start_time": "2022-03-23T14:44:12.525Z"
   },
   {
    "duration": 6,
    "start_time": "2022-03-23T14:44:12.913Z"
   },
   {
    "duration": 7,
    "start_time": "2022-03-23T14:44:12.921Z"
   },
   {
    "duration": 11,
    "start_time": "2022-03-23T14:44:12.930Z"
   },
   {
    "duration": 3,
    "start_time": "2022-03-23T14:44:12.968Z"
   },
   {
    "duration": 197,
    "start_time": "2022-03-23T14:44:12.973Z"
   },
   {
    "duration": 13,
    "start_time": "2022-03-23T14:44:13.174Z"
   },
   {
    "duration": 16,
    "start_time": "2022-03-23T14:44:13.189Z"
   },
   {
    "duration": 242,
    "start_time": "2022-03-23T14:44:13.208Z"
   },
   {
    "duration": 5,
    "start_time": "2022-03-23T14:44:13.452Z"
   },
   {
    "duration": 5,
    "start_time": "2022-03-23T14:44:13.467Z"
   },
   {
    "duration": 5,
    "start_time": "2022-03-23T14:44:17.547Z"
   },
   {
    "duration": 7,
    "start_time": "2022-03-23T14:44:19.915Z"
   },
   {
    "duration": 224,
    "start_time": "2022-03-23T14:44:36.767Z"
   },
   {
    "duration": 4,
    "start_time": "2022-03-23T14:44:55.095Z"
   },
   {
    "duration": 18,
    "start_time": "2022-03-23T14:44:55.102Z"
   },
   {
    "duration": 728,
    "start_time": "2022-03-23T14:44:55.122Z"
   },
   {
    "duration": 32,
    "start_time": "2022-03-23T14:44:55.853Z"
   },
   {
    "duration": 18,
    "start_time": "2022-03-23T14:44:55.888Z"
   },
   {
    "duration": 23,
    "start_time": "2022-03-23T14:44:55.909Z"
   },
   {
    "duration": 33,
    "start_time": "2022-03-23T14:44:55.935Z"
   },
   {
    "duration": 348,
    "start_time": "2022-03-23T14:44:55.970Z"
   },
   {
    "duration": 7,
    "start_time": "2022-03-23T14:44:56.320Z"
   },
   {
    "duration": 10,
    "start_time": "2022-03-23T14:44:56.330Z"
   },
   {
    "duration": 28,
    "start_time": "2022-03-23T14:44:56.343Z"
   },
   {
    "duration": 3,
    "start_time": "2022-03-23T14:44:56.373Z"
   },
   {
    "duration": 199,
    "start_time": "2022-03-23T14:44:56.378Z"
   },
   {
    "duration": 12,
    "start_time": "2022-03-23T14:44:56.579Z"
   },
   {
    "duration": 19,
    "start_time": "2022-03-23T14:44:56.593Z"
   },
   {
    "duration": 228,
    "start_time": "2022-03-23T14:44:56.614Z"
   },
   {
    "duration": 5,
    "start_time": "2022-03-23T14:45:03.675Z"
   },
   {
    "duration": 4,
    "start_time": "2022-03-23T14:45:06.180Z"
   },
   {
    "duration": 6,
    "start_time": "2022-03-23T14:45:08.548Z"
   },
   {
    "duration": 273,
    "start_time": "2022-03-23T14:45:10.857Z"
   },
   {
    "duration": 4,
    "start_time": "2022-03-23T14:48:40.323Z"
   },
   {
    "duration": 13,
    "start_time": "2022-03-23T14:49:32.388Z"
   },
   {
    "duration": 5,
    "start_time": "2022-03-23T14:51:00.616Z"
   },
   {
    "duration": 7,
    "start_time": "2022-03-23T14:51:04.639Z"
   },
   {
    "duration": 3,
    "start_time": "2022-03-23T14:51:13.399Z"
   },
   {
    "duration": 6,
    "start_time": "2022-03-23T14:51:13.405Z"
   },
   {
    "duration": 730,
    "start_time": "2022-03-23T14:51:13.415Z"
   },
   {
    "duration": 32,
    "start_time": "2022-03-23T14:51:14.147Z"
   },
   {
    "duration": 21,
    "start_time": "2022-03-23T14:51:14.182Z"
   },
   {
    "duration": 27,
    "start_time": "2022-03-23T14:51:14.205Z"
   },
   {
    "duration": 34,
    "start_time": "2022-03-23T14:51:14.234Z"
   },
   {
    "duration": 363,
    "start_time": "2022-03-23T14:51:14.270Z"
   },
   {
    "duration": 8,
    "start_time": "2022-03-23T14:51:14.636Z"
   },
   {
    "duration": 22,
    "start_time": "2022-03-23T14:51:14.646Z"
   },
   {
    "duration": 13,
    "start_time": "2022-03-23T14:51:14.672Z"
   },
   {
    "duration": 4,
    "start_time": "2022-03-23T14:51:14.687Z"
   },
   {
    "duration": 233,
    "start_time": "2022-03-23T14:51:14.694Z"
   },
   {
    "duration": 12,
    "start_time": "2022-03-23T14:51:14.930Z"
   },
   {
    "duration": 43,
    "start_time": "2022-03-23T14:51:14.944Z"
   },
   {
    "duration": 4,
    "start_time": "2022-03-23T14:51:14.989Z"
   },
   {
    "duration": 230,
    "start_time": "2022-03-23T14:51:14.995Z"
   },
   {
    "duration": 5,
    "start_time": "2022-03-23T14:51:15.228Z"
   },
   {
    "duration": 11,
    "start_time": "2022-03-23T14:51:15.235Z"
   },
   {
    "duration": 27,
    "start_time": "2022-03-23T14:51:15.249Z"
   },
   {
    "duration": 6,
    "start_time": "2022-03-23T14:51:19.067Z"
   },
   {
    "duration": 214,
    "start_time": "2022-03-23T14:51:39.880Z"
   },
   {
    "duration": 3,
    "start_time": "2022-03-23T14:52:14.639Z"
   },
   {
    "duration": 7,
    "start_time": "2022-03-23T14:52:14.645Z"
   },
   {
    "duration": 778,
    "start_time": "2022-03-23T14:52:14.654Z"
   },
   {
    "duration": 36,
    "start_time": "2022-03-23T14:52:15.434Z"
   },
   {
    "duration": 19,
    "start_time": "2022-03-23T14:52:15.473Z"
   },
   {
    "duration": 27,
    "start_time": "2022-03-23T14:52:15.494Z"
   },
   {
    "duration": 5,
    "start_time": "2022-03-23T14:52:15.524Z"
   },
   {
    "duration": 396,
    "start_time": "2022-03-23T14:52:15.531Z"
   },
   {
    "duration": 7,
    "start_time": "2022-03-23T14:52:15.929Z"
   },
   {
    "duration": 7,
    "start_time": "2022-03-23T14:52:15.939Z"
   },
   {
    "duration": 26,
    "start_time": "2022-03-23T14:52:15.948Z"
   },
   {
    "duration": 4,
    "start_time": "2022-03-23T14:52:15.976Z"
   },
   {
    "duration": 211,
    "start_time": "2022-03-23T14:52:15.982Z"
   },
   {
    "duration": 12,
    "start_time": "2022-03-23T14:52:16.195Z"
   },
   {
    "duration": 14,
    "start_time": "2022-03-23T14:52:16.209Z"
   },
   {
    "duration": 3,
    "start_time": "2022-03-23T14:52:16.225Z"
   },
   {
    "duration": 266,
    "start_time": "2022-03-23T14:52:16.230Z"
   },
   {
    "duration": 5,
    "start_time": "2022-03-23T14:52:16.498Z"
   },
   {
    "duration": 5,
    "start_time": "2022-03-23T14:52:19.783Z"
   },
   {
    "duration": 6,
    "start_time": "2022-03-23T14:52:22.667Z"
   },
   {
    "duration": 220,
    "start_time": "2022-03-23T14:52:25.579Z"
   },
   {
    "duration": 1717,
    "start_time": "2022-03-23T15:10:40.436Z"
   },
   {
    "duration": 8,
    "start_time": "2022-03-23T15:13:52.143Z"
   },
   {
    "duration": 23,
    "start_time": "2022-03-23T15:18:33.146Z"
   },
   {
    "duration": 3,
    "start_time": "2022-03-23T15:24:36.901Z"
   },
   {
    "duration": 5,
    "start_time": "2022-03-23T15:24:36.910Z"
   },
   {
    "duration": 728,
    "start_time": "2022-03-23T15:24:36.918Z"
   },
   {
    "duration": 32,
    "start_time": "2022-03-23T15:24:37.649Z"
   },
   {
    "duration": 19,
    "start_time": "2022-03-23T15:24:37.684Z"
   },
   {
    "duration": 25,
    "start_time": "2022-03-23T15:24:37.705Z"
   },
   {
    "duration": 39,
    "start_time": "2022-03-23T15:24:37.733Z"
   },
   {
    "duration": 366,
    "start_time": "2022-03-23T15:24:37.775Z"
   },
   {
    "duration": 8,
    "start_time": "2022-03-23T15:24:38.144Z"
   },
   {
    "duration": 3,
    "start_time": "2022-03-23T15:24:38.171Z"
   },
   {
    "duration": 13,
    "start_time": "2022-03-23T15:24:38.178Z"
   },
   {
    "duration": 3,
    "start_time": "2022-03-23T15:24:38.193Z"
   },
   {
    "duration": 220,
    "start_time": "2022-03-23T15:24:38.199Z"
   },
   {
    "duration": 13,
    "start_time": "2022-03-23T15:24:38.422Z"
   },
   {
    "duration": 39,
    "start_time": "2022-03-23T15:24:38.437Z"
   },
   {
    "duration": 3,
    "start_time": "2022-03-23T15:24:38.478Z"
   },
   {
    "duration": 235,
    "start_time": "2022-03-23T15:24:38.484Z"
   },
   {
    "duration": 8,
    "start_time": "2022-03-23T15:24:38.721Z"
   },
   {
    "duration": 5,
    "start_time": "2022-03-23T15:24:38.731Z"
   },
   {
    "duration": 6,
    "start_time": "2022-03-23T15:24:44.137Z"
   },
   {
    "duration": 36,
    "start_time": "2022-03-23T15:24:47.025Z"
   },
   {
    "duration": 3,
    "start_time": "2022-03-23T15:24:54.366Z"
   },
   {
    "duration": 215,
    "start_time": "2022-03-23T15:24:57.309Z"
   },
   {
    "duration": 95,
    "start_time": "2022-03-23T15:26:39.005Z"
   },
   {
    "duration": 49,
    "start_time": "2022-03-23T15:26:50.713Z"
   },
   {
    "duration": 206,
    "start_time": "2022-03-23T15:26:54.793Z"
   },
   {
    "duration": 1387,
    "start_time": "2022-03-24T13:54:32.195Z"
   },
   {
    "duration": 247,
    "start_time": "2022-03-24T13:54:50.831Z"
   },
   {
    "duration": 4,
    "start_time": "2022-03-24T13:54:51.081Z"
   },
   {
    "duration": 13,
    "start_time": "2022-03-24T13:54:51.087Z"
   },
   {
    "duration": 817,
    "start_time": "2022-03-24T13:54:51.102Z"
   },
   {
    "duration": 33,
    "start_time": "2022-03-24T13:54:51.923Z"
   },
   {
    "duration": 18,
    "start_time": "2022-03-24T13:54:51.959Z"
   },
   {
    "duration": 27,
    "start_time": "2022-03-24T13:54:51.980Z"
   },
   {
    "duration": 34,
    "start_time": "2022-03-24T13:54:52.009Z"
   },
   {
    "duration": 388,
    "start_time": "2022-03-24T13:54:52.046Z"
   },
   {
    "duration": 19,
    "start_time": "2022-03-24T13:54:52.436Z"
   },
   {
    "duration": 4,
    "start_time": "2022-03-24T13:54:52.457Z"
   },
   {
    "duration": 9,
    "start_time": "2022-03-24T13:54:52.463Z"
   },
   {
    "duration": 4,
    "start_time": "2022-03-24T13:54:52.476Z"
   },
   {
    "duration": 240,
    "start_time": "2022-03-24T13:54:52.483Z"
   },
   {
    "duration": 152,
    "start_time": "2022-03-24T13:55:32.842Z"
   },
   {
    "duration": 131,
    "start_time": "2022-03-24T13:55:38.182Z"
   },
   {
    "duration": 8,
    "start_time": "2022-03-24T13:56:42.495Z"
   },
   {
    "duration": 13572,
    "start_time": "2022-03-24T13:56:44.559Z"
   },
   {
    "duration": 20,
    "start_time": "2022-03-24T13:57:03.574Z"
   },
   {
    "duration": 16712,
    "start_time": "2022-03-24T13:57:17.178Z"
   },
   {
    "duration": 13,
    "start_time": "2022-03-24T13:57:37.981Z"
   },
   {
    "duration": 10,
    "start_time": "2022-03-24T13:57:47.879Z"
   },
   {
    "duration": 11,
    "start_time": "2022-03-24T13:57:56.146Z"
   },
   {
    "duration": 4,
    "start_time": "2022-03-24T13:58:54.940Z"
   },
   {
    "duration": 7,
    "start_time": "2022-03-24T13:58:54.947Z"
   },
   {
    "duration": 9,
    "start_time": "2022-03-24T13:58:54.961Z"
   },
   {
    "duration": 1024,
    "start_time": "2022-03-24T13:58:54.974Z"
   },
   {
    "duration": 46,
    "start_time": "2022-03-24T13:58:56.001Z"
   },
   {
    "duration": 22,
    "start_time": "2022-03-24T13:58:56.056Z"
   },
   {
    "duration": 34,
    "start_time": "2022-03-24T13:58:56.080Z"
   },
   {
    "duration": 26,
    "start_time": "2022-03-24T13:58:56.118Z"
   },
   {
    "duration": 377,
    "start_time": "2022-03-24T13:58:56.147Z"
   },
   {
    "duration": 18,
    "start_time": "2022-03-24T13:58:56.526Z"
   },
   {
    "duration": 5,
    "start_time": "2022-03-24T13:58:56.547Z"
   },
   {
    "duration": 13,
    "start_time": "2022-03-24T13:58:56.555Z"
   },
   {
    "duration": 7,
    "start_time": "2022-03-24T13:58:56.570Z"
   },
   {
    "duration": 229,
    "start_time": "2022-03-24T13:58:56.580Z"
   },
   {
    "duration": 14,
    "start_time": "2022-03-24T13:58:56.812Z"
   },
   {
    "duration": 14789,
    "start_time": "2022-03-24T13:58:56.842Z"
   },
   {
    "duration": 14,
    "start_time": "2022-03-24T13:59:11.634Z"
   },
   {
    "duration": 0,
    "start_time": "2022-03-24T13:59:11.652Z"
   },
   {
    "duration": 1,
    "start_time": "2022-03-24T13:59:11.654Z"
   },
   {
    "duration": 0,
    "start_time": "2022-03-24T13:59:11.657Z"
   },
   {
    "duration": 0,
    "start_time": "2022-03-24T13:59:11.659Z"
   },
   {
    "duration": 0,
    "start_time": "2022-03-24T13:59:11.661Z"
   },
   {
    "duration": 0,
    "start_time": "2022-03-24T13:59:11.663Z"
   },
   {
    "duration": 0,
    "start_time": "2022-03-24T13:59:11.665Z"
   },
   {
    "duration": 1,
    "start_time": "2022-03-24T13:59:11.667Z"
   },
   {
    "duration": 0,
    "start_time": "2022-03-24T13:59:11.669Z"
   },
   {
    "duration": 0,
    "start_time": "2022-03-24T13:59:11.671Z"
   },
   {
    "duration": 13,
    "start_time": "2022-03-24T13:59:24.507Z"
   },
   {
    "duration": 20,
    "start_time": "2022-03-24T13:59:33.751Z"
   },
   {
    "duration": 12,
    "start_time": "2022-03-24T13:59:44.681Z"
   },
   {
    "duration": 11,
    "start_time": "2022-03-24T14:07:40.868Z"
   },
   {
    "duration": 11,
    "start_time": "2022-03-24T14:08:09.600Z"
   },
   {
    "duration": 4,
    "start_time": "2022-03-24T14:08:15.332Z"
   },
   {
    "duration": 11,
    "start_time": "2022-03-24T14:08:15.339Z"
   },
   {
    "duration": 12,
    "start_time": "2022-03-24T14:08:15.352Z"
   },
   {
    "duration": 763,
    "start_time": "2022-03-24T14:08:15.367Z"
   },
   {
    "duration": 32,
    "start_time": "2022-03-24T14:08:16.133Z"
   },
   {
    "duration": 19,
    "start_time": "2022-03-24T14:08:16.167Z"
   },
   {
    "duration": 63,
    "start_time": "2022-03-24T14:08:16.188Z"
   },
   {
    "duration": 5,
    "start_time": "2022-03-24T14:08:16.254Z"
   },
   {
    "duration": 385,
    "start_time": "2022-03-24T14:08:16.262Z"
   },
   {
    "duration": 6,
    "start_time": "2022-03-24T14:08:16.650Z"
   },
   {
    "duration": 4,
    "start_time": "2022-03-24T14:08:16.660Z"
   },
   {
    "duration": 11,
    "start_time": "2022-03-24T14:08:16.666Z"
   },
   {
    "duration": 4,
    "start_time": "2022-03-24T14:08:16.679Z"
   },
   {
    "duration": 239,
    "start_time": "2022-03-24T14:08:16.686Z"
   },
   {
    "duration": 24,
    "start_time": "2022-03-24T14:08:16.927Z"
   },
   {
    "duration": 4,
    "start_time": "2022-03-24T14:08:16.953Z"
   },
   {
    "duration": 905,
    "start_time": "2022-03-24T14:08:16.960Z"
   },
   {
    "duration": 7,
    "start_time": "2022-03-24T14:08:17.868Z"
   },
   {
    "duration": 70,
    "start_time": "2022-03-24T14:08:17.877Z"
   },
   {
    "duration": 0,
    "start_time": "2022-03-24T14:08:17.949Z"
   },
   {
    "duration": 0,
    "start_time": "2022-03-24T14:08:17.951Z"
   },
   {
    "duration": 0,
    "start_time": "2022-03-24T14:08:17.952Z"
   },
   {
    "duration": 0,
    "start_time": "2022-03-24T14:08:17.954Z"
   },
   {
    "duration": 0,
    "start_time": "2022-03-24T14:08:17.956Z"
   },
   {
    "duration": 0,
    "start_time": "2022-03-24T14:08:17.958Z"
   },
   {
    "duration": 5,
    "start_time": "2022-03-24T14:08:25.760Z"
   },
   {
    "duration": 6,
    "start_time": "2022-03-24T14:08:25.767Z"
   },
   {
    "duration": 4,
    "start_time": "2022-03-24T14:08:25.776Z"
   },
   {
    "duration": 826,
    "start_time": "2022-03-24T14:08:25.783Z"
   },
   {
    "duration": 33,
    "start_time": "2022-03-24T14:08:26.612Z"
   },
   {
    "duration": 21,
    "start_time": "2022-03-24T14:08:26.647Z"
   },
   {
    "duration": 28,
    "start_time": "2022-03-24T14:08:26.671Z"
   },
   {
    "duration": 5,
    "start_time": "2022-03-24T14:08:26.701Z"
   },
   {
    "duration": 373,
    "start_time": "2022-03-24T14:08:26.743Z"
   },
   {
    "duration": 24,
    "start_time": "2022-03-24T14:08:27.119Z"
   },
   {
    "duration": 4,
    "start_time": "2022-03-24T14:08:27.146Z"
   },
   {
    "duration": 13,
    "start_time": "2022-03-24T14:08:27.153Z"
   },
   {
    "duration": 3,
    "start_time": "2022-03-24T14:08:27.168Z"
   },
   {
    "duration": 192,
    "start_time": "2022-03-24T14:08:30.096Z"
   },
   {
    "duration": 14,
    "start_time": "2022-03-24T14:08:33.262Z"
   },
   {
    "duration": 13,
    "start_time": "2022-03-24T14:09:11.324Z"
   },
   {
    "duration": 17,
    "start_time": "2022-03-24T14:12:49.211Z"
   },
   {
    "duration": 215,
    "start_time": "2022-03-24T14:13:02.659Z"
   },
   {
    "duration": 213,
    "start_time": "2022-03-24T14:13:08.378Z"
   },
   {
    "duration": 18,
    "start_time": "2022-03-24T14:13:14.847Z"
   },
   {
    "duration": 17,
    "start_time": "2022-03-24T14:13:41.683Z"
   },
   {
    "duration": 17,
    "start_time": "2022-03-24T14:14:07.911Z"
   },
   {
    "duration": 18,
    "start_time": "2022-03-24T14:14:17.771Z"
   },
   {
    "duration": 4,
    "start_time": "2022-03-24T14:14:26.635Z"
   },
   {
    "duration": 4,
    "start_time": "2022-03-24T14:14:26.644Z"
   },
   {
    "duration": 5,
    "start_time": "2022-03-24T14:14:26.651Z"
   },
   {
    "duration": 806,
    "start_time": "2022-03-24T14:14:26.660Z"
   },
   {
    "duration": 24,
    "start_time": "2022-03-24T14:14:27.468Z"
   },
   {
    "duration": 18,
    "start_time": "2022-03-24T14:14:27.495Z"
   },
   {
    "duration": 50,
    "start_time": "2022-03-24T14:14:27.515Z"
   },
   {
    "duration": 5,
    "start_time": "2022-03-24T14:14:27.568Z"
   },
   {
    "duration": 387,
    "start_time": "2022-03-24T14:14:27.576Z"
   },
   {
    "duration": 7,
    "start_time": "2022-03-24T14:14:27.966Z"
   },
   {
    "duration": 11,
    "start_time": "2022-03-24T14:14:27.975Z"
   },
   {
    "duration": 18,
    "start_time": "2022-03-24T14:14:27.988Z"
   },
   {
    "duration": 4,
    "start_time": "2022-03-24T14:14:28.009Z"
   },
   {
    "duration": 215,
    "start_time": "2022-03-24T14:14:28.015Z"
   },
   {
    "duration": 16,
    "start_time": "2022-03-24T14:14:28.232Z"
   },
   {
    "duration": 17,
    "start_time": "2022-03-24T14:14:30.400Z"
   },
   {
    "duration": 16,
    "start_time": "2022-03-24T14:15:13.903Z"
   },
   {
    "duration": 16,
    "start_time": "2022-03-24T14:15:21.683Z"
   },
   {
    "duration": 12,
    "start_time": "2022-03-24T14:17:23.926Z"
   },
   {
    "duration": 6,
    "start_time": "2022-03-24T14:17:47.778Z"
   },
   {
    "duration": 12,
    "start_time": "2022-03-24T14:17:51.146Z"
   },
   {
    "duration": 15,
    "start_time": "2022-03-24T14:17:59.578Z"
   },
   {
    "duration": 61,
    "start_time": "2022-03-24T14:20:17.490Z"
   },
   {
    "duration": 18,
    "start_time": "2022-03-24T14:20:37.018Z"
   },
   {
    "duration": 16,
    "start_time": "2022-03-24T14:20:48.158Z"
   },
   {
    "duration": 18,
    "start_time": "2022-03-24T14:20:50.743Z"
   },
   {
    "duration": 20,
    "start_time": "2022-03-24T14:21:06.675Z"
   },
   {
    "duration": 20,
    "start_time": "2022-03-24T14:21:12.259Z"
   },
   {
    "duration": 7,
    "start_time": "2022-03-24T14:57:11.760Z"
   },
   {
    "duration": 4,
    "start_time": "2022-03-24T14:57:40.533Z"
   },
   {
    "duration": 7,
    "start_time": "2022-03-24T14:58:27.312Z"
   },
   {
    "duration": 5,
    "start_time": "2022-03-24T14:58:46.852Z"
   },
   {
    "duration": 6,
    "start_time": "2022-03-24T14:59:16.859Z"
   },
   {
    "duration": 5,
    "start_time": "2022-03-24T15:00:52.300Z"
   },
   {
    "duration": 3686,
    "start_time": "2022-03-24T15:02:35.962Z"
   },
   {
    "duration": 7,
    "start_time": "2022-03-24T15:03:02.283Z"
   },
   {
    "duration": 6,
    "start_time": "2022-03-24T15:03:48.379Z"
   },
   {
    "duration": 7,
    "start_time": "2022-03-24T15:04:24.211Z"
   },
   {
    "duration": 8,
    "start_time": "2022-03-24T15:05:19.611Z"
   },
   {
    "duration": 8,
    "start_time": "2022-03-24T15:08:52.651Z"
   },
   {
    "duration": 7,
    "start_time": "2022-03-24T15:09:54.974Z"
   },
   {
    "duration": 11,
    "start_time": "2022-03-24T15:16:42.306Z"
   },
   {
    "duration": 7,
    "start_time": "2022-03-24T15:17:00.214Z"
   },
   {
    "duration": 5,
    "start_time": "2022-03-24T15:17:02.382Z"
   },
   {
    "duration": 6,
    "start_time": "2022-03-24T15:17:13.470Z"
   },
   {
    "duration": 8,
    "start_time": "2022-03-24T15:17:24.994Z"
   },
   {
    "duration": 4,
    "start_time": "2022-03-24T15:20:31.941Z"
   },
   {
    "duration": 9,
    "start_time": "2022-03-24T15:20:52.169Z"
   },
   {
    "duration": 10,
    "start_time": "2022-03-24T15:29:02.973Z"
   },
   {
    "duration": 16,
    "start_time": "2022-03-24T15:30:17.030Z"
   },
   {
    "duration": 18,
    "start_time": "2022-03-24T15:30:26.409Z"
   },
   {
    "duration": 248,
    "start_time": "2022-03-24T15:31:12.660Z"
   },
   {
    "duration": 9,
    "start_time": "2022-03-24T15:31:41.356Z"
   },
   {
    "duration": 13,
    "start_time": "2022-03-24T15:31:59.800Z"
   },
   {
    "duration": 261,
    "start_time": "2022-03-24T15:34:13.625Z"
   },
   {
    "duration": 236,
    "start_time": "2022-03-24T15:34:29.936Z"
   },
   {
    "duration": 317,
    "start_time": "2022-03-24T15:34:41.764Z"
   },
   {
    "duration": 5,
    "start_time": "2022-03-24T15:39:11.686Z"
   },
   {
    "duration": 356,
    "start_time": "2022-03-24T15:41:15.648Z"
   },
   {
    "duration": 326,
    "start_time": "2022-03-24T15:54:50.179Z"
   },
   {
    "duration": 435,
    "start_time": "2022-03-24T15:55:12.378Z"
   },
   {
    "duration": 452,
    "start_time": "2022-03-24T15:56:21.795Z"
   },
   {
    "duration": 672,
    "start_time": "2022-03-24T15:56:44.190Z"
   },
   {
    "duration": 826,
    "start_time": "2022-03-24T15:56:49.778Z"
   },
   {
    "duration": 712,
    "start_time": "2022-03-24T15:56:56.010Z"
   },
   {
    "duration": 734,
    "start_time": "2022-03-24T15:57:00.379Z"
   },
   {
    "duration": 448,
    "start_time": "2022-03-24T15:57:11.598Z"
   },
   {
    "duration": 454,
    "start_time": "2022-03-24T15:57:24.658Z"
   },
   {
    "duration": 568,
    "start_time": "2022-03-24T15:57:31.374Z"
   },
   {
    "duration": 462,
    "start_time": "2022-03-24T15:57:35.694Z"
   },
   {
    "duration": 448,
    "start_time": "2022-03-24T15:57:56.266Z"
   },
   {
    "duration": 445,
    "start_time": "2022-03-24T15:58:02.610Z"
   },
   {
    "duration": 448,
    "start_time": "2022-03-24T15:58:07.090Z"
   },
   {
    "duration": 449,
    "start_time": "2022-03-24T15:58:11.474Z"
   },
   {
    "duration": 234,
    "start_time": "2022-03-24T15:59:04.782Z"
   },
   {
    "duration": 10,
    "start_time": "2022-03-24T16:01:32.478Z"
   },
   {
    "duration": 5,
    "start_time": "2022-03-24T16:02:26.266Z"
   },
   {
    "duration": 13,
    "start_time": "2022-03-24T16:02:34.642Z"
   },
   {
    "duration": 549,
    "start_time": "2022-03-25T13:17:47.233Z"
   },
   {
    "duration": 603,
    "start_time": "2022-03-25T13:17:47.785Z"
   },
   {
    "duration": 1021,
    "start_time": "2022-03-25T13:17:48.390Z"
   },
   {
    "duration": 850,
    "start_time": "2022-03-25T13:17:49.415Z"
   },
   {
    "duration": 48,
    "start_time": "2022-03-25T13:17:50.268Z"
   },
   {
    "duration": 19,
    "start_time": "2022-03-25T13:17:50.319Z"
   },
   {
    "duration": 64,
    "start_time": "2022-03-25T13:17:50.341Z"
   },
   {
    "duration": 6,
    "start_time": "2022-03-25T13:17:50.408Z"
   },
   {
    "duration": 392,
    "start_time": "2022-03-25T13:17:50.417Z"
   },
   {
    "duration": 11,
    "start_time": "2022-03-25T13:17:50.814Z"
   },
   {
    "duration": 8,
    "start_time": "2022-03-25T13:17:50.828Z"
   },
   {
    "duration": 10,
    "start_time": "2022-03-25T13:17:50.839Z"
   },
   {
    "duration": 30,
    "start_time": "2022-03-25T13:17:50.853Z"
   },
   {
    "duration": 260,
    "start_time": "2022-03-25T13:17:50.885Z"
   },
   {
    "duration": 16,
    "start_time": "2022-03-25T13:17:51.148Z"
   },
   {
    "duration": 20,
    "start_time": "2022-03-25T13:17:51.181Z"
   },
   {
    "duration": 5,
    "start_time": "2022-03-25T13:17:51.203Z"
   },
   {
    "duration": 23,
    "start_time": "2022-03-25T13:17:51.210Z"
   },
   {
    "duration": 47,
    "start_time": "2022-03-25T13:17:51.235Z"
   },
   {
    "duration": 16,
    "start_time": "2022-03-25T13:17:51.285Z"
   },
   {
    "duration": 11,
    "start_time": "2022-03-25T13:17:51.303Z"
   },
   {
    "duration": 9,
    "start_time": "2022-03-25T13:17:51.317Z"
   },
   {
    "duration": 16,
    "start_time": "2022-03-25T13:17:51.328Z"
   },
   {
    "duration": 7,
    "start_time": "2022-03-25T13:17:51.383Z"
   },
   {
    "duration": 7,
    "start_time": "2022-03-25T13:17:51.392Z"
   },
   {
    "duration": 8,
    "start_time": "2022-03-25T13:17:51.402Z"
   },
   {
    "duration": 5,
    "start_time": "2022-03-25T13:17:51.412Z"
   },
   {
    "duration": 14,
    "start_time": "2022-03-25T13:17:51.421Z"
   },
   {
    "duration": 256,
    "start_time": "2022-03-25T13:17:51.437Z"
   },
   {
    "duration": 680,
    "start_time": "2022-03-25T13:17:51.695Z"
   },
   {
    "duration": 6,
    "start_time": "2022-03-25T13:17:52.382Z"
   },
   {
    "duration": 22,
    "start_time": "2022-03-25T13:17:52.391Z"
   },
   {
    "duration": 420,
    "start_time": "2022-03-25T13:25:15.904Z"
   },
   {
    "duration": 554,
    "start_time": "2022-03-25T13:25:23.521Z"
   },
   {
    "duration": 643,
    "start_time": "2022-03-25T13:26:03.648Z"
   },
   {
    "duration": 408,
    "start_time": "2022-03-25T13:26:18.100Z"
   },
   {
    "duration": 618,
    "start_time": "2022-03-25T13:29:09.144Z"
   },
   {
    "duration": 434,
    "start_time": "2022-03-25T13:29:22.124Z"
   },
   {
    "duration": 419,
    "start_time": "2022-03-25T13:29:27.688Z"
   },
   {
    "duration": 558,
    "start_time": "2022-03-25T13:29:32.509Z"
   },
   {
    "duration": 563,
    "start_time": "2022-03-25T13:29:42.240Z"
   },
   {
    "duration": 616,
    "start_time": "2022-03-25T13:29:56.853Z"
   },
   {
    "duration": 701,
    "start_time": "2022-03-25T13:30:09.244Z"
   },
   {
    "duration": 716,
    "start_time": "2022-03-25T13:30:15.410Z"
   },
   {
    "duration": 318,
    "start_time": "2022-03-25T13:32:35.028Z"
   },
   {
    "duration": 722,
    "start_time": "2022-03-25T13:38:33.261Z"
   },
   {
    "duration": 480,
    "start_time": "2022-03-25T13:38:44.633Z"
   },
   {
    "duration": 734,
    "start_time": "2022-03-25T13:38:53.781Z"
   },
   {
    "duration": 776,
    "start_time": "2022-03-25T13:39:06.977Z"
   },
   {
    "duration": 500,
    "start_time": "2022-03-25T13:39:13.293Z"
   },
   {
    "duration": 679,
    "start_time": "2022-03-25T13:39:19.165Z"
   },
   {
    "duration": 444,
    "start_time": "2022-03-25T13:40:39.285Z"
   },
   {
    "duration": 388,
    "start_time": "2022-03-25T13:40:44.237Z"
   },
   {
    "duration": 485,
    "start_time": "2022-03-25T13:40:54.813Z"
   },
   {
    "duration": 590,
    "start_time": "2022-03-25T13:42:58.145Z"
   },
   {
    "duration": 484,
    "start_time": "2022-03-25T13:46:19.572Z"
   },
   {
    "duration": 383,
    "start_time": "2022-03-25T13:46:28.933Z"
   },
   {
    "duration": 389,
    "start_time": "2022-03-25T13:46:36.558Z"
   },
   {
    "duration": 374,
    "start_time": "2022-03-25T13:46:49.544Z"
   },
   {
    "duration": 431,
    "start_time": "2022-03-25T13:46:58.054Z"
   },
   {
    "duration": 379,
    "start_time": "2022-03-25T13:47:43.132Z"
   },
   {
    "duration": 786,
    "start_time": "2022-03-25T13:48:02.013Z"
   },
   {
    "duration": 443,
    "start_time": "2022-03-25T13:48:22.300Z"
   },
   {
    "duration": 421,
    "start_time": "2022-03-25T13:48:35.824Z"
   },
   {
    "duration": 427,
    "start_time": "2022-03-25T13:48:45.764Z"
   },
   {
    "duration": 616,
    "start_time": "2022-03-25T13:48:57.237Z"
   },
   {
    "duration": 760,
    "start_time": "2022-03-25T13:49:06.528Z"
   },
   {
    "duration": 575,
    "start_time": "2022-03-25T13:49:28.653Z"
   },
   {
    "duration": 415,
    "start_time": "2022-03-25T13:49:38.501Z"
   },
   {
    "duration": 407,
    "start_time": "2022-03-25T13:49:46.728Z"
   },
   {
    "duration": 626,
    "start_time": "2022-03-25T13:49:54.477Z"
   },
   {
    "duration": 159,
    "start_time": "2022-03-25T13:52:42.092Z"
   },
   {
    "duration": 5,
    "start_time": "2022-03-25T13:53:27.363Z"
   },
   {
    "duration": 5,
    "start_time": "2022-03-25T13:53:33.880Z"
   },
   {
    "duration": 4,
    "start_time": "2022-03-25T13:54:05.112Z"
   },
   {
    "duration": 9,
    "start_time": "2022-03-25T13:56:28.387Z"
   },
   {
    "duration": 9,
    "start_time": "2022-03-25T13:56:34.035Z"
   },
   {
    "duration": 169,
    "start_time": "2022-03-25T13:57:12.443Z"
   },
   {
    "duration": 30,
    "start_time": "2022-03-25T13:57:18.764Z"
   },
   {
    "duration": 9,
    "start_time": "2022-03-25T13:59:17.368Z"
   },
   {
    "duration": 56,
    "start_time": "2022-03-25T13:59:17.380Z"
   },
   {
    "duration": 531,
    "start_time": "2022-03-25T14:02:47.251Z"
   },
   {
    "duration": 528,
    "start_time": "2022-03-25T14:03:48.677Z"
   },
   {
    "duration": 277,
    "start_time": "2022-03-25T14:04:57.198Z"
   },
   {
    "duration": 247,
    "start_time": "2022-03-25T14:05:30.185Z"
   },
   {
    "duration": 338,
    "start_time": "2022-03-25T14:07:02.401Z"
   },
   {
    "duration": 243,
    "start_time": "2022-03-25T14:07:39.288Z"
   },
   {
    "duration": 227,
    "start_time": "2022-03-25T14:07:53.988Z"
   },
   {
    "duration": 246,
    "start_time": "2022-03-25T14:08:02.128Z"
   },
   {
    "duration": 412,
    "start_time": "2022-03-25T14:08:19.688Z"
   },
   {
    "duration": 266,
    "start_time": "2022-03-25T14:10:11.316Z"
   },
   {
    "duration": 66,
    "start_time": "2022-03-25T14:22:07.115Z"
   },
   {
    "duration": 14,
    "start_time": "2022-03-25T14:23:40.790Z"
   },
   {
    "duration": 348,
    "start_time": "2022-03-25T14:24:02.459Z"
   },
   {
    "duration": 334,
    "start_time": "2022-03-25T14:24:47.251Z"
   },
   {
    "duration": 5,
    "start_time": "2022-03-25T14:25:21.499Z"
   },
   {
    "duration": 10,
    "start_time": "2022-03-25T14:27:30.275Z"
   },
   {
    "duration": 248,
    "start_time": "2022-03-25T14:27:37.479Z"
   },
   {
    "duration": 262,
    "start_time": "2022-03-25T14:28:50.707Z"
   },
   {
    "duration": 246,
    "start_time": "2022-03-25T14:29:12.615Z"
   },
   {
    "duration": 11,
    "start_time": "2022-03-25T14:30:09.410Z"
   },
   {
    "duration": 6,
    "start_time": "2022-03-25T14:35:02.192Z"
   },
   {
    "duration": 15,
    "start_time": "2022-03-25T15:17:01.570Z"
   },
   {
    "duration": 14,
    "start_time": "2022-03-26T07:31:02.982Z"
   },
   {
    "duration": 65,
    "start_time": "2022-03-26T07:49:43.796Z"
   },
   {
    "duration": 530,
    "start_time": "2022-03-26T07:49:48.429Z"
   },
   {
    "duration": 627,
    "start_time": "2022-03-26T07:49:48.961Z"
   },
   {
    "duration": 1338,
    "start_time": "2022-03-26T07:49:49.591Z"
   },
   {
    "duration": 1187,
    "start_time": "2022-03-26T07:49:50.933Z"
   },
   {
    "duration": 40,
    "start_time": "2022-03-26T07:49:52.124Z"
   },
   {
    "duration": 20,
    "start_time": "2022-03-26T07:49:52.166Z"
   },
   {
    "duration": 29,
    "start_time": "2022-03-26T07:49:52.188Z"
   },
   {
    "duration": 25,
    "start_time": "2022-03-26T07:49:52.219Z"
   },
   {
    "duration": 396,
    "start_time": "2022-03-26T07:49:52.247Z"
   },
   {
    "duration": 9,
    "start_time": "2022-03-26T07:49:52.647Z"
   },
   {
    "duration": 7,
    "start_time": "2022-03-26T07:49:52.658Z"
   },
   {
    "duration": 14,
    "start_time": "2022-03-26T07:49:52.668Z"
   },
   {
    "duration": 4,
    "start_time": "2022-03-26T07:49:52.685Z"
   },
   {
    "duration": 223,
    "start_time": "2022-03-26T07:49:52.692Z"
   },
   {
    "duration": 26,
    "start_time": "2022-03-26T07:49:52.918Z"
   },
   {
    "duration": 19,
    "start_time": "2022-03-26T07:49:52.946Z"
   },
   {
    "duration": 5,
    "start_time": "2022-03-26T07:49:52.967Z"
   },
   {
    "duration": 19,
    "start_time": "2022-03-26T07:49:52.974Z"
   },
   {
    "duration": 62,
    "start_time": "2022-03-26T07:49:52.996Z"
   },
   {
    "duration": 18,
    "start_time": "2022-03-26T07:49:53.061Z"
   },
   {
    "duration": 15,
    "start_time": "2022-03-26T07:49:53.082Z"
   },
   {
    "duration": 10,
    "start_time": "2022-03-26T07:49:53.100Z"
   },
   {
    "duration": 24,
    "start_time": "2022-03-26T07:49:53.145Z"
   },
   {
    "duration": 7,
    "start_time": "2022-03-26T07:49:53.172Z"
   },
   {
    "duration": 7,
    "start_time": "2022-03-26T07:49:53.181Z"
   },
   {
    "duration": 9,
    "start_time": "2022-03-26T07:49:53.190Z"
   },
   {
    "duration": 3,
    "start_time": "2022-03-26T07:49:53.201Z"
   },
   {
    "duration": 39,
    "start_time": "2022-03-26T07:49:53.209Z"
   },
   {
    "duration": 448,
    "start_time": "2022-03-26T07:49:53.250Z"
   },
   {
    "duration": 404,
    "start_time": "2022-03-26T07:49:53.701Z"
   },
   {
    "duration": 458,
    "start_time": "2022-03-26T07:49:54.108Z"
   },
   {
    "duration": 550,
    "start_time": "2022-03-26T07:49:54.568Z"
   },
   {
    "duration": 6,
    "start_time": "2022-03-26T07:49:55.120Z"
   },
   {
    "duration": 14,
    "start_time": "2022-03-26T07:49:55.142Z"
   },
   {
    "duration": 10,
    "start_time": "2022-03-26T07:49:55.159Z"
   },
   {
    "duration": 445,
    "start_time": "2022-03-26T07:49:55.172Z"
   },
   {
    "duration": 395,
    "start_time": "2022-03-26T07:49:55.619Z"
   },
   {
    "duration": 28,
    "start_time": "2022-03-26T07:49:56.016Z"
   },
   {
    "duration": 260,
    "start_time": "2022-03-26T07:49:56.046Z"
   },
   {
    "duration": 10,
    "start_time": "2022-03-26T07:49:56.308Z"
   },
   {
    "duration": 276,
    "start_time": "2022-03-26T07:49:56.321Z"
   },
   {
    "duration": 10,
    "start_time": "2022-03-26T07:49:56.599Z"
   },
   {
    "duration": 31,
    "start_time": "2022-03-26T07:49:56.612Z"
   },
   {
    "duration": 11,
    "start_time": "2022-03-26T07:49:56.645Z"
   },
   {
    "duration": 10,
    "start_time": "2022-03-26T07:50:25.544Z"
   },
   {
    "duration": 7,
    "start_time": "2022-03-26T07:57:27.316Z"
   },
   {
    "duration": 102,
    "start_time": "2022-03-26T07:57:49.940Z"
   },
   {
    "duration": 36,
    "start_time": "2022-03-26T07:57:56.623Z"
   },
   {
    "duration": 83,
    "start_time": "2022-03-26T07:58:30.656Z"
   },
   {
    "duration": 6,
    "start_time": "2022-03-26T07:58:42.668Z"
   },
   {
    "duration": 145412,
    "start_time": "2022-03-26T07:59:02.520Z"
   },
   {
    "duration": 1790,
    "start_time": "2022-03-26T08:10:38.926Z"
   },
   {
    "duration": 1405,
    "start_time": "2022-03-26T08:11:23.938Z"
   },
   {
    "duration": 16,
    "start_time": "2022-03-26T08:11:50.534Z"
   },
   {
    "duration": 0,
    "start_time": "2022-03-26T08:16:52.814Z"
   },
   {
    "duration": 3,
    "start_time": "2022-03-26T08:16:56.705Z"
   },
   {
    "duration": 3,
    "start_time": "2022-03-26T08:16:56.714Z"
   },
   {
    "duration": 7,
    "start_time": "2022-03-26T08:16:56.720Z"
   },
   {
    "duration": 834,
    "start_time": "2022-03-26T08:16:56.729Z"
   },
   {
    "duration": 25,
    "start_time": "2022-03-26T08:16:57.566Z"
   },
   {
    "duration": 19,
    "start_time": "2022-03-26T08:16:57.593Z"
   },
   {
    "duration": 52,
    "start_time": "2022-03-26T08:16:57.616Z"
   },
   {
    "duration": 5,
    "start_time": "2022-03-26T08:16:57.670Z"
   },
   {
    "duration": 389,
    "start_time": "2022-03-26T08:16:57.677Z"
   },
   {
    "duration": 9,
    "start_time": "2022-03-26T08:16:58.068Z"
   },
   {
    "duration": 5,
    "start_time": "2022-03-26T08:16:58.079Z"
   },
   {
    "duration": 16,
    "start_time": "2022-03-26T08:16:58.087Z"
   },
   {
    "duration": 37,
    "start_time": "2022-03-26T08:16:58.107Z"
   },
   {
    "duration": 198,
    "start_time": "2022-03-26T08:16:58.147Z"
   },
   {
    "duration": 12,
    "start_time": "2022-03-26T08:16:58.348Z"
   },
   {
    "duration": 15,
    "start_time": "2022-03-26T08:16:58.362Z"
   },
   {
    "duration": 5,
    "start_time": "2022-03-26T08:16:58.379Z"
   },
   {
    "duration": 18,
    "start_time": "2022-03-26T08:16:58.386Z"
   },
   {
    "duration": 23,
    "start_time": "2022-03-26T08:16:58.442Z"
   },
   {
    "duration": 13,
    "start_time": "2022-03-26T08:16:58.468Z"
   },
   {
    "duration": 12,
    "start_time": "2022-03-26T08:16:58.483Z"
   },
   {
    "duration": 47,
    "start_time": "2022-03-26T08:16:58.496Z"
   },
   {
    "duration": 12,
    "start_time": "2022-03-26T08:16:58.545Z"
   },
   {
    "duration": 8,
    "start_time": "2022-03-26T08:16:58.560Z"
   },
   {
    "duration": 8,
    "start_time": "2022-03-26T08:16:58.570Z"
   },
   {
    "duration": 8,
    "start_time": "2022-03-26T08:16:58.580Z"
   },
   {
    "duration": 3,
    "start_time": "2022-03-26T08:16:58.592Z"
   },
   {
    "duration": 50,
    "start_time": "2022-03-26T08:16:58.597Z"
   },
   {
    "duration": 436,
    "start_time": "2022-03-26T08:16:58.651Z"
   },
   {
    "duration": 395,
    "start_time": "2022-03-26T08:16:59.089Z"
   },
   {
    "duration": 557,
    "start_time": "2022-03-26T08:16:59.489Z"
   },
   {
    "duration": 475,
    "start_time": "2022-03-26T08:17:00.048Z"
   },
   {
    "duration": 6,
    "start_time": "2022-03-26T08:17:00.525Z"
   },
   {
    "duration": 14,
    "start_time": "2022-03-26T08:17:00.544Z"
   },
   {
    "duration": 19,
    "start_time": "2022-03-26T08:17:00.560Z"
   },
   {
    "duration": 445,
    "start_time": "2022-03-26T08:17:00.582Z"
   },
   {
    "duration": 300,
    "start_time": "2022-03-26T08:17:01.030Z"
   },
   {
    "duration": 26,
    "start_time": "2022-03-26T08:17:01.332Z"
   },
   {
    "duration": 275,
    "start_time": "2022-03-26T08:17:01.360Z"
   },
   {
    "duration": 12,
    "start_time": "2022-03-26T08:17:01.642Z"
   },
   {
    "duration": 282,
    "start_time": "2022-03-26T08:17:01.656Z"
   },
   {
    "duration": 11,
    "start_time": "2022-03-26T08:17:01.944Z"
   },
   {
    "duration": 9,
    "start_time": "2022-03-26T08:17:01.957Z"
   },
   {
    "duration": 19,
    "start_time": "2022-03-26T08:17:01.968Z"
   },
   {
    "duration": 14,
    "start_time": "2022-03-26T08:17:01.991Z"
   },
   {
    "duration": 17,
    "start_time": "2022-03-26T08:17:08.449Z"
   },
   {
    "duration": 325,
    "start_time": "2022-03-26T08:17:11.989Z"
   },
   {
    "duration": 5,
    "start_time": "2022-03-26T08:19:44.313Z"
   },
   {
    "duration": 111,
    "start_time": "2022-03-26T08:20:20.359Z"
   },
   {
    "duration": 1939,
    "start_time": "2022-03-26T08:20:39.281Z"
   },
   {
    "duration": 5,
    "start_time": "2022-03-26T08:20:41.223Z"
   },
   {
    "duration": 607,
    "start_time": "2022-03-26T08:20:41.230Z"
   },
   {
    "duration": 818,
    "start_time": "2022-03-26T08:20:41.840Z"
   },
   {
    "duration": 25,
    "start_time": "2022-03-26T08:20:42.661Z"
   },
   {
    "duration": 19,
    "start_time": "2022-03-26T08:20:42.688Z"
   },
   {
    "duration": 64,
    "start_time": "2022-03-26T08:20:42.709Z"
   },
   {
    "duration": 6,
    "start_time": "2022-03-26T08:20:42.776Z"
   },
   {
    "duration": 387,
    "start_time": "2022-03-26T08:20:42.784Z"
   },
   {
    "duration": 9,
    "start_time": "2022-03-26T08:20:43.175Z"
   },
   {
    "duration": 6,
    "start_time": "2022-03-26T08:20:43.186Z"
   },
   {
    "duration": 12,
    "start_time": "2022-03-26T08:20:43.194Z"
   },
   {
    "duration": 37,
    "start_time": "2022-03-26T08:20:43.208Z"
   },
   {
    "duration": 201,
    "start_time": "2022-03-26T08:20:43.247Z"
   },
   {
    "duration": 14,
    "start_time": "2022-03-26T08:20:43.450Z"
   },
   {
    "duration": 19,
    "start_time": "2022-03-26T08:20:43.466Z"
   },
   {
    "duration": 6,
    "start_time": "2022-03-26T08:20:43.488Z"
   },
   {
    "duration": 61,
    "start_time": "2022-03-26T08:20:43.496Z"
   },
   {
    "duration": 23,
    "start_time": "2022-03-26T08:20:43.559Z"
   },
   {
    "duration": 15,
    "start_time": "2022-03-26T08:20:43.584Z"
   },
   {
    "duration": 45,
    "start_time": "2022-03-26T08:20:43.601Z"
   },
   {
    "duration": 9,
    "start_time": "2022-03-26T08:20:43.648Z"
   },
   {
    "duration": 12,
    "start_time": "2022-03-26T08:20:43.659Z"
   },
   {
    "duration": 7,
    "start_time": "2022-03-26T08:20:43.673Z"
   },
   {
    "duration": 7,
    "start_time": "2022-03-26T08:20:43.682Z"
   },
   {
    "duration": 56,
    "start_time": "2022-03-26T08:20:43.691Z"
   },
   {
    "duration": 3,
    "start_time": "2022-03-26T08:20:43.750Z"
   },
   {
    "duration": 11,
    "start_time": "2022-03-26T08:20:43.759Z"
   },
   {
    "duration": 685,
    "start_time": "2022-03-26T08:20:43.773Z"
   },
   {
    "duration": 599,
    "start_time": "2022-03-26T08:20:44.461Z"
   },
   {
    "duration": 665,
    "start_time": "2022-03-26T08:20:45.063Z"
   },
   {
    "duration": 748,
    "start_time": "2022-03-26T08:20:45.731Z"
   },
   {
    "duration": 7,
    "start_time": "2022-03-26T08:20:46.482Z"
   },
   {
    "duration": 32,
    "start_time": "2022-03-26T08:20:46.491Z"
   },
   {
    "duration": 23,
    "start_time": "2022-03-26T08:20:46.526Z"
   },
   {
    "duration": 430,
    "start_time": "2022-03-26T08:20:46.552Z"
   },
   {
    "duration": 280,
    "start_time": "2022-03-26T08:20:46.985Z"
   },
   {
    "duration": 19,
    "start_time": "2022-03-26T08:20:47.267Z"
   },
   {
    "duration": 284,
    "start_time": "2022-03-26T08:20:47.288Z"
   },
   {
    "duration": 10,
    "start_time": "2022-03-26T08:20:47.574Z"
   },
   {
    "duration": 282,
    "start_time": "2022-03-26T08:20:47.586Z"
   },
   {
    "duration": 11,
    "start_time": "2022-03-26T08:20:47.870Z"
   },
   {
    "duration": 12,
    "start_time": "2022-03-26T08:20:47.883Z"
   },
   {
    "duration": 17,
    "start_time": "2022-03-26T08:20:47.897Z"
   },
   {
    "duration": 30,
    "start_time": "2022-03-26T08:20:47.916Z"
   },
   {
    "duration": 22,
    "start_time": "2022-03-26T08:20:47.948Z"
   },
   {
    "duration": 4,
    "start_time": "2022-03-26T08:20:47.973Z"
   },
   {
    "duration": 8,
    "start_time": "2022-03-26T08:20:47.979Z"
   },
   {
    "duration": 109,
    "start_time": "2022-03-26T08:21:01.608Z"
   },
   {
    "duration": 0,
    "start_time": "2022-03-26T08:23:55.299Z"
   },
   {
    "duration": 307,
    "start_time": "2022-03-26T08:24:02.173Z"
   },
   {
    "duration": 47,
    "start_time": "2022-03-26T08:27:04.624Z"
   },
   {
    "duration": 66,
    "start_time": "2022-03-26T08:27:11.648Z"
   },
   {
    "duration": 8876,
    "start_time": "2022-03-26T08:28:33.556Z"
   },
   {
    "duration": 3232,
    "start_time": "2022-03-26T08:30:28.960Z"
   },
   {
    "duration": 4,
    "start_time": "2022-03-26T08:30:41.251Z"
   },
   {
    "duration": 10,
    "start_time": "2022-03-26T08:32:07.307Z"
   },
   {
    "duration": 11,
    "start_time": "2022-03-26T08:32:19.255Z"
   },
   {
    "duration": 16,
    "start_time": "2022-03-26T08:32:25.508Z"
   },
   {
    "duration": 21,
    "start_time": "2022-03-26T08:33:52.739Z"
   },
   {
    "duration": 6,
    "start_time": "2022-03-26T08:34:43.475Z"
   },
   {
    "duration": 7403,
    "start_time": "2022-03-26T08:34:57.023Z"
   },
   {
    "duration": 7,
    "start_time": "2022-03-26T08:37:41.003Z"
   },
   {
    "duration": 1751,
    "start_time": "2022-03-26T11:28:58.922Z"
   },
   {
    "duration": 116,
    "start_time": "2022-03-26T11:29:15.598Z"
   },
   {
    "duration": 356,
    "start_time": "2022-03-26T11:29:20.026Z"
   },
   {
    "duration": 15,
    "start_time": "2022-03-26T11:29:20.392Z"
   },
   {
    "duration": 20,
    "start_time": "2022-03-26T11:29:20.411Z"
   },
   {
    "duration": 789,
    "start_time": "2022-03-26T11:29:20.438Z"
   },
   {
    "duration": 27,
    "start_time": "2022-03-26T11:29:21.229Z"
   },
   {
    "duration": 41,
    "start_time": "2022-03-26T11:29:21.258Z"
   },
   {
    "duration": 26,
    "start_time": "2022-03-26T11:29:21.302Z"
   },
   {
    "duration": 28,
    "start_time": "2022-03-26T11:29:21.331Z"
   },
   {
    "duration": 374,
    "start_time": "2022-03-26T11:29:21.361Z"
   },
   {
    "duration": 9,
    "start_time": "2022-03-26T11:29:21.739Z"
   },
   {
    "duration": 7,
    "start_time": "2022-03-26T11:29:21.750Z"
   },
   {
    "duration": 24,
    "start_time": "2022-03-26T11:29:21.760Z"
   },
   {
    "duration": 4,
    "start_time": "2022-03-26T11:29:21.789Z"
   },
   {
    "duration": 205,
    "start_time": "2022-03-26T11:29:21.795Z"
   },
   {
    "duration": 12,
    "start_time": "2022-03-26T11:29:22.002Z"
   },
   {
    "duration": 19,
    "start_time": "2022-03-26T11:29:22.017Z"
   },
   {
    "duration": 5,
    "start_time": "2022-03-26T11:29:22.038Z"
   },
   {
    "duration": 45,
    "start_time": "2022-03-26T11:29:22.045Z"
   },
   {
    "duration": 21,
    "start_time": "2022-03-26T11:29:22.092Z"
   },
   {
    "duration": 13,
    "start_time": "2022-03-26T11:29:22.115Z"
   },
   {
    "duration": 12,
    "start_time": "2022-03-26T11:29:22.130Z"
   },
   {
    "duration": 9,
    "start_time": "2022-03-26T11:29:22.183Z"
   },
   {
    "duration": 19,
    "start_time": "2022-03-26T11:29:22.194Z"
   },
   {
    "duration": 7,
    "start_time": "2022-03-26T11:29:22.216Z"
   },
   {
    "duration": 8,
    "start_time": "2022-03-26T11:29:22.225Z"
   },
   {
    "duration": 7,
    "start_time": "2022-03-26T11:29:22.236Z"
   },
   {
    "duration": 37,
    "start_time": "2022-03-26T11:29:22.245Z"
   },
   {
    "duration": 12,
    "start_time": "2022-03-26T11:29:22.291Z"
   },
   {
    "duration": 468,
    "start_time": "2022-03-26T11:29:22.306Z"
   },
   {
    "duration": 367,
    "start_time": "2022-03-26T11:29:22.776Z"
   },
   {
    "duration": 496,
    "start_time": "2022-03-26T11:29:23.145Z"
   },
   {
    "duration": 452,
    "start_time": "2022-03-26T11:29:23.643Z"
   },
   {
    "duration": 6,
    "start_time": "2022-03-26T11:29:24.097Z"
   },
   {
    "duration": 83,
    "start_time": "2022-03-26T11:29:24.105Z"
   },
   {
    "duration": 22,
    "start_time": "2022-03-26T11:29:24.190Z"
   },
   {
    "duration": 404,
    "start_time": "2022-03-26T11:29:24.214Z"
   },
   {
    "duration": 261,
    "start_time": "2022-03-26T11:29:24.621Z"
   },
   {
    "duration": 15,
    "start_time": "2022-03-26T11:29:24.884Z"
   },
   {
    "duration": 261,
    "start_time": "2022-03-26T11:29:24.901Z"
   },
   {
    "duration": 22,
    "start_time": "2022-03-26T11:29:25.164Z"
   },
   {
    "duration": 243,
    "start_time": "2022-03-26T11:29:25.189Z"
   },
   {
    "duration": 9,
    "start_time": "2022-03-26T11:29:25.434Z"
   },
   {
    "duration": 9,
    "start_time": "2022-03-26T11:29:25.445Z"
   },
   {
    "duration": 30,
    "start_time": "2022-03-26T11:29:25.456Z"
   },
   {
    "duration": 12,
    "start_time": "2022-03-26T11:29:25.488Z"
   },
   {
    "duration": 10,
    "start_time": "2022-03-26T11:29:25.503Z"
   },
   {
    "duration": 41,
    "start_time": "2022-03-26T11:29:25.774Z"
   },
   {
    "duration": 2422,
    "start_time": "2022-03-26T11:29:46.298Z"
   },
   {
    "duration": 20,
    "start_time": "2022-03-26T11:30:13.692Z"
   },
   {
    "duration": 21,
    "start_time": "2022-03-26T12:14:36.533Z"
   },
   {
    "duration": 20,
    "start_time": "2022-03-26T12:19:19.460Z"
   },
   {
    "duration": 16,
    "start_time": "2022-03-26T12:19:29.592Z"
   },
   {
    "duration": 10,
    "start_time": "2022-03-26T12:19:53.528Z"
   },
   {
    "duration": 12,
    "start_time": "2022-03-26T12:20:10.115Z"
   },
   {
    "duration": 2120,
    "start_time": "2022-03-26T12:21:24.084Z"
   },
   {
    "duration": 2301,
    "start_time": "2022-03-26T12:21:53.620Z"
   },
   {
    "duration": 2104,
    "start_time": "2022-03-26T12:22:06.835Z"
   },
   {
    "duration": 2214,
    "start_time": "2022-03-26T12:22:51.620Z"
   },
   {
    "duration": 39,
    "start_time": "2022-03-26T12:23:04.543Z"
   },
   {
    "duration": 12,
    "start_time": "2022-03-26T12:23:13.067Z"
   },
   {
    "duration": 5,
    "start_time": "2022-03-26T12:23:15.972Z"
   },
   {
    "duration": 11,
    "start_time": "2022-03-26T12:26:29.575Z"
   },
   {
    "duration": 19,
    "start_time": "2022-03-26T12:26:33.107Z"
   },
   {
    "duration": 14,
    "start_time": "2022-03-26T12:26:35.823Z"
   },
   {
    "duration": 6,
    "start_time": "2022-03-26T12:29:49.431Z"
   },
   {
    "duration": 10,
    "start_time": "2022-03-26T12:30:46.366Z"
   },
   {
    "duration": 2422,
    "start_time": "2022-03-26T12:30:58.289Z"
   },
   {
    "duration": 5,
    "start_time": "2022-03-26T12:31:42.494Z"
   },
   {
    "duration": 2347,
    "start_time": "2022-03-26T12:31:45.414Z"
   },
   {
    "duration": 7,
    "start_time": "2022-03-26T12:33:06.851Z"
   },
   {
    "duration": 5,
    "start_time": "2022-03-26T12:33:19.278Z"
   },
   {
    "duration": 3,
    "start_time": "2022-03-26T12:33:50.051Z"
   },
   {
    "duration": 2341,
    "start_time": "2022-03-26T12:33:54.071Z"
   },
   {
    "duration": 187,
    "start_time": "2022-03-26T12:34:39.643Z"
   },
   {
    "duration": 5,
    "start_time": "2022-03-26T12:34:56.742Z"
   },
   {
    "duration": 7,
    "start_time": "2022-03-26T12:34:59.690Z"
   },
   {
    "duration": 186,
    "start_time": "2022-03-26T12:35:06.646Z"
   },
   {
    "duration": 5,
    "start_time": "2022-03-26T12:35:13.815Z"
   },
   {
    "duration": 3063,
    "start_time": "2022-03-26T12:35:16.251Z"
   },
   {
    "duration": 5,
    "start_time": "2022-03-26T12:36:05.038Z"
   },
   {
    "duration": 2341,
    "start_time": "2022-03-26T12:36:09.862Z"
   },
   {
    "duration": 4,
    "start_time": "2022-03-26T12:36:32.807Z"
   },
   {
    "duration": 2717,
    "start_time": "2022-03-26T12:36:35.842Z"
   },
   {
    "duration": 5,
    "start_time": "2022-03-26T12:36:45.490Z"
   },
   {
    "duration": 11,
    "start_time": "2022-03-26T12:37:01.062Z"
   },
   {
    "duration": 1793,
    "start_time": "2022-03-26T12:37:17.186Z"
   },
   {
    "duration": 7,
    "start_time": "2022-03-26T12:37:48.806Z"
   },
   {
    "duration": 5,
    "start_time": "2022-03-26T12:38:23.418Z"
   },
   {
    "duration": 2058,
    "start_time": "2022-03-26T12:38:35.366Z"
   },
   {
    "duration": 5,
    "start_time": "2022-03-26T12:39:08.454Z"
   },
   {
    "duration": 6,
    "start_time": "2022-03-26T12:39:12.314Z"
   },
   {
    "duration": 2239,
    "start_time": "2022-03-26T12:39:24.942Z"
   },
   {
    "duration": 5,
    "start_time": "2022-03-26T12:39:43.418Z"
   },
   {
    "duration": 2596,
    "start_time": "2022-03-26T12:39:48.206Z"
   },
   {
    "duration": 6,
    "start_time": "2022-03-26T12:40:26.526Z"
   },
   {
    "duration": 2503,
    "start_time": "2022-03-26T12:40:29.362Z"
   },
   {
    "duration": 7,
    "start_time": "2022-03-26T12:41:02.551Z"
   },
   {
    "duration": 2621,
    "start_time": "2022-03-26T12:41:05.619Z"
   },
   {
    "duration": 6,
    "start_time": "2022-03-26T12:41:36.349Z"
   },
   {
    "duration": 2588,
    "start_time": "2022-03-26T12:41:39.221Z"
   },
   {
    "duration": 6,
    "start_time": "2022-03-26T12:42:38.093Z"
   },
   {
    "duration": 21,
    "start_time": "2022-03-26T12:42:41.290Z"
   },
   {
    "duration": 6,
    "start_time": "2022-03-26T12:42:47.110Z"
   },
   {
    "duration": 2652,
    "start_time": "2022-03-26T12:42:49.814Z"
   },
   {
    "duration": 5,
    "start_time": "2022-03-26T12:43:00.658Z"
   },
   {
    "duration": 2837,
    "start_time": "2022-03-26T12:43:03.392Z"
   },
   {
    "duration": 6,
    "start_time": "2022-03-26T12:43:42.133Z"
   },
   {
    "duration": 2641,
    "start_time": "2022-03-26T12:43:44.665Z"
   },
   {
    "duration": 6,
    "start_time": "2022-03-26T12:44:23.733Z"
   },
   {
    "duration": 2507,
    "start_time": "2022-03-26T12:44:26.840Z"
   },
   {
    "duration": 6,
    "start_time": "2022-03-26T12:44:36.373Z"
   },
   {
    "duration": 2575,
    "start_time": "2022-03-26T12:44:39.421Z"
   },
   {
    "duration": 5,
    "start_time": "2022-03-26T12:44:58.933Z"
   },
   {
    "duration": 3183,
    "start_time": "2022-03-26T12:45:02.109Z"
   },
   {
    "duration": 5,
    "start_time": "2022-03-26T12:45:24.177Z"
   },
   {
    "duration": 5,
    "start_time": "2022-03-26T12:45:26.986Z"
   },
   {
    "duration": 6,
    "start_time": "2022-03-26T12:45:42.200Z"
   },
   {
    "duration": 7,
    "start_time": "2022-03-26T12:45:45.033Z"
   },
   {
    "duration": 6,
    "start_time": "2022-03-26T12:46:11.469Z"
   },
   {
    "duration": 4,
    "start_time": "2022-03-26T12:46:21.397Z"
   },
   {
    "duration": 7,
    "start_time": "2022-03-26T12:46:24.017Z"
   },
   {
    "duration": 5,
    "start_time": "2022-03-26T12:46:45.148Z"
   },
   {
    "duration": 7,
    "start_time": "2022-03-26T12:46:47.701Z"
   },
   {
    "duration": 5,
    "start_time": "2022-03-26T12:47:00.265Z"
   },
   {
    "duration": 6,
    "start_time": "2022-03-26T12:47:03.129Z"
   },
   {
    "duration": 7,
    "start_time": "2022-03-26T12:47:15.273Z"
   },
   {
    "duration": 5,
    "start_time": "2022-03-26T12:47:33.145Z"
   },
   {
    "duration": 6,
    "start_time": "2022-03-26T12:47:35.605Z"
   },
   {
    "duration": 5,
    "start_time": "2022-03-26T12:47:42.964Z"
   },
   {
    "duration": 6,
    "start_time": "2022-03-26T12:47:45.772Z"
   },
   {
    "duration": 5,
    "start_time": "2022-03-26T12:47:53.045Z"
   },
   {
    "duration": 2297,
    "start_time": "2022-03-26T12:47:55.196Z"
   },
   {
    "duration": 143,
    "start_time": "2022-03-26T12:48:16.208Z"
   },
   {
    "duration": 5,
    "start_time": "2022-03-26T12:48:25.709Z"
   },
   {
    "duration": 2524,
    "start_time": "2022-03-26T12:48:28.684Z"
   },
   {
    "duration": 6,
    "start_time": "2022-03-26T12:48:40.796Z"
   },
   {
    "duration": 2519,
    "start_time": "2022-03-26T12:48:43.480Z"
   },
   {
    "duration": 5,
    "start_time": "2022-03-26T12:49:24.240Z"
   },
   {
    "duration": 2238,
    "start_time": "2022-03-26T12:49:27.077Z"
   },
   {
    "duration": 5,
    "start_time": "2022-03-26T12:49:43.669Z"
   },
   {
    "duration": 2549,
    "start_time": "2022-03-26T12:49:47.081Z"
   },
   {
    "duration": 5,
    "start_time": "2022-03-26T12:49:55.625Z"
   },
   {
    "duration": 6,
    "start_time": "2022-03-26T12:49:58.257Z"
   },
   {
    "duration": 5,
    "start_time": "2022-03-26T12:50:08.513Z"
   },
   {
    "duration": 3031,
    "start_time": "2022-03-26T12:50:11.473Z"
   },
   {
    "duration": 5,
    "start_time": "2022-03-26T12:50:28.796Z"
   },
   {
    "duration": 2453,
    "start_time": "2022-03-26T12:50:31.173Z"
   },
   {
    "duration": 5,
    "start_time": "2022-03-26T12:51:13.897Z"
   },
   {
    "duration": 5,
    "start_time": "2022-03-26T12:51:17.513Z"
   },
   {
    "duration": 2444,
    "start_time": "2022-03-26T12:51:19.924Z"
   },
   {
    "duration": 5,
    "start_time": "2022-03-26T12:51:27.441Z"
   },
   {
    "duration": 2306,
    "start_time": "2022-03-26T12:51:31.082Z"
   },
   {
    "duration": 5,
    "start_time": "2022-03-26T12:51:41.456Z"
   },
   {
    "duration": 6,
    "start_time": "2022-03-26T12:51:43.609Z"
   },
   {
    "duration": 5,
    "start_time": "2022-03-26T12:52:13.559Z"
   },
   {
    "duration": 6,
    "start_time": "2022-03-26T12:52:16.717Z"
   },
   {
    "duration": 5,
    "start_time": "2022-03-26T12:52:29.326Z"
   },
   {
    "duration": 2523,
    "start_time": "2022-03-26T12:52:32.177Z"
   },
   {
    "duration": 6,
    "start_time": "2022-03-26T12:52:44.820Z"
   },
   {
    "duration": 16,
    "start_time": "2022-03-26T12:52:47.997Z"
   },
   {
    "duration": 154,
    "start_time": "2022-03-26T12:53:18.849Z"
   },
   {
    "duration": 148,
    "start_time": "2022-03-26T12:53:25.196Z"
   },
   {
    "duration": 5,
    "start_time": "2022-03-26T12:53:44.186Z"
   },
   {
    "duration": 165,
    "start_time": "2022-03-26T12:53:47.544Z"
   },
   {
    "duration": 5,
    "start_time": "2022-03-26T12:54:24.933Z"
   },
   {
    "duration": 2358,
    "start_time": "2022-03-26T12:54:27.696Z"
   },
   {
    "duration": 5,
    "start_time": "2022-03-26T12:54:43.901Z"
   },
   {
    "duration": 2357,
    "start_time": "2022-03-26T12:54:46.777Z"
   },
   {
    "duration": 4,
    "start_time": "2022-03-26T12:55:20.544Z"
   },
   {
    "duration": 2321,
    "start_time": "2022-03-26T12:55:23.160Z"
   },
   {
    "duration": 4,
    "start_time": "2022-03-26T12:55:51.053Z"
   },
   {
    "duration": 2265,
    "start_time": "2022-03-26T12:55:53.020Z"
   },
   {
    "duration": 6,
    "start_time": "2022-03-26T12:56:04.292Z"
   },
   {
    "duration": 2548,
    "start_time": "2022-03-26T12:56:07.032Z"
   },
   {
    "duration": 6,
    "start_time": "2022-03-26T12:56:59.004Z"
   },
   {
    "duration": 7,
    "start_time": "2022-03-26T12:57:13.137Z"
   },
   {
    "duration": 6,
    "start_time": "2022-03-26T12:57:31.552Z"
   },
   {
    "duration": 2353,
    "start_time": "2022-03-26T12:57:35.248Z"
   },
   {
    "duration": 5,
    "start_time": "2022-03-26T12:57:47.348Z"
   },
   {
    "duration": 2485,
    "start_time": "2022-03-26T12:57:50.941Z"
   },
   {
    "duration": 6,
    "start_time": "2022-03-26T12:57:59.200Z"
   },
   {
    "duration": 5,
    "start_time": "2022-03-26T12:58:05.296Z"
   },
   {
    "duration": 2371,
    "start_time": "2022-03-26T12:58:08.968Z"
   },
   {
    "duration": 14,
    "start_time": "2022-03-26T12:58:30.816Z"
   },
   {
    "duration": 11,
    "start_time": "2022-03-26T12:58:42.083Z"
   },
   {
    "duration": 158,
    "start_time": "2022-03-26T12:59:13.156Z"
   },
   {
    "duration": 2376,
    "start_time": "2022-03-26T12:59:28.019Z"
   },
   {
    "duration": 2372,
    "start_time": "2022-03-26T12:59:46.900Z"
   },
   {
    "duration": 5,
    "start_time": "2022-03-26T13:01:40.967Z"
   },
   {
    "duration": 2406,
    "start_time": "2022-03-26T13:01:48.307Z"
   },
   {
    "duration": 5,
    "start_time": "2022-03-26T13:42:14.020Z"
   },
   {
    "duration": 6,
    "start_time": "2022-03-26T13:43:51.808Z"
   },
   {
    "duration": 2424,
    "start_time": "2022-03-26T13:43:54.932Z"
   },
   {
    "duration": 5,
    "start_time": "2022-03-26T13:45:20.168Z"
   },
   {
    "duration": 11,
    "start_time": "2022-03-26T13:45:24.354Z"
   },
   {
    "duration": 2667,
    "start_time": "2022-03-26T13:45:40.264Z"
   },
   {
    "duration": 15,
    "start_time": "2022-03-26T13:48:14.220Z"
   },
   {
    "duration": 6,
    "start_time": "2022-03-26T13:48:57.456Z"
   },
   {
    "duration": 245,
    "start_time": "2022-03-26T13:49:26.676Z"
   },
   {
    "duration": 5,
    "start_time": "2022-03-26T13:49:39.352Z"
   },
   {
    "duration": 4,
    "start_time": "2022-03-26T13:49:48.040Z"
   },
   {
    "duration": 5,
    "start_time": "2022-03-26T13:50:01.866Z"
   },
   {
    "duration": 5,
    "start_time": "2022-03-26T13:50:03.984Z"
   },
   {
    "duration": 5,
    "start_time": "2022-03-26T13:50:38.392Z"
   },
   {
    "duration": 6,
    "start_time": "2022-03-26T13:52:13.598Z"
   },
   {
    "duration": 2620,
    "start_time": "2022-03-26T13:52:17.179Z"
   },
   {
    "duration": 5,
    "start_time": "2022-03-26T13:54:23.898Z"
   },
   {
    "duration": 5,
    "start_time": "2022-03-26T13:54:45.685Z"
   },
   {
    "duration": 2604,
    "start_time": "2022-03-26T13:54:47.613Z"
   },
   {
    "duration": 7,
    "start_time": "2022-03-26T13:55:06.133Z"
   },
   {
    "duration": 5,
    "start_time": "2022-03-26T13:55:08.702Z"
   },
   {
    "duration": 5,
    "start_time": "2022-03-26T13:56:49.598Z"
   },
   {
    "duration": 2851,
    "start_time": "2022-03-26T13:56:51.725Z"
   },
   {
    "duration": 4,
    "start_time": "2022-03-26T13:57:14.725Z"
   },
   {
    "duration": 5,
    "start_time": "2022-03-26T13:57:17.449Z"
   },
   {
    "duration": 3093,
    "start_time": "2022-03-26T13:57:20.032Z"
   },
   {
    "duration": 5,
    "start_time": "2022-03-26T13:57:33.448Z"
   },
   {
    "duration": 5,
    "start_time": "2022-03-26T14:00:25.129Z"
   },
   {
    "duration": 3205,
    "start_time": "2022-03-26T14:00:27.545Z"
   },
   {
    "duration": 5,
    "start_time": "2022-03-26T14:00:47.661Z"
   },
   {
    "duration": 2486,
    "start_time": "2022-03-26T14:00:50.242Z"
   },
   {
    "duration": 5,
    "start_time": "2022-03-26T14:00:59.284Z"
   },
   {
    "duration": 2552,
    "start_time": "2022-03-26T14:01:01.444Z"
   },
   {
    "duration": 5,
    "start_time": "2022-03-26T14:02:14.077Z"
   },
   {
    "duration": 4,
    "start_time": "2022-03-26T14:02:16.598Z"
   },
   {
    "duration": 5,
    "start_time": "2022-03-26T14:02:24.329Z"
   },
   {
    "duration": 2909,
    "start_time": "2022-03-26T14:02:26.241Z"
   },
   {
    "duration": 6,
    "start_time": "2022-03-26T14:04:10.448Z"
   },
   {
    "duration": 2701,
    "start_time": "2022-03-26T14:04:13.656Z"
   },
   {
    "duration": 6,
    "start_time": "2022-03-26T14:04:18.433Z"
   },
   {
    "duration": 2522,
    "start_time": "2022-03-26T14:04:21.061Z"
   },
   {
    "duration": 5,
    "start_time": "2022-03-26T14:04:36.997Z"
   },
   {
    "duration": 2703,
    "start_time": "2022-03-26T14:04:39.533Z"
   },
   {
    "duration": 6,
    "start_time": "2022-03-26T14:05:10.329Z"
   },
   {
    "duration": 5,
    "start_time": "2022-03-26T14:05:14.210Z"
   },
   {
    "duration": 5,
    "start_time": "2022-03-26T14:05:21.048Z"
   },
   {
    "duration": 2550,
    "start_time": "2022-03-26T14:05:22.993Z"
   },
   {
    "duration": 5,
    "start_time": "2022-03-26T14:08:59.848Z"
   },
   {
    "duration": 2679,
    "start_time": "2022-03-26T14:09:02.001Z"
   },
   {
    "duration": 5,
    "start_time": "2022-03-26T14:11:06.946Z"
   },
   {
    "duration": 3305,
    "start_time": "2022-03-26T14:11:08.944Z"
   },
   {
    "duration": 5,
    "start_time": "2022-03-26T14:11:49.680Z"
   },
   {
    "duration": 2701,
    "start_time": "2022-03-26T14:11:51.892Z"
   },
   {
    "duration": 5,
    "start_time": "2022-03-26T14:13:53.792Z"
   },
   {
    "duration": 5,
    "start_time": "2022-03-26T14:14:05.493Z"
   },
   {
    "duration": 6,
    "start_time": "2022-03-26T14:14:07.588Z"
   },
   {
    "duration": 3,
    "start_time": "2022-03-26T14:14:25.604Z"
   },
   {
    "duration": 8,
    "start_time": "2022-03-26T14:14:28.616Z"
   },
   {
    "duration": 4,
    "start_time": "2022-03-26T14:14:43.868Z"
   },
   {
    "duration": 2920,
    "start_time": "2022-03-26T14:14:47.417Z"
   },
   {
    "duration": 5,
    "start_time": "2022-03-26T14:14:56.835Z"
   },
   {
    "duration": 5,
    "start_time": "2022-03-26T14:14:59.527Z"
   },
   {
    "duration": 4,
    "start_time": "2022-03-26T14:15:19.616Z"
   },
   {
    "duration": 2672,
    "start_time": "2022-03-26T14:15:22.344Z"
   },
   {
    "duration": 5,
    "start_time": "2022-03-26T14:15:41.043Z"
   },
   {
    "duration": 2583,
    "start_time": "2022-03-26T14:15:44.459Z"
   },
   {
    "duration": 5,
    "start_time": "2022-03-26T14:17:01.848Z"
   },
   {
    "duration": 5,
    "start_time": "2022-03-26T14:17:05.164Z"
   },
   {
    "duration": 8,
    "start_time": "2022-03-26T14:17:30.876Z"
   },
   {
    "duration": 8,
    "start_time": "2022-03-26T14:19:11.079Z"
   },
   {
    "duration": 8,
    "start_time": "2022-03-26T14:19:18.267Z"
   },
   {
    "duration": 6,
    "start_time": "2022-03-26T14:19:28.515Z"
   },
   {
    "duration": 2740,
    "start_time": "2022-03-26T14:19:34.175Z"
   },
   {
    "duration": 6,
    "start_time": "2022-03-26T14:20:17.903Z"
   },
   {
    "duration": 129,
    "start_time": "2022-03-26T14:21:59.763Z"
   },
   {
    "duration": 3194,
    "start_time": "2022-03-26T14:22:26.412Z"
   },
   {
    "duration": 4327,
    "start_time": "2022-03-26T14:22:43.319Z"
   },
   {
    "duration": 4126,
    "start_time": "2022-03-26T14:23:21.734Z"
   },
   {
    "duration": 4608,
    "start_time": "2022-03-26T14:23:35.051Z"
   },
   {
    "duration": 8,
    "start_time": "2022-03-26T14:23:48.983Z"
   },
   {
    "duration": 4616,
    "start_time": "2022-03-26T14:23:56.894Z"
   },
   {
    "duration": 6,
    "start_time": "2022-03-26T14:24:15.402Z"
   },
   {
    "duration": 6,
    "start_time": "2022-03-26T14:25:35.014Z"
   },
   {
    "duration": 2823,
    "start_time": "2022-03-26T14:25:38.766Z"
   },
   {
    "duration": 16,
    "start_time": "2022-03-26T14:25:52.743Z"
   },
   {
    "duration": 8,
    "start_time": "2022-03-26T14:25:59.958Z"
   },
   {
    "duration": 236,
    "start_time": "2022-03-26T14:26:09.295Z"
   },
   {
    "duration": 7,
    "start_time": "2022-03-26T14:26:25.618Z"
   },
   {
    "duration": 7,
    "start_time": "2022-03-26T14:26:35.614Z"
   },
   {
    "duration": 277,
    "start_time": "2022-03-26T14:27:32.119Z"
   },
   {
    "duration": 11,
    "start_time": "2022-03-26T14:28:41.866Z"
   },
   {
    "duration": 11,
    "start_time": "2022-03-26T14:28:58.698Z"
   },
   {
    "duration": 8,
    "start_time": "2022-03-26T14:29:52.395Z"
   },
   {
    "duration": 13,
    "start_time": "2022-03-26T14:31:06.769Z"
   },
   {
    "duration": 64,
    "start_time": "2022-03-26T14:32:38.181Z"
   },
   {
    "duration": 5,
    "start_time": "2022-03-26T14:33:09.469Z"
   },
   {
    "duration": 12,
    "start_time": "2022-03-26T14:33:22.057Z"
   },
   {
    "duration": 78,
    "start_time": "2022-03-26T14:33:29.869Z"
   },
   {
    "duration": 58,
    "start_time": "2022-03-26T14:33:41.127Z"
   },
   {
    "duration": 5,
    "start_time": "2022-03-26T14:33:59.113Z"
   },
   {
    "duration": 62,
    "start_time": "2022-03-26T14:34:02.223Z"
   },
   {
    "duration": 8,
    "start_time": "2022-03-26T14:35:08.617Z"
   },
   {
    "duration": 8,
    "start_time": "2022-03-26T14:35:17.036Z"
   },
   {
    "duration": 9,
    "start_time": "2022-03-26T14:35:25.801Z"
   },
   {
    "duration": 5,
    "start_time": "2022-03-26T14:36:43.329Z"
   },
   {
    "duration": 4,
    "start_time": "2022-03-26T14:36:43.352Z"
   },
   {
    "duration": 22,
    "start_time": "2022-03-26T14:36:43.359Z"
   },
   {
    "duration": 834,
    "start_time": "2022-03-26T14:36:43.384Z"
   },
   {
    "duration": 26,
    "start_time": "2022-03-26T14:36:44.221Z"
   },
   {
    "duration": 40,
    "start_time": "2022-03-26T14:36:44.250Z"
   },
   {
    "duration": 27,
    "start_time": "2022-03-26T14:36:44.293Z"
   },
   {
    "duration": 6,
    "start_time": "2022-03-26T14:36:44.322Z"
   },
   {
    "duration": 421,
    "start_time": "2022-03-26T14:36:44.331Z"
   },
   {
    "duration": 8,
    "start_time": "2022-03-26T14:36:44.757Z"
   },
   {
    "duration": 31,
    "start_time": "2022-03-26T14:36:44.767Z"
   },
   {
    "duration": 17,
    "start_time": "2022-03-26T14:36:44.800Z"
   },
   {
    "duration": 13,
    "start_time": "2022-03-26T14:36:44.820Z"
   },
   {
    "duration": 209,
    "start_time": "2022-03-26T14:36:44.835Z"
   },
   {
    "duration": 14,
    "start_time": "2022-03-26T14:36:45.047Z"
   },
   {
    "duration": 34,
    "start_time": "2022-03-26T14:36:45.064Z"
   },
   {
    "duration": 7,
    "start_time": "2022-03-26T14:36:45.100Z"
   },
   {
    "duration": 39,
    "start_time": "2022-03-26T14:36:45.109Z"
   },
   {
    "duration": 33,
    "start_time": "2022-03-26T14:36:45.150Z"
   },
   {
    "duration": 25,
    "start_time": "2022-03-26T14:36:45.186Z"
   },
   {
    "duration": 12,
    "start_time": "2022-03-26T14:36:45.213Z"
   },
   {
    "duration": 27,
    "start_time": "2022-03-26T14:36:45.228Z"
   },
   {
    "duration": 23,
    "start_time": "2022-03-26T14:36:45.257Z"
   },
   {
    "duration": 41,
    "start_time": "2022-03-26T14:36:45.283Z"
   },
   {
    "duration": 12,
    "start_time": "2022-03-26T14:36:45.329Z"
   },
   {
    "duration": 21,
    "start_time": "2022-03-26T14:36:45.344Z"
   },
   {
    "duration": 27,
    "start_time": "2022-03-26T14:36:45.368Z"
   },
   {
    "duration": 38,
    "start_time": "2022-03-26T14:36:45.397Z"
   },
   {
    "duration": 34,
    "start_time": "2022-03-26T14:36:45.437Z"
   },
   {
    "duration": 36,
    "start_time": "2022-03-26T14:36:45.474Z"
   },
   {
    "duration": 44,
    "start_time": "2022-03-26T14:36:45.513Z"
   },
   {
    "duration": 488,
    "start_time": "2022-03-26T14:36:45.560Z"
   },
   {
    "duration": 448,
    "start_time": "2022-03-26T14:36:46.051Z"
   },
   {
    "duration": 522,
    "start_time": "2022-03-26T14:36:46.502Z"
   },
   {
    "duration": 460,
    "start_time": "2022-03-26T14:36:47.026Z"
   },
   {
    "duration": 6,
    "start_time": "2022-03-26T14:36:47.488Z"
   },
   {
    "duration": 22,
    "start_time": "2022-03-26T14:36:47.496Z"
   },
   {
    "duration": 39,
    "start_time": "2022-03-26T14:36:47.520Z"
   },
   {
    "duration": 466,
    "start_time": "2022-03-26T14:36:47.562Z"
   },
   {
    "duration": 340,
    "start_time": "2022-03-26T14:36:48.030Z"
   },
   {
    "duration": 22,
    "start_time": "2022-03-26T14:36:48.373Z"
   },
   {
    "duration": 304,
    "start_time": "2022-03-26T14:36:48.398Z"
   },
   {
    "duration": 11,
    "start_time": "2022-03-26T14:36:48.705Z"
   },
   {
    "duration": 306,
    "start_time": "2022-03-26T14:36:48.719Z"
   },
   {
    "duration": 11,
    "start_time": "2022-03-26T14:36:49.028Z"
   },
   {
    "duration": 19,
    "start_time": "2022-03-26T14:36:49.042Z"
   },
   {
    "duration": 24,
    "start_time": "2022-03-26T14:36:49.064Z"
   },
   {
    "duration": 16,
    "start_time": "2022-03-26T14:36:49.091Z"
   },
   {
    "duration": 17,
    "start_time": "2022-03-26T14:36:49.109Z"
   },
   {
    "duration": 9,
    "start_time": "2022-03-26T14:36:49.129Z"
   },
   {
    "duration": 77,
    "start_time": "2022-03-26T14:36:49.141Z"
   },
   {
    "duration": 4,
    "start_time": "2022-03-26T14:36:49.221Z"
   },
   {
    "duration": 72,
    "start_time": "2022-03-26T14:36:49.227Z"
   },
   {
    "duration": 99,
    "start_time": "2022-03-26T14:36:49.385Z"
   },
   {
    "duration": 102,
    "start_time": "2022-03-26T14:36:49.487Z"
   },
   {
    "duration": 4,
    "start_time": "2022-03-26T14:39:32.356Z"
   },
   {
    "duration": 14,
    "start_time": "2022-03-26T14:39:32.363Z"
   },
   {
    "duration": 13,
    "start_time": "2022-03-26T14:39:32.379Z"
   },
   {
    "duration": 889,
    "start_time": "2022-03-26T14:39:32.394Z"
   },
   {
    "duration": 25,
    "start_time": "2022-03-26T14:39:33.286Z"
   },
   {
    "duration": 21,
    "start_time": "2022-03-26T14:39:33.313Z"
   },
   {
    "duration": 60,
    "start_time": "2022-03-26T14:39:33.336Z"
   },
   {
    "duration": 5,
    "start_time": "2022-03-26T14:39:33.399Z"
   },
   {
    "duration": 419,
    "start_time": "2022-03-26T14:39:33.406Z"
   },
   {
    "duration": 7,
    "start_time": "2022-03-26T14:39:33.830Z"
   },
   {
    "duration": 10,
    "start_time": "2022-03-26T14:39:33.839Z"
   },
   {
    "duration": 32,
    "start_time": "2022-03-26T14:39:33.852Z"
   },
   {
    "duration": 9,
    "start_time": "2022-03-26T14:39:33.888Z"
   },
   {
    "duration": 202,
    "start_time": "2022-03-26T14:39:33.899Z"
   },
   {
    "duration": 15,
    "start_time": "2022-03-26T14:39:34.104Z"
   },
   {
    "duration": 17,
    "start_time": "2022-03-26T14:39:34.121Z"
   },
   {
    "duration": 6,
    "start_time": "2022-03-26T14:39:34.140Z"
   },
   {
    "duration": 16,
    "start_time": "2022-03-26T14:39:34.183Z"
   },
   {
    "duration": 21,
    "start_time": "2022-03-26T14:39:34.201Z"
   },
   {
    "duration": 17,
    "start_time": "2022-03-26T14:39:34.224Z"
   },
   {
    "duration": 44,
    "start_time": "2022-03-26T14:39:34.243Z"
   },
   {
    "duration": 8,
    "start_time": "2022-03-26T14:39:34.289Z"
   },
   {
    "duration": 14,
    "start_time": "2022-03-26T14:39:34.299Z"
   },
   {
    "duration": 16,
    "start_time": "2022-03-26T14:39:34.315Z"
   },
   {
    "duration": 47,
    "start_time": "2022-03-26T14:39:34.337Z"
   },
   {
    "duration": 13,
    "start_time": "2022-03-26T14:39:34.386Z"
   },
   {
    "duration": 7,
    "start_time": "2022-03-26T14:39:34.401Z"
   },
   {
    "duration": 8,
    "start_time": "2022-03-26T14:39:34.410Z"
   },
   {
    "duration": 7,
    "start_time": "2022-03-26T14:39:34.420Z"
   },
   {
    "duration": 4,
    "start_time": "2022-03-26T14:39:34.429Z"
   },
   {
    "duration": 54,
    "start_time": "2022-03-26T14:39:34.435Z"
   },
   {
    "duration": 441,
    "start_time": "2022-03-26T14:39:34.491Z"
   },
   {
    "duration": 542,
    "start_time": "2022-03-26T14:39:34.935Z"
   },
   {
    "duration": 467,
    "start_time": "2022-03-26T14:39:35.483Z"
   },
   {
    "duration": 586,
    "start_time": "2022-03-26T14:39:35.953Z"
   },
   {
    "duration": 7,
    "start_time": "2022-03-26T14:39:36.542Z"
   },
   {
    "duration": 32,
    "start_time": "2022-03-26T14:39:36.551Z"
   },
   {
    "duration": 9,
    "start_time": "2022-03-26T14:39:36.586Z"
   },
   {
    "duration": 435,
    "start_time": "2022-03-26T14:39:36.598Z"
   },
   {
    "duration": 283,
    "start_time": "2022-03-26T14:39:37.036Z"
   },
   {
    "duration": 15,
    "start_time": "2022-03-26T14:39:37.322Z"
   },
   {
    "duration": 300,
    "start_time": "2022-03-26T14:39:37.340Z"
   },
   {
    "duration": 10,
    "start_time": "2022-03-26T14:39:37.642Z"
   },
   {
    "duration": 329,
    "start_time": "2022-03-26T14:39:37.655Z"
   },
   {
    "duration": 10,
    "start_time": "2022-03-26T14:39:37.987Z"
   },
   {
    "duration": 26,
    "start_time": "2022-03-26T14:39:37.999Z"
   },
   {
    "duration": 36,
    "start_time": "2022-03-26T14:39:38.027Z"
   },
   {
    "duration": 30,
    "start_time": "2022-03-26T14:39:38.065Z"
   },
   {
    "duration": 34,
    "start_time": "2022-03-26T14:39:38.098Z"
   },
   {
    "duration": 21,
    "start_time": "2022-03-26T14:39:38.134Z"
   },
   {
    "duration": 80,
    "start_time": "2022-03-26T14:39:38.157Z"
   },
   {
    "duration": 6,
    "start_time": "2022-03-26T14:39:38.239Z"
   },
   {
    "duration": 139,
    "start_time": "2022-03-26T14:39:38.248Z"
   },
   {
    "duration": 100,
    "start_time": "2022-03-26T14:39:38.390Z"
   },
   {
    "duration": 105,
    "start_time": "2022-03-26T14:39:38.493Z"
   },
   {
    "duration": 9,
    "start_time": "2022-03-26T14:40:02.301Z"
   },
   {
    "duration": 8,
    "start_time": "2022-03-26T14:40:36.569Z"
   },
   {
    "duration": 8,
    "start_time": "2022-03-26T14:41:02.545Z"
   },
   {
    "duration": 45,
    "start_time": "2022-03-26T14:41:27.693Z"
   },
   {
    "duration": 8,
    "start_time": "2022-03-26T14:41:42.645Z"
   },
   {
    "duration": 6,
    "start_time": "2022-03-26T14:55:18.969Z"
   },
   {
    "duration": 4,
    "start_time": "2022-03-26T14:57:15.961Z"
   },
   {
    "duration": 5,
    "start_time": "2022-03-26T15:03:15.899Z"
   },
   {
    "duration": 6,
    "start_time": "2022-03-26T15:03:26.219Z"
   },
   {
    "duration": 2765,
    "start_time": "2022-03-26T15:04:01.851Z"
   },
   {
    "duration": 2513,
    "start_time": "2022-03-26T15:04:14.950Z"
   },
   {
    "duration": 4,
    "start_time": "2022-03-26T15:04:47.603Z"
   },
   {
    "duration": 61,
    "start_time": "2022-03-26T15:04:50.938Z"
   },
   {
    "duration": 59,
    "start_time": "2022-03-26T15:05:10.458Z"
   },
   {
    "duration": 108,
    "start_time": "2022-03-26T15:05:24.026Z"
   },
   {
    "duration": 119,
    "start_time": "2022-03-26T15:05:42.519Z"
   },
   {
    "duration": 5,
    "start_time": "2022-03-26T15:05:48.722Z"
   },
   {
    "duration": 5,
    "start_time": "2022-03-26T15:06:04.050Z"
   },
   {
    "duration": 3369,
    "start_time": "2022-03-26T15:06:12.653Z"
   },
   {
    "duration": 5,
    "start_time": "2022-03-26T15:06:53.666Z"
   },
   {
    "duration": 58,
    "start_time": "2022-03-26T15:06:55.714Z"
   },
   {
    "duration": 56,
    "start_time": "2022-03-26T15:07:13.059Z"
   },
   {
    "duration": 5,
    "start_time": "2022-03-26T15:07:38.995Z"
   },
   {
    "duration": 58,
    "start_time": "2022-03-26T15:07:41.343Z"
   },
   {
    "duration": 5,
    "start_time": "2022-03-26T15:07:43.842Z"
   },
   {
    "duration": 2466,
    "start_time": "2022-03-26T15:07:47.443Z"
   },
   {
    "duration": 5,
    "start_time": "2022-03-26T15:08:02.811Z"
   },
   {
    "duration": 56,
    "start_time": "2022-03-26T15:08:05.602Z"
   },
   {
    "duration": 5,
    "start_time": "2022-03-26T15:08:59.290Z"
   },
   {
    "duration": 5,
    "start_time": "2022-03-26T15:09:22.255Z"
   },
   {
    "duration": 60,
    "start_time": "2022-03-26T15:09:25.295Z"
   },
   {
    "duration": 5,
    "start_time": "2022-03-26T15:09:38.262Z"
   },
   {
    "duration": 70,
    "start_time": "2022-03-26T15:09:40.735Z"
   },
   {
    "duration": 5,
    "start_time": "2022-03-26T15:10:19.058Z"
   },
   {
    "duration": 74,
    "start_time": "2022-03-26T15:10:21.950Z"
   },
   {
    "duration": 8,
    "start_time": "2022-03-26T15:12:14.085Z"
   },
   {
    "duration": 59,
    "start_time": "2022-03-26T15:12:16.100Z"
   },
   {
    "duration": 6,
    "start_time": "2022-03-26T15:12:37.056Z"
   },
   {
    "duration": 18,
    "start_time": "2022-03-26T15:12:40.249Z"
   },
   {
    "duration": 7,
    "start_time": "2022-03-26T15:12:47.680Z"
   },
   {
    "duration": 18,
    "start_time": "2022-03-26T15:12:50.300Z"
   },
   {
    "duration": 5,
    "start_time": "2022-03-26T15:14:14.505Z"
   },
   {
    "duration": 2745,
    "start_time": "2022-03-26T15:14:17.381Z"
   },
   {
    "duration": 4,
    "start_time": "2022-03-26T15:14:52.885Z"
   },
   {
    "duration": 2537,
    "start_time": "2022-03-26T15:14:54.868Z"
   },
   {
    "duration": 7,
    "start_time": "2022-03-26T15:15:28.424Z"
   },
   {
    "duration": 5,
    "start_time": "2022-03-26T15:15:44.116Z"
   },
   {
    "duration": 2655,
    "start_time": "2022-03-26T15:15:46.809Z"
   },
   {
    "duration": 2729,
    "start_time": "2022-03-26T15:17:25.497Z"
   },
   {
    "duration": 6,
    "start_time": "2022-03-26T15:17:45.321Z"
   },
   {
    "duration": 2658,
    "start_time": "2022-03-26T15:17:48.004Z"
   },
   {
    "duration": 4,
    "start_time": "2022-03-26T15:17:59.944Z"
   },
   {
    "duration": 4,
    "start_time": "2022-03-26T15:18:38.668Z"
   },
   {
    "duration": 4,
    "start_time": "2022-03-26T15:18:54.172Z"
   },
   {
    "duration": 2633,
    "start_time": "2022-03-26T15:19:03.780Z"
   },
   {
    "duration": 4,
    "start_time": "2022-03-26T15:19:38.778Z"
   },
   {
    "duration": 2625,
    "start_time": "2022-03-26T15:19:41.174Z"
   },
   {
    "duration": 5,
    "start_time": "2022-03-26T15:20:09.175Z"
   },
   {
    "duration": 3255,
    "start_time": "2022-03-26T15:20:11.443Z"
   },
   {
    "duration": 3,
    "start_time": "2022-03-26T15:20:22.274Z"
   },
   {
    "duration": 2593,
    "start_time": "2022-03-26T15:20:36.886Z"
   },
   {
    "duration": 6,
    "start_time": "2022-03-26T15:20:50.138Z"
   },
   {
    "duration": 2542,
    "start_time": "2022-03-26T15:20:55.182Z"
   },
   {
    "duration": 8,
    "start_time": "2022-03-26T15:21:05.554Z"
   },
   {
    "duration": 10,
    "start_time": "2022-03-26T15:21:15.227Z"
   },
   {
    "duration": 7,
    "start_time": "2022-03-26T15:21:37.061Z"
   },
   {
    "duration": 4,
    "start_time": "2022-03-26T15:21:42.830Z"
   },
   {
    "duration": 2428,
    "start_time": "2022-03-26T15:21:47.342Z"
   },
   {
    "duration": 13,
    "start_time": "2022-03-26T15:22:47.458Z"
   },
   {
    "duration": 5,
    "start_time": "2022-03-26T15:23:15.794Z"
   },
   {
    "duration": 2577,
    "start_time": "2022-03-26T15:23:20.318Z"
   },
   {
    "duration": 4,
    "start_time": "2022-03-26T15:23:34.338Z"
   },
   {
    "duration": 2457,
    "start_time": "2022-03-26T15:23:37.446Z"
   },
   {
    "duration": 5,
    "start_time": "2022-03-26T15:23:57.158Z"
   },
   {
    "duration": 14,
    "start_time": "2022-03-26T15:24:00.106Z"
   },
   {
    "duration": 4,
    "start_time": "2022-03-26T15:24:28.398Z"
   },
   {
    "duration": 19,
    "start_time": "2022-03-26T15:24:31.350Z"
   },
   {
    "duration": 5,
    "start_time": "2022-03-26T15:24:56.404Z"
   },
   {
    "duration": 2507,
    "start_time": "2022-03-26T15:24:59.120Z"
   },
   {
    "duration": 10,
    "start_time": "2022-03-26T15:25:19.480Z"
   },
   {
    "duration": 16,
    "start_time": "2022-03-26T15:26:22.160Z"
   },
   {
    "duration": 3,
    "start_time": "2022-03-26T15:27:37.249Z"
   },
   {
    "duration": 3,
    "start_time": "2022-03-26T15:27:55.421Z"
   },
   {
    "duration": 10,
    "start_time": "2022-03-26T15:27:55.427Z"
   },
   {
    "duration": 6,
    "start_time": "2022-03-26T15:27:55.439Z"
   },
   {
    "duration": 825,
    "start_time": "2022-03-26T15:27:55.449Z"
   },
   {
    "duration": 29,
    "start_time": "2022-03-26T15:27:56.277Z"
   },
   {
    "duration": 20,
    "start_time": "2022-03-26T15:27:56.309Z"
   },
   {
    "duration": 57,
    "start_time": "2022-03-26T15:27:56.331Z"
   },
   {
    "duration": 5,
    "start_time": "2022-03-26T15:27:56.390Z"
   },
   {
    "duration": 384,
    "start_time": "2022-03-26T15:27:56.398Z"
   },
   {
    "duration": 7,
    "start_time": "2022-03-26T15:27:56.785Z"
   },
   {
    "duration": 9,
    "start_time": "2022-03-26T15:27:56.796Z"
   },
   {
    "duration": 17,
    "start_time": "2022-03-26T15:27:56.808Z"
   },
   {
    "duration": 4,
    "start_time": "2022-03-26T15:27:56.827Z"
   },
   {
    "duration": 249,
    "start_time": "2022-03-26T15:27:56.833Z"
   },
   {
    "duration": 14,
    "start_time": "2022-03-26T15:27:57.085Z"
   },
   {
    "duration": 17,
    "start_time": "2022-03-26T15:27:57.101Z"
   },
   {
    "duration": 6,
    "start_time": "2022-03-26T15:27:57.120Z"
   },
   {
    "duration": 61,
    "start_time": "2022-03-26T15:27:57.129Z"
   },
   {
    "duration": 22,
    "start_time": "2022-03-26T15:27:57.192Z"
   },
   {
    "duration": 15,
    "start_time": "2022-03-26T15:27:57.217Z"
   },
   {
    "duration": 52,
    "start_time": "2022-03-26T15:27:57.235Z"
   },
   {
    "duration": 11,
    "start_time": "2022-03-26T15:27:57.289Z"
   },
   {
    "duration": 13,
    "start_time": "2022-03-26T15:27:57.303Z"
   },
   {
    "duration": 23,
    "start_time": "2022-03-26T15:27:57.318Z"
   },
   {
    "duration": 47,
    "start_time": "2022-03-26T15:27:57.343Z"
   },
   {
    "duration": 15,
    "start_time": "2022-03-26T15:27:57.396Z"
   },
   {
    "duration": 13,
    "start_time": "2022-03-26T15:27:57.414Z"
   },
   {
    "duration": 14,
    "start_time": "2022-03-26T15:27:57.429Z"
   },
   {
    "duration": 37,
    "start_time": "2022-03-26T15:27:57.445Z"
   },
   {
    "duration": 4,
    "start_time": "2022-03-26T15:27:57.484Z"
   },
   {
    "duration": 15,
    "start_time": "2022-03-26T15:27:57.491Z"
   },
   {
    "duration": 554,
    "start_time": "2022-03-26T15:27:57.509Z"
   },
   {
    "duration": 440,
    "start_time": "2022-03-26T15:27:58.066Z"
   },
   {
    "duration": 452,
    "start_time": "2022-03-26T15:27:58.508Z"
   },
   {
    "duration": 482,
    "start_time": "2022-03-26T15:27:58.963Z"
   },
   {
    "duration": 6,
    "start_time": "2022-03-26T15:27:59.448Z"
   },
   {
    "duration": 30,
    "start_time": "2022-03-26T15:27:59.457Z"
   },
   {
    "duration": 11,
    "start_time": "2022-03-26T15:27:59.490Z"
   },
   {
    "duration": 507,
    "start_time": "2022-03-26T15:27:59.504Z"
   },
   {
    "duration": 305,
    "start_time": "2022-03-26T15:28:00.014Z"
   },
   {
    "duration": 16,
    "start_time": "2022-03-26T15:28:00.322Z"
   },
   {
    "duration": 423,
    "start_time": "2022-03-26T15:28:00.341Z"
   },
   {
    "duration": 22,
    "start_time": "2022-03-26T15:28:00.767Z"
   },
   {
    "duration": 401,
    "start_time": "2022-03-26T15:28:00.791Z"
   },
   {
    "duration": 10,
    "start_time": "2022-03-26T15:28:01.194Z"
   },
   {
    "duration": 57,
    "start_time": "2022-03-26T15:28:01.207Z"
   },
   {
    "duration": 52,
    "start_time": "2022-03-26T15:28:01.267Z"
   },
   {
    "duration": 37,
    "start_time": "2022-03-26T15:28:01.321Z"
   },
   {
    "duration": 29,
    "start_time": "2022-03-26T15:28:01.361Z"
   },
   {
    "duration": 51,
    "start_time": "2022-03-26T15:28:01.393Z"
   },
   {
    "duration": 2590,
    "start_time": "2022-03-26T15:28:01.447Z"
   },
   {
    "duration": 0,
    "start_time": "2022-03-26T15:28:04.040Z"
   },
   {
    "duration": 0,
    "start_time": "2022-03-26T15:28:04.042Z"
   },
   {
    "duration": 0,
    "start_time": "2022-03-26T15:28:04.043Z"
   },
   {
    "duration": 0,
    "start_time": "2022-03-26T15:28:04.045Z"
   },
   {
    "duration": 0,
    "start_time": "2022-03-26T15:28:04.048Z"
   },
   {
    "duration": 0,
    "start_time": "2022-03-26T15:28:04.050Z"
   },
   {
    "duration": 0,
    "start_time": "2022-03-26T15:28:04.052Z"
   },
   {
    "duration": 0,
    "start_time": "2022-03-26T15:28:04.054Z"
   },
   {
    "duration": 0,
    "start_time": "2022-03-26T15:28:04.057Z"
   },
   {
    "duration": 3,
    "start_time": "2022-03-26T15:28:21.921Z"
   },
   {
    "duration": 5,
    "start_time": "2022-03-26T15:28:34.493Z"
   },
   {
    "duration": 5,
    "start_time": "2022-03-26T15:28:37.017Z"
   },
   {
    "duration": 17,
    "start_time": "2022-03-26T15:28:40.908Z"
   },
   {
    "duration": 94,
    "start_time": "2022-03-26T15:28:43.097Z"
   },
   {
    "duration": 6,
    "start_time": "2022-03-26T15:28:45.109Z"
   },
   {
    "duration": 11,
    "start_time": "2022-03-26T15:28:52.762Z"
   },
   {
    "duration": 5,
    "start_time": "2022-03-26T15:29:06.553Z"
   },
   {
    "duration": 28,
    "start_time": "2022-03-26T15:29:09.877Z"
   },
   {
    "duration": 6,
    "start_time": "2022-03-26T15:29:23.881Z"
   },
   {
    "duration": 11,
    "start_time": "2022-03-26T15:29:26.422Z"
   },
   {
    "duration": 5,
    "start_time": "2022-03-26T15:29:53.699Z"
   },
   {
    "duration": 19,
    "start_time": "2022-03-26T15:29:57.837Z"
   },
   {
    "duration": 5,
    "start_time": "2022-03-26T15:30:50.157Z"
   },
   {
    "duration": 8,
    "start_time": "2022-03-26T15:30:52.737Z"
   },
   {
    "duration": 6,
    "start_time": "2022-03-26T15:31:10.520Z"
   },
   {
    "duration": 2698,
    "start_time": "2022-03-26T15:31:13.600Z"
   },
   {
    "duration": 5,
    "start_time": "2022-03-26T15:31:21.717Z"
   },
   {
    "duration": 265,
    "start_time": "2022-03-26T15:31:24.117Z"
   },
   {
    "duration": 6,
    "start_time": "2022-03-26T15:32:04.348Z"
   },
   {
    "duration": 250,
    "start_time": "2022-03-26T15:32:06.433Z"
   },
   {
    "duration": 6,
    "start_time": "2022-03-26T15:32:53.896Z"
   },
   {
    "duration": 242,
    "start_time": "2022-03-26T15:32:57.368Z"
   },
   {
    "duration": 49,
    "start_time": "2022-03-27T07:56:45.308Z"
   },
   {
    "duration": 1426,
    "start_time": "2022-03-27T07:56:49.940Z"
   },
   {
    "duration": 361,
    "start_time": "2022-03-27T07:56:51.368Z"
   },
   {
    "duration": 3,
    "start_time": "2022-03-27T07:56:51.730Z"
   },
   {
    "duration": 723,
    "start_time": "2022-03-27T07:56:51.735Z"
   },
   {
    "duration": 19,
    "start_time": "2022-03-27T07:56:52.460Z"
   },
   {
    "duration": 14,
    "start_time": "2022-03-27T07:56:52.481Z"
   },
   {
    "duration": 41,
    "start_time": "2022-03-27T07:56:52.497Z"
   },
   {
    "duration": 4,
    "start_time": "2022-03-27T07:56:52.541Z"
   },
   {
    "duration": 258,
    "start_time": "2022-03-27T07:56:52.547Z"
   },
   {
    "duration": 8,
    "start_time": "2022-03-27T07:56:52.809Z"
   },
   {
    "duration": 4,
    "start_time": "2022-03-27T07:56:52.831Z"
   },
   {
    "duration": 9,
    "start_time": "2022-03-27T07:56:52.837Z"
   },
   {
    "duration": 3,
    "start_time": "2022-03-27T07:56:52.848Z"
   },
   {
    "duration": 149,
    "start_time": "2022-03-27T07:56:52.853Z"
   },
   {
    "duration": 12,
    "start_time": "2022-03-27T07:56:53.004Z"
   },
   {
    "duration": 16,
    "start_time": "2022-03-27T07:56:53.031Z"
   },
   {
    "duration": 6,
    "start_time": "2022-03-27T07:56:53.049Z"
   },
   {
    "duration": 14,
    "start_time": "2022-03-27T07:56:53.057Z"
   },
   {
    "duration": 17,
    "start_time": "2022-03-27T07:56:53.073Z"
   },
   {
    "duration": 47,
    "start_time": "2022-03-27T07:56:53.092Z"
   },
   {
    "duration": 10,
    "start_time": "2022-03-27T07:56:53.141Z"
   },
   {
    "duration": 8,
    "start_time": "2022-03-27T07:56:53.152Z"
   },
   {
    "duration": 9,
    "start_time": "2022-03-27T07:56:53.162Z"
   },
   {
    "duration": 13,
    "start_time": "2022-03-27T07:56:53.172Z"
   },
   {
    "duration": 7,
    "start_time": "2022-03-27T07:56:53.186Z"
   },
   {
    "duration": 42,
    "start_time": "2022-03-27T07:56:53.195Z"
   },
   {
    "duration": 6,
    "start_time": "2022-03-27T07:56:53.239Z"
   },
   {
    "duration": 5,
    "start_time": "2022-03-27T07:56:53.248Z"
   },
   {
    "duration": 5,
    "start_time": "2022-03-27T07:56:53.255Z"
   },
   {
    "duration": 4,
    "start_time": "2022-03-27T07:56:53.262Z"
   },
   {
    "duration": 11,
    "start_time": "2022-03-27T07:56:53.267Z"
   },
   {
    "duration": 322,
    "start_time": "2022-03-27T07:56:53.280Z"
   },
   {
    "duration": 268,
    "start_time": "2022-03-27T07:56:53.604Z"
   },
   {
    "duration": 379,
    "start_time": "2022-03-27T07:56:53.873Z"
   },
   {
    "duration": 315,
    "start_time": "2022-03-27T07:56:54.253Z"
   },
   {
    "duration": 4,
    "start_time": "2022-03-27T07:56:54.570Z"
   },
   {
    "duration": 15,
    "start_time": "2022-03-27T07:56:54.576Z"
   },
   {
    "duration": 8,
    "start_time": "2022-03-27T07:56:54.592Z"
   },
   {
    "duration": 295,
    "start_time": "2022-03-27T07:56:54.602Z"
   },
   {
    "duration": 196,
    "start_time": "2022-03-27T07:56:54.899Z"
   },
   {
    "duration": 13,
    "start_time": "2022-03-27T07:56:55.096Z"
   },
   {
    "duration": 176,
    "start_time": "2022-03-27T07:56:55.110Z"
   },
   {
    "duration": 7,
    "start_time": "2022-03-27T07:56:55.287Z"
   },
   {
    "duration": 189,
    "start_time": "2022-03-27T07:56:55.295Z"
   },
   {
    "duration": 6,
    "start_time": "2022-03-27T07:56:55.485Z"
   },
   {
    "duration": 6,
    "start_time": "2022-03-27T07:56:55.493Z"
   },
   {
    "duration": 11,
    "start_time": "2022-03-27T07:56:55.500Z"
   },
   {
    "duration": 22,
    "start_time": "2022-03-27T07:56:55.513Z"
   },
   {
    "duration": 7,
    "start_time": "2022-03-27T07:56:55.537Z"
   },
   {
    "duration": 5,
    "start_time": "2022-03-27T07:56:55.546Z"
   },
   {
    "duration": 90,
    "start_time": "2022-03-27T07:56:55.552Z"
   },
   {
    "duration": 0,
    "start_time": "2022-03-27T07:56:55.644Z"
   },
   {
    "duration": 17,
    "start_time": "2022-03-27T07:57:07.391Z"
   },
   {
    "duration": 15,
    "start_time": "2022-03-27T07:57:10.155Z"
   },
   {
    "duration": 9,
    "start_time": "2022-03-27T07:57:52.039Z"
   },
   {
    "duration": 5,
    "start_time": "2022-03-27T07:57:55.795Z"
   },
   {
    "duration": 1047,
    "start_time": "2022-03-27T08:00:02.478Z"
   },
   {
    "duration": 6,
    "start_time": "2022-03-27T08:01:12.623Z"
   },
   {
    "duration": 4,
    "start_time": "2022-03-27T08:02:45.859Z"
   },
   {
    "duration": 13,
    "start_time": "2022-03-27T08:03:30.964Z"
   },
   {
    "duration": 12,
    "start_time": "2022-03-27T08:04:09.959Z"
   },
   {
    "duration": 13,
    "start_time": "2022-03-27T08:04:18.871Z"
   },
   {
    "duration": 6,
    "start_time": "2022-03-27T08:05:01.231Z"
   },
   {
    "duration": 7,
    "start_time": "2022-03-27T08:05:03.463Z"
   },
   {
    "duration": 12,
    "start_time": "2022-03-27T08:05:10.879Z"
   },
   {
    "duration": 7,
    "start_time": "2022-03-27T08:05:23.203Z"
   },
   {
    "duration": 12,
    "start_time": "2022-03-27T08:05:32.779Z"
   },
   {
    "duration": 14,
    "start_time": "2022-03-27T08:28:00.080Z"
   },
   {
    "duration": 8,
    "start_time": "2022-03-27T08:28:17.468Z"
   },
   {
    "duration": 3,
    "start_time": "2022-03-27T08:28:20.984Z"
   },
   {
    "duration": 26,
    "start_time": "2022-03-27T08:28:20.988Z"
   },
   {
    "duration": 34,
    "start_time": "2022-03-27T08:28:21.016Z"
   },
   {
    "duration": 747,
    "start_time": "2022-03-27T08:28:21.052Z"
   },
   {
    "duration": 18,
    "start_time": "2022-03-27T08:28:21.801Z"
   },
   {
    "duration": 37,
    "start_time": "2022-03-27T08:28:21.821Z"
   },
   {
    "duration": 43,
    "start_time": "2022-03-27T08:28:21.860Z"
   },
   {
    "duration": 4,
    "start_time": "2022-03-27T08:28:21.906Z"
   },
   {
    "duration": 280,
    "start_time": "2022-03-27T08:28:21.912Z"
   },
   {
    "duration": 6,
    "start_time": "2022-03-27T08:28:22.194Z"
   },
   {
    "duration": 25,
    "start_time": "2022-03-27T08:28:22.204Z"
   },
   {
    "duration": 17,
    "start_time": "2022-03-27T08:28:22.232Z"
   },
   {
    "duration": 16,
    "start_time": "2022-03-27T08:28:22.251Z"
   },
   {
    "duration": 149,
    "start_time": "2022-03-27T08:28:22.269Z"
   },
   {
    "duration": 16,
    "start_time": "2022-03-27T08:28:22.420Z"
   },
   {
    "duration": 20,
    "start_time": "2022-03-27T08:28:22.437Z"
   },
   {
    "duration": 14,
    "start_time": "2022-03-27T08:28:22.459Z"
   },
   {
    "duration": 30,
    "start_time": "2022-03-27T08:28:22.475Z"
   },
   {
    "duration": 27,
    "start_time": "2022-03-27T08:28:22.507Z"
   },
   {
    "duration": 11,
    "start_time": "2022-03-27T08:28:22.537Z"
   },
   {
    "duration": 30,
    "start_time": "2022-03-27T08:28:22.549Z"
   },
   {
    "duration": 15,
    "start_time": "2022-03-27T08:28:22.581Z"
   },
   {
    "duration": 15,
    "start_time": "2022-03-27T08:28:22.600Z"
   },
   {
    "duration": 21,
    "start_time": "2022-03-27T08:28:22.617Z"
   },
   {
    "duration": 18,
    "start_time": "2022-03-27T08:28:22.640Z"
   },
   {
    "duration": 12,
    "start_time": "2022-03-27T08:28:22.660Z"
   },
   {
    "duration": 12,
    "start_time": "2022-03-27T08:28:22.674Z"
   },
   {
    "duration": 34,
    "start_time": "2022-03-27T08:28:22.687Z"
   },
   {
    "duration": 13,
    "start_time": "2022-03-27T08:28:22.725Z"
   },
   {
    "duration": 6,
    "start_time": "2022-03-27T08:28:22.740Z"
   },
   {
    "duration": 9,
    "start_time": "2022-03-27T08:28:22.748Z"
   },
   {
    "duration": 308,
    "start_time": "2022-03-27T08:28:22.759Z"
   },
   {
    "duration": 411,
    "start_time": "2022-03-27T08:28:23.069Z"
   },
   {
    "duration": 308,
    "start_time": "2022-03-27T08:28:23.482Z"
   },
   {
    "duration": 353,
    "start_time": "2022-03-27T08:28:23.791Z"
   },
   {
    "duration": 5,
    "start_time": "2022-03-27T08:28:24.146Z"
   },
   {
    "duration": 28,
    "start_time": "2022-03-27T08:28:24.153Z"
   },
   {
    "duration": 17,
    "start_time": "2022-03-27T08:28:24.183Z"
   },
   {
    "duration": 310,
    "start_time": "2022-03-27T08:28:24.202Z"
   },
   {
    "duration": 186,
    "start_time": "2022-03-27T08:28:24.514Z"
   },
   {
    "duration": 10,
    "start_time": "2022-03-27T08:28:24.702Z"
   },
   {
    "duration": 171,
    "start_time": "2022-03-27T08:28:24.714Z"
   },
   {
    "duration": 6,
    "start_time": "2022-03-27T08:28:24.887Z"
   },
   {
    "duration": 194,
    "start_time": "2022-03-27T08:28:24.895Z"
   },
   {
    "duration": 6,
    "start_time": "2022-03-27T08:28:25.091Z"
   },
   {
    "duration": 10,
    "start_time": "2022-03-27T08:28:25.099Z"
   },
   {
    "duration": 11,
    "start_time": "2022-03-27T08:28:25.111Z"
   },
   {
    "duration": 8,
    "start_time": "2022-03-27T08:28:25.134Z"
   },
   {
    "duration": 13,
    "start_time": "2022-03-27T08:28:26.564Z"
   },
   {
    "duration": 12,
    "start_time": "2022-03-27T08:28:29.440Z"
   },
   {
    "duration": 5,
    "start_time": "2022-03-27T08:28:54.364Z"
   },
   {
    "duration": 7,
    "start_time": "2022-03-27T08:29:05.996Z"
   },
   {
    "duration": 14,
    "start_time": "2022-03-27T08:29:17.744Z"
   },
   {
    "duration": 13,
    "start_time": "2022-03-27T08:32:27.112Z"
   },
   {
    "duration": 2,
    "start_time": "2022-03-27T08:32:54.912Z"
   },
   {
    "duration": 5,
    "start_time": "2022-03-27T08:32:57.172Z"
   },
   {
    "duration": 4,
    "start_time": "2022-03-27T08:33:01.788Z"
   },
   {
    "duration": 3925,
    "start_time": "2022-03-27T08:33:04.732Z"
   },
   {
    "duration": 2704,
    "start_time": "2022-03-27T08:33:24.511Z"
   },
   {
    "duration": 3,
    "start_time": "2022-03-27T08:33:56.263Z"
   },
   {
    "duration": 10,
    "start_time": "2022-03-27T08:33:56.270Z"
   },
   {
    "duration": 14,
    "start_time": "2022-03-27T08:33:56.282Z"
   },
   {
    "duration": 772,
    "start_time": "2022-03-27T08:33:56.298Z"
   },
   {
    "duration": 19,
    "start_time": "2022-03-27T08:33:57.071Z"
   },
   {
    "duration": 14,
    "start_time": "2022-03-27T08:33:57.092Z"
   },
   {
    "duration": 44,
    "start_time": "2022-03-27T08:33:57.108Z"
   },
   {
    "duration": 4,
    "start_time": "2022-03-27T08:33:57.153Z"
   },
   {
    "duration": 253,
    "start_time": "2022-03-27T08:33:57.159Z"
   },
   {
    "duration": 20,
    "start_time": "2022-03-27T08:33:57.413Z"
   },
   {
    "duration": 3,
    "start_time": "2022-03-27T08:33:57.436Z"
   },
   {
    "duration": 21,
    "start_time": "2022-03-27T08:33:57.441Z"
   },
   {
    "duration": 6,
    "start_time": "2022-03-27T08:33:57.464Z"
   },
   {
    "duration": 138,
    "start_time": "2022-03-27T08:33:57.472Z"
   },
   {
    "duration": 10,
    "start_time": "2022-03-27T08:33:57.612Z"
   },
   {
    "duration": 23,
    "start_time": "2022-03-27T08:33:57.623Z"
   },
   {
    "duration": 5,
    "start_time": "2022-03-27T08:33:57.648Z"
   },
   {
    "duration": 16,
    "start_time": "2022-03-27T08:33:57.654Z"
   },
   {
    "duration": 16,
    "start_time": "2022-03-27T08:33:57.671Z"
   },
   {
    "duration": 11,
    "start_time": "2022-03-27T08:33:57.689Z"
   },
   {
    "duration": 12,
    "start_time": "2022-03-27T08:33:57.738Z"
   },
   {
    "duration": 7,
    "start_time": "2022-03-27T08:33:57.752Z"
   },
   {
    "duration": 10,
    "start_time": "2022-03-27T08:33:57.760Z"
   },
   {
    "duration": 12,
    "start_time": "2022-03-27T08:33:57.771Z"
   },
   {
    "duration": 8,
    "start_time": "2022-03-27T08:33:57.785Z"
   },
   {
    "duration": 44,
    "start_time": "2022-03-27T08:33:57.796Z"
   },
   {
    "duration": 6,
    "start_time": "2022-03-27T08:33:57.842Z"
   },
   {
    "duration": 10,
    "start_time": "2022-03-27T08:33:57.850Z"
   },
   {
    "duration": 6,
    "start_time": "2022-03-27T08:33:57.861Z"
   },
   {
    "duration": 8,
    "start_time": "2022-03-27T08:33:57.868Z"
   },
   {
    "duration": 10,
    "start_time": "2022-03-27T08:33:57.877Z"
   },
   {
    "duration": 485,
    "start_time": "2022-03-27T08:33:57.889Z"
   },
   {
    "duration": 285,
    "start_time": "2022-03-27T08:33:58.376Z"
   },
   {
    "duration": 338,
    "start_time": "2022-03-27T08:33:58.663Z"
   },
   {
    "duration": 352,
    "start_time": "2022-03-27T08:33:59.003Z"
   },
   {
    "duration": 4,
    "start_time": "2022-03-27T08:33:59.357Z"
   },
   {
    "duration": 15,
    "start_time": "2022-03-27T08:33:59.362Z"
   },
   {
    "duration": 9,
    "start_time": "2022-03-27T08:33:59.379Z"
   },
   {
    "duration": 312,
    "start_time": "2022-03-27T08:33:59.390Z"
   },
   {
    "duration": 196,
    "start_time": "2022-03-27T08:33:59.704Z"
   },
   {
    "duration": 11,
    "start_time": "2022-03-27T08:33:59.901Z"
   },
   {
    "duration": 192,
    "start_time": "2022-03-27T08:33:59.914Z"
   },
   {
    "duration": 7,
    "start_time": "2022-03-27T08:34:00.109Z"
   },
   {
    "duration": 328,
    "start_time": "2022-03-27T08:34:00.117Z"
   },
   {
    "duration": 9,
    "start_time": "2022-03-27T08:34:00.447Z"
   },
   {
    "duration": 19,
    "start_time": "2022-03-27T08:34:00.458Z"
   },
   {
    "duration": 21,
    "start_time": "2022-03-27T08:34:00.479Z"
   },
   {
    "duration": 13,
    "start_time": "2022-03-27T08:34:00.502Z"
   },
   {
    "duration": 12,
    "start_time": "2022-03-27T08:34:00.516Z"
   },
   {
    "duration": 21,
    "start_time": "2022-03-27T08:34:00.529Z"
   },
   {
    "duration": 24,
    "start_time": "2022-03-27T08:34:00.552Z"
   },
   {
    "duration": 2660,
    "start_time": "2022-03-27T08:34:04.831Z"
   },
   {
    "duration": 19,
    "start_time": "2022-03-27T08:34:14.632Z"
   },
   {
    "duration": 3,
    "start_time": "2022-03-27T08:34:32.948Z"
   },
   {
    "duration": 5,
    "start_time": "2022-03-27T08:34:32.956Z"
   },
   {
    "duration": 7,
    "start_time": "2022-03-27T08:34:32.963Z"
   },
   {
    "duration": 715,
    "start_time": "2022-03-27T08:34:32.973Z"
   },
   {
    "duration": 18,
    "start_time": "2022-03-27T08:34:33.690Z"
   },
   {
    "duration": 30,
    "start_time": "2022-03-27T08:34:33.710Z"
   },
   {
    "duration": 19,
    "start_time": "2022-03-27T08:34:33.741Z"
   },
   {
    "duration": 3,
    "start_time": "2022-03-27T08:34:33.762Z"
   },
   {
    "duration": 253,
    "start_time": "2022-03-27T08:34:33.766Z"
   },
   {
    "duration": 11,
    "start_time": "2022-03-27T08:34:34.020Z"
   },
   {
    "duration": 3,
    "start_time": "2022-03-27T08:34:34.034Z"
   },
   {
    "duration": 10,
    "start_time": "2022-03-27T08:34:34.038Z"
   },
   {
    "duration": 2,
    "start_time": "2022-03-27T08:34:34.050Z"
   },
   {
    "duration": 146,
    "start_time": "2022-03-27T08:34:34.054Z"
   },
   {
    "duration": 10,
    "start_time": "2022-03-27T08:34:34.201Z"
   },
   {
    "duration": 28,
    "start_time": "2022-03-27T08:34:34.213Z"
   },
   {
    "duration": 4,
    "start_time": "2022-03-27T08:34:34.243Z"
   },
   {
    "duration": 14,
    "start_time": "2022-03-27T08:34:34.248Z"
   },
   {
    "duration": 15,
    "start_time": "2022-03-27T08:34:34.264Z"
   },
   {
    "duration": 12,
    "start_time": "2022-03-27T08:34:34.281Z"
   },
   {
    "duration": 39,
    "start_time": "2022-03-27T08:34:34.295Z"
   },
   {
    "duration": 8,
    "start_time": "2022-03-27T08:34:34.336Z"
   },
   {
    "duration": 10,
    "start_time": "2022-03-27T08:34:34.346Z"
   },
   {
    "duration": 14,
    "start_time": "2022-03-27T08:34:34.358Z"
   },
   {
    "duration": 11,
    "start_time": "2022-03-27T08:34:34.373Z"
   },
   {
    "duration": 53,
    "start_time": "2022-03-27T08:34:34.388Z"
   },
   {
    "duration": 6,
    "start_time": "2022-03-27T08:34:34.443Z"
   },
   {
    "duration": 7,
    "start_time": "2022-03-27T08:34:34.451Z"
   },
   {
    "duration": 10,
    "start_time": "2022-03-27T08:34:34.459Z"
   },
   {
    "duration": 8,
    "start_time": "2022-03-27T08:34:34.471Z"
   },
   {
    "duration": 12,
    "start_time": "2022-03-27T08:34:34.481Z"
   },
   {
    "duration": 329,
    "start_time": "2022-03-27T08:34:34.495Z"
   },
   {
    "duration": 273,
    "start_time": "2022-03-27T08:34:34.826Z"
   },
   {
    "duration": 306,
    "start_time": "2022-03-27T08:34:35.102Z"
   },
   {
    "duration": 318,
    "start_time": "2022-03-27T08:34:35.410Z"
   },
   {
    "duration": 5,
    "start_time": "2022-03-27T08:34:35.732Z"
   },
   {
    "duration": 12,
    "start_time": "2022-03-27T08:34:35.739Z"
   },
   {
    "duration": 9,
    "start_time": "2022-03-27T08:34:35.753Z"
   },
   {
    "duration": 303,
    "start_time": "2022-03-27T08:34:35.763Z"
   },
   {
    "duration": 293,
    "start_time": "2022-03-27T08:34:36.069Z"
   },
   {
    "duration": 12,
    "start_time": "2022-03-27T08:34:36.364Z"
   },
   {
    "duration": 188,
    "start_time": "2022-03-27T08:34:36.377Z"
   },
   {
    "duration": 8,
    "start_time": "2022-03-27T08:34:36.567Z"
   },
   {
    "duration": 186,
    "start_time": "2022-03-27T08:34:36.577Z"
   },
   {
    "duration": 8,
    "start_time": "2022-03-27T08:34:36.765Z"
   },
   {
    "duration": 7,
    "start_time": "2022-03-27T08:34:36.774Z"
   },
   {
    "duration": 10,
    "start_time": "2022-03-27T08:34:36.782Z"
   },
   {
    "duration": 8,
    "start_time": "2022-03-27T08:34:36.793Z"
   },
   {
    "duration": 6,
    "start_time": "2022-03-27T08:34:36.803Z"
   },
   {
    "duration": 6,
    "start_time": "2022-03-27T08:34:36.833Z"
   },
   {
    "duration": 4,
    "start_time": "2022-03-27T08:34:40.275Z"
   },
   {
    "duration": 20,
    "start_time": "2022-03-27T08:34:53.216Z"
   },
   {
    "duration": 12,
    "start_time": "2022-03-27T08:34:59.800Z"
   },
   {
    "duration": 1924,
    "start_time": "2022-03-27T08:35:20.667Z"
   },
   {
    "duration": 12,
    "start_time": "2022-03-27T08:35:25.495Z"
   },
   {
    "duration": 12,
    "start_time": "2022-03-27T08:44:34.597Z"
   },
   {
    "duration": 4,
    "start_time": "2022-03-27T08:45:38.633Z"
   },
   {
    "duration": 4,
    "start_time": "2022-03-27T08:49:52.452Z"
   },
   {
    "duration": 14,
    "start_time": "2022-03-27T08:50:01.020Z"
   },
   {
    "duration": 4,
    "start_time": "2022-03-27T08:50:07.452Z"
   },
   {
    "duration": 11,
    "start_time": "2022-03-27T08:50:15.611Z"
   },
   {
    "duration": 5,
    "start_time": "2022-03-27T08:50:19.760Z"
   },
   {
    "duration": 2848,
    "start_time": "2022-03-27T08:55:15.407Z"
   },
   {
    "duration": 5,
    "start_time": "2022-03-27T08:58:06.906Z"
   },
   {
    "duration": 9,
    "start_time": "2022-03-27T09:01:24.990Z"
   },
   {
    "duration": 3,
    "start_time": "2022-03-27T09:01:48.298Z"
   },
   {
    "duration": 4,
    "start_time": "2022-03-27T09:02:04.709Z"
   },
   {
    "duration": 4,
    "start_time": "2022-03-27T09:03:10.941Z"
   },
   {
    "duration": 4,
    "start_time": "2022-03-27T09:03:13.078Z"
   },
   {
    "duration": 4,
    "start_time": "2022-03-27T09:04:01.578Z"
   },
   {
    "duration": 28,
    "start_time": "2022-03-27T09:12:00.774Z"
   },
   {
    "duration": 20072,
    "start_time": "2022-03-27T09:13:41.306Z"
   },
   {
    "duration": 6,
    "start_time": "2022-03-27T09:14:55.398Z"
   },
   {
    "duration": 5,
    "start_time": "2022-03-27T09:17:11.322Z"
   },
   {
    "duration": 5,
    "start_time": "2022-03-27T09:17:32.730Z"
   },
   {
    "duration": 179,
    "start_time": "2022-03-27T09:17:57.138Z"
   },
   {
    "duration": 5,
    "start_time": "2022-03-27T09:17:59.110Z"
   },
   {
    "duration": 3,
    "start_time": "2022-03-27T09:29:20.330Z"
   },
   {
    "duration": 4,
    "start_time": "2022-03-27T09:36:55.493Z"
   },
   {
    "duration": 3,
    "start_time": "2022-03-27T09:36:57.449Z"
   },
   {
    "duration": 74145,
    "start_time": "2022-03-27T09:37:33.381Z"
   },
   {
    "duration": 4,
    "start_time": "2022-03-27T09:38:47.528Z"
   },
   {
    "duration": 22,
    "start_time": "2022-03-27T09:38:47.534Z"
   },
   {
    "duration": 4,
    "start_time": "2022-03-27T09:39:11.733Z"
   },
   {
    "duration": 4,
    "start_time": "2022-03-27T09:39:37.425Z"
   },
   {
    "duration": 3,
    "start_time": "2022-03-27T09:39:56.629Z"
   },
   {
    "duration": 3,
    "start_time": "2022-03-27T09:39:58.849Z"
   },
   {
    "duration": 0,
    "start_time": "2022-03-27T09:41:14.171Z"
   },
   {
    "duration": 0,
    "start_time": "2022-03-27T09:41:14.173Z"
   },
   {
    "duration": 0,
    "start_time": "2022-03-27T09:41:14.174Z"
   },
   {
    "duration": 0,
    "start_time": "2022-03-27T09:41:14.175Z"
   },
   {
    "duration": 2,
    "start_time": "2022-03-27T09:41:45.989Z"
   },
   {
    "duration": 3,
    "start_time": "2022-03-27T09:41:48.284Z"
   },
   {
    "duration": 567362,
    "start_time": "2022-03-27T09:41:51.001Z"
   },
   {
    "duration": 0,
    "start_time": "2022-03-27T09:51:18.365Z"
   },
   {
    "duration": 0,
    "start_time": "2022-03-27T09:51:18.367Z"
   },
   {
    "duration": 0,
    "start_time": "2022-03-27T09:51:18.368Z"
   },
   {
    "duration": 3,
    "start_time": "2022-03-27T09:51:40.648Z"
   },
   {
    "duration": 3,
    "start_time": "2022-03-27T09:51:43.574Z"
   },
   {
    "duration": 201837,
    "start_time": "2022-03-27T09:51:45.726Z"
   },
   {
    "duration": 0,
    "start_time": "2022-03-27T09:55:07.566Z"
   },
   {
    "duration": 0,
    "start_time": "2022-03-27T09:55:07.567Z"
   },
   {
    "duration": 0,
    "start_time": "2022-03-27T09:55:07.568Z"
   },
   {
    "duration": 4,
    "start_time": "2022-03-27T09:55:13.073Z"
   },
   {
    "duration": 4,
    "start_time": "2022-03-27T09:55:15.435Z"
   },
   {
    "duration": 154838,
    "start_time": "2022-03-27T09:55:17.430Z"
   },
   {
    "duration": 4,
    "start_time": "2022-03-27T09:57:52.271Z"
   },
   {
    "duration": 154,
    "start_time": "2022-03-27T09:57:52.277Z"
   },
   {
    "duration": 6,
    "start_time": "2022-03-27T09:57:52.433Z"
   },
   {
    "duration": 3,
    "start_time": "2022-03-27T09:58:15.914Z"
   },
   {
    "duration": 3,
    "start_time": "2022-03-27T09:58:17.826Z"
   },
   {
    "duration": 252221,
    "start_time": "2022-03-27T09:58:19.890Z"
   },
   {
    "duration": 4,
    "start_time": "2022-03-27T10:02:32.114Z"
   },
   {
    "duration": 169,
    "start_time": "2022-03-27T10:02:32.120Z"
   },
   {
    "duration": 6,
    "start_time": "2022-03-27T10:02:32.291Z"
   },
   {
    "duration": 172,
    "start_time": "2022-03-27T10:11:24.319Z"
   },
   {
    "duration": 4,
    "start_time": "2022-03-27T10:11:53.161Z"
   },
   {
    "duration": 3,
    "start_time": "2022-03-27T10:11:55.659Z"
   },
   {
    "duration": 51,
    "start_time": "2022-03-27T10:36:38.440Z"
   },
   {
    "duration": 1400,
    "start_time": "2022-03-27T10:36:42.737Z"
   },
   {
    "duration": 361,
    "start_time": "2022-03-27T10:36:44.140Z"
   },
   {
    "duration": 3,
    "start_time": "2022-03-27T10:36:44.504Z"
   },
   {
    "duration": 670,
    "start_time": "2022-03-27T10:36:44.510Z"
   },
   {
    "duration": 28,
    "start_time": "2022-03-27T10:36:45.182Z"
   },
   {
    "duration": 13,
    "start_time": "2022-03-27T10:36:45.212Z"
   },
   {
    "duration": 39,
    "start_time": "2022-03-27T10:36:45.227Z"
   },
   {
    "duration": 4,
    "start_time": "2022-03-27T10:36:45.268Z"
   },
   {
    "duration": 241,
    "start_time": "2022-03-27T10:36:45.273Z"
   },
   {
    "duration": 85,
    "start_time": "2022-03-27T10:36:45.517Z"
   },
   {
    "duration": 0,
    "start_time": "2022-03-27T10:36:45.605Z"
   },
   {
    "duration": 0,
    "start_time": "2022-03-27T10:36:45.606Z"
   },
   {
    "duration": 0,
    "start_time": "2022-03-27T10:36:45.607Z"
   },
   {
    "duration": 0,
    "start_time": "2022-03-27T10:36:45.608Z"
   },
   {
    "duration": 0,
    "start_time": "2022-03-27T10:36:45.609Z"
   },
   {
    "duration": 0,
    "start_time": "2022-03-27T10:36:45.611Z"
   },
   {
    "duration": 0,
    "start_time": "2022-03-27T10:36:45.612Z"
   },
   {
    "duration": 0,
    "start_time": "2022-03-27T10:36:45.613Z"
   },
   {
    "duration": 0,
    "start_time": "2022-03-27T10:36:45.614Z"
   },
   {
    "duration": 0,
    "start_time": "2022-03-27T10:36:45.615Z"
   },
   {
    "duration": 0,
    "start_time": "2022-03-27T10:36:45.616Z"
   },
   {
    "duration": 0,
    "start_time": "2022-03-27T10:36:45.617Z"
   },
   {
    "duration": 0,
    "start_time": "2022-03-27T10:36:45.618Z"
   },
   {
    "duration": 0,
    "start_time": "2022-03-27T10:36:45.619Z"
   },
   {
    "duration": 0,
    "start_time": "2022-03-27T10:36:45.620Z"
   },
   {
    "duration": 0,
    "start_time": "2022-03-27T10:36:45.621Z"
   },
   {
    "duration": 0,
    "start_time": "2022-03-27T10:36:45.622Z"
   },
   {
    "duration": 0,
    "start_time": "2022-03-27T10:36:45.623Z"
   },
   {
    "duration": 0,
    "start_time": "2022-03-27T10:36:45.624Z"
   },
   {
    "duration": 0,
    "start_time": "2022-03-27T10:36:45.625Z"
   },
   {
    "duration": 0,
    "start_time": "2022-03-27T10:36:45.626Z"
   },
   {
    "duration": 0,
    "start_time": "2022-03-27T10:36:45.627Z"
   },
   {
    "duration": 0,
    "start_time": "2022-03-27T10:36:45.628Z"
   },
   {
    "duration": 0,
    "start_time": "2022-03-27T10:36:45.629Z"
   },
   {
    "duration": 0,
    "start_time": "2022-03-27T10:36:45.630Z"
   },
   {
    "duration": 0,
    "start_time": "2022-03-27T10:36:45.631Z"
   },
   {
    "duration": 0,
    "start_time": "2022-03-27T10:36:45.632Z"
   },
   {
    "duration": 0,
    "start_time": "2022-03-27T10:36:45.633Z"
   },
   {
    "duration": 0,
    "start_time": "2022-03-27T10:36:45.634Z"
   },
   {
    "duration": 0,
    "start_time": "2022-03-27T10:36:45.636Z"
   },
   {
    "duration": 0,
    "start_time": "2022-03-27T10:36:45.637Z"
   },
   {
    "duration": 0,
    "start_time": "2022-03-27T10:36:45.637Z"
   },
   {
    "duration": 0,
    "start_time": "2022-03-27T10:36:45.638Z"
   },
   {
    "duration": 0,
    "start_time": "2022-03-27T10:36:45.639Z"
   },
   {
    "duration": 0,
    "start_time": "2022-03-27T10:36:45.701Z"
   },
   {
    "duration": 0,
    "start_time": "2022-03-27T10:36:45.702Z"
   },
   {
    "duration": 0,
    "start_time": "2022-03-27T10:36:45.703Z"
   },
   {
    "duration": 0,
    "start_time": "2022-03-27T10:36:45.704Z"
   },
   {
    "duration": 0,
    "start_time": "2022-03-27T10:36:45.705Z"
   },
   {
    "duration": 0,
    "start_time": "2022-03-27T10:36:45.706Z"
   },
   {
    "duration": 0,
    "start_time": "2022-03-27T10:36:45.707Z"
   },
   {
    "duration": 0,
    "start_time": "2022-03-27T10:36:45.708Z"
   },
   {
    "duration": 0,
    "start_time": "2022-03-27T10:36:45.709Z"
   },
   {
    "duration": 0,
    "start_time": "2022-03-27T10:36:45.710Z"
   },
   {
    "duration": 0,
    "start_time": "2022-03-27T10:36:45.711Z"
   },
   {
    "duration": 0,
    "start_time": "2022-03-27T10:36:45.712Z"
   },
   {
    "duration": 0,
    "start_time": "2022-03-27T10:36:45.713Z"
   },
   {
    "duration": 0,
    "start_time": "2022-03-27T10:36:45.714Z"
   },
   {
    "duration": 0,
    "start_time": "2022-03-27T10:36:45.715Z"
   },
   {
    "duration": 0,
    "start_time": "2022-03-27T10:36:45.717Z"
   },
   {
    "duration": 11,
    "start_time": "2022-03-27T10:36:47.476Z"
   },
   {
    "duration": 3,
    "start_time": "2022-03-27T10:36:50.153Z"
   },
   {
    "duration": 3,
    "start_time": "2022-03-27T10:36:52.481Z"
   },
   {
    "duration": 9,
    "start_time": "2022-03-27T10:36:55.397Z"
   },
   {
    "duration": 3,
    "start_time": "2022-03-27T10:37:49.901Z"
   },
   {
    "duration": 3,
    "start_time": "2022-03-27T10:37:53.352Z"
   },
   {
    "duration": 5,
    "start_time": "2022-03-27T10:37:53.360Z"
   },
   {
    "duration": 7,
    "start_time": "2022-03-27T10:37:53.366Z"
   },
   {
    "duration": 785,
    "start_time": "2022-03-27T10:37:53.375Z"
   },
   {
    "duration": 19,
    "start_time": "2022-03-27T10:37:54.162Z"
   },
   {
    "duration": 28,
    "start_time": "2022-03-27T10:37:54.183Z"
   },
   {
    "duration": 21,
    "start_time": "2022-03-27T10:37:54.214Z"
   },
   {
    "duration": 3,
    "start_time": "2022-03-27T10:37:54.237Z"
   },
   {
    "duration": 269,
    "start_time": "2022-03-27T10:37:54.242Z"
   },
   {
    "duration": 8,
    "start_time": "2022-03-27T10:37:54.513Z"
   },
   {
    "duration": 11,
    "start_time": "2022-03-27T10:37:54.524Z"
   },
   {
    "duration": 11,
    "start_time": "2022-03-27T10:37:54.537Z"
   },
   {
    "duration": 4,
    "start_time": "2022-03-27T10:37:54.551Z"
   },
   {
    "duration": 204,
    "start_time": "2022-03-27T10:37:54.557Z"
   },
   {
    "duration": 13,
    "start_time": "2022-03-27T10:37:54.763Z"
   },
   {
    "duration": 33,
    "start_time": "2022-03-27T10:37:54.779Z"
   },
   {
    "duration": 5,
    "start_time": "2022-03-27T10:37:54.814Z"
   },
   {
    "duration": 20,
    "start_time": "2022-03-27T10:37:54.821Z"
   },
   {
    "duration": 19,
    "start_time": "2022-03-27T10:37:54.844Z"
   },
   {
    "duration": 43,
    "start_time": "2022-03-27T10:37:54.866Z"
   },
   {
    "duration": 14,
    "start_time": "2022-03-27T10:37:54.912Z"
   },
   {
    "duration": 9,
    "start_time": "2022-03-27T10:37:54.929Z"
   },
   {
    "duration": 14,
    "start_time": "2022-03-27T10:37:54.940Z"
   },
   {
    "duration": 50,
    "start_time": "2022-03-27T10:37:54.956Z"
   },
   {
    "duration": 10,
    "start_time": "2022-03-27T10:37:55.008Z"
   },
   {
    "duration": 12,
    "start_time": "2022-03-27T10:37:55.020Z"
   },
   {
    "duration": 12,
    "start_time": "2022-03-27T10:37:55.034Z"
   },
   {
    "duration": 9,
    "start_time": "2022-03-27T10:37:55.049Z"
   },
   {
    "duration": 44,
    "start_time": "2022-03-27T10:37:55.060Z"
   },
   {
    "duration": 10,
    "start_time": "2022-03-27T10:37:55.106Z"
   },
   {
    "duration": 19,
    "start_time": "2022-03-27T10:37:55.121Z"
   },
   {
    "duration": 289,
    "start_time": "2022-03-27T10:37:55.142Z"
   },
   {
    "duration": 262,
    "start_time": "2022-03-27T10:37:55.433Z"
   },
   {
    "duration": 368,
    "start_time": "2022-03-27T10:37:55.701Z"
   },
   {
    "duration": 312,
    "start_time": "2022-03-27T10:37:56.071Z"
   },
   {
    "duration": 5,
    "start_time": "2022-03-27T10:37:56.385Z"
   },
   {
    "duration": 12,
    "start_time": "2022-03-27T10:37:56.400Z"
   },
   {
    "duration": 8,
    "start_time": "2022-03-27T10:37:56.414Z"
   },
   {
    "duration": 294,
    "start_time": "2022-03-27T10:37:56.424Z"
   },
   {
    "duration": 184,
    "start_time": "2022-03-27T10:37:56.719Z"
   },
   {
    "duration": 15,
    "start_time": "2022-03-27T10:37:56.905Z"
   },
   {
    "duration": 172,
    "start_time": "2022-03-27T10:37:56.922Z"
   },
   {
    "duration": 7,
    "start_time": "2022-03-27T10:37:57.100Z"
   },
   {
    "duration": 173,
    "start_time": "2022-03-27T10:37:57.109Z"
   },
   {
    "duration": 7,
    "start_time": "2022-03-27T10:37:57.284Z"
   },
   {
    "duration": 6,
    "start_time": "2022-03-27T10:37:57.302Z"
   },
   {
    "duration": 7,
    "start_time": "2022-03-27T10:37:57.310Z"
   },
   {
    "duration": 9,
    "start_time": "2022-03-27T10:37:57.319Z"
   },
   {
    "duration": 6,
    "start_time": "2022-03-27T10:37:57.330Z"
   },
   {
    "duration": 9,
    "start_time": "2022-03-27T10:37:57.338Z"
   },
   {
    "duration": 7,
    "start_time": "2022-03-27T10:37:57.349Z"
   },
   {
    "duration": 9,
    "start_time": "2022-03-27T10:37:57.357Z"
   },
   {
    "duration": 17,
    "start_time": "2022-03-27T10:37:57.401Z"
   },
   {
    "duration": 189,
    "start_time": "2022-03-27T10:37:57.420Z"
   },
   {
    "duration": 192,
    "start_time": "2022-03-27T10:37:57.611Z"
   },
   {
    "duration": 0,
    "start_time": "2022-03-27T10:37:57.805Z"
   },
   {
    "duration": 0,
    "start_time": "2022-03-27T10:37:57.807Z"
   },
   {
    "duration": 0,
    "start_time": "2022-03-27T10:37:57.808Z"
   },
   {
    "duration": 0,
    "start_time": "2022-03-27T10:37:57.810Z"
   },
   {
    "duration": 0,
    "start_time": "2022-03-27T10:37:57.811Z"
   },
   {
    "duration": 0,
    "start_time": "2022-03-27T10:37:57.812Z"
   },
   {
    "duration": 0,
    "start_time": "2022-03-27T10:37:57.814Z"
   },
   {
    "duration": 0,
    "start_time": "2022-03-27T10:37:57.815Z"
   },
   {
    "duration": 0,
    "start_time": "2022-03-27T10:37:57.816Z"
   },
   {
    "duration": 0,
    "start_time": "2022-03-27T10:37:57.818Z"
   },
   {
    "duration": 14,
    "start_time": "2022-03-27T10:38:07.493Z"
   },
   {
    "duration": 3,
    "start_time": "2022-03-27T10:38:23.809Z"
   },
   {
    "duration": 4,
    "start_time": "2022-03-27T10:38:26.281Z"
   },
   {
    "duration": 19901,
    "start_time": "2022-03-27T10:38:28.621Z"
   },
   {
    "duration": 204,
    "start_time": "2022-03-27T10:38:48.524Z"
   },
   {
    "duration": 5,
    "start_time": "2022-03-27T10:38:48.730Z"
   },
   {
    "duration": 6,
    "start_time": "2022-03-27T10:38:48.737Z"
   },
   {
    "duration": 5,
    "start_time": "2022-03-27T10:38:48.745Z"
   },
   {
    "duration": 270523,
    "start_time": "2022-03-27T10:38:48.752Z"
   },
   {
    "duration": 5,
    "start_time": "2022-03-27T10:43:19.277Z"
   },
   {
    "duration": 141,
    "start_time": "2022-03-27T10:43:19.284Z"
   },
   {
    "duration": 4,
    "start_time": "2022-03-27T10:43:19.428Z"
   },
   {
    "duration": 3,
    "start_time": "2022-03-27T10:43:50.048Z"
   },
   {
    "duration": 3,
    "start_time": "2022-03-27T10:43:52.372Z"
   },
   {
    "duration": 300033,
    "start_time": "2022-03-27T10:43:55.068Z"
   },
   {
    "duration": 5,
    "start_time": "2022-03-27T10:48:55.103Z"
   },
   {
    "duration": 59,
    "start_time": "2022-03-27T10:48:55.110Z"
   },
   {
    "duration": 4,
    "start_time": "2022-03-27T10:48:55.172Z"
   },
   {
    "duration": 23,
    "start_time": "2022-03-27T10:48:55.178Z"
   },
   {
    "duration": 3,
    "start_time": "2022-03-27T10:49:11.932Z"
   },
   {
    "duration": 4,
    "start_time": "2022-03-27T10:49:14.195Z"
   },
   {
    "duration": 163352,
    "start_time": "2022-03-27T10:49:16.191Z"
   },
   {
    "duration": 5,
    "start_time": "2022-03-27T10:51:59.545Z"
   },
   {
    "duration": 50,
    "start_time": "2022-03-27T10:51:59.551Z"
   },
   {
    "duration": 5,
    "start_time": "2022-03-27T10:51:59.603Z"
   },
   {
    "duration": 3,
    "start_time": "2022-03-27T10:52:10.711Z"
   },
   {
    "duration": 3,
    "start_time": "2022-03-27T10:52:14.947Z"
   },
   {
    "duration": 52953,
    "start_time": "2022-03-27T10:52:15.579Z"
   },
   {
    "duration": 6,
    "start_time": "2022-03-27T10:53:08.534Z"
   },
   {
    "duration": 31,
    "start_time": "2022-03-27T10:53:08.542Z"
   },
   {
    "duration": 26,
    "start_time": "2022-03-27T10:53:08.575Z"
   },
   {
    "duration": 3,
    "start_time": "2022-03-27T10:54:35.723Z"
   },
   {
    "duration": 3,
    "start_time": "2022-03-27T10:54:37.743Z"
   },
   {
    "duration": 501941,
    "start_time": "2022-03-27T10:54:40.675Z"
   },
   {
    "duration": 5,
    "start_time": "2022-03-27T11:03:02.618Z"
   },
   {
    "duration": 28,
    "start_time": "2022-03-27T11:03:02.624Z"
   },
   {
    "duration": 5,
    "start_time": "2022-03-27T11:03:02.654Z"
   },
   {
    "duration": 2188,
    "start_time": "2022-03-27T11:06:15.618Z"
   },
   {
    "duration": 4,
    "start_time": "2022-03-27T11:06:25.554Z"
   },
   {
    "duration": 18,
    "start_time": "2022-03-27T11:06:35.746Z"
   },
   {
    "duration": 3,
    "start_time": "2022-03-27T11:06:48.918Z"
   },
   {
    "duration": 2,
    "start_time": "2022-03-27T11:07:12.342Z"
   },
   {
    "duration": 3,
    "start_time": "2022-03-27T11:08:32.125Z"
   },
   {
    "duration": 5,
    "start_time": "2022-03-27T11:10:51.730Z"
   },
   {
    "duration": 14,
    "start_time": "2022-03-27T11:11:03.605Z"
   },
   {
    "duration": 9,
    "start_time": "2022-03-27T11:13:17.213Z"
   },
   {
    "duration": 10,
    "start_time": "2022-03-27T11:13:19.381Z"
   },
   {
    "duration": 3,
    "start_time": "2022-03-27T11:16:06.796Z"
   },
   {
    "duration": 4,
    "start_time": "2022-03-27T11:16:06.803Z"
   },
   {
    "duration": 2,
    "start_time": "2022-03-27T11:16:06.812Z"
   },
   {
    "duration": 700,
    "start_time": "2022-03-27T11:16:06.819Z"
   },
   {
    "duration": 20,
    "start_time": "2022-03-27T11:16:07.521Z"
   },
   {
    "duration": 13,
    "start_time": "2022-03-27T11:16:07.543Z"
   },
   {
    "duration": 47,
    "start_time": "2022-03-27T11:16:07.559Z"
   },
   {
    "duration": 4,
    "start_time": "2022-03-27T11:16:07.608Z"
   },
   {
    "duration": 234,
    "start_time": "2022-03-27T11:16:07.614Z"
   },
   {
    "duration": 5,
    "start_time": "2022-03-27T11:16:07.850Z"
   },
   {
    "duration": 6,
    "start_time": "2022-03-27T11:16:07.857Z"
   },
   {
    "duration": 11,
    "start_time": "2022-03-27T11:16:07.864Z"
   },
   {
    "duration": 3,
    "start_time": "2022-03-27T11:16:07.878Z"
   },
   {
    "duration": 133,
    "start_time": "2022-03-27T11:16:07.900Z"
   },
   {
    "duration": 11,
    "start_time": "2022-03-27T11:16:08.034Z"
   },
   {
    "duration": 12,
    "start_time": "2022-03-27T11:16:08.047Z"
   },
   {
    "duration": 4,
    "start_time": "2022-03-27T11:16:08.061Z"
   },
   {
    "duration": 43,
    "start_time": "2022-03-27T11:16:08.066Z"
   },
   {
    "duration": 16,
    "start_time": "2022-03-27T11:16:08.111Z"
   },
   {
    "duration": 11,
    "start_time": "2022-03-27T11:16:08.129Z"
   },
   {
    "duration": 9,
    "start_time": "2022-03-27T11:16:08.142Z"
   },
   {
    "duration": 9,
    "start_time": "2022-03-27T11:16:08.153Z"
   },
   {
    "duration": 43,
    "start_time": "2022-03-27T11:16:08.163Z"
   },
   {
    "duration": 12,
    "start_time": "2022-03-27T11:16:08.208Z"
   },
   {
    "duration": 14,
    "start_time": "2022-03-27T11:16:08.222Z"
   },
   {
    "duration": 11,
    "start_time": "2022-03-27T11:16:08.238Z"
   },
   {
    "duration": 6,
    "start_time": "2022-03-27T11:16:08.251Z"
   },
   {
    "duration": 45,
    "start_time": "2022-03-27T11:16:08.258Z"
   },
   {
    "duration": 6,
    "start_time": "2022-03-27T11:16:08.305Z"
   },
   {
    "duration": 8,
    "start_time": "2022-03-27T11:16:08.313Z"
   },
   {
    "duration": 10,
    "start_time": "2022-03-27T11:16:08.325Z"
   },
   {
    "duration": 281,
    "start_time": "2022-03-27T11:16:08.336Z"
   },
   {
    "duration": 247,
    "start_time": "2022-03-27T11:16:08.619Z"
   },
   {
    "duration": 280,
    "start_time": "2022-03-27T11:16:08.867Z"
   },
   {
    "duration": 313,
    "start_time": "2022-03-27T11:16:09.149Z"
   },
   {
    "duration": 4,
    "start_time": "2022-03-27T11:16:09.464Z"
   },
   {
    "duration": 12,
    "start_time": "2022-03-27T11:16:09.470Z"
   },
   {
    "duration": 18,
    "start_time": "2022-03-27T11:16:09.483Z"
   },
   {
    "duration": 366,
    "start_time": "2022-03-27T11:16:09.503Z"
   },
   {
    "duration": 185,
    "start_time": "2022-03-27T11:16:09.870Z"
   },
   {
    "duration": 13,
    "start_time": "2022-03-27T11:16:10.057Z"
   },
   {
    "duration": 224,
    "start_time": "2022-03-27T11:16:10.072Z"
   },
   {
    "duration": 9,
    "start_time": "2022-03-27T11:16:10.298Z"
   },
   {
    "duration": 196,
    "start_time": "2022-03-27T11:16:10.309Z"
   },
   {
    "duration": 7,
    "start_time": "2022-03-27T11:16:10.507Z"
   },
   {
    "duration": 5,
    "start_time": "2022-03-27T11:16:10.517Z"
   },
   {
    "duration": 8,
    "start_time": "2022-03-27T11:16:10.523Z"
   },
   {
    "duration": 7,
    "start_time": "2022-03-27T11:16:10.533Z"
   },
   {
    "duration": 6,
    "start_time": "2022-03-27T11:16:10.542Z"
   },
   {
    "duration": 13,
    "start_time": "2022-03-27T11:16:10.550Z"
   },
   {
    "duration": 36,
    "start_time": "2022-03-27T11:16:10.565Z"
   },
   {
    "duration": 7,
    "start_time": "2022-03-27T11:16:10.603Z"
   },
   {
    "duration": 20,
    "start_time": "2022-03-27T11:16:10.612Z"
   },
   {
    "duration": 167,
    "start_time": "2022-03-27T11:16:10.635Z"
   },
   {
    "duration": 11,
    "start_time": "2022-03-27T11:16:10.804Z"
   },
   {
    "duration": 88,
    "start_time": "2022-03-27T11:16:10.816Z"
   },
   {
    "duration": 20771,
    "start_time": "2022-03-27T11:16:10.907Z"
   },
   {
    "duration": 196,
    "start_time": "2022-03-27T11:16:31.680Z"
   },
   {
    "duration": 5,
    "start_time": "2022-03-27T11:16:31.878Z"
   },
   {
    "duration": 6,
    "start_time": "2022-03-27T11:16:31.884Z"
   },
   {
    "duration": 14,
    "start_time": "2022-03-27T11:16:31.902Z"
   },
   {
    "duration": 109383,
    "start_time": "2022-03-27T11:16:31.918Z"
   },
   {
    "duration": 0,
    "start_time": "2022-03-27T11:18:21.304Z"
   },
   {
    "duration": 0,
    "start_time": "2022-03-27T11:18:21.305Z"
   },
   {
    "duration": 0,
    "start_time": "2022-03-27T11:18:21.306Z"
   },
   {
    "duration": 0,
    "start_time": "2022-03-27T11:18:21.308Z"
   },
   {
    "duration": 0,
    "start_time": "2022-03-27T11:18:21.309Z"
   },
   {
    "duration": 0,
    "start_time": "2022-03-27T11:18:21.311Z"
   },
   {
    "duration": 0,
    "start_time": "2022-03-27T11:18:21.312Z"
   },
   {
    "duration": 0,
    "start_time": "2022-03-27T11:18:21.313Z"
   },
   {
    "duration": 0,
    "start_time": "2022-03-27T11:18:21.314Z"
   },
   {
    "duration": 0,
    "start_time": "2022-03-27T11:18:21.316Z"
   },
   {
    "duration": 23,
    "start_time": "2022-03-27T11:18:36.236Z"
   },
   {
    "duration": 250596,
    "start_time": "2022-03-27T11:18:44.688Z"
   },
   {
    "duration": 15,
    "start_time": "2022-03-27T11:22:55.287Z"
   },
   {
    "duration": 41,
    "start_time": "2022-03-27T11:22:55.305Z"
   },
   {
    "duration": 5,
    "start_time": "2022-03-27T11:22:55.349Z"
   },
   {
    "duration": 7,
    "start_time": "2022-03-27T11:22:55.356Z"
   },
   {
    "duration": 53,
    "start_time": "2022-03-27T11:22:55.365Z"
   },
   {
    "duration": 4,
    "start_time": "2022-03-27T11:22:55.420Z"
   },
   {
    "duration": 23,
    "start_time": "2022-03-27T11:22:55.425Z"
   },
   {
    "duration": 5,
    "start_time": "2022-03-27T11:23:26.704Z"
   },
   {
    "duration": 16,
    "start_time": "2022-03-27T11:23:36.616Z"
   },
   {
    "duration": 19,
    "start_time": "2022-03-27T11:23:38.816Z"
   },
   {
    "duration": 3,
    "start_time": "2022-03-27T11:26:25.492Z"
   },
   {
    "duration": 16,
    "start_time": "2022-03-27T11:27:08.312Z"
   },
   {
    "duration": 149,
    "start_time": "2022-03-27T11:43:45.186Z"
   },
   {
    "duration": 11,
    "start_time": "2022-03-27T11:44:41.650Z"
   },
   {
    "duration": 5,
    "start_time": "2022-03-27T11:44:59.278Z"
   },
   {
    "duration": 5,
    "start_time": "2022-03-27T11:46:15.334Z"
   },
   {
    "duration": 8,
    "start_time": "2022-03-27T11:46:39.050Z"
   },
   {
    "duration": 5,
    "start_time": "2022-03-27T11:47:16.946Z"
   },
   {
    "duration": 8,
    "start_time": "2022-03-27T11:47:58.966Z"
   },
   {
    "duration": 6,
    "start_time": "2022-03-27T11:48:15.914Z"
   },
   {
    "duration": 7,
    "start_time": "2022-03-27T11:48:26.234Z"
   },
   {
    "duration": 13,
    "start_time": "2022-03-27T11:48:30.626Z"
   },
   {
    "duration": 5,
    "start_time": "2022-03-27T11:50:01.970Z"
   },
   {
    "duration": 7,
    "start_time": "2022-03-27T11:50:10.534Z"
   },
   {
    "duration": 14,
    "start_time": "2022-03-27T11:55:37.289Z"
   },
   {
    "duration": 71,
    "start_time": "2022-03-27T15:01:00.349Z"
   },
   {
    "duration": 1756,
    "start_time": "2022-03-27T15:01:07.849Z"
   },
   {
    "duration": 505,
    "start_time": "2022-03-27T15:01:09.607Z"
   },
   {
    "duration": 4,
    "start_time": "2022-03-27T15:01:10.114Z"
   },
   {
    "duration": 765,
    "start_time": "2022-03-27T15:01:10.121Z"
   },
   {
    "duration": 27,
    "start_time": "2022-03-27T15:01:10.889Z"
   },
   {
    "duration": 18,
    "start_time": "2022-03-27T15:01:10.919Z"
   },
   {
    "duration": 51,
    "start_time": "2022-03-27T15:01:10.939Z"
   },
   {
    "duration": 5,
    "start_time": "2022-03-27T15:01:10.992Z"
   },
   {
    "duration": 373,
    "start_time": "2022-03-27T15:01:10.999Z"
   },
   {
    "duration": 12,
    "start_time": "2022-03-27T15:01:11.376Z"
   },
   {
    "duration": 4,
    "start_time": "2022-03-27T15:01:11.391Z"
   },
   {
    "duration": 9,
    "start_time": "2022-03-27T15:01:11.398Z"
   },
   {
    "duration": 3,
    "start_time": "2022-03-27T15:01:11.410Z"
   },
   {
    "duration": 236,
    "start_time": "2022-03-27T15:01:11.415Z"
   },
   {
    "duration": 17,
    "start_time": "2022-03-27T15:01:11.653Z"
   },
   {
    "duration": 19,
    "start_time": "2022-03-27T15:01:11.672Z"
   },
   {
    "duration": 5,
    "start_time": "2022-03-27T15:01:11.693Z"
   },
   {
    "duration": 16,
    "start_time": "2022-03-27T15:01:11.701Z"
   },
   {
    "duration": 59,
    "start_time": "2022-03-27T15:01:11.720Z"
   },
   {
    "duration": 14,
    "start_time": "2022-03-27T15:01:11.781Z"
   },
   {
    "duration": 12,
    "start_time": "2022-03-27T15:01:11.797Z"
   },
   {
    "duration": 9,
    "start_time": "2022-03-27T15:01:11.811Z"
   },
   {
    "duration": 47,
    "start_time": "2022-03-27T15:01:11.822Z"
   },
   {
    "duration": 17,
    "start_time": "2022-03-27T15:01:11.871Z"
   },
   {
    "duration": 18,
    "start_time": "2022-03-27T15:01:11.890Z"
   },
   {
    "duration": 14,
    "start_time": "2022-03-27T15:01:11.910Z"
   },
   {
    "duration": 45,
    "start_time": "2022-03-27T15:01:11.926Z"
   },
   {
    "duration": 7,
    "start_time": "2022-03-27T15:01:11.978Z"
   },
   {
    "duration": 8,
    "start_time": "2022-03-27T15:01:11.988Z"
   },
   {
    "duration": 4,
    "start_time": "2022-03-27T15:01:11.999Z"
   },
   {
    "duration": 12,
    "start_time": "2022-03-27T15:01:12.006Z"
   },
   {
    "duration": 450,
    "start_time": "2022-03-27T15:01:12.068Z"
   },
   {
    "duration": 397,
    "start_time": "2022-03-27T15:01:12.520Z"
   },
   {
    "duration": 538,
    "start_time": "2022-03-27T15:01:12.920Z"
   },
   {
    "duration": 484,
    "start_time": "2022-03-27T15:01:13.467Z"
   },
   {
    "duration": 5,
    "start_time": "2022-03-27T15:01:13.953Z"
   },
   {
    "duration": 15,
    "start_time": "2022-03-27T15:01:13.968Z"
   },
   {
    "duration": 9,
    "start_time": "2022-03-27T15:01:13.985Z"
   },
   {
    "duration": 443,
    "start_time": "2022-03-27T15:01:13.997Z"
   },
   {
    "duration": 277,
    "start_time": "2022-03-27T15:01:14.442Z"
   },
   {
    "duration": 21,
    "start_time": "2022-03-27T15:01:14.721Z"
   },
   {
    "duration": 276,
    "start_time": "2022-03-27T15:01:14.745Z"
   },
   {
    "duration": 10,
    "start_time": "2022-03-27T15:01:15.024Z"
   },
   {
    "duration": 286,
    "start_time": "2022-03-27T15:01:15.036Z"
   },
   {
    "duration": 10,
    "start_time": "2022-03-27T15:01:15.324Z"
   },
   {
    "duration": 8,
    "start_time": "2022-03-27T15:01:15.337Z"
   },
   {
    "duration": 22,
    "start_time": "2022-03-27T15:01:15.347Z"
   },
   {
    "duration": 8,
    "start_time": "2022-03-27T15:01:15.371Z"
   },
   {
    "duration": 5,
    "start_time": "2022-03-27T15:01:15.381Z"
   },
   {
    "duration": 9,
    "start_time": "2022-03-27T15:01:15.389Z"
   },
   {
    "duration": 6,
    "start_time": "2022-03-27T15:01:15.400Z"
   },
   {
    "duration": 5,
    "start_time": "2022-03-27T15:01:15.408Z"
   },
   {
    "duration": 59,
    "start_time": "2022-03-27T15:01:15.415Z"
   },
   {
    "duration": 195,
    "start_time": "2022-03-27T15:01:15.477Z"
   },
   {
    "duration": 94,
    "start_time": "2022-03-27T15:01:15.677Z"
   },
   {
    "duration": 100,
    "start_time": "2022-03-27T15:01:15.775Z"
   },
   {
    "duration": 23538,
    "start_time": "2022-03-27T15:01:15.877Z"
   },
   {
    "duration": 221,
    "start_time": "2022-03-27T15:01:39.418Z"
   },
   {
    "duration": 6,
    "start_time": "2022-03-27T15:01:39.641Z"
   },
   {
    "duration": 18,
    "start_time": "2022-03-27T15:01:39.649Z"
   },
   {
    "duration": 6,
    "start_time": "2022-03-27T15:01:39.670Z"
   },
   {
    "duration": 27,
    "start_time": "2022-03-27T15:01:39.678Z"
   },
   {
    "duration": 288722,
    "start_time": "2022-03-27T15:01:39.708Z"
   },
   {
    "duration": 6,
    "start_time": "2022-03-27T15:06:28.433Z"
   },
   {
    "duration": 47,
    "start_time": "2022-03-27T15:06:28.441Z"
   },
   {
    "duration": 6,
    "start_time": "2022-03-27T15:06:28.490Z"
   },
   {
    "duration": 9,
    "start_time": "2022-03-27T15:06:28.498Z"
   },
   {
    "duration": 6,
    "start_time": "2022-03-27T15:06:28.510Z"
   },
   {
    "duration": 8,
    "start_time": "2022-03-27T15:06:28.518Z"
   },
   {
    "duration": 60,
    "start_time": "2022-03-27T15:06:28.528Z"
   },
   {
    "duration": 4,
    "start_time": "2022-03-27T15:06:28.591Z"
   },
   {
    "duration": 23,
    "start_time": "2022-03-27T15:06:28.597Z"
   },
   {
    "duration": 4,
    "start_time": "2022-03-27T15:06:28.622Z"
   },
   {
    "duration": 39,
    "start_time": "2022-03-27T15:06:28.629Z"
   },
   {
    "duration": 4,
    "start_time": "2022-03-27T15:06:28.670Z"
   },
   {
    "duration": 19,
    "start_time": "2022-03-27T15:06:28.678Z"
   },
   {
    "duration": 10,
    "start_time": "2022-03-27T15:06:28.699Z"
   },
   {
    "duration": 67,
    "start_time": "2022-03-27T15:06:28.712Z"
   },
   {
    "duration": 2191,
    "start_time": "2022-03-27T15:06:28.787Z"
   },
   {
    "duration": 18,
    "start_time": "2022-03-27T15:09:18.401Z"
   },
   {
    "duration": 21,
    "start_time": "2022-03-27T15:11:07.773Z"
   },
   {
    "duration": 19,
    "start_time": "2022-03-27T15:12:26.217Z"
   },
   {
    "duration": 35,
    "start_time": "2022-03-27T15:12:34.953Z"
   },
   {
    "duration": 30,
    "start_time": "2022-03-27T15:12:40.326Z"
   },
   {
    "duration": 65,
    "start_time": "2022-03-27T15:12:49.100Z"
   },
   {
    "duration": 36,
    "start_time": "2022-03-27T15:12:57.916Z"
   },
   {
    "duration": 35,
    "start_time": "2022-03-27T15:13:23.256Z"
   },
   {
    "duration": 28,
    "start_time": "2022-03-27T15:14:14.540Z"
   },
   {
    "duration": 25,
    "start_time": "2022-03-27T15:16:08.056Z"
   },
   {
    "duration": 23,
    "start_time": "2022-03-27T15:17:53.502Z"
   },
   {
    "duration": 17,
    "start_time": "2022-03-27T15:17:56.250Z"
   },
   {
    "duration": 18,
    "start_time": "2022-03-27T15:19:18.770Z"
   },
   {
    "duration": 26,
    "start_time": "2022-03-27T15:21:09.085Z"
   },
   {
    "duration": 28,
    "start_time": "2022-03-27T15:23:00.406Z"
   },
   {
    "duration": 45,
    "start_time": "2022-03-27T15:24:11.713Z"
   },
   {
    "duration": 38,
    "start_time": "2022-03-27T15:24:55.049Z"
   },
   {
    "duration": 24,
    "start_time": "2022-03-27T15:24:57.785Z"
   },
   {
    "duration": 6,
    "start_time": "2022-03-27T15:26:29.690Z"
   },
   {
    "duration": 22,
    "start_time": "2022-03-27T15:26:34.549Z"
   },
   {
    "duration": 31,
    "start_time": "2022-03-27T15:26:43.681Z"
   },
   {
    "duration": 1597,
    "start_time": "2022-03-27T15:27:14.517Z"
   },
   {
    "duration": 1531,
    "start_time": "2022-03-27T15:29:03.309Z"
   },
   {
    "duration": 12,
    "start_time": "2022-03-27T15:29:14.877Z"
   },
   {
    "duration": 18,
    "start_time": "2022-03-27T15:29:40.497Z"
   },
   {
    "duration": 7,
    "start_time": "2022-03-27T15:30:09.054Z"
   },
   {
    "duration": 7,
    "start_time": "2022-03-27T15:30:31.458Z"
   },
   {
    "duration": 5,
    "start_time": "2022-03-27T15:30:37.373Z"
   },
   {
    "duration": 5,
    "start_time": "2022-03-27T15:31:16.637Z"
   },
   {
    "duration": 5,
    "start_time": "2022-03-27T15:31:43.777Z"
   },
   {
    "duration": 6,
    "start_time": "2022-03-27T15:31:46.441Z"
   },
   {
    "duration": 6,
    "start_time": "2022-03-27T15:32:13.544Z"
   },
   {
    "duration": 1838,
    "start_time": "2022-03-27T15:35:42.608Z"
   },
   {
    "duration": 7,
    "start_time": "2022-03-27T15:39:59.261Z"
   },
   {
    "duration": 90,
    "start_time": "2022-03-27T15:40:17.376Z"
   },
   {
    "duration": 23,
    "start_time": "2022-03-27T15:40:20.718Z"
   },
   {
    "duration": 21,
    "start_time": "2022-03-27T15:40:56.328Z"
   },
   {
    "duration": 39,
    "start_time": "2022-03-27T15:41:12.276Z"
   },
   {
    "duration": 8,
    "start_time": "2022-03-27T15:41:33.644Z"
   },
   {
    "duration": 6,
    "start_time": "2022-03-27T15:41:45.484Z"
   },
   {
    "duration": 185,
    "start_time": "2022-03-27T15:41:50.120Z"
   },
   {
    "duration": 179,
    "start_time": "2022-03-27T15:43:01.124Z"
   },
   {
    "duration": 44,
    "start_time": "2022-03-27T15:43:13.851Z"
   },
   {
    "duration": 8,
    "start_time": "2022-03-27T15:43:30.268Z"
   },
   {
    "duration": 111,
    "start_time": "2022-03-27T15:44:26.803Z"
   },
   {
    "duration": 49,
    "start_time": "2022-03-27T15:44:32.400Z"
   },
   {
    "duration": 6,
    "start_time": "2022-03-27T15:44:36.188Z"
   },
   {
    "duration": 11,
    "start_time": "2022-03-27T15:45:08.554Z"
   },
   {
    "duration": 6,
    "start_time": "2022-03-27T15:45:10.901Z"
   },
   {
    "duration": 6,
    "start_time": "2022-03-27T15:45:19.569Z"
   },
   {
    "duration": 5,
    "start_time": "2022-03-27T15:45:28.811Z"
   },
   {
    "duration": 37,
    "start_time": "2022-03-27T15:46:08.042Z"
   },
   {
    "duration": 5,
    "start_time": "2022-03-27T15:46:14.349Z"
   },
   {
    "duration": 4,
    "start_time": "2022-03-27T15:46:28.878Z"
   },
   {
    "duration": 8,
    "start_time": "2022-03-27T15:46:28.889Z"
   },
   {
    "duration": 4,
    "start_time": "2022-03-27T15:46:28.913Z"
   },
   {
    "duration": 1221,
    "start_time": "2022-03-27T15:46:28.922Z"
   },
   {
    "duration": 49,
    "start_time": "2022-03-27T15:46:30.147Z"
   },
   {
    "duration": 187,
    "start_time": "2022-03-27T15:46:30.199Z"
   },
   {
    "duration": 29,
    "start_time": "2022-03-27T15:46:30.390Z"
   },
   {
    "duration": 5,
    "start_time": "2022-03-27T15:46:30.421Z"
   },
   {
    "duration": 578,
    "start_time": "2022-03-27T15:46:30.429Z"
   },
   {
    "duration": 8,
    "start_time": "2022-03-27T15:46:31.009Z"
   },
   {
    "duration": 16,
    "start_time": "2022-03-27T15:46:31.021Z"
   },
   {
    "duration": 31,
    "start_time": "2022-03-27T15:46:31.040Z"
   },
   {
    "duration": 8,
    "start_time": "2022-03-27T15:46:31.076Z"
   },
   {
    "duration": 213,
    "start_time": "2022-03-27T15:46:31.086Z"
   },
   {
    "duration": 15,
    "start_time": "2022-03-27T15:46:31.302Z"
   },
   {
    "duration": 19,
    "start_time": "2022-03-27T15:46:31.320Z"
   },
   {
    "duration": 33,
    "start_time": "2022-03-27T15:46:31.342Z"
   },
   {
    "duration": 27,
    "start_time": "2022-03-27T15:46:31.378Z"
   },
   {
    "duration": 31,
    "start_time": "2022-03-27T15:46:31.409Z"
   },
   {
    "duration": 41,
    "start_time": "2022-03-27T15:46:31.444Z"
   },
   {
    "duration": 19,
    "start_time": "2022-03-27T15:46:31.487Z"
   },
   {
    "duration": 10,
    "start_time": "2022-03-27T15:46:31.508Z"
   },
   {
    "duration": 49,
    "start_time": "2022-03-27T15:46:31.520Z"
   },
   {
    "duration": 23,
    "start_time": "2022-03-27T15:46:31.573Z"
   },
   {
    "duration": 23,
    "start_time": "2022-03-27T15:46:31.599Z"
   },
   {
    "duration": 49,
    "start_time": "2022-03-27T15:46:31.624Z"
   },
   {
    "duration": 9,
    "start_time": "2022-03-27T15:46:31.679Z"
   },
   {
    "duration": 31,
    "start_time": "2022-03-27T15:46:31.691Z"
   },
   {
    "duration": 8,
    "start_time": "2022-03-27T15:46:31.725Z"
   },
   {
    "duration": 14,
    "start_time": "2022-03-27T15:46:31.736Z"
   },
   {
    "duration": 12,
    "start_time": "2022-03-27T15:46:31.769Z"
   },
   {
    "duration": 490,
    "start_time": "2022-03-27T15:46:31.785Z"
   },
   {
    "duration": 525,
    "start_time": "2022-03-27T15:46:32.278Z"
   },
   {
    "duration": 465,
    "start_time": "2022-03-27T15:46:32.806Z"
   },
   {
    "duration": 488,
    "start_time": "2022-03-27T15:46:33.274Z"
   },
   {
    "duration": 7,
    "start_time": "2022-03-27T15:46:33.768Z"
   },
   {
    "duration": 30,
    "start_time": "2022-03-27T15:46:33.777Z"
   },
   {
    "duration": 14,
    "start_time": "2022-03-27T15:46:33.810Z"
   },
   {
    "duration": 726,
    "start_time": "2022-03-27T15:46:33.827Z"
   },
   {
    "duration": 288,
    "start_time": "2022-03-27T15:46:34.556Z"
   },
   {
    "duration": 29,
    "start_time": "2022-03-27T15:46:34.846Z"
   },
   {
    "duration": 363,
    "start_time": "2022-03-27T15:46:34.877Z"
   },
   {
    "duration": 10,
    "start_time": "2022-03-27T15:46:35.242Z"
   },
   {
    "duration": 278,
    "start_time": "2022-03-27T15:46:35.268Z"
   },
   {
    "duration": 20,
    "start_time": "2022-03-27T15:46:35.549Z"
   },
   {
    "duration": 11,
    "start_time": "2022-03-27T15:46:35.572Z"
   },
   {
    "duration": 7,
    "start_time": "2022-03-27T15:46:35.586Z"
   },
   {
    "duration": 9,
    "start_time": "2022-03-27T15:46:35.596Z"
   },
   {
    "duration": 6,
    "start_time": "2022-03-27T15:46:35.607Z"
   },
   {
    "duration": 11,
    "start_time": "2022-03-27T15:46:35.615Z"
   },
   {
    "duration": 7,
    "start_time": "2022-03-27T15:46:35.668Z"
   },
   {
    "duration": 5,
    "start_time": "2022-03-27T15:46:35.678Z"
   },
   {
    "duration": 84,
    "start_time": "2022-03-27T15:46:35.686Z"
   },
   {
    "duration": 120,
    "start_time": "2022-03-27T15:46:35.773Z"
   },
   {
    "duration": 7,
    "start_time": "2022-03-27T15:46:35.896Z"
   },
   {
    "duration": 7,
    "start_time": "2022-03-27T15:46:35.906Z"
   },
   {
    "duration": 36179,
    "start_time": "2022-03-27T15:46:35.966Z"
   },
   {
    "duration": 284,
    "start_time": "2022-03-27T15:47:12.148Z"
   },
   {
    "duration": 7,
    "start_time": "2022-03-27T15:47:12.435Z"
   },
   {
    "duration": 4,
    "start_time": "2022-03-27T15:47:12.445Z"
   },
   {
    "duration": 11,
    "start_time": "2022-03-27T15:47:12.468Z"
   },
   {
    "duration": 30,
    "start_time": "2022-03-27T15:47:12.481Z"
   },
   {
    "duration": 308111,
    "start_time": "2022-03-27T15:47:12.514Z"
   },
   {
    "duration": 6,
    "start_time": "2022-03-27T15:52:20.627Z"
   },
   {
    "duration": 46,
    "start_time": "2022-03-27T15:52:20.635Z"
   },
   {
    "duration": 6,
    "start_time": "2022-03-27T15:52:20.683Z"
   },
   {
    "duration": 19,
    "start_time": "2022-03-27T15:52:20.691Z"
   },
   {
    "duration": 22,
    "start_time": "2022-03-27T15:52:20.713Z"
   },
   {
    "duration": 25,
    "start_time": "2022-03-27T15:52:20.737Z"
   },
   {
    "duration": 71,
    "start_time": "2022-03-27T15:52:20.766Z"
   },
   {
    "duration": 6,
    "start_time": "2022-03-27T15:52:20.840Z"
   },
   {
    "duration": 49,
    "start_time": "2022-03-27T15:52:20.849Z"
   },
   {
    "duration": 3,
    "start_time": "2022-03-27T15:52:20.902Z"
   },
   {
    "duration": 16,
    "start_time": "2022-03-27T15:52:20.907Z"
   },
   {
    "duration": 13,
    "start_time": "2022-03-27T15:52:20.925Z"
   },
   {
    "duration": 32,
    "start_time": "2022-03-27T15:52:20.940Z"
   },
   {
    "duration": 14,
    "start_time": "2022-03-27T15:52:20.974Z"
   },
   {
    "duration": 39,
    "start_time": "2022-03-27T15:52:20.991Z"
   },
   {
    "duration": 21,
    "start_time": "2022-03-27T15:52:21.032Z"
   },
   {
    "duration": 57,
    "start_time": "2022-03-27T15:52:21.057Z"
   },
   {
    "duration": 8,
    "start_time": "2022-03-27T15:52:21.117Z"
   },
   {
    "duration": 19,
    "start_time": "2022-03-27T15:52:21.127Z"
   },
   {
    "duration": 32,
    "start_time": "2022-03-27T15:52:21.148Z"
   },
   {
    "duration": 5,
    "start_time": "2022-03-27T15:52:21.183Z"
   },
   {
    "duration": 10,
    "start_time": "2022-03-27T15:52:21.195Z"
   },
   {
    "duration": 18,
    "start_time": "2022-03-27T15:52:21.207Z"
   },
   {
    "duration": 17,
    "start_time": "2022-03-27T15:52:21.227Z"
   },
   {
    "duration": 10,
    "start_time": "2022-03-27T15:52:21.247Z"
   },
   {
    "duration": 18,
    "start_time": "2022-03-27T15:53:34.621Z"
   },
   {
    "duration": 20,
    "start_time": "2022-03-27T15:53:37.049Z"
   },
   {
    "duration": 15,
    "start_time": "2022-03-27T15:54:08.626Z"
   },
   {
    "duration": 21,
    "start_time": "2022-03-27T15:54:16.357Z"
   },
   {
    "duration": 6,
    "start_time": "2022-03-27T15:54:51.405Z"
   },
   {
    "duration": 6,
    "start_time": "2022-03-27T15:55:15.909Z"
   },
   {
    "duration": 37216,
    "start_time": "2022-03-27T15:55:22.834Z"
   },
   {
    "duration": 97,
    "start_time": "2022-03-27T15:57:04.393Z"
   },
   {
    "duration": 19,
    "start_time": "2022-03-27T15:57:50.272Z"
   },
   {
    "duration": 9,
    "start_time": "2022-03-27T15:58:00.973Z"
   },
   {
    "duration": 4,
    "start_time": "2022-03-27T16:01:34.256Z"
   },
   {
    "duration": 24,
    "start_time": "2022-03-27T16:02:04.560Z"
   },
   {
    "duration": 35,
    "start_time": "2022-03-27T16:03:36.004Z"
   },
   {
    "duration": 13,
    "start_time": "2022-03-27T16:04:32.133Z"
   },
   {
    "duration": 49,
    "start_time": "2022-03-27T16:13:58.651Z"
   },
   {
    "duration": 1450,
    "start_time": "2022-03-27T16:14:07.051Z"
   },
   {
    "duration": 318,
    "start_time": "2022-03-27T16:14:08.503Z"
   },
   {
    "duration": 2,
    "start_time": "2022-03-27T16:14:08.823Z"
   },
   {
    "duration": 715,
    "start_time": "2022-03-27T16:14:08.827Z"
   },
   {
    "duration": 22,
    "start_time": "2022-03-27T16:14:09.543Z"
   },
   {
    "duration": 12,
    "start_time": "2022-03-27T16:14:09.566Z"
   },
   {
    "duration": 19,
    "start_time": "2022-03-27T16:14:09.580Z"
   },
   {
    "duration": 4,
    "start_time": "2022-03-27T16:14:09.601Z"
   },
   {
    "duration": 263,
    "start_time": "2022-03-27T16:14:09.607Z"
   },
   {
    "duration": 7,
    "start_time": "2022-03-27T16:14:09.872Z"
   },
   {
    "duration": 6,
    "start_time": "2022-03-27T16:14:09.881Z"
   },
   {
    "duration": 10,
    "start_time": "2022-03-27T16:14:09.888Z"
   },
   {
    "duration": 3,
    "start_time": "2022-03-27T16:14:09.900Z"
   },
   {
    "duration": 148,
    "start_time": "2022-03-27T16:14:09.904Z"
   },
   {
    "duration": 11,
    "start_time": "2022-03-27T16:14:10.054Z"
   },
   {
    "duration": 13,
    "start_time": "2022-03-27T16:14:10.067Z"
   },
   {
    "duration": 4,
    "start_time": "2022-03-27T16:14:10.082Z"
   },
   {
    "duration": 15,
    "start_time": "2022-03-27T16:14:10.088Z"
   },
   {
    "duration": 49,
    "start_time": "2022-03-27T16:14:10.104Z"
   },
   {
    "duration": 11,
    "start_time": "2022-03-27T16:14:10.155Z"
   },
   {
    "duration": 9,
    "start_time": "2022-03-27T16:14:10.167Z"
   },
   {
    "duration": 6,
    "start_time": "2022-03-27T16:14:10.177Z"
   },
   {
    "duration": 8,
    "start_time": "2022-03-27T16:14:10.185Z"
   },
   {
    "duration": 45,
    "start_time": "2022-03-27T16:14:10.194Z"
   },
   {
    "duration": 14,
    "start_time": "2022-03-27T16:14:10.240Z"
   },
   {
    "duration": 12,
    "start_time": "2022-03-27T16:14:10.255Z"
   },
   {
    "duration": 5,
    "start_time": "2022-03-27T16:14:10.269Z"
   },
   {
    "duration": 5,
    "start_time": "2022-03-27T16:14:10.278Z"
   },
   {
    "duration": 7,
    "start_time": "2022-03-27T16:14:10.285Z"
   },
   {
    "duration": 7,
    "start_time": "2022-03-27T16:14:10.294Z"
   },
   {
    "duration": 41,
    "start_time": "2022-03-27T16:14:10.302Z"
   },
   {
    "duration": 268,
    "start_time": "2022-03-27T16:14:10.344Z"
   },
   {
    "duration": 253,
    "start_time": "2022-03-27T16:14:10.614Z"
   },
   {
    "duration": 383,
    "start_time": "2022-03-27T16:14:10.869Z"
   },
   {
    "duration": 293,
    "start_time": "2022-03-27T16:14:11.254Z"
   },
   {
    "duration": 5,
    "start_time": "2022-03-27T16:14:11.550Z"
   },
   {
    "duration": 17,
    "start_time": "2022-03-27T16:14:11.556Z"
   },
   {
    "duration": 21,
    "start_time": "2022-03-27T16:14:11.575Z"
   },
   {
    "duration": 276,
    "start_time": "2022-03-27T16:14:11.598Z"
   },
   {
    "duration": 183,
    "start_time": "2022-03-27T16:14:11.877Z"
   },
   {
    "duration": 17,
    "start_time": "2022-03-27T16:14:12.061Z"
   },
   {
    "duration": 162,
    "start_time": "2022-03-27T16:14:12.080Z"
   },
   {
    "duration": 7,
    "start_time": "2022-03-27T16:14:12.243Z"
   },
   {
    "duration": 177,
    "start_time": "2022-03-27T16:14:12.252Z"
   },
   {
    "duration": 11,
    "start_time": "2022-03-27T16:14:12.431Z"
   },
   {
    "duration": 6,
    "start_time": "2022-03-27T16:14:12.444Z"
   },
   {
    "duration": 10,
    "start_time": "2022-03-27T16:14:12.452Z"
   },
   {
    "duration": 8,
    "start_time": "2022-03-27T16:14:12.463Z"
   },
   {
    "duration": 5,
    "start_time": "2022-03-27T16:14:12.472Z"
   },
   {
    "duration": 7,
    "start_time": "2022-03-27T16:14:12.479Z"
   },
   {
    "duration": 4,
    "start_time": "2022-03-27T16:14:12.488Z"
   },
   {
    "duration": 6,
    "start_time": "2022-03-27T16:14:12.493Z"
   },
   {
    "duration": 40,
    "start_time": "2022-03-27T16:14:12.501Z"
   },
   {
    "duration": 198,
    "start_time": "2022-03-27T16:14:12.544Z"
   },
   {
    "duration": 189,
    "start_time": "2022-03-27T16:14:12.749Z"
   },
   {
    "duration": 4,
    "start_time": "2022-03-27T16:14:12.940Z"
   },
   {
    "duration": 17770,
    "start_time": "2022-03-27T16:14:12.946Z"
   },
   {
    "duration": 183,
    "start_time": "2022-03-27T16:14:30.718Z"
   },
   {
    "duration": 5,
    "start_time": "2022-03-27T16:14:30.903Z"
   },
   {
    "duration": 9,
    "start_time": "2022-03-27T16:14:30.910Z"
   },
   {
    "duration": 29,
    "start_time": "2022-03-27T16:14:30.921Z"
   },
   {
    "duration": 31,
    "start_time": "2022-03-27T16:14:30.952Z"
   },
   {
    "duration": 215987,
    "start_time": "2022-03-27T16:14:30.985Z"
   },
   {
    "duration": 4,
    "start_time": "2022-03-27T16:18:06.974Z"
   },
   {
    "duration": 27,
    "start_time": "2022-03-27T16:18:06.979Z"
   },
   {
    "duration": 4,
    "start_time": "2022-03-27T16:18:07.008Z"
   },
   {
    "duration": 25,
    "start_time": "2022-03-27T16:18:07.014Z"
   },
   {
    "duration": 15,
    "start_time": "2022-03-27T16:18:07.041Z"
   },
   {
    "duration": 24,
    "start_time": "2022-03-27T16:18:07.058Z"
   },
   {
    "duration": 32,
    "start_time": "2022-03-27T16:18:07.084Z"
   },
   {
    "duration": 4,
    "start_time": "2022-03-27T16:18:07.117Z"
   },
   {
    "duration": 20,
    "start_time": "2022-03-27T16:18:07.123Z"
   },
   {
    "duration": 2,
    "start_time": "2022-03-27T16:18:07.146Z"
   },
   {
    "duration": 7,
    "start_time": "2022-03-27T16:18:07.150Z"
   },
   {
    "duration": 9,
    "start_time": "2022-03-27T16:18:07.158Z"
   },
   {
    "duration": 24,
    "start_time": "2022-03-27T16:18:07.168Z"
   },
   {
    "duration": 7,
    "start_time": "2022-03-27T16:18:07.194Z"
   },
   {
    "duration": 22,
    "start_time": "2022-03-27T16:18:07.202Z"
   },
   {
    "duration": 19,
    "start_time": "2022-03-27T16:18:07.226Z"
   },
   {
    "duration": 23,
    "start_time": "2022-03-27T16:18:07.247Z"
   },
   {
    "duration": 5,
    "start_time": "2022-03-27T16:18:07.271Z"
   },
   {
    "duration": 4,
    "start_time": "2022-03-27T16:18:07.281Z"
   },
   {
    "duration": 17,
    "start_time": "2022-03-27T16:18:07.287Z"
   },
   {
    "duration": 33,
    "start_time": "2022-03-27T16:18:07.305Z"
   },
   {
    "duration": 4,
    "start_time": "2022-03-27T16:18:07.340Z"
   },
   {
    "duration": 7,
    "start_time": "2022-03-27T16:18:07.345Z"
   },
   {
    "duration": 6,
    "start_time": "2022-03-27T16:18:07.353Z"
   },
   {
    "duration": 6,
    "start_time": "2022-03-27T16:18:07.360Z"
   },
   {
    "duration": 74,
    "start_time": "2022-03-27T16:18:07.368Z"
   },
   {
    "duration": 103,
    "start_time": "2022-03-27T16:18:07.444Z"
   },
   {
    "duration": 102,
    "start_time": "2022-03-27T16:18:07.639Z"
   },
   {
    "duration": 27772,
    "start_time": "2022-03-27T16:18:07.742Z"
   },
   {
    "duration": 86,
    "start_time": "2022-03-27T16:18:35.516Z"
   },
   {
    "duration": 5,
    "start_time": "2022-03-27T16:18:35.604Z"
   },
   {
    "duration": 3,
    "start_time": "2022-03-27T16:36:39.292Z"
   },
   {
    "duration": 3,
    "start_time": "2022-03-27T16:36:41.720Z"
   },
   {
    "duration": 84,
    "start_time": "2022-03-27T16:36:45.560Z"
   },
   {
    "duration": 4,
    "start_time": "2022-03-27T16:37:28.412Z"
   },
   {
    "duration": 3,
    "start_time": "2022-03-27T16:38:07.600Z"
   },
   {
    "duration": 12,
    "start_time": "2022-03-27T16:38:09.888Z"
   },
   {
    "duration": 3,
    "start_time": "2022-03-27T16:38:19.152Z"
   },
   {
    "duration": 12,
    "start_time": "2022-03-27T16:38:21.332Z"
   },
   {
    "duration": 3,
    "start_time": "2022-03-27T16:40:48.393Z"
   },
   {
    "duration": 4,
    "start_time": "2022-03-27T16:40:53.520Z"
   },
   {
    "duration": 23,
    "start_time": "2022-03-27T16:40:56.917Z"
   },
   {
    "duration": 3,
    "start_time": "2022-03-27T16:42:01.825Z"
   },
   {
    "duration": 89807,
    "start_time": "2022-03-27T16:42:04.665Z"
   },
   {
    "duration": 17,
    "start_time": "2022-03-27T16:43:34.474Z"
   },
   {
    "duration": 2,
    "start_time": "2022-03-27T16:44:55.897Z"
   },
   {
    "duration": 3,
    "start_time": "2022-03-27T16:44:58.592Z"
   },
   {
    "duration": 220324,
    "start_time": "2022-03-27T16:45:01.436Z"
   },
   {
    "duration": 0,
    "start_time": "2022-03-27T16:48:41.762Z"
   },
   {
    "duration": 0,
    "start_time": "2022-03-27T16:48:41.764Z"
   },
   {
    "duration": 3,
    "start_time": "2022-03-27T16:49:00.128Z"
   },
   {
    "duration": 4,
    "start_time": "2022-03-27T16:49:02.776Z"
   },
   {
    "duration": 194883,
    "start_time": "2022-03-27T16:49:05.472Z"
   },
   {
    "duration": 21,
    "start_time": "2022-03-27T16:52:20.357Z"
   },
   {
    "duration": 6,
    "start_time": "2022-03-27T16:52:54.812Z"
   },
   {
    "duration": 18,
    "start_time": "2022-03-27T16:57:28.037Z"
   },
   {
    "duration": 4,
    "start_time": "2022-03-27T16:57:59.024Z"
   },
   {
    "duration": 4,
    "start_time": "2022-03-27T16:58:32.547Z"
   },
   {
    "duration": 122,
    "start_time": "2022-03-27T16:58:51.060Z"
   },
   {
    "duration": 8,
    "start_time": "2022-03-27T17:00:08.635Z"
   },
   {
    "duration": 6,
    "start_time": "2022-03-27T17:00:22.763Z"
   },
   {
    "duration": 6,
    "start_time": "2022-03-27T17:01:09.322Z"
   },
   {
    "duration": 143,
    "start_time": "2022-03-27T17:01:16.615Z"
   },
   {
    "duration": 5,
    "start_time": "2022-03-27T17:03:17.631Z"
   },
   {
    "duration": 124,
    "start_time": "2022-03-27T17:03:56.367Z"
   },
   {
    "duration": 8,
    "start_time": "2022-03-27T17:05:25.479Z"
   },
   {
    "duration": 3,
    "start_time": "2022-03-27T17:05:34.175Z"
   },
   {
    "duration": 125,
    "start_time": "2022-03-27T17:06:12.899Z"
   },
   {
    "duration": 108,
    "start_time": "2022-03-27T17:06:19.059Z"
   },
   {
    "duration": 5,
    "start_time": "2022-03-27T17:09:45.847Z"
   },
   {
    "duration": 97,
    "start_time": "2022-03-27T17:09:51.642Z"
   },
   {
    "duration": 10,
    "start_time": "2022-03-27T17:15:52.463Z"
   },
   {
    "duration": 19,
    "start_time": "2022-03-27T17:16:11.326Z"
   },
   {
    "duration": 14,
    "start_time": "2022-03-27T17:16:40.023Z"
   },
   {
    "duration": 6,
    "start_time": "2022-03-27T17:17:14.203Z"
   },
   {
    "duration": 6,
    "start_time": "2022-03-27T17:17:24.019Z"
   },
   {
    "duration": 6,
    "start_time": "2022-03-27T17:17:51.651Z"
   },
   {
    "duration": 3,
    "start_time": "2022-03-27T17:19:04.835Z"
   },
   {
    "duration": 4,
    "start_time": "2022-03-27T17:19:08.583Z"
   },
   {
    "duration": 176134,
    "start_time": "2022-03-27T17:19:09.771Z"
   },
   {
    "duration": 20,
    "start_time": "2022-03-27T17:22:05.907Z"
   },
   {
    "duration": 10,
    "start_time": "2022-03-27T17:22:05.929Z"
   },
   {
    "duration": 7,
    "start_time": "2022-03-27T17:22:05.941Z"
   },
   {
    "duration": 7,
    "start_time": "2022-03-27T17:22:05.950Z"
   },
   {
    "duration": 117,
    "start_time": "2022-03-27T17:22:05.959Z"
   },
   {
    "duration": 102,
    "start_time": "2022-03-27T17:23:06.505Z"
   },
   {
    "duration": 128,
    "start_time": "2022-03-27T17:23:25.993Z"
   },
   {
    "duration": 125,
    "start_time": "2022-03-27T17:23:41.913Z"
   },
   {
    "duration": 96,
    "start_time": "2022-03-27T17:23:48.746Z"
   },
   {
    "duration": 2148,
    "start_time": "2022-03-28T11:40:01.879Z"
   },
   {
    "duration": 508,
    "start_time": "2022-03-28T11:40:04.030Z"
   },
   {
    "duration": 4,
    "start_time": "2022-03-28T11:40:04.540Z"
   },
   {
    "duration": 1339,
    "start_time": "2022-03-28T11:40:04.547Z"
   },
   {
    "duration": 101,
    "start_time": "2022-03-28T11:40:05.891Z"
   },
   {
    "duration": 20,
    "start_time": "2022-03-28T11:40:05.995Z"
   },
   {
    "duration": 79,
    "start_time": "2022-03-28T11:40:06.018Z"
   },
   {
    "duration": 5,
    "start_time": "2022-03-28T11:40:06.099Z"
   },
   {
    "duration": 784,
    "start_time": "2022-03-28T11:40:06.107Z"
   },
   {
    "duration": 9,
    "start_time": "2022-03-28T11:40:06.893Z"
   },
   {
    "duration": 9,
    "start_time": "2022-03-28T11:40:06.905Z"
   },
   {
    "duration": 67,
    "start_time": "2022-03-28T11:40:06.916Z"
   },
   {
    "duration": 3,
    "start_time": "2022-03-28T11:40:06.986Z"
   },
   {
    "duration": 409,
    "start_time": "2022-03-28T11:40:06.994Z"
   },
   {
    "duration": 19,
    "start_time": "2022-03-28T11:40:07.406Z"
   },
   {
    "duration": 27,
    "start_time": "2022-03-28T11:40:07.483Z"
   },
   {
    "duration": 6,
    "start_time": "2022-03-28T11:40:07.512Z"
   },
   {
    "duration": 72,
    "start_time": "2022-03-28T11:40:07.520Z"
   },
   {
    "duration": 25,
    "start_time": "2022-03-28T11:40:07.594Z"
   },
   {
    "duration": 67,
    "start_time": "2022-03-28T11:40:07.621Z"
   },
   {
    "duration": 12,
    "start_time": "2022-03-28T11:40:07.690Z"
   },
   {
    "duration": 19,
    "start_time": "2022-03-28T11:40:07.705Z"
   },
   {
    "duration": 66,
    "start_time": "2022-03-28T11:40:07.727Z"
   },
   {
    "duration": 41,
    "start_time": "2022-03-28T11:40:07.795Z"
   },
   {
    "duration": 23,
    "start_time": "2022-03-28T11:40:07.838Z"
   },
   {
    "duration": 24,
    "start_time": "2022-03-28T11:40:07.863Z"
   },
   {
    "duration": 7,
    "start_time": "2022-03-28T11:40:07.889Z"
   },
   {
    "duration": 30,
    "start_time": "2022-03-28T11:40:07.898Z"
   },
   {
    "duration": 19,
    "start_time": "2022-03-28T11:40:07.930Z"
   },
   {
    "duration": 20,
    "start_time": "2022-03-28T11:40:07.951Z"
   },
   {
    "duration": 27,
    "start_time": "2022-03-28T11:40:07.974Z"
   },
   {
    "duration": 481,
    "start_time": "2022-03-28T11:40:08.005Z"
   },
   {
    "duration": 428,
    "start_time": "2022-03-28T11:40:08.488Z"
   },
   {
    "duration": 1104,
    "start_time": "2022-03-28T11:40:08.919Z"
   },
   {
    "duration": 496,
    "start_time": "2022-03-28T11:40:10.026Z"
   },
   {
    "duration": 7,
    "start_time": "2022-03-28T11:40:10.524Z"
   },
   {
    "duration": 52,
    "start_time": "2022-03-28T11:40:10.534Z"
   },
   {
    "duration": 27,
    "start_time": "2022-03-28T11:40:10.588Z"
   },
   {
    "duration": 442,
    "start_time": "2022-03-28T11:40:10.617Z"
   },
   {
    "duration": 300,
    "start_time": "2022-03-28T11:40:11.061Z"
   },
   {
    "duration": 22,
    "start_time": "2022-03-28T11:40:11.369Z"
   },
   {
    "duration": 273,
    "start_time": "2022-03-28T11:40:11.393Z"
   },
   {
    "duration": 16,
    "start_time": "2022-03-28T11:40:11.669Z"
   },
   {
    "duration": 280,
    "start_time": "2022-03-28T11:40:11.688Z"
   },
   {
    "duration": 15,
    "start_time": "2022-03-28T11:40:11.971Z"
   },
   {
    "duration": 11,
    "start_time": "2022-03-28T11:40:11.989Z"
   },
   {
    "duration": 11,
    "start_time": "2022-03-28T11:40:12.002Z"
   },
   {
    "duration": 15,
    "start_time": "2022-03-28T11:40:12.015Z"
   },
   {
    "duration": 14,
    "start_time": "2022-03-28T11:40:12.032Z"
   },
   {
    "duration": 16,
    "start_time": "2022-03-28T11:40:12.048Z"
   },
   {
    "duration": 8,
    "start_time": "2022-03-28T11:40:12.085Z"
   },
   {
    "duration": 16,
    "start_time": "2022-03-28T11:40:12.095Z"
   },
   {
    "duration": 19,
    "start_time": "2022-03-28T11:40:12.113Z"
   },
   {
    "duration": 106,
    "start_time": "2022-03-28T11:40:12.186Z"
   },
   {
    "duration": 92,
    "start_time": "2022-03-28T11:40:12.295Z"
   },
   {
    "duration": 98,
    "start_time": "2022-03-28T11:40:12.390Z"
   },
   {
    "duration": 24785,
    "start_time": "2022-03-28T11:40:12.490Z"
   },
   {
    "duration": 228,
    "start_time": "2022-03-28T11:40:37.278Z"
   },
   {
    "duration": 6,
    "start_time": "2022-03-28T11:40:37.508Z"
   },
   {
    "duration": 7,
    "start_time": "2022-03-28T11:40:37.517Z"
   },
   {
    "duration": 13,
    "start_time": "2022-03-28T11:40:37.526Z"
   },
   {
    "duration": 51,
    "start_time": "2022-03-28T11:40:37.542Z"
   },
   {
    "duration": 304674,
    "start_time": "2022-03-28T11:40:37.595Z"
   },
   {
    "duration": 14,
    "start_time": "2022-03-28T11:45:42.271Z"
   },
   {
    "duration": 33,
    "start_time": "2022-03-28T11:45:42.288Z"
   },
   {
    "duration": 6,
    "start_time": "2022-03-28T11:45:42.323Z"
   },
   {
    "duration": 8,
    "start_time": "2022-03-28T11:45:42.331Z"
   },
   {
    "duration": 6,
    "start_time": "2022-03-28T11:45:42.341Z"
   },
   {
    "duration": 41,
    "start_time": "2022-03-28T11:45:42.349Z"
   },
   {
    "duration": 42,
    "start_time": "2022-03-28T11:45:42.393Z"
   },
   {
    "duration": 6,
    "start_time": "2022-03-28T11:45:42.437Z"
   },
   {
    "duration": 42,
    "start_time": "2022-03-28T11:45:42.446Z"
   },
   {
    "duration": 3,
    "start_time": "2022-03-28T11:45:42.491Z"
   },
   {
    "duration": 11,
    "start_time": "2022-03-28T11:45:42.497Z"
   },
   {
    "duration": 7,
    "start_time": "2022-03-28T11:45:42.510Z"
   },
   {
    "duration": 26,
    "start_time": "2022-03-28T11:45:42.519Z"
   },
   {
    "duration": 40,
    "start_time": "2022-03-28T11:45:42.548Z"
   },
   {
    "duration": 48,
    "start_time": "2022-03-28T11:45:42.590Z"
   },
   {
    "duration": 17,
    "start_time": "2022-03-28T11:45:42.640Z"
   },
   {
    "duration": 34,
    "start_time": "2022-03-28T11:45:42.659Z"
   },
   {
    "duration": 6,
    "start_time": "2022-03-28T11:45:42.696Z"
   },
   {
    "duration": 10,
    "start_time": "2022-03-28T11:45:42.704Z"
   },
   {
    "duration": 26,
    "start_time": "2022-03-28T11:45:42.716Z"
   },
   {
    "duration": 6,
    "start_time": "2022-03-28T11:45:42.744Z"
   },
   {
    "duration": 6,
    "start_time": "2022-03-28T11:45:42.783Z"
   },
   {
    "duration": 8,
    "start_time": "2022-03-28T11:45:42.792Z"
   },
   {
    "duration": 12,
    "start_time": "2022-03-28T11:45:42.802Z"
   },
   {
    "duration": 12,
    "start_time": "2022-03-28T11:45:42.816Z"
   },
   {
    "duration": 56,
    "start_time": "2022-03-28T11:45:42.831Z"
   },
   {
    "duration": 200,
    "start_time": "2022-03-28T11:45:42.889Z"
   },
   {
    "duration": 192,
    "start_time": "2022-03-28T11:45:43.093Z"
   },
   {
    "duration": 101,
    "start_time": "2022-03-28T11:45:43.290Z"
   },
   {
    "duration": 95,
    "start_time": "2022-03-28T11:45:43.394Z"
   },
   {
    "duration": 9,
    "start_time": "2022-03-28T11:45:43.491Z"
   },
   {
    "duration": 245468,
    "start_time": "2022-03-28T11:45:43.503Z"
   },
   {
    "duration": 32,
    "start_time": "2022-03-28T11:49:48.974Z"
   },
   {
    "duration": 5,
    "start_time": "2022-03-28T11:49:49.008Z"
   },
   {
    "duration": 7,
    "start_time": "2022-03-28T11:49:49.015Z"
   },
   {
    "duration": 10,
    "start_time": "2022-03-28T11:49:49.024Z"
   },
   {
    "duration": 212,
    "start_time": "2022-03-28T11:49:49.036Z"
   },
   {
    "duration": 381,
    "start_time": "2022-03-28T11:49:49.250Z"
   },
   {
    "duration": 15,
    "start_time": "2022-03-28T11:55:05.614Z"
   },
   {
    "duration": 176,
    "start_time": "2022-03-28T11:56:45.462Z"
   },
   {
    "duration": 31,
    "start_time": "2022-03-28T11:59:02.170Z"
   },
   {
    "duration": 364,
    "start_time": "2022-03-28T12:00:04.858Z"
   },
   {
    "duration": 52,
    "start_time": "2022-03-28T12:13:20.485Z"
   },
   {
    "duration": 1521,
    "start_time": "2022-03-28T12:13:27.021Z"
   },
   {
    "duration": 404,
    "start_time": "2022-03-28T12:13:28.545Z"
   },
   {
    "duration": 4,
    "start_time": "2022-03-28T12:13:28.951Z"
   },
   {
    "duration": 690,
    "start_time": "2022-03-28T12:13:28.957Z"
   },
   {
    "duration": 20,
    "start_time": "2022-03-28T12:13:29.649Z"
   },
   {
    "duration": 30,
    "start_time": "2022-03-28T12:13:29.672Z"
   },
   {
    "duration": 19,
    "start_time": "2022-03-28T12:13:29.704Z"
   },
   {
    "duration": 4,
    "start_time": "2022-03-28T12:13:29.725Z"
   },
   {
    "duration": 262,
    "start_time": "2022-03-28T12:13:29.730Z"
   },
   {
    "duration": 10,
    "start_time": "2022-03-28T12:13:29.995Z"
   },
   {
    "duration": 9,
    "start_time": "2022-03-28T12:13:30.006Z"
   },
   {
    "duration": 15,
    "start_time": "2022-03-28T12:13:30.017Z"
   },
   {
    "duration": 6,
    "start_time": "2022-03-28T12:13:30.034Z"
   },
   {
    "duration": 154,
    "start_time": "2022-03-28T12:13:30.042Z"
   },
   {
    "duration": 11,
    "start_time": "2022-03-28T12:13:30.201Z"
   },
   {
    "duration": 19,
    "start_time": "2022-03-28T12:13:30.213Z"
   },
   {
    "duration": 4,
    "start_time": "2022-03-28T12:13:30.234Z"
   },
   {
    "duration": 25,
    "start_time": "2022-03-28T12:13:30.240Z"
   },
   {
    "duration": 37,
    "start_time": "2022-03-28T12:13:30.267Z"
   },
   {
    "duration": 11,
    "start_time": "2022-03-28T12:13:30.306Z"
   },
   {
    "duration": 11,
    "start_time": "2022-03-28T12:13:30.318Z"
   },
   {
    "duration": 8,
    "start_time": "2022-03-28T12:13:30.330Z"
   },
   {
    "duration": 20,
    "start_time": "2022-03-28T12:13:30.340Z"
   },
   {
    "duration": 42,
    "start_time": "2022-03-28T12:13:30.363Z"
   },
   {
    "duration": 12,
    "start_time": "2022-03-28T12:13:30.407Z"
   },
   {
    "duration": 21,
    "start_time": "2022-03-28T12:13:30.421Z"
   },
   {
    "duration": 5,
    "start_time": "2022-03-28T12:13:30.444Z"
   },
   {
    "duration": 6,
    "start_time": "2022-03-28T12:13:30.454Z"
   },
   {
    "duration": 13,
    "start_time": "2022-03-28T12:13:30.461Z"
   },
   {
    "duration": 26,
    "start_time": "2022-03-28T12:13:30.476Z"
   },
   {
    "duration": 18,
    "start_time": "2022-03-28T12:13:30.504Z"
   },
   {
    "duration": 280,
    "start_time": "2022-03-28T12:13:30.524Z"
   },
   {
    "duration": 261,
    "start_time": "2022-03-28T12:13:30.806Z"
   },
   {
    "duration": 384,
    "start_time": "2022-03-28T12:13:31.069Z"
   },
   {
    "duration": 304,
    "start_time": "2022-03-28T12:13:31.455Z"
   },
   {
    "duration": 5,
    "start_time": "2022-03-28T12:13:31.762Z"
   },
   {
    "duration": 17,
    "start_time": "2022-03-28T12:13:31.769Z"
   },
   {
    "duration": 10,
    "start_time": "2022-03-28T12:13:31.800Z"
   },
   {
    "duration": 270,
    "start_time": "2022-03-28T12:13:31.812Z"
   },
   {
    "duration": 182,
    "start_time": "2022-03-28T12:13:32.085Z"
   },
   {
    "duration": 16,
    "start_time": "2022-03-28T12:13:32.270Z"
   },
   {
    "duration": 167,
    "start_time": "2022-03-28T12:13:32.300Z"
   },
   {
    "duration": 7,
    "start_time": "2022-03-28T12:13:32.469Z"
   },
   {
    "duration": 181,
    "start_time": "2022-03-28T12:13:32.478Z"
   },
   {
    "duration": 9,
    "start_time": "2022-03-28T12:13:32.661Z"
   },
   {
    "duration": 12,
    "start_time": "2022-03-28T12:13:32.672Z"
   },
   {
    "duration": 18,
    "start_time": "2022-03-28T12:13:32.686Z"
   },
   {
    "duration": 10,
    "start_time": "2022-03-28T12:13:32.705Z"
   },
   {
    "duration": 12,
    "start_time": "2022-03-28T12:13:32.716Z"
   },
   {
    "duration": 10,
    "start_time": "2022-03-28T12:13:32.731Z"
   },
   {
    "duration": 26,
    "start_time": "2022-03-28T12:13:32.743Z"
   },
   {
    "duration": 24,
    "start_time": "2022-03-28T12:13:32.771Z"
   },
   {
    "duration": 16,
    "start_time": "2022-03-28T12:13:32.797Z"
   },
   {
    "duration": 109,
    "start_time": "2022-03-28T12:13:32.901Z"
   },
   {
    "duration": 188,
    "start_time": "2022-03-28T12:13:33.015Z"
   },
   {
    "duration": 13,
    "start_time": "2022-03-28T12:13:33.205Z"
   },
   {
    "duration": 20483,
    "start_time": "2022-03-28T12:13:33.220Z"
   },
   {
    "duration": 198,
    "start_time": "2022-03-28T12:13:53.705Z"
   },
   {
    "duration": 5,
    "start_time": "2022-03-28T12:13:53.904Z"
   },
   {
    "duration": 6,
    "start_time": "2022-03-28T12:13:53.910Z"
   },
   {
    "duration": 8,
    "start_time": "2022-03-28T12:13:53.917Z"
   },
   {
    "duration": 23,
    "start_time": "2022-03-28T12:13:53.926Z"
   },
   {
    "duration": 248557,
    "start_time": "2022-03-28T12:13:53.951Z"
   },
   {
    "duration": 6,
    "start_time": "2022-03-28T12:18:02.510Z"
   },
   {
    "duration": 30,
    "start_time": "2022-03-28T12:18:02.518Z"
   },
   {
    "duration": 5,
    "start_time": "2022-03-28T12:18:02.550Z"
   },
   {
    "duration": 17,
    "start_time": "2022-03-28T12:18:02.557Z"
   },
   {
    "duration": 7,
    "start_time": "2022-03-28T12:18:02.576Z"
   },
   {
    "duration": 16,
    "start_time": "2022-03-28T12:18:02.585Z"
   },
   {
    "duration": 32,
    "start_time": "2022-03-28T12:18:02.603Z"
   },
   {
    "duration": 4,
    "start_time": "2022-03-28T12:18:02.637Z"
   },
   {
    "duration": 22,
    "start_time": "2022-03-28T12:18:02.642Z"
   },
   {
    "duration": 3,
    "start_time": "2022-03-28T12:18:02.666Z"
   },
   {
    "duration": 31,
    "start_time": "2022-03-28T12:18:02.671Z"
   },
   {
    "duration": 5,
    "start_time": "2022-03-28T12:18:02.704Z"
   },
   {
    "duration": 19,
    "start_time": "2022-03-28T12:18:02.711Z"
   },
   {
    "duration": 15,
    "start_time": "2022-03-28T12:18:02.732Z"
   },
   {
    "duration": 25,
    "start_time": "2022-03-28T12:18:02.749Z"
   },
   {
    "duration": 35,
    "start_time": "2022-03-28T12:18:02.776Z"
   },
   {
    "duration": 28,
    "start_time": "2022-03-28T12:18:02.813Z"
   },
   {
    "duration": 10,
    "start_time": "2022-03-28T12:18:02.844Z"
   },
   {
    "duration": 12,
    "start_time": "2022-03-28T12:18:02.860Z"
   },
   {
    "duration": 37,
    "start_time": "2022-03-28T12:18:02.874Z"
   },
   {
    "duration": 7,
    "start_time": "2022-03-28T12:18:02.914Z"
   },
   {
    "duration": 18,
    "start_time": "2022-03-28T12:18:02.923Z"
   },
   {
    "duration": 30,
    "start_time": "2022-03-28T12:18:02.943Z"
   },
   {
    "duration": 11,
    "start_time": "2022-03-28T12:18:02.975Z"
   },
   {
    "duration": 13,
    "start_time": "2022-03-28T12:18:02.988Z"
   },
   {
    "duration": 17,
    "start_time": "2022-03-28T12:18:03.002Z"
   },
   {
    "duration": 176,
    "start_time": "2022-03-28T12:18:03.025Z"
   },
   {
    "duration": 101,
    "start_time": "2022-03-28T12:18:03.204Z"
   },
   {
    "duration": 97,
    "start_time": "2022-03-28T12:18:03.308Z"
   },
   {
    "duration": 110,
    "start_time": "2022-03-28T12:18:03.408Z"
   },
   {
    "duration": 389,
    "start_time": "2022-03-28T12:18:03.522Z"
   },
   {
    "duration": 3,
    "start_time": "2022-03-28T12:18:03.914Z"
   },
   {
    "duration": 14,
    "start_time": "2022-03-28T12:18:03.919Z"
   },
   {
    "duration": 199152,
    "start_time": "2022-03-28T12:18:03.935Z"
   },
   {
    "duration": 26,
    "start_time": "2022-03-28T12:21:23.090Z"
   },
   {
    "duration": 5,
    "start_time": "2022-03-28T12:21:23.118Z"
   },
   {
    "duration": 5,
    "start_time": "2022-03-28T12:21:23.125Z"
   },
   {
    "duration": 12,
    "start_time": "2022-03-28T12:21:23.134Z"
   },
   {
    "duration": 127,
    "start_time": "2022-03-28T12:21:23.148Z"
   },
   {
    "duration": 114,
    "start_time": "2022-03-28T12:21:23.276Z"
   },
   {
    "duration": 209,
    "start_time": "2022-03-28T12:21:23.393Z"
   },
   {
    "duration": 10,
    "start_time": "2022-03-28T12:22:24.276Z"
   },
   {
    "duration": 4,
    "start_time": "2022-03-28T12:22:28.797Z"
   },
   {
    "duration": 4,
    "start_time": "2022-03-28T12:22:47.944Z"
   },
   {
    "duration": 4,
    "start_time": "2022-03-28T12:23:00.178Z"
   },
   {
    "duration": 232,
    "start_time": "2022-03-28T12:23:17.808Z"
   },
   {
    "duration": 110,
    "start_time": "2022-03-28T12:23:53.752Z"
   },
   {
    "duration": 5,
    "start_time": "2022-03-28T12:24:22.388Z"
   },
   {
    "duration": 3,
    "start_time": "2022-03-28T12:26:01.216Z"
   },
   {
    "duration": 32,
    "start_time": "2022-03-28T12:26:07.532Z"
   },
   {
    "duration": 3,
    "start_time": "2022-03-28T12:26:10.431Z"
   },
   {
    "duration": 13,
    "start_time": "2022-03-28T12:29:16.089Z"
   },
   {
    "duration": 3,
    "start_time": "2022-03-28T12:29:28.737Z"
   },
   {
    "duration": 4,
    "start_time": "2022-03-28T12:29:30.837Z"
   },
   {
    "duration": 1421805,
    "start_time": "2022-03-28T12:29:33.521Z"
   },
   {
    "duration": 12,
    "start_time": "2022-03-28T12:53:15.328Z"
   },
   {
    "duration": 4,
    "start_time": "2022-03-28T12:53:15.342Z"
   },
   {
    "duration": 240,
    "start_time": "2022-03-28T12:53:15.348Z"
   },
   {
    "duration": 11,
    "start_time": "2022-03-28T12:53:15.590Z"
   },
   {
    "duration": 6,
    "start_time": "2022-03-28T12:53:15.603Z"
   },
   {
    "duration": 121,
    "start_time": "2022-03-28T12:53:15.611Z"
   },
   {
    "duration": 4,
    "start_time": "2022-03-28T13:17:22.161Z"
   },
   {
    "duration": 4,
    "start_time": "2022-03-28T13:17:24.125Z"
   },
   {
    "duration": 255764,
    "start_time": "2022-03-28T13:17:26.029Z"
   },
   {
    "duration": 15,
    "start_time": "2022-03-28T13:21:41.795Z"
   },
   {
    "duration": 5,
    "start_time": "2022-03-28T13:21:41.812Z"
   },
   {
    "duration": 242,
    "start_time": "2022-03-28T13:21:41.819Z"
   },
   {
    "duration": 3,
    "start_time": "2022-03-28T13:21:42.063Z"
   },
   {
    "duration": 8,
    "start_time": "2022-03-28T13:21:42.069Z"
   },
   {
    "duration": 130,
    "start_time": "2022-03-28T13:21:42.079Z"
   },
   {
    "duration": 5,
    "start_time": "2022-03-28T13:47:29.202Z"
   },
   {
    "duration": 3,
    "start_time": "2022-03-28T13:47:46.838Z"
   },
   {
    "duration": 4,
    "start_time": "2022-03-28T13:47:49.730Z"
   },
   {
    "duration": 2467,
    "start_time": "2022-03-28T13:59:14.169Z"
   },
   {
    "duration": 2187,
    "start_time": "2022-03-28T13:59:23.765Z"
   },
   {
    "duration": 3,
    "start_time": "2022-03-28T13:59:35.881Z"
   },
   {
    "duration": 8,
    "start_time": "2022-03-28T13:59:35.896Z"
   },
   {
    "duration": 6,
    "start_time": "2022-03-28T13:59:35.906Z"
   },
   {
    "duration": 853,
    "start_time": "2022-03-28T13:59:35.914Z"
   },
   {
    "duration": 19,
    "start_time": "2022-03-28T13:59:36.770Z"
   },
   {
    "duration": 16,
    "start_time": "2022-03-28T13:59:36.802Z"
   },
   {
    "duration": 21,
    "start_time": "2022-03-28T13:59:36.821Z"
   },
   {
    "duration": 3,
    "start_time": "2022-03-28T13:59:36.844Z"
   },
   {
    "duration": 251,
    "start_time": "2022-03-28T13:59:36.849Z"
   },
   {
    "duration": 6,
    "start_time": "2022-03-28T13:59:37.102Z"
   },
   {
    "duration": 11,
    "start_time": "2022-03-28T13:59:37.109Z"
   },
   {
    "duration": 14,
    "start_time": "2022-03-28T13:59:37.122Z"
   },
   {
    "duration": 141,
    "start_time": "2022-03-28T13:59:37.140Z"
   },
   {
    "duration": 30,
    "start_time": "2022-03-28T13:59:37.283Z"
   },
   {
    "duration": 17,
    "start_time": "2022-03-28T13:59:37.315Z"
   },
   {
    "duration": 11,
    "start_time": "2022-03-28T13:59:37.334Z"
   },
   {
    "duration": 16,
    "start_time": "2022-03-28T13:59:37.348Z"
   },
   {
    "duration": 48,
    "start_time": "2022-03-28T13:59:37.366Z"
   },
   {
    "duration": 12,
    "start_time": "2022-03-28T13:59:37.416Z"
   },
   {
    "duration": 13,
    "start_time": "2022-03-28T13:59:37.430Z"
   },
   {
    "duration": 8,
    "start_time": "2022-03-28T13:59:37.444Z"
   },
   {
    "duration": 48,
    "start_time": "2022-03-28T13:59:37.454Z"
   },
   {
    "duration": 14,
    "start_time": "2022-03-28T13:59:37.504Z"
   },
   {
    "duration": 13,
    "start_time": "2022-03-28T13:59:37.520Z"
   },
   {
    "duration": 14,
    "start_time": "2022-03-28T13:59:37.536Z"
   },
   {
    "duration": 6,
    "start_time": "2022-03-28T13:59:37.552Z"
   },
   {
    "duration": 44,
    "start_time": "2022-03-28T13:59:37.560Z"
   },
   {
    "duration": 6,
    "start_time": "2022-03-28T13:59:37.606Z"
   },
   {
    "duration": 7,
    "start_time": "2022-03-28T13:59:37.614Z"
   },
   {
    "duration": 15,
    "start_time": "2022-03-28T13:59:37.624Z"
   },
   {
    "duration": 301,
    "start_time": "2022-03-28T13:59:37.646Z"
   },
   {
    "duration": 257,
    "start_time": "2022-03-28T13:59:37.950Z"
   },
   {
    "duration": 291,
    "start_time": "2022-03-28T13:59:38.210Z"
   },
   {
    "duration": 406,
    "start_time": "2022-03-28T13:59:38.503Z"
   },
   {
    "duration": 5,
    "start_time": "2022-03-28T13:59:38.912Z"
   },
   {
    "duration": 12,
    "start_time": "2022-03-28T13:59:38.919Z"
   },
   {
    "duration": 9,
    "start_time": "2022-03-28T13:59:38.933Z"
   },
   {
    "duration": 290,
    "start_time": "2022-03-28T13:59:38.944Z"
   },
   {
    "duration": 181,
    "start_time": "2022-03-28T13:59:39.236Z"
   },
   {
    "duration": 12,
    "start_time": "2022-03-28T13:59:39.419Z"
   },
   {
    "duration": 184,
    "start_time": "2022-03-28T13:59:39.433Z"
   },
   {
    "duration": 11,
    "start_time": "2022-03-28T13:59:39.620Z"
   },
   {
    "duration": 177,
    "start_time": "2022-03-28T13:59:39.633Z"
   },
   {
    "duration": 9,
    "start_time": "2022-03-28T13:59:39.813Z"
   },
   {
    "duration": 11,
    "start_time": "2022-03-28T13:59:39.824Z"
   },
   {
    "duration": 9,
    "start_time": "2022-03-28T13:59:39.837Z"
   },
   {
    "duration": 7,
    "start_time": "2022-03-28T13:59:39.848Z"
   },
   {
    "duration": 6,
    "start_time": "2022-03-28T13:59:39.856Z"
   },
   {
    "duration": 7,
    "start_time": "2022-03-28T13:59:39.864Z"
   },
   {
    "duration": 4,
    "start_time": "2022-03-28T13:59:39.902Z"
   },
   {
    "duration": 16,
    "start_time": "2022-03-28T13:59:39.908Z"
   },
   {
    "duration": 175,
    "start_time": "2022-03-28T13:59:39.926Z"
   },
   {
    "duration": 10,
    "start_time": "2022-03-28T13:59:40.104Z"
   },
   {
    "duration": 5,
    "start_time": "2022-03-28T13:59:40.202Z"
   },
   {
    "duration": 20025,
    "start_time": "2022-03-28T13:59:40.210Z"
   },
   {
    "duration": 203,
    "start_time": "2022-03-28T14:00:00.237Z"
   },
   {
    "duration": 4,
    "start_time": "2022-03-28T14:00:00.442Z"
   },
   {
    "duration": 8,
    "start_time": "2022-03-28T14:00:00.448Z"
   },
   {
    "duration": 7,
    "start_time": "2022-03-28T14:00:00.458Z"
   },
   {
    "duration": 249322,
    "start_time": "2022-03-28T14:00:00.467Z"
   },
   {
    "duration": 4,
    "start_time": "2022-03-28T14:04:09.791Z"
   },
   {
    "duration": 28,
    "start_time": "2022-03-28T14:04:09.800Z"
   },
   {
    "duration": 4,
    "start_time": "2022-03-28T14:04:09.830Z"
   },
   {
    "duration": 9,
    "start_time": "2022-03-28T14:04:09.836Z"
   },
   {
    "duration": 34,
    "start_time": "2022-03-28T14:04:09.847Z"
   },
   {
    "duration": 20,
    "start_time": "2022-03-28T14:04:09.883Z"
   },
   {
    "duration": 7,
    "start_time": "2022-03-28T14:04:09.905Z"
   },
   {
    "duration": 6,
    "start_time": "2022-03-28T14:04:09.914Z"
   },
   {
    "duration": 13,
    "start_time": "2022-03-28T14:04:09.921Z"
   },
   {
    "duration": 9,
    "start_time": "2022-03-28T14:04:09.936Z"
   },
   {
    "duration": 15,
    "start_time": "2022-03-28T14:04:09.946Z"
   },
   {
    "duration": 63,
    "start_time": "2022-03-28T14:04:09.962Z"
   },
   {
    "duration": 5,
    "start_time": "2022-03-28T14:04:10.027Z"
   },
   {
    "duration": 7,
    "start_time": "2022-03-28T14:04:10.034Z"
   },
   {
    "duration": 19,
    "start_time": "2022-03-28T14:04:10.043Z"
   },
   {
    "duration": 4,
    "start_time": "2022-03-28T14:04:10.064Z"
   },
   {
    "duration": 35,
    "start_time": "2022-03-28T14:04:10.070Z"
   },
   {
    "duration": 7,
    "start_time": "2022-03-28T14:04:10.107Z"
   },
   {
    "duration": 8,
    "start_time": "2022-03-28T14:04:10.116Z"
   },
   {
    "duration": 9,
    "start_time": "2022-03-28T14:04:10.126Z"
   },
   {
    "duration": 18,
    "start_time": "2022-03-28T14:04:10.137Z"
   },
   {
    "duration": 243,
    "start_time": "2022-03-28T14:04:10.157Z"
   },
   {
    "duration": 7,
    "start_time": "2022-03-28T14:04:10.403Z"
   },
   {
    "duration": 9,
    "start_time": "2022-03-28T14:04:10.503Z"
   },
   {
    "duration": 6,
    "start_time": "2022-03-28T14:04:10.608Z"
   },
   {
    "duration": 407,
    "start_time": "2022-03-28T14:04:10.616Z"
   },
   {
    "duration": 4,
    "start_time": "2022-03-28T14:04:11.025Z"
   },
   {
    "duration": 9,
    "start_time": "2022-03-28T14:04:11.030Z"
   },
   {
    "duration": 253609,
    "start_time": "2022-03-28T14:04:11.041Z"
   },
   {
    "duration": 12,
    "start_time": "2022-03-28T14:08:24.652Z"
   },
   {
    "duration": 5,
    "start_time": "2022-03-28T14:08:24.666Z"
   },
   {
    "duration": 247,
    "start_time": "2022-03-28T14:08:24.673Z"
   },
   {
    "duration": 3,
    "start_time": "2022-03-28T14:08:24.922Z"
   },
   {
    "duration": 14,
    "start_time": "2022-03-28T14:08:24.927Z"
   },
   {
    "duration": 115,
    "start_time": "2022-03-28T14:08:24.943Z"
   },
   {
    "duration": 11,
    "start_time": "2022-03-28T14:27:28.468Z"
   },
   {
    "duration": 7,
    "start_time": "2022-03-28T14:28:16.151Z"
   },
   {
    "duration": 165,
    "start_time": "2022-03-28T14:46:33.388Z"
   },
   {
    "duration": 1543,
    "start_time": "2022-03-28T14:59:11.974Z"
   },
   {
    "duration": 460,
    "start_time": "2022-03-28T14:59:13.519Z"
   },
   {
    "duration": 3,
    "start_time": "2022-03-28T14:59:13.981Z"
   },
   {
    "duration": 706,
    "start_time": "2022-03-28T14:59:13.986Z"
   },
   {
    "duration": 30,
    "start_time": "2022-03-28T14:59:14.694Z"
   },
   {
    "duration": 15,
    "start_time": "2022-03-28T14:59:14.726Z"
   },
   {
    "duration": 20,
    "start_time": "2022-03-28T14:59:14.743Z"
   },
   {
    "duration": 36,
    "start_time": "2022-03-28T14:59:14.765Z"
   },
   {
    "duration": 284,
    "start_time": "2022-03-28T14:59:14.803Z"
   },
   {
    "duration": 12,
    "start_time": "2022-03-28T14:59:15.090Z"
   },
   {
    "duration": 16,
    "start_time": "2022-03-28T14:59:15.104Z"
   },
   {
    "duration": 9,
    "start_time": "2022-03-28T14:59:15.123Z"
   },
   {
    "duration": 147,
    "start_time": "2022-03-28T14:59:15.134Z"
   },
   {
    "duration": 22,
    "start_time": "2022-03-28T14:59:15.283Z"
   },
   {
    "duration": 16,
    "start_time": "2022-03-28T14:59:15.307Z"
   },
   {
    "duration": 5,
    "start_time": "2022-03-28T14:59:15.325Z"
   },
   {
    "duration": 18,
    "start_time": "2022-03-28T14:59:15.331Z"
   },
   {
    "duration": 17,
    "start_time": "2022-03-28T14:59:15.350Z"
   },
   {
    "duration": 42,
    "start_time": "2022-03-28T14:59:15.369Z"
   },
   {
    "duration": 11,
    "start_time": "2022-03-28T14:59:15.417Z"
   },
   {
    "duration": 18,
    "start_time": "2022-03-28T14:59:15.430Z"
   },
   {
    "duration": 17,
    "start_time": "2022-03-28T14:59:15.450Z"
   },
   {
    "duration": 13,
    "start_time": "2022-03-28T14:59:15.468Z"
   },
   {
    "duration": 29,
    "start_time": "2022-03-28T14:59:15.483Z"
   },
   {
    "duration": 12,
    "start_time": "2022-03-28T14:59:15.514Z"
   },
   {
    "duration": 6,
    "start_time": "2022-03-28T14:59:15.528Z"
   },
   {
    "duration": 7,
    "start_time": "2022-03-28T14:59:15.535Z"
   },
   {
    "duration": 7,
    "start_time": "2022-03-28T14:59:15.548Z"
   },
   {
    "duration": 8,
    "start_time": "2022-03-28T14:59:15.557Z"
   },
   {
    "duration": 41,
    "start_time": "2022-03-28T14:59:15.567Z"
   },
   {
    "duration": 301,
    "start_time": "2022-03-28T14:59:15.611Z"
   },
   {
    "duration": 266,
    "start_time": "2022-03-28T14:59:15.915Z"
   },
   {
    "duration": 377,
    "start_time": "2022-03-28T14:59:16.183Z"
   },
   {
    "duration": 324,
    "start_time": "2022-03-28T14:59:16.562Z"
   },
   {
    "duration": 18,
    "start_time": "2022-03-28T14:59:16.888Z"
   },
   {
    "duration": 21,
    "start_time": "2022-03-28T14:59:16.908Z"
   },
   {
    "duration": 9,
    "start_time": "2022-03-28T14:59:16.931Z"
   },
   {
    "duration": 281,
    "start_time": "2022-03-28T14:59:16.942Z"
   },
   {
    "duration": 192,
    "start_time": "2022-03-28T14:59:17.225Z"
   },
   {
    "duration": 15,
    "start_time": "2022-03-28T14:59:17.419Z"
   },
   {
    "duration": 183,
    "start_time": "2022-03-28T14:59:17.436Z"
   },
   {
    "duration": 6,
    "start_time": "2022-03-28T14:59:17.621Z"
   },
   {
    "duration": 182,
    "start_time": "2022-03-28T14:59:17.629Z"
   },
   {
    "duration": 8,
    "start_time": "2022-03-28T14:59:17.814Z"
   },
   {
    "duration": 8,
    "start_time": "2022-03-28T14:59:17.824Z"
   },
   {
    "duration": 8,
    "start_time": "2022-03-28T14:59:17.833Z"
   },
   {
    "duration": 7,
    "start_time": "2022-03-28T14:59:17.843Z"
   },
   {
    "duration": 8,
    "start_time": "2022-03-28T14:59:17.852Z"
   },
   {
    "duration": 38,
    "start_time": "2022-03-28T14:59:17.862Z"
   },
   {
    "duration": 11,
    "start_time": "2022-03-28T14:59:17.902Z"
   },
   {
    "duration": 15,
    "start_time": "2022-03-28T14:59:17.916Z"
   },
   {
    "duration": 96,
    "start_time": "2022-03-28T14:59:18.014Z"
   },
   {
    "duration": 97,
    "start_time": "2022-03-28T14:59:18.112Z"
   },
   {
    "duration": 94,
    "start_time": "2022-03-28T14:59:18.211Z"
   },
   {
    "duration": 20764,
    "start_time": "2022-03-28T14:59:18.310Z"
   },
   {
    "duration": 200,
    "start_time": "2022-03-28T14:59:39.075Z"
   },
   {
    "duration": 4,
    "start_time": "2022-03-28T14:59:39.278Z"
   },
   {
    "duration": 9,
    "start_time": "2022-03-28T14:59:39.284Z"
   },
   {
    "duration": 11,
    "start_time": "2022-03-28T14:59:39.301Z"
   },
   {
    "duration": 256563,
    "start_time": "2022-03-28T14:59:39.314Z"
   },
   {
    "duration": 6,
    "start_time": "2022-03-28T15:03:55.879Z"
   },
   {
    "duration": 41,
    "start_time": "2022-03-28T15:03:55.887Z"
   },
   {
    "duration": 4,
    "start_time": "2022-03-28T15:03:55.930Z"
   },
   {
    "duration": 7,
    "start_time": "2022-03-28T15:03:55.937Z"
   },
   {
    "duration": 37,
    "start_time": "2022-03-28T15:03:55.946Z"
   },
   {
    "duration": 7,
    "start_time": "2022-03-28T15:03:56.001Z"
   },
   {
    "duration": 16,
    "start_time": "2022-03-28T15:03:56.010Z"
   },
   {
    "duration": 6,
    "start_time": "2022-03-28T15:03:56.028Z"
   },
   {
    "duration": 10,
    "start_time": "2022-03-28T15:03:56.036Z"
   },
   {
    "duration": 13,
    "start_time": "2022-03-28T15:03:56.048Z"
   },
   {
    "duration": 46,
    "start_time": "2022-03-28T15:03:56.063Z"
   },
   {
    "duration": 28,
    "start_time": "2022-03-28T15:03:56.111Z"
   },
   {
    "duration": 5,
    "start_time": "2022-03-28T15:03:56.141Z"
   },
   {
    "duration": 7,
    "start_time": "2022-03-28T15:03:56.148Z"
   },
   {
    "duration": 19,
    "start_time": "2022-03-28T15:03:56.157Z"
   },
   {
    "duration": 4,
    "start_time": "2022-03-28T15:03:56.178Z"
   },
   {
    "duration": 24,
    "start_time": "2022-03-28T15:03:56.184Z"
   },
   {
    "duration": 12,
    "start_time": "2022-03-28T15:03:56.213Z"
   },
   {
    "duration": 8,
    "start_time": "2022-03-28T15:03:56.227Z"
   },
   {
    "duration": 8,
    "start_time": "2022-03-28T15:03:56.237Z"
   },
   {
    "duration": 68,
    "start_time": "2022-03-28T15:03:56.247Z"
   },
   {
    "duration": 205,
    "start_time": "2022-03-28T15:03:56.400Z"
   },
   {
    "duration": 0,
    "start_time": "2022-03-28T15:03:56.607Z"
   },
   {
    "duration": 0,
    "start_time": "2022-03-28T15:03:56.611Z"
   },
   {
    "duration": 0,
    "start_time": "2022-03-28T15:03:56.614Z"
   },
   {
    "duration": 0,
    "start_time": "2022-03-28T15:03:56.615Z"
   },
   {
    "duration": 0,
    "start_time": "2022-03-28T15:03:56.616Z"
   },
   {
    "duration": 0,
    "start_time": "2022-03-28T15:03:56.617Z"
   },
   {
    "duration": 0,
    "start_time": "2022-03-28T15:03:56.618Z"
   },
   {
    "duration": 0,
    "start_time": "2022-03-28T15:03:56.619Z"
   },
   {
    "duration": 0,
    "start_time": "2022-03-28T15:03:56.621Z"
   },
   {
    "duration": 0,
    "start_time": "2022-03-28T15:03:56.622Z"
   },
   {
    "duration": 6,
    "start_time": "2022-03-28T15:04:13.950Z"
   },
   {
    "duration": 10,
    "start_time": "2022-03-28T15:04:16.638Z"
   },
   {
    "duration": 6,
    "start_time": "2022-03-28T15:04:25.285Z"
   },
   {
    "duration": 236,
    "start_time": "2022-03-28T15:04:29.062Z"
   },
   {
    "duration": 4,
    "start_time": "2022-03-28T15:04:32.158Z"
   },
   {
    "duration": 3,
    "start_time": "2022-03-28T15:04:34.478Z"
   },
   {
    "duration": 267672,
    "start_time": "2022-03-28T15:04:37.302Z"
   },
   {
    "duration": 27,
    "start_time": "2022-03-28T15:09:04.977Z"
   },
   {
    "duration": 7,
    "start_time": "2022-03-28T15:09:05.006Z"
   },
   {
    "duration": 286,
    "start_time": "2022-03-28T15:09:05.018Z"
   },
   {
    "duration": 3,
    "start_time": "2022-03-28T15:09:05.309Z"
   },
   {
    "duration": 165,
    "start_time": "2022-03-28T15:09:05.315Z"
   },
   {
    "duration": 1887,
    "start_time": "2022-03-29T13:38:34.812Z"
   },
   {
    "duration": 575,
    "start_time": "2022-03-29T13:38:36.702Z"
   },
   {
    "duration": 5,
    "start_time": "2022-03-29T13:38:37.279Z"
   },
   {
    "duration": 787,
    "start_time": "2022-03-29T13:38:37.287Z"
   },
   {
    "duration": 32,
    "start_time": "2022-03-29T13:38:38.076Z"
   },
   {
    "duration": 19,
    "start_time": "2022-03-29T13:38:38.110Z"
   },
   {
    "duration": 53,
    "start_time": "2022-03-29T13:38:38.131Z"
   },
   {
    "duration": 5,
    "start_time": "2022-03-29T13:38:38.186Z"
   },
   {
    "duration": 391,
    "start_time": "2022-03-29T13:38:38.194Z"
   },
   {
    "duration": 10,
    "start_time": "2022-03-29T13:38:38.590Z"
   },
   {
    "duration": 4,
    "start_time": "2022-03-29T13:38:38.602Z"
   },
   {
    "duration": 13,
    "start_time": "2022-03-29T13:38:38.608Z"
   },
   {
    "duration": 229,
    "start_time": "2022-03-29T13:38:38.624Z"
   },
   {
    "duration": 30,
    "start_time": "2022-03-29T13:38:38.855Z"
   },
   {
    "duration": 22,
    "start_time": "2022-03-29T13:38:38.888Z"
   },
   {
    "duration": 138,
    "start_time": "2022-03-29T13:38:38.913Z"
   },
   {
    "duration": 5,
    "start_time": "2022-03-29T13:38:48.733Z"
   },
   {
    "duration": 5,
    "start_time": "2022-03-29T13:38:55.525Z"
   },
   {
    "duration": 15,
    "start_time": "2022-03-29T13:38:58.417Z"
   },
   {
    "duration": 128,
    "start_time": "2022-03-29T13:39:37.500Z"
   },
   {
    "duration": 4,
    "start_time": "2022-03-29T13:45:46.051Z"
   },
   {
    "duration": 171,
    "start_time": "2022-03-29T13:50:01.779Z"
   },
   {
    "duration": 4,
    "start_time": "2022-03-29T13:50:16.710Z"
   },
   {
    "duration": 5,
    "start_time": "2022-03-29T13:50:16.807Z"
   },
   {
    "duration": 17,
    "start_time": "2022-03-29T13:50:16.816Z"
   },
   {
    "duration": 881,
    "start_time": "2022-03-29T13:50:16.836Z"
   },
   {
    "duration": 25,
    "start_time": "2022-03-29T13:50:17.720Z"
   },
   {
    "duration": 49,
    "start_time": "2022-03-29T13:50:17.747Z"
   },
   {
    "duration": 37,
    "start_time": "2022-03-29T13:50:17.798Z"
   },
   {
    "duration": 5,
    "start_time": "2022-03-29T13:50:17.837Z"
   },
   {
    "duration": 377,
    "start_time": "2022-03-29T13:50:17.845Z"
   },
   {
    "duration": 8,
    "start_time": "2022-03-29T13:50:18.225Z"
   },
   {
    "duration": 11,
    "start_time": "2022-03-29T13:50:18.235Z"
   },
   {
    "duration": 41,
    "start_time": "2022-03-29T13:50:18.248Z"
   },
   {
    "duration": 226,
    "start_time": "2022-03-29T13:50:18.291Z"
   },
   {
    "duration": 12,
    "start_time": "2022-03-29T13:50:18.519Z"
   },
   {
    "duration": 37,
    "start_time": "2022-03-29T13:50:18.534Z"
   },
   {
    "duration": 5,
    "start_time": "2022-03-29T13:50:18.573Z"
   },
   {
    "duration": 27,
    "start_time": "2022-03-29T13:50:18.583Z"
   },
   {
    "duration": 20,
    "start_time": "2022-03-29T13:50:18.613Z"
   },
   {
    "duration": 23,
    "start_time": "2022-03-29T13:50:18.636Z"
   },
   {
    "duration": 33,
    "start_time": "2022-03-29T13:50:18.662Z"
   },
   {
    "duration": 12,
    "start_time": "2022-03-29T13:50:18.700Z"
   },
   {
    "duration": 31,
    "start_time": "2022-03-29T13:50:18.714Z"
   },
   {
    "duration": 37,
    "start_time": "2022-03-29T13:50:18.747Z"
   },
   {
    "duration": 19,
    "start_time": "2022-03-29T13:50:18.786Z"
   },
   {
    "duration": 19,
    "start_time": "2022-03-29T13:50:18.807Z"
   },
   {
    "duration": 18,
    "start_time": "2022-03-29T13:50:18.828Z"
   },
   {
    "duration": 45,
    "start_time": "2022-03-29T13:50:18.848Z"
   },
   {
    "duration": 8,
    "start_time": "2022-03-29T13:50:18.896Z"
   },
   {
    "duration": 14,
    "start_time": "2022-03-29T13:50:18.906Z"
   },
   {
    "duration": 46,
    "start_time": "2022-03-29T13:50:18.923Z"
   },
   {
    "duration": 692,
    "start_time": "2022-03-29T13:50:18.972Z"
   },
   {
    "duration": 612,
    "start_time": "2022-03-29T13:50:19.666Z"
   },
   {
    "duration": 793,
    "start_time": "2022-03-29T13:50:20.285Z"
   },
   {
    "duration": 703,
    "start_time": "2022-03-29T13:50:21.084Z"
   },
   {
    "duration": 7,
    "start_time": "2022-03-29T13:50:21.789Z"
   },
   {
    "duration": 16,
    "start_time": "2022-03-29T13:50:21.799Z"
   },
   {
    "duration": 11,
    "start_time": "2022-03-29T13:50:21.817Z"
   },
   {
    "duration": 473,
    "start_time": "2022-03-29T13:50:21.830Z"
   },
   {
    "duration": 279,
    "start_time": "2022-03-29T13:50:22.305Z"
   },
   {
    "duration": 17,
    "start_time": "2022-03-29T13:50:22.586Z"
   },
   {
    "duration": 270,
    "start_time": "2022-03-29T13:50:22.606Z"
   },
   {
    "duration": 14,
    "start_time": "2022-03-29T13:50:22.884Z"
   },
   {
    "duration": 288,
    "start_time": "2022-03-29T13:50:22.901Z"
   },
   {
    "duration": 11,
    "start_time": "2022-03-29T13:50:23.192Z"
   },
   {
    "duration": 9,
    "start_time": "2022-03-29T13:50:23.206Z"
   },
   {
    "duration": 25,
    "start_time": "2022-03-29T13:50:23.218Z"
   },
   {
    "duration": 22,
    "start_time": "2022-03-29T13:50:23.245Z"
   },
   {
    "duration": 19,
    "start_time": "2022-03-29T13:50:23.270Z"
   },
   {
    "duration": 30,
    "start_time": "2022-03-29T13:50:23.291Z"
   },
   {
    "duration": 32,
    "start_time": "2022-03-29T13:50:23.323Z"
   },
   {
    "duration": 19,
    "start_time": "2022-03-29T13:50:23.357Z"
   },
   {
    "duration": 12,
    "start_time": "2022-03-29T13:50:46.574Z"
   },
   {
    "duration": 101,
    "start_time": "2022-03-29T13:50:54.378Z"
   },
   {
    "duration": 9,
    "start_time": "2022-03-29T13:51:15.402Z"
   },
   {
    "duration": 5,
    "start_time": "2022-03-29T13:51:17.922Z"
   },
   {
    "duration": 6,
    "start_time": "2022-03-29T13:51:19.970Z"
   },
   {
    "duration": 24532,
    "start_time": "2022-03-29T13:51:23.711Z"
   },
   {
    "duration": 227,
    "start_time": "2022-03-29T13:51:48.245Z"
   },
   {
    "duration": 11,
    "start_time": "2022-03-29T13:51:48.475Z"
   },
   {
    "duration": 4,
    "start_time": "2022-03-29T13:51:48.489Z"
   },
   {
    "duration": 11,
    "start_time": "2022-03-29T13:51:48.496Z"
   },
   {
    "duration": 309774,
    "start_time": "2022-03-29T13:51:48.509Z"
   },
   {
    "duration": 5,
    "start_time": "2022-03-29T13:56:58.286Z"
   },
   {
    "duration": 38,
    "start_time": "2022-03-29T13:56:58.293Z"
   },
   {
    "duration": 4,
    "start_time": "2022-03-29T13:56:58.334Z"
   },
   {
    "duration": 13,
    "start_time": "2022-03-29T13:56:58.340Z"
   },
   {
    "duration": 29,
    "start_time": "2022-03-29T13:56:58.355Z"
   },
   {
    "duration": 35,
    "start_time": "2022-03-29T13:56:58.386Z"
   },
   {
    "duration": 4,
    "start_time": "2022-03-29T13:56:58.425Z"
   },
   {
    "duration": 16,
    "start_time": "2022-03-29T13:56:58.431Z"
   },
   {
    "duration": 0,
    "start_time": "2022-03-29T13:56:58.449Z"
   },
   {
    "duration": 0,
    "start_time": "2022-03-29T13:56:58.450Z"
   },
   {
    "duration": 0,
    "start_time": "2022-03-29T13:56:58.452Z"
   },
   {
    "duration": 0,
    "start_time": "2022-03-29T13:56:58.453Z"
   },
   {
    "duration": 0,
    "start_time": "2022-03-29T13:56:58.455Z"
   },
   {
    "duration": 0,
    "start_time": "2022-03-29T13:56:58.484Z"
   },
   {
    "duration": 0,
    "start_time": "2022-03-29T13:56:58.486Z"
   },
   {
    "duration": 0,
    "start_time": "2022-03-29T13:56:58.487Z"
   },
   {
    "duration": 0,
    "start_time": "2022-03-29T13:56:58.488Z"
   },
   {
    "duration": 0,
    "start_time": "2022-03-29T13:56:58.490Z"
   },
   {
    "duration": 0,
    "start_time": "2022-03-29T13:56:58.491Z"
   },
   {
    "duration": 0,
    "start_time": "2022-03-29T13:56:58.493Z"
   },
   {
    "duration": 0,
    "start_time": "2022-03-29T13:56:58.495Z"
   },
   {
    "duration": 12,
    "start_time": "2022-03-29T13:57:13.633Z"
   },
   {
    "duration": 13,
    "start_time": "2022-03-29T13:57:47.797Z"
   },
   {
    "duration": 8,
    "start_time": "2022-03-29T13:57:53.492Z"
   },
   {
    "duration": 18,
    "start_time": "2022-03-29T14:00:57.888Z"
   },
   {
    "duration": 43,
    "start_time": "2022-03-29T14:11:10.851Z"
   },
   {
    "duration": 1326,
    "start_time": "2022-03-29T14:11:14.784Z"
   },
   {
    "duration": 404,
    "start_time": "2022-03-29T14:11:16.112Z"
   },
   {
    "duration": 2,
    "start_time": "2022-03-29T14:11:16.518Z"
   },
   {
    "duration": 656,
    "start_time": "2022-03-29T14:11:16.522Z"
   },
   {
    "duration": 17,
    "start_time": "2022-03-29T14:11:17.181Z"
   },
   {
    "duration": 10,
    "start_time": "2022-03-29T14:11:17.200Z"
   },
   {
    "duration": 14,
    "start_time": "2022-03-29T14:11:17.211Z"
   },
   {
    "duration": 2,
    "start_time": "2022-03-29T14:11:17.227Z"
   },
   {
    "duration": 236,
    "start_time": "2022-03-29T14:11:17.231Z"
   },
   {
    "duration": 12,
    "start_time": "2022-03-29T14:11:17.470Z"
   },
   {
    "duration": 27,
    "start_time": "2022-03-29T14:11:17.483Z"
   },
   {
    "duration": 19,
    "start_time": "2022-03-29T14:11:17.511Z"
   },
   {
    "duration": 132,
    "start_time": "2022-03-29T14:11:17.532Z"
   },
   {
    "duration": 15,
    "start_time": "2022-03-29T14:11:17.666Z"
   },
   {
    "duration": 14,
    "start_time": "2022-03-29T14:11:17.683Z"
   },
   {
    "duration": 14,
    "start_time": "2022-03-29T14:11:17.698Z"
   },
   {
    "duration": 30,
    "start_time": "2022-03-29T14:11:17.713Z"
   },
   {
    "duration": 23,
    "start_time": "2022-03-29T14:11:17.745Z"
   },
   {
    "duration": 10,
    "start_time": "2022-03-29T14:11:17.769Z"
   },
   {
    "duration": 16,
    "start_time": "2022-03-29T14:11:17.781Z"
   },
   {
    "duration": 23,
    "start_time": "2022-03-29T14:11:17.799Z"
   },
   {
    "duration": 26,
    "start_time": "2022-03-29T14:11:17.823Z"
   },
   {
    "duration": 14,
    "start_time": "2022-03-29T14:11:17.851Z"
   },
   {
    "duration": 16,
    "start_time": "2022-03-29T14:11:17.867Z"
   },
   {
    "duration": 9,
    "start_time": "2022-03-29T14:11:17.885Z"
   },
   {
    "duration": 12,
    "start_time": "2022-03-29T14:11:17.895Z"
   },
   {
    "duration": 15,
    "start_time": "2022-03-29T14:11:17.909Z"
   },
   {
    "duration": 18,
    "start_time": "2022-03-29T14:11:17.928Z"
   },
   {
    "duration": 15,
    "start_time": "2022-03-29T14:11:17.947Z"
   },
   {
    "duration": 18,
    "start_time": "2022-03-29T14:11:17.963Z"
   },
   {
    "duration": 246,
    "start_time": "2022-03-29T14:11:17.983Z"
   },
   {
    "duration": 205,
    "start_time": "2022-03-29T14:11:18.230Z"
   },
   {
    "duration": 311,
    "start_time": "2022-03-29T14:11:18.436Z"
   },
   {
    "duration": 246,
    "start_time": "2022-03-29T14:11:18.749Z"
   },
   {
    "duration": 3,
    "start_time": "2022-03-29T14:11:18.997Z"
   },
   {
    "duration": 11,
    "start_time": "2022-03-29T14:11:19.002Z"
   },
   {
    "duration": 5,
    "start_time": "2022-03-29T14:11:19.014Z"
   },
   {
    "duration": 229,
    "start_time": "2022-03-29T14:11:19.021Z"
   },
   {
    "duration": 151,
    "start_time": "2022-03-29T14:11:19.252Z"
   },
   {
    "duration": 13,
    "start_time": "2022-03-29T14:11:19.405Z"
   },
   {
    "duration": 137,
    "start_time": "2022-03-29T14:11:19.419Z"
   },
   {
    "duration": 6,
    "start_time": "2022-03-29T14:11:19.558Z"
   },
   {
    "duration": 147,
    "start_time": "2022-03-29T14:11:19.566Z"
   },
   {
    "duration": 7,
    "start_time": "2022-03-29T14:11:19.715Z"
   },
   {
    "duration": 6,
    "start_time": "2022-03-29T14:11:19.723Z"
   },
   {
    "duration": 8,
    "start_time": "2022-03-29T14:11:19.730Z"
   },
   {
    "duration": 7,
    "start_time": "2022-03-29T14:11:19.739Z"
   },
   {
    "duration": 8,
    "start_time": "2022-03-29T14:11:19.747Z"
   },
   {
    "duration": 9,
    "start_time": "2022-03-29T14:11:19.756Z"
   },
   {
    "duration": 16,
    "start_time": "2022-03-29T14:11:19.767Z"
   },
   {
    "duration": 75,
    "start_time": "2022-03-29T14:11:31.339Z"
   },
   {
    "duration": 8,
    "start_time": "2022-03-29T14:11:43.883Z"
   },
   {
    "duration": 13,
    "start_time": "2022-03-29T14:12:01.783Z"
   },
   {
    "duration": 7,
    "start_time": "2022-03-29T14:12:33.599Z"
   },
   {
    "duration": 28,
    "start_time": "2022-03-29T14:12:47.054Z"
   },
   {
    "duration": 10,
    "start_time": "2022-03-29T14:12:58.668Z"
   },
   {
    "duration": 10,
    "start_time": "2022-03-29T14:13:01.376Z"
   },
   {
    "duration": 7,
    "start_time": "2022-03-29T14:13:04.860Z"
   },
   {
    "duration": 4,
    "start_time": "2022-03-29T14:13:07.595Z"
   },
   {
    "duration": 4,
    "start_time": "2022-03-29T14:13:10.131Z"
   },
   {
    "duration": 17258,
    "start_time": "2022-03-29T14:13:14.911Z"
   },
   {
    "duration": 166,
    "start_time": "2022-03-29T14:13:32.171Z"
   },
   {
    "duration": 4,
    "start_time": "2022-03-29T14:13:32.339Z"
   },
   {
    "duration": 17,
    "start_time": "2022-03-29T14:13:32.345Z"
   },
   {
    "duration": 17,
    "start_time": "2022-03-29T14:13:32.364Z"
   },
   {
    "duration": 213575,
    "start_time": "2022-03-29T14:13:32.382Z"
   },
   {
    "duration": 4,
    "start_time": "2022-03-29T14:17:05.959Z"
   },
   {
    "duration": 30,
    "start_time": "2022-03-29T14:17:05.964Z"
   },
   {
    "duration": 4,
    "start_time": "2022-03-29T14:17:05.995Z"
   },
   {
    "duration": 8,
    "start_time": "2022-03-29T14:17:06.000Z"
   },
   {
    "duration": 19,
    "start_time": "2022-03-29T14:17:06.009Z"
   },
   {
    "duration": 6,
    "start_time": "2022-03-29T14:17:20.447Z"
   },
   {
    "duration": 22,
    "start_time": "2022-03-29T14:17:27.778Z"
   },
   {
    "duration": 35,
    "start_time": "2022-03-29T14:17:37.163Z"
   },
   {
    "duration": 3,
    "start_time": "2022-03-29T14:17:40.740Z"
   },
   {
    "duration": 5,
    "start_time": "2022-03-29T14:17:43.387Z"
   },
   {
    "duration": 6,
    "start_time": "2022-03-29T14:18:10.427Z"
   },
   {
    "duration": 7,
    "start_time": "2022-03-29T14:18:14.275Z"
   },
   {
    "duration": 12,
    "start_time": "2022-03-29T14:18:19.215Z"
   },
   {
    "duration": 14,
    "start_time": "2022-03-29T14:18:36.471Z"
   },
   {
    "duration": 6,
    "start_time": "2022-03-29T14:19:13.131Z"
   },
   {
    "duration": 20,
    "start_time": "2022-03-29T14:19:15.627Z"
   },
   {
    "duration": 2,
    "start_time": "2022-03-29T14:19:17.555Z"
   },
   {
    "duration": 5,
    "start_time": "2022-03-29T14:19:21.170Z"
   },
   {
    "duration": 2,
    "start_time": "2022-03-29T14:19:28.727Z"
   },
   {
    "duration": 18,
    "start_time": "2022-03-29T14:23:02.426Z"
   },
   {
    "duration": 4,
    "start_time": "2022-03-29T14:23:04.366Z"
   },
   {
    "duration": 99,
    "start_time": "2022-03-29T14:23:59.994Z"
   },
   {
    "duration": 4,
    "start_time": "2022-03-29T14:24:43.610Z"
   },
   {
    "duration": 14,
    "start_time": "2022-03-29T14:24:46.870Z"
   },
   {
    "duration": 9,
    "start_time": "2022-03-29T14:27:33.138Z"
   },
   {
    "duration": 9,
    "start_time": "2022-03-29T14:27:47.066Z"
   },
   {
    "duration": 4,
    "start_time": "2022-03-29T14:27:54.658Z"
   },
   {
    "duration": 15,
    "start_time": "2022-03-29T14:28:11.362Z"
   },
   {
    "duration": 4,
    "start_time": "2022-03-29T14:30:17.381Z"
   },
   {
    "duration": 18,
    "start_time": "2022-03-29T14:30:19.978Z"
   },
   {
    "duration": 5,
    "start_time": "2022-03-29T14:30:40.114Z"
   },
   {
    "duration": 19,
    "start_time": "2022-03-29T14:30:42.681Z"
   },
   {
    "duration": 3,
    "start_time": "2022-03-29T14:30:44.962Z"
   },
   {
    "duration": 17,
    "start_time": "2022-03-29T14:30:47.225Z"
   },
   {
    "duration": 14,
    "start_time": "2022-03-29T14:31:42.646Z"
   },
   {
    "duration": 17,
    "start_time": "2022-03-29T14:31:59.230Z"
   },
   {
    "duration": 5,
    "start_time": "2022-03-29T14:32:03.687Z"
   },
   {
    "duration": 8,
    "start_time": "2022-03-29T14:32:14.666Z"
   },
   {
    "duration": 4,
    "start_time": "2022-03-29T14:32:18.754Z"
   },
   {
    "duration": 4,
    "start_time": "2022-03-29T14:32:45.178Z"
   },
   {
    "duration": 3,
    "start_time": "2022-03-29T14:33:14.014Z"
   },
   {
    "duration": 3,
    "start_time": "2022-03-29T14:33:25.206Z"
   },
   {
    "duration": 24,
    "start_time": "2022-03-29T14:34:03.774Z"
   },
   {
    "duration": 4,
    "start_time": "2022-03-29T14:34:09.973Z"
   },
   {
    "duration": 3,
    "start_time": "2022-03-29T14:34:54.766Z"
   },
   {
    "duration": 5034,
    "start_time": "2022-03-29T14:35:00.690Z"
   },
   {
    "duration": 0,
    "start_time": "2022-03-29T14:35:05.726Z"
   },
   {
    "duration": 4,
    "start_time": "2022-03-29T14:35:06.099Z"
   },
   {
    "duration": 2,
    "start_time": "2022-03-29T14:35:26.746Z"
   },
   {
    "duration": 3,
    "start_time": "2022-03-29T14:35:26.752Z"
   },
   {
    "duration": 2,
    "start_time": "2022-03-29T14:35:26.764Z"
   },
   {
    "duration": 630,
    "start_time": "2022-03-29T14:35:26.776Z"
   },
   {
    "duration": 15,
    "start_time": "2022-03-29T14:35:27.408Z"
   },
   {
    "duration": 10,
    "start_time": "2022-03-29T14:35:27.424Z"
   },
   {
    "duration": 15,
    "start_time": "2022-03-29T14:35:27.436Z"
   },
   {
    "duration": 3,
    "start_time": "2022-03-29T14:35:27.452Z"
   },
   {
    "duration": 227,
    "start_time": "2022-03-29T14:35:27.480Z"
   },
   {
    "duration": 4,
    "start_time": "2022-03-29T14:35:27.709Z"
   },
   {
    "duration": 6,
    "start_time": "2022-03-29T14:35:27.715Z"
   },
   {
    "duration": 9,
    "start_time": "2022-03-29T14:35:27.723Z"
   },
   {
    "duration": 127,
    "start_time": "2022-03-29T14:35:27.734Z"
   },
   {
    "duration": 8,
    "start_time": "2022-03-29T14:35:27.863Z"
   },
   {
    "duration": 17,
    "start_time": "2022-03-29T14:35:27.872Z"
   },
   {
    "duration": 3,
    "start_time": "2022-03-29T14:35:27.890Z"
   },
   {
    "duration": 12,
    "start_time": "2022-03-29T14:35:27.895Z"
   },
   {
    "duration": 13,
    "start_time": "2022-03-29T14:35:27.908Z"
   },
   {
    "duration": 9,
    "start_time": "2022-03-29T14:35:27.922Z"
   },
   {
    "duration": 52,
    "start_time": "2022-03-29T14:35:27.933Z"
   },
   {
    "duration": 5,
    "start_time": "2022-03-29T14:35:27.986Z"
   },
   {
    "duration": 8,
    "start_time": "2022-03-29T14:35:27.993Z"
   },
   {
    "duration": 10,
    "start_time": "2022-03-29T14:35:28.002Z"
   },
   {
    "duration": 10,
    "start_time": "2022-03-29T14:35:28.014Z"
   },
   {
    "duration": 9,
    "start_time": "2022-03-29T14:35:28.025Z"
   },
   {
    "duration": 5,
    "start_time": "2022-03-29T14:35:28.035Z"
   },
   {
    "duration": 4,
    "start_time": "2022-03-29T14:35:28.041Z"
   },
   {
    "duration": 38,
    "start_time": "2022-03-29T14:35:28.046Z"
   },
   {
    "duration": 4,
    "start_time": "2022-03-29T14:35:28.086Z"
   },
   {
    "duration": 10,
    "start_time": "2022-03-29T14:35:28.092Z"
   },
   {
    "duration": 324,
    "start_time": "2022-03-29T14:35:28.106Z"
   },
   {
    "duration": 211,
    "start_time": "2022-03-29T14:35:28.431Z"
   },
   {
    "duration": 247,
    "start_time": "2022-03-29T14:35:28.643Z"
   },
   {
    "duration": 251,
    "start_time": "2022-03-29T14:35:28.891Z"
   },
   {
    "duration": 4,
    "start_time": "2022-03-29T14:35:29.144Z"
   },
   {
    "duration": 9,
    "start_time": "2022-03-29T14:35:29.150Z"
   },
   {
    "duration": 7,
    "start_time": "2022-03-29T14:35:29.161Z"
   },
   {
    "duration": 216,
    "start_time": "2022-03-29T14:35:29.181Z"
   },
   {
    "duration": 155,
    "start_time": "2022-03-29T14:35:29.399Z"
   },
   {
    "duration": 10,
    "start_time": "2022-03-29T14:35:29.556Z"
   },
   {
    "duration": 244,
    "start_time": "2022-03-29T14:35:29.568Z"
   },
   {
    "duration": 6,
    "start_time": "2022-03-29T14:35:29.814Z"
   },
   {
    "duration": 142,
    "start_time": "2022-03-29T14:35:29.821Z"
   },
   {
    "duration": 6,
    "start_time": "2022-03-29T14:35:29.964Z"
   },
   {
    "duration": 4,
    "start_time": "2022-03-29T14:35:29.981Z"
   },
   {
    "duration": 7,
    "start_time": "2022-03-29T14:35:29.986Z"
   },
   {
    "duration": 6,
    "start_time": "2022-03-29T14:35:29.994Z"
   },
   {
    "duration": 9,
    "start_time": "2022-03-29T14:35:30.002Z"
   },
   {
    "duration": 11,
    "start_time": "2022-03-29T14:35:30.012Z"
   },
   {
    "duration": 11,
    "start_time": "2022-03-29T14:35:30.024Z"
   },
   {
    "duration": 13,
    "start_time": "2022-03-29T14:35:30.037Z"
   },
   {
    "duration": 14,
    "start_time": "2022-03-29T14:35:30.052Z"
   },
   {
    "duration": 10,
    "start_time": "2022-03-29T14:35:30.081Z"
   },
   {
    "duration": 192,
    "start_time": "2022-03-29T14:35:30.093Z"
   },
   {
    "duration": 7,
    "start_time": "2022-03-29T14:35:30.286Z"
   },
   {
    "duration": 17349,
    "start_time": "2022-03-29T14:35:30.295Z"
   },
   {
    "duration": 174,
    "start_time": "2022-03-29T14:35:47.647Z"
   },
   {
    "duration": 5,
    "start_time": "2022-03-29T14:35:47.822Z"
   },
   {
    "duration": 8,
    "start_time": "2022-03-29T14:35:47.828Z"
   },
   {
    "duration": 5,
    "start_time": "2022-03-29T14:35:47.838Z"
   },
   {
    "duration": 285609,
    "start_time": "2022-03-29T14:35:47.845Z"
   },
   {
    "duration": 5,
    "start_time": "2022-03-29T14:40:33.456Z"
   },
   {
    "duration": 41,
    "start_time": "2022-03-29T14:40:33.463Z"
   },
   {
    "duration": 3,
    "start_time": "2022-03-29T14:40:33.506Z"
   },
   {
    "duration": 7,
    "start_time": "2022-03-29T14:40:33.511Z"
   },
   {
    "duration": 8,
    "start_time": "2022-03-29T14:40:33.519Z"
   },
   {
    "duration": 54,
    "start_time": "2022-03-29T14:40:33.529Z"
   },
   {
    "duration": 4,
    "start_time": "2022-03-29T14:40:33.585Z"
   },
   {
    "duration": 6,
    "start_time": "2022-03-29T14:40:33.591Z"
   },
   {
    "duration": 4,
    "start_time": "2022-03-29T14:40:33.599Z"
   },
   {
    "duration": 7,
    "start_time": "2022-03-29T14:40:33.605Z"
   },
   {
    "duration": 9,
    "start_time": "2022-03-29T14:40:33.614Z"
   },
   {
    "duration": 4,
    "start_time": "2022-03-29T14:40:33.628Z"
   },
   {
    "duration": 5,
    "start_time": "2022-03-29T14:40:33.634Z"
   },
   {
    "duration": 62,
    "start_time": "2022-03-29T14:40:33.640Z"
   },
   {
    "duration": 12,
    "start_time": "2022-03-29T14:40:52.629Z"
   },
   {
    "duration": 4,
    "start_time": "2022-03-29T14:40:55.241Z"
   },
   {
    "duration": 22,
    "start_time": "2022-03-29T14:41:07.949Z"
   },
   {
    "duration": 4,
    "start_time": "2022-03-29T14:41:10.221Z"
   },
   {
    "duration": 4,
    "start_time": "2022-03-29T14:41:14.625Z"
   },
   {
    "duration": 4,
    "start_time": "2022-03-29T14:41:19.237Z"
   },
   {
    "duration": 4,
    "start_time": "2022-03-29T14:41:23.977Z"
   },
   {
    "duration": 10,
    "start_time": "2022-03-29T14:41:35.714Z"
   },
   {
    "duration": 8,
    "start_time": "2022-03-29T14:41:56.978Z"
   },
   {
    "duration": 8,
    "start_time": "2022-03-29T14:42:00.885Z"
   },
   {
    "duration": 7,
    "start_time": "2022-03-29T14:42:14.261Z"
   },
   {
    "duration": 14,
    "start_time": "2022-03-29T14:42:16.429Z"
   },
   {
    "duration": 10,
    "start_time": "2022-03-29T14:42:45.685Z"
   },
   {
    "duration": 13,
    "start_time": "2022-03-29T14:42:48.156Z"
   },
   {
    "duration": 11,
    "start_time": "2022-03-29T14:42:59.229Z"
   },
   {
    "duration": 14,
    "start_time": "2022-03-29T14:43:01.429Z"
   },
   {
    "duration": 3,
    "start_time": "2022-03-29T14:43:16.733Z"
   },
   {
    "duration": 6,
    "start_time": "2022-03-29T14:43:23.238Z"
   },
   {
    "duration": 23,
    "start_time": "2022-03-29T14:43:27.501Z"
   },
   {
    "duration": 5,
    "start_time": "2022-03-29T14:43:29.921Z"
   },
   {
    "duration": 8,
    "start_time": "2022-03-29T14:43:52.029Z"
   },
   {
    "duration": 5,
    "start_time": "2022-03-29T14:43:55.373Z"
   },
   {
    "duration": 5,
    "start_time": "2022-03-29T14:43:58.149Z"
   },
   {
    "duration": 5,
    "start_time": "2022-03-29T14:44:01.345Z"
   },
   {
    "duration": 4,
    "start_time": "2022-03-29T14:44:04.333Z"
   },
   {
    "duration": 22,
    "start_time": "2022-03-29T14:44:18.278Z"
   },
   {
    "duration": 7,
    "start_time": "2022-03-29T14:44:21.401Z"
   },
   {
    "duration": 8,
    "start_time": "2022-03-29T14:44:24.056Z"
   },
   {
    "duration": 204,
    "start_time": "2022-03-29T14:44:27.540Z"
   },
   {
    "duration": 3,
    "start_time": "2022-03-29T14:44:47.033Z"
   },
   {
    "duration": 12,
    "start_time": "2022-03-29T14:45:00.788Z"
   },
   {
    "duration": 12,
    "start_time": "2022-03-29T14:45:03.300Z"
   },
   {
    "duration": 9,
    "start_time": "2022-03-29T14:45:06.017Z"
   },
   {
    "duration": 189,
    "start_time": "2022-03-29T14:45:08.889Z"
   },
   {
    "duration": 3,
    "start_time": "2022-03-29T14:45:12.700Z"
   },
   {
    "duration": 3,
    "start_time": "2022-03-29T14:45:18.864Z"
   },
   {
    "duration": 80254,
    "start_time": "2022-03-29T14:45:21.296Z"
   },
   {
    "duration": 0,
    "start_time": "2022-03-29T14:46:41.552Z"
   },
   {
    "duration": 0,
    "start_time": "2022-03-29T14:46:41.553Z"
   },
   {
    "duration": 0,
    "start_time": "2022-03-29T14:46:41.554Z"
   },
   {
    "duration": 5,
    "start_time": "2022-03-29T14:46:51.554Z"
   },
   {
    "duration": 33,
    "start_time": "2022-03-29T14:46:53.939Z"
   },
   {
    "duration": 6,
    "start_time": "2022-03-29T14:46:56.802Z"
   },
   {
    "duration": 9,
    "start_time": "2022-03-29T14:47:04.782Z"
   },
   {
    "duration": 4,
    "start_time": "2022-03-29T14:47:07.486Z"
   },
   {
    "duration": 4,
    "start_time": "2022-03-29T14:47:10.586Z"
   },
   {
    "duration": 4,
    "start_time": "2022-03-29T14:47:13.038Z"
   },
   {
    "duration": 4,
    "start_time": "2022-03-29T14:47:15.422Z"
   },
   {
    "duration": 23,
    "start_time": "2022-03-29T14:47:20.794Z"
   },
   {
    "duration": 13,
    "start_time": "2022-03-29T14:47:23.718Z"
   },
   {
    "duration": 7,
    "start_time": "2022-03-29T14:47:26.818Z"
   },
   {
    "duration": 189,
    "start_time": "2022-03-29T14:47:29.490Z"
   },
   {
    "duration": 4,
    "start_time": "2022-03-29T14:47:50.354Z"
   },
   {
    "duration": 4,
    "start_time": "2022-03-29T14:47:52.694Z"
   },
   {
    "duration": 220299,
    "start_time": "2022-03-29T14:47:55.086Z"
   },
   {
    "duration": 9,
    "start_time": "2022-03-29T14:51:35.387Z"
   },
   {
    "duration": 5,
    "start_time": "2022-03-29T14:51:35.397Z"
   },
   {
    "duration": 207,
    "start_time": "2022-03-29T14:51:35.404Z"
   },
   {
    "duration": 10,
    "start_time": "2022-03-29T14:51:35.613Z"
   },
   {
    "duration": 4,
    "start_time": "2022-03-29T14:52:31.965Z"
   },
   {
    "duration": 4,
    "start_time": "2022-03-29T14:52:52.550Z"
   },
   {
    "duration": 21,
    "start_time": "2022-03-29T14:54:18.350Z"
   },
   {
    "duration": 5,
    "start_time": "2022-03-29T14:54:59.714Z"
   },
   {
    "duration": 13,
    "start_time": "2022-03-29T14:55:43.426Z"
   },
   {
    "duration": 5,
    "start_time": "2022-03-29T14:56:21.453Z"
   },
   {
    "duration": 14,
    "start_time": "2022-03-29T14:56:23.313Z"
   },
   {
    "duration": 3,
    "start_time": "2022-03-29T14:56:29.701Z"
   },
   {
    "duration": 7,
    "start_time": "2022-03-29T14:56:29.712Z"
   },
   {
    "duration": 5,
    "start_time": "2022-03-29T14:56:29.724Z"
   },
   {
    "duration": 643,
    "start_time": "2022-03-29T14:56:29.748Z"
   },
   {
    "duration": 16,
    "start_time": "2022-03-29T14:56:30.393Z"
   },
   {
    "duration": 12,
    "start_time": "2022-03-29T14:56:30.410Z"
   },
   {
    "duration": 18,
    "start_time": "2022-03-29T14:56:30.425Z"
   },
   {
    "duration": 10,
    "start_time": "2022-03-29T14:56:30.445Z"
   },
   {
    "duration": 246,
    "start_time": "2022-03-29T14:56:30.457Z"
   },
   {
    "duration": 5,
    "start_time": "2022-03-29T14:56:30.704Z"
   },
   {
    "duration": 20,
    "start_time": "2022-03-29T14:56:30.711Z"
   },
   {
    "duration": 15,
    "start_time": "2022-03-29T14:56:30.732Z"
   },
   {
    "duration": 128,
    "start_time": "2022-03-29T14:56:30.751Z"
   },
   {
    "duration": 9,
    "start_time": "2022-03-29T14:56:30.881Z"
   },
   {
    "duration": 19,
    "start_time": "2022-03-29T14:56:30.891Z"
   },
   {
    "duration": 8,
    "start_time": "2022-03-29T14:56:30.912Z"
   },
   {
    "duration": 26,
    "start_time": "2022-03-29T14:56:30.921Z"
   },
   {
    "duration": 31,
    "start_time": "2022-03-29T14:56:30.949Z"
   },
   {
    "duration": 22,
    "start_time": "2022-03-29T14:56:30.982Z"
   },
   {
    "duration": 17,
    "start_time": "2022-03-29T14:56:31.006Z"
   },
   {
    "duration": 15,
    "start_time": "2022-03-29T14:56:31.025Z"
   },
   {
    "duration": 36,
    "start_time": "2022-03-29T14:56:31.041Z"
   },
   {
    "duration": 30,
    "start_time": "2022-03-29T14:56:31.078Z"
   },
   {
    "duration": 17,
    "start_time": "2022-03-29T14:56:31.110Z"
   },
   {
    "duration": 12,
    "start_time": "2022-03-29T14:56:31.129Z"
   },
   {
    "duration": 6,
    "start_time": "2022-03-29T14:56:31.143Z"
   },
   {
    "duration": 11,
    "start_time": "2022-03-29T14:56:31.150Z"
   },
   {
    "duration": 11,
    "start_time": "2022-03-29T14:56:31.163Z"
   },
   {
    "duration": 12,
    "start_time": "2022-03-29T14:56:31.176Z"
   },
   {
    "duration": 16,
    "start_time": "2022-03-29T14:56:31.190Z"
   },
   {
    "duration": 241,
    "start_time": "2022-03-29T14:56:31.210Z"
   },
   {
    "duration": 445,
    "start_time": "2022-03-29T14:56:31.453Z"
   },
   {
    "duration": 526,
    "start_time": "2022-03-29T14:56:31.901Z"
   },
   {
    "duration": 545,
    "start_time": "2022-03-29T14:56:32.430Z"
   },
   {
    "duration": 5,
    "start_time": "2022-03-29T14:56:32.976Z"
   },
   {
    "duration": 13,
    "start_time": "2022-03-29T14:56:32.983Z"
   },
   {
    "duration": 9,
    "start_time": "2022-03-29T14:56:32.997Z"
   },
   {
    "duration": 267,
    "start_time": "2022-03-29T14:56:33.009Z"
   },
   {
    "duration": 153,
    "start_time": "2022-03-29T14:56:33.277Z"
   },
   {
    "duration": 10,
    "start_time": "2022-03-29T14:56:33.433Z"
   },
   {
    "duration": 142,
    "start_time": "2022-03-29T14:56:33.445Z"
   },
   {
    "duration": 7,
    "start_time": "2022-03-29T14:56:33.589Z"
   },
   {
    "duration": 152,
    "start_time": "2022-03-29T14:56:33.598Z"
   },
   {
    "duration": 7,
    "start_time": "2022-03-29T14:56:33.752Z"
   },
   {
    "duration": 13,
    "start_time": "2022-03-29T14:56:33.760Z"
   },
   {
    "duration": 16,
    "start_time": "2022-03-29T14:56:33.774Z"
   },
   {
    "duration": 9,
    "start_time": "2022-03-29T14:56:33.791Z"
   },
   {
    "duration": 15,
    "start_time": "2022-03-29T14:56:33.802Z"
   },
   {
    "duration": 17,
    "start_time": "2022-03-29T14:56:33.819Z"
   },
   {
    "duration": 23,
    "start_time": "2022-03-29T14:56:33.837Z"
   },
   {
    "duration": 19,
    "start_time": "2022-03-29T14:56:33.861Z"
   },
   {
    "duration": 11,
    "start_time": "2022-03-29T14:56:33.882Z"
   },
   {
    "duration": 189,
    "start_time": "2022-03-29T14:56:33.895Z"
   },
   {
    "duration": 6,
    "start_time": "2022-03-29T14:56:34.087Z"
   },
   {
    "duration": 106,
    "start_time": "2022-03-29T14:56:34.095Z"
   },
   {
    "duration": 18879,
    "start_time": "2022-03-29T14:56:34.203Z"
   },
   {
    "duration": 173,
    "start_time": "2022-03-29T14:56:53.084Z"
   },
   {
    "duration": 4,
    "start_time": "2022-03-29T14:56:53.259Z"
   },
   {
    "duration": 17,
    "start_time": "2022-03-29T14:56:53.265Z"
   },
   {
    "duration": 11,
    "start_time": "2022-03-29T14:56:53.283Z"
   },
   {
    "duration": 224365,
    "start_time": "2022-03-29T14:56:53.295Z"
   },
   {
    "duration": 5,
    "start_time": "2022-03-29T15:00:37.661Z"
   },
   {
    "duration": 63,
    "start_time": "2022-03-29T15:00:37.668Z"
   },
   {
    "duration": 3,
    "start_time": "2022-03-29T15:00:37.732Z"
   },
   {
    "duration": 24,
    "start_time": "2022-03-29T15:00:37.737Z"
   },
   {
    "duration": 7,
    "start_time": "2022-03-29T15:00:43.068Z"
   },
   {
    "duration": 4,
    "start_time": "2022-03-29T15:00:46.513Z"
   },
   {
    "duration": 10,
    "start_time": "2022-03-29T15:01:04.333Z"
   },
   {
    "duration": 4,
    "start_time": "2022-03-29T15:01:07.434Z"
   },
   {
    "duration": 12,
    "start_time": "2022-03-29T15:01:09.685Z"
   },
   {
    "duration": 4,
    "start_time": "2022-03-29T15:01:16.013Z"
   },
   {
    "duration": 4,
    "start_time": "2022-03-29T15:01:18.726Z"
   },
   {
    "duration": 8,
    "start_time": "2022-03-29T15:01:21.262Z"
   },
   {
    "duration": 23,
    "start_time": "2022-03-29T15:01:30.837Z"
   },
   {
    "duration": 8,
    "start_time": "2022-03-29T15:01:49.886Z"
   },
   {
    "duration": 21,
    "start_time": "2022-03-29T15:02:05.526Z"
   },
   {
    "duration": 4,
    "start_time": "2022-03-29T15:02:07.540Z"
   },
   {
    "duration": 4,
    "start_time": "2022-03-29T15:02:10.405Z"
   },
   {
    "duration": 4,
    "start_time": "2022-03-29T15:02:13.341Z"
   },
   {
    "duration": 5,
    "start_time": "2022-03-29T15:02:16.041Z"
   },
   {
    "duration": 7,
    "start_time": "2022-03-29T15:02:19.338Z"
   },
   {
    "duration": 4,
    "start_time": "2022-03-29T15:02:27.328Z"
   },
   {
    "duration": 38,
    "start_time": "2022-03-29T15:02:30.730Z"
   },
   {
    "duration": 16,
    "start_time": "2022-03-29T15:02:41.182Z"
   },
   {
    "duration": 4,
    "start_time": "2022-03-29T15:02:43.885Z"
   },
   {
    "duration": 4,
    "start_time": "2022-03-29T15:02:59.269Z"
   },
   {
    "duration": 20,
    "start_time": "2022-03-29T15:03:01.541Z"
   },
   {
    "duration": 5,
    "start_time": "2022-03-29T15:03:04.433Z"
   },
   {
    "duration": 17,
    "start_time": "2022-03-29T15:03:45.970Z"
   },
   {
    "duration": 3,
    "start_time": "2022-03-29T15:04:17.382Z"
   },
   {
    "duration": 6,
    "start_time": "2022-03-29T15:04:17.388Z"
   },
   {
    "duration": 6,
    "start_time": "2022-03-29T15:04:17.397Z"
   },
   {
    "duration": 995,
    "start_time": "2022-03-29T15:04:17.405Z"
   },
   {
    "duration": 30,
    "start_time": "2022-03-29T15:04:18.404Z"
   },
   {
    "duration": 22,
    "start_time": "2022-03-29T15:04:18.436Z"
   },
   {
    "duration": 47,
    "start_time": "2022-03-29T15:04:18.461Z"
   },
   {
    "duration": 3,
    "start_time": "2022-03-29T15:04:18.509Z"
   },
   {
    "duration": 222,
    "start_time": "2022-03-29T15:04:18.515Z"
   },
   {
    "duration": 4,
    "start_time": "2022-03-29T15:04:18.739Z"
   },
   {
    "duration": 5,
    "start_time": "2022-03-29T15:04:18.745Z"
   },
   {
    "duration": 7,
    "start_time": "2022-03-29T15:04:18.751Z"
   },
   {
    "duration": 177,
    "start_time": "2022-03-29T15:04:18.761Z"
   },
   {
    "duration": 13,
    "start_time": "2022-03-29T15:04:18.940Z"
   },
   {
    "duration": 28,
    "start_time": "2022-03-29T15:04:18.956Z"
   },
   {
    "duration": 5,
    "start_time": "2022-03-29T15:04:18.986Z"
   },
   {
    "duration": 18,
    "start_time": "2022-03-29T15:04:18.993Z"
   },
   {
    "duration": 18,
    "start_time": "2022-03-29T15:04:19.013Z"
   },
   {
    "duration": 15,
    "start_time": "2022-03-29T15:04:19.034Z"
   },
   {
    "duration": 38,
    "start_time": "2022-03-29T15:04:19.051Z"
   },
   {
    "duration": 8,
    "start_time": "2022-03-29T15:04:19.095Z"
   },
   {
    "duration": 8,
    "start_time": "2022-03-29T15:04:19.104Z"
   },
   {
    "duration": 13,
    "start_time": "2022-03-29T15:04:19.114Z"
   },
   {
    "duration": 12,
    "start_time": "2022-03-29T15:04:19.128Z"
   },
   {
    "duration": 40,
    "start_time": "2022-03-29T15:04:19.142Z"
   },
   {
    "duration": 6,
    "start_time": "2022-03-29T15:04:19.184Z"
   },
   {
    "duration": 6,
    "start_time": "2022-03-29T15:04:19.192Z"
   },
   {
    "duration": 5,
    "start_time": "2022-03-29T15:04:19.200Z"
   },
   {
    "duration": 5,
    "start_time": "2022-03-29T15:04:19.206Z"
   },
   {
    "duration": 9,
    "start_time": "2022-03-29T15:04:19.212Z"
   },
   {
    "duration": 241,
    "start_time": "2022-03-29T15:04:19.222Z"
   },
   {
    "duration": 588,
    "start_time": "2022-03-29T15:04:19.465Z"
   },
   {
    "duration": 517,
    "start_time": "2022-03-29T15:04:20.055Z"
   },
   {
    "duration": 526,
    "start_time": "2022-03-29T15:04:20.581Z"
   },
   {
    "duration": 6,
    "start_time": "2022-03-29T15:04:21.110Z"
   },
   {
    "duration": 13,
    "start_time": "2022-03-29T15:04:21.117Z"
   },
   {
    "duration": 8,
    "start_time": "2022-03-29T15:04:21.132Z"
   },
   {
    "duration": 239,
    "start_time": "2022-03-29T15:04:21.142Z"
   },
   {
    "duration": 151,
    "start_time": "2022-03-29T15:04:21.383Z"
   },
   {
    "duration": 12,
    "start_time": "2022-03-29T15:04:21.536Z"
   },
   {
    "duration": 272,
    "start_time": "2022-03-29T15:04:21.549Z"
   },
   {
    "duration": 8,
    "start_time": "2022-03-29T15:04:21.823Z"
   },
   {
    "duration": 309,
    "start_time": "2022-03-29T15:04:21.834Z"
   },
   {
    "duration": 9,
    "start_time": "2022-03-29T15:04:22.146Z"
   },
   {
    "duration": 7,
    "start_time": "2022-03-29T15:04:25.037Z"
   },
   {
    "duration": 11,
    "start_time": "2022-03-29T15:04:40.441Z"
   },
   {
    "duration": 9,
    "start_time": "2022-03-29T15:04:44.161Z"
   },
   {
    "duration": 13,
    "start_time": "2022-03-29T15:04:48.297Z"
   },
   {
    "duration": 3,
    "start_time": "2022-03-29T15:04:50.673Z"
   },
   {
    "duration": 4,
    "start_time": "2022-03-29T15:04:53.074Z"
   },
   {
    "duration": 22472,
    "start_time": "2022-03-29T15:04:59.134Z"
   },
   {
    "duration": 176,
    "start_time": "2022-03-29T15:05:21.609Z"
   },
   {
    "duration": 4,
    "start_time": "2022-03-29T15:05:21.787Z"
   },
   {
    "duration": 22,
    "start_time": "2022-03-29T15:05:21.793Z"
   },
   {
    "duration": 4,
    "start_time": "2022-03-29T15:05:26.437Z"
   },
   {
    "duration": 5,
    "start_time": "2022-03-29T15:05:29.942Z"
   },
   {
    "duration": 10,
    "start_time": "2022-03-29T15:05:32.874Z"
   },
   {
    "duration": 23,
    "start_time": "2022-03-29T15:05:36.770Z"
   },
   {
    "duration": 4,
    "start_time": "2022-03-29T15:05:42.281Z"
   },
   {
    "duration": 3,
    "start_time": "2022-03-29T15:05:52.425Z"
   },
   {
    "duration": 9,
    "start_time": "2022-03-29T15:05:56.998Z"
   },
   {
    "duration": 4,
    "start_time": "2022-03-29T15:05:59.393Z"
   },
   {
    "duration": 12,
    "start_time": "2022-03-29T15:06:02.930Z"
   },
   {
    "duration": 4,
    "start_time": "2022-03-29T15:06:05.329Z"
   },
   {
    "duration": 22,
    "start_time": "2022-03-29T15:06:07.981Z"
   },
   {
    "duration": 3,
    "start_time": "2022-03-29T15:06:10.486Z"
   },
   {
    "duration": 4,
    "start_time": "2022-03-29T15:06:33.057Z"
   },
   {
    "duration": 5,
    "start_time": "2022-03-29T15:06:35.902Z"
   },
   {
    "duration": 28,
    "start_time": "2022-03-29T15:06:50.845Z"
   },
   {
    "duration": 4,
    "start_time": "2022-03-29T15:06:52.841Z"
   },
   {
    "duration": 20,
    "start_time": "2022-03-29T15:07:20.089Z"
   },
   {
    "duration": 6,
    "start_time": "2022-03-29T15:07:22.617Z"
   },
   {
    "duration": 31,
    "start_time": "2022-03-29T15:07:30.521Z"
   },
   {
    "duration": 34,
    "start_time": "2022-03-29T15:07:35.201Z"
   },
   {
    "duration": 9,
    "start_time": "2022-03-29T15:07:37.917Z"
   },
   {
    "duration": 4,
    "start_time": "2022-03-29T15:07:48.810Z"
   },
   {
    "duration": 4,
    "start_time": "2022-03-29T15:07:51.733Z"
   },
   {
    "duration": 16,
    "start_time": "2022-03-29T15:08:06.254Z"
   },
   {
    "duration": 3,
    "start_time": "2022-03-29T15:08:09.565Z"
   },
   {
    "duration": 18,
    "start_time": "2022-03-29T15:08:16.288Z"
   },
   {
    "duration": 5,
    "start_time": "2022-03-29T15:08:18.229Z"
   },
   {
    "duration": 19,
    "start_time": "2022-03-29T15:08:22.597Z"
   },
   {
    "duration": 3,
    "start_time": "2022-03-29T15:08:25.213Z"
   },
   {
    "duration": 5,
    "start_time": "2022-03-29T15:08:35.469Z"
   },
   {
    "duration": 29,
    "start_time": "2022-03-29T15:08:48.097Z"
   },
   {
    "duration": 5,
    "start_time": "2022-03-29T15:08:50.509Z"
   },
   {
    "duration": 4,
    "start_time": "2022-03-29T15:08:58.737Z"
   },
   {
    "duration": 5,
    "start_time": "2022-03-29T15:09:04.897Z"
   },
   {
    "duration": 3,
    "start_time": "2022-03-29T15:09:07.245Z"
   },
   {
    "duration": 16,
    "start_time": "2022-03-29T15:09:40.017Z"
   },
   {
    "duration": 4,
    "start_time": "2022-03-29T15:09:43.717Z"
   },
   {
    "duration": 4,
    "start_time": "2022-03-29T15:09:48.349Z"
   },
   {
    "duration": 4,
    "start_time": "2022-03-29T15:10:00.445Z"
   },
   {
    "duration": 16,
    "start_time": "2022-03-29T15:10:03.896Z"
   },
   {
    "duration": 4,
    "start_time": "2022-03-29T15:10:06.553Z"
   },
   {
    "duration": 9,
    "start_time": "2022-03-29T15:10:21.649Z"
   },
   {
    "duration": 4,
    "start_time": "2022-03-29T15:10:24.037Z"
   },
   {
    "duration": 5,
    "start_time": "2022-03-29T15:10:28.354Z"
   },
   {
    "duration": 4,
    "start_time": "2022-03-29T15:10:33.304Z"
   },
   {
    "duration": 4,
    "start_time": "2022-03-29T15:10:35.844Z"
   },
   {
    "duration": 20,
    "start_time": "2022-03-29T15:10:38.477Z"
   },
   {
    "duration": 3,
    "start_time": "2022-03-29T15:10:50.074Z"
   },
   {
    "duration": 4,
    "start_time": "2022-03-29T15:10:52.781Z"
   },
   {
    "duration": 21,
    "start_time": "2022-03-29T15:10:58.466Z"
   },
   {
    "duration": 5,
    "start_time": "2022-03-29T15:11:00.737Z"
   },
   {
    "duration": 16,
    "start_time": "2022-03-29T15:14:23.572Z"
   },
   {
    "duration": 4,
    "start_time": "2022-03-29T15:14:26.372Z"
   },
   {
    "duration": 15,
    "start_time": "2022-03-29T15:14:38.436Z"
   },
   {
    "duration": 4,
    "start_time": "2022-03-29T15:14:44.284Z"
   },
   {
    "duration": 4,
    "start_time": "2022-03-29T15:14:54.256Z"
   },
   {
    "duration": 5,
    "start_time": "2022-03-29T15:15:22.772Z"
   },
   {
    "duration": 3,
    "start_time": "2022-03-29T15:15:28.532Z"
   },
   {
    "duration": 13,
    "start_time": "2022-03-29T15:15:35.987Z"
   },
   {
    "duration": 4,
    "start_time": "2022-03-29T15:17:15.127Z"
   },
   {
    "duration": 4,
    "start_time": "2022-03-29T15:17:55.955Z"
   },
   {
    "duration": 17,
    "start_time": "2022-03-29T15:20:13.840Z"
   },
   {
    "duration": 4,
    "start_time": "2022-03-29T15:20:18.236Z"
   },
   {
    "duration": 4,
    "start_time": "2022-03-29T15:20:20.655Z"
   },
   {
    "duration": 13,
    "start_time": "2022-03-29T15:20:26.882Z"
   },
   {
    "duration": 3,
    "start_time": "2022-03-29T15:20:29.339Z"
   },
   {
    "duration": 5,
    "start_time": "2022-03-29T15:20:33.929Z"
   },
   {
    "duration": 19,
    "start_time": "2022-03-29T15:20:38.811Z"
   },
   {
    "duration": 4,
    "start_time": "2022-03-29T15:20:42.039Z"
   },
   {
    "duration": 7,
    "start_time": "2022-03-29T15:20:44.215Z"
   },
   {
    "duration": 4,
    "start_time": "2022-03-29T15:20:47.009Z"
   },
   {
    "duration": 3,
    "start_time": "2022-03-29T15:20:49.724Z"
   },
   {
    "duration": 4,
    "start_time": "2022-03-29T15:20:52.075Z"
   },
   {
    "duration": 4,
    "start_time": "2022-03-29T15:20:54.483Z"
   },
   {
    "duration": 17,
    "start_time": "2022-03-29T15:20:59.487Z"
   },
   {
    "duration": 12,
    "start_time": "2022-03-29T15:21:02.707Z"
   },
   {
    "duration": 7,
    "start_time": "2022-03-29T15:21:05.863Z"
   },
   {
    "duration": 207,
    "start_time": "2022-03-29T15:21:08.363Z"
   },
   {
    "duration": 2,
    "start_time": "2022-03-29T15:23:38.231Z"
   },
   {
    "duration": 6,
    "start_time": "2022-03-29T15:23:38.242Z"
   },
   {
    "duration": 20,
    "start_time": "2022-03-29T15:23:38.249Z"
   },
   {
    "duration": 672,
    "start_time": "2022-03-29T15:23:38.272Z"
   },
   {
    "duration": 15,
    "start_time": "2022-03-29T15:23:38.946Z"
   },
   {
    "duration": 29,
    "start_time": "2022-03-29T15:23:38.963Z"
   },
   {
    "duration": 25,
    "start_time": "2022-03-29T15:23:38.993Z"
   },
   {
    "duration": 3,
    "start_time": "2022-03-29T15:23:39.020Z"
   },
   {
    "duration": 229,
    "start_time": "2022-03-29T15:23:39.024Z"
   },
   {
    "duration": 5,
    "start_time": "2022-03-29T15:23:39.254Z"
   },
   {
    "duration": 5,
    "start_time": "2022-03-29T15:23:39.261Z"
   },
   {
    "duration": 18,
    "start_time": "2022-03-29T15:23:39.267Z"
   },
   {
    "duration": 123,
    "start_time": "2022-03-29T15:23:39.286Z"
   },
   {
    "duration": 9,
    "start_time": "2022-03-29T15:23:39.410Z"
   },
   {
    "duration": 11,
    "start_time": "2022-03-29T15:23:39.420Z"
   },
   {
    "duration": 4,
    "start_time": "2022-03-29T15:23:39.432Z"
   },
   {
    "duration": 11,
    "start_time": "2022-03-29T15:23:39.437Z"
   },
   {
    "duration": 15,
    "start_time": "2022-03-29T15:23:39.481Z"
   },
   {
    "duration": 9,
    "start_time": "2022-03-29T15:23:39.498Z"
   },
   {
    "duration": 8,
    "start_time": "2022-03-29T15:23:39.509Z"
   },
   {
    "duration": 9,
    "start_time": "2022-03-29T15:23:39.518Z"
   },
   {
    "duration": 9,
    "start_time": "2022-03-29T15:23:39.528Z"
   },
   {
    "duration": 9,
    "start_time": "2022-03-29T15:23:39.539Z"
   },
   {
    "duration": 41,
    "start_time": "2022-03-29T15:23:39.550Z"
   },
   {
    "duration": 9,
    "start_time": "2022-03-29T15:23:39.593Z"
   },
   {
    "duration": 4,
    "start_time": "2022-03-29T15:23:39.606Z"
   },
   {
    "duration": 6,
    "start_time": "2022-03-29T15:23:39.612Z"
   },
   {
    "duration": 5,
    "start_time": "2022-03-29T15:23:39.619Z"
   },
   {
    "duration": 4,
    "start_time": "2022-03-29T15:23:39.625Z"
   },
   {
    "duration": 7,
    "start_time": "2022-03-29T15:23:39.631Z"
   },
   {
    "duration": 345,
    "start_time": "2022-03-29T15:23:39.639Z"
   },
   {
    "duration": 222,
    "start_time": "2022-03-29T15:23:39.986Z"
   },
   {
    "duration": 236,
    "start_time": "2022-03-29T15:23:40.210Z"
   },
   {
    "duration": 250,
    "start_time": "2022-03-29T15:23:40.447Z"
   },
   {
    "duration": 4,
    "start_time": "2022-03-29T15:23:40.698Z"
   },
   {
    "duration": 10,
    "start_time": "2022-03-29T15:23:40.703Z"
   },
   {
    "duration": 8,
    "start_time": "2022-03-29T15:23:40.715Z"
   },
   {
    "duration": 224,
    "start_time": "2022-03-29T15:23:40.724Z"
   },
   {
    "duration": 150,
    "start_time": "2022-03-29T15:23:40.950Z"
   },
   {
    "duration": 9,
    "start_time": "2022-03-29T15:23:41.101Z"
   },
   {
    "duration": 243,
    "start_time": "2022-03-29T15:23:41.112Z"
   },
   {
    "duration": 7,
    "start_time": "2022-03-29T15:23:41.357Z"
   },
   {
    "duration": 150,
    "start_time": "2022-03-29T15:23:41.365Z"
   },
   {
    "duration": 6,
    "start_time": "2022-03-29T15:23:41.517Z"
   },
   {
    "duration": 6,
    "start_time": "2022-03-29T15:23:41.525Z"
   },
   {
    "duration": 7,
    "start_time": "2022-03-29T15:23:41.533Z"
   },
   {
    "duration": 8,
    "start_time": "2022-03-29T15:23:41.541Z"
   },
   {
    "duration": 5,
    "start_time": "2022-03-29T15:23:41.550Z"
   },
   {
    "duration": 26,
    "start_time": "2022-03-29T15:23:41.556Z"
   },
   {
    "duration": 4,
    "start_time": "2022-03-29T15:23:41.583Z"
   },
   {
    "duration": 10,
    "start_time": "2022-03-29T15:23:41.589Z"
   },
   {
    "duration": 180,
    "start_time": "2022-03-29T15:23:41.601Z"
   },
   {
    "duration": 97,
    "start_time": "2022-03-29T15:23:41.784Z"
   },
   {
    "duration": 4,
    "start_time": "2022-03-29T15:23:41.882Z"
   },
   {
    "duration": 17604,
    "start_time": "2022-03-29T15:23:41.888Z"
   },
   {
    "duration": 168,
    "start_time": "2022-03-29T15:23:59.494Z"
   },
   {
    "duration": 4,
    "start_time": "2022-03-29T15:23:59.664Z"
   },
   {
    "duration": 11,
    "start_time": "2022-03-29T15:23:59.670Z"
   },
   {
    "duration": 10,
    "start_time": "2022-03-29T15:23:59.682Z"
   },
   {
    "duration": 213609,
    "start_time": "2022-03-29T15:23:59.694Z"
   },
   {
    "duration": 4,
    "start_time": "2022-03-29T15:27:33.304Z"
   },
   {
    "duration": 23,
    "start_time": "2022-03-29T15:27:33.310Z"
   },
   {
    "duration": 3,
    "start_time": "2022-03-29T15:27:33.335Z"
   },
   {
    "duration": 7,
    "start_time": "2022-03-29T15:27:33.339Z"
   },
   {
    "duration": 46,
    "start_time": "2022-03-29T15:27:33.347Z"
   },
   {
    "duration": 3,
    "start_time": "2022-03-29T15:27:33.395Z"
   },
   {
    "duration": 7,
    "start_time": "2022-03-29T15:27:33.400Z"
   },
   {
    "duration": 5,
    "start_time": "2022-03-29T15:27:33.408Z"
   },
   {
    "duration": 12,
    "start_time": "2022-03-29T15:27:33.415Z"
   },
   {
    "duration": 8,
    "start_time": "2022-03-29T15:27:33.428Z"
   },
   {
    "duration": 4,
    "start_time": "2022-03-29T15:27:33.441Z"
   },
   {
    "duration": 38,
    "start_time": "2022-03-29T15:27:33.446Z"
   },
   {
    "duration": 4,
    "start_time": "2022-03-29T15:27:33.486Z"
   },
   {
    "duration": 7,
    "start_time": "2022-03-29T15:27:33.491Z"
   },
   {
    "duration": 0,
    "start_time": "2022-03-29T15:27:33.500Z"
   },
   {
    "duration": 0,
    "start_time": "2022-03-29T15:27:33.501Z"
   },
   {
    "duration": 0,
    "start_time": "2022-03-29T15:27:33.502Z"
   },
   {
    "duration": 0,
    "start_time": "2022-03-29T15:27:33.503Z"
   },
   {
    "duration": 0,
    "start_time": "2022-03-29T15:27:33.504Z"
   },
   {
    "duration": 0,
    "start_time": "2022-03-29T15:27:33.505Z"
   },
   {
    "duration": 0,
    "start_time": "2022-03-29T15:27:33.506Z"
   },
   {
    "duration": 0,
    "start_time": "2022-03-29T15:27:33.507Z"
   },
   {
    "duration": 0,
    "start_time": "2022-03-29T15:27:33.508Z"
   },
   {
    "duration": 0,
    "start_time": "2022-03-29T15:27:33.509Z"
   },
   {
    "duration": 0,
    "start_time": "2022-03-29T15:27:33.510Z"
   },
   {
    "duration": 0,
    "start_time": "2022-03-29T15:27:33.511Z"
   },
   {
    "duration": 0,
    "start_time": "2022-03-29T15:27:33.512Z"
   },
   {
    "duration": 0,
    "start_time": "2022-03-29T15:27:33.513Z"
   },
   {
    "duration": 0,
    "start_time": "2022-03-29T15:27:33.514Z"
   },
   {
    "duration": 0,
    "start_time": "2022-03-29T15:27:33.515Z"
   },
   {
    "duration": 0,
    "start_time": "2022-03-29T15:27:33.515Z"
   },
   {
    "duration": 0,
    "start_time": "2022-03-29T15:27:33.516Z"
   },
   {
    "duration": 0,
    "start_time": "2022-03-29T15:27:33.517Z"
   },
   {
    "duration": 0,
    "start_time": "2022-03-29T15:27:33.518Z"
   },
   {
    "duration": 0,
    "start_time": "2022-03-29T15:27:33.519Z"
   },
   {
    "duration": 0,
    "start_time": "2022-03-29T15:27:33.520Z"
   },
   {
    "duration": 0,
    "start_time": "2022-03-29T15:27:33.521Z"
   },
   {
    "duration": 0,
    "start_time": "2022-03-29T15:27:33.522Z"
   },
   {
    "duration": 22,
    "start_time": "2022-03-29T15:27:45.418Z"
   },
   {
    "duration": 4,
    "start_time": "2022-03-29T15:27:48.562Z"
   },
   {
    "duration": 4,
    "start_time": "2022-03-29T15:27:50.994Z"
   },
   {
    "duration": 4,
    "start_time": "2022-03-29T15:27:54.646Z"
   },
   {
    "duration": 5,
    "start_time": "2022-03-29T15:27:57.405Z"
   },
   {
    "duration": 4,
    "start_time": "2022-03-29T15:27:59.126Z"
   },
   {
    "duration": 4,
    "start_time": "2022-03-29T15:28:04.334Z"
   },
   {
    "duration": 4,
    "start_time": "2022-03-29T15:28:11.315Z"
   },
   {
    "duration": 14,
    "start_time": "2022-03-29T15:28:13.250Z"
   },
   {
    "duration": 5,
    "start_time": "2022-03-29T15:28:16.022Z"
   },
   {
    "duration": 7,
    "start_time": "2022-03-29T15:28:18.810Z"
   },
   {
    "duration": 4,
    "start_time": "2022-03-29T15:28:20.402Z"
   },
   {
    "duration": 3,
    "start_time": "2022-03-29T15:28:22.622Z"
   },
   {
    "duration": 4,
    "start_time": "2022-03-29T15:28:26.276Z"
   },
   {
    "duration": 4,
    "start_time": "2022-03-29T15:28:28.490Z"
   },
   {
    "duration": 18,
    "start_time": "2022-03-29T15:28:33.790Z"
   },
   {
    "duration": 8,
    "start_time": "2022-03-29T15:28:36.298Z"
   },
   {
    "duration": 7,
    "start_time": "2022-03-29T15:28:38.416Z"
   },
   {
    "duration": 192,
    "start_time": "2022-03-29T15:28:40.502Z"
   },
   {
    "duration": 3,
    "start_time": "2022-03-29T15:28:44.982Z"
   },
   {
    "duration": 3,
    "start_time": "2022-03-29T15:28:47.674Z"
   },
   {
    "duration": 220062,
    "start_time": "2022-03-29T15:28:51.226Z"
   },
   {
    "duration": 9,
    "start_time": "2022-03-29T15:32:31.290Z"
   },
   {
    "duration": 4,
    "start_time": "2022-03-29T15:32:31.300Z"
   },
   {
    "duration": 198,
    "start_time": "2022-03-29T15:32:38.986Z"
   },
   {
    "duration": 3,
    "start_time": "2022-03-29T15:32:53.862Z"
   },
   {
    "duration": 96,
    "start_time": "2022-03-29T15:32:56.318Z"
   },
   {
    "duration": 4,
    "start_time": "2022-03-29T15:33:18.706Z"
   },
   {
    "duration": 96,
    "start_time": "2022-03-29T15:33:23.086Z"
   },
   {
    "duration": 3,
    "start_time": "2022-03-29T15:33:26.066Z"
   },
   {
    "duration": 94,
    "start_time": "2022-03-29T15:33:28.586Z"
   },
   {
    "duration": 95,
    "start_time": "2022-03-29T15:35:06.570Z"
   },
   {
    "duration": 2,
    "start_time": "2022-03-29T15:35:35.082Z"
   },
   {
    "duration": 2,
    "start_time": "2022-03-29T15:35:37.670Z"
   },
   {
    "duration": 179189,
    "start_time": "2022-03-29T15:35:40.778Z"
   },
   {
    "duration": 15,
    "start_time": "2022-03-29T15:38:39.969Z"
   },
   {
    "duration": 4,
    "start_time": "2022-03-29T15:38:39.985Z"
   },
   {
    "duration": 213,
    "start_time": "2022-03-29T15:38:39.991Z"
   },
   {
    "duration": 2,
    "start_time": "2022-03-29T15:38:40.205Z"
   },
   {
    "duration": 104,
    "start_time": "2022-03-29T15:38:40.209Z"
   },
   {
    "duration": 3,
    "start_time": "2022-03-29T15:39:09.790Z"
   },
   {
    "duration": 3,
    "start_time": "2022-03-29T15:39:12.146Z"
   },
   {
    "duration": 156228,
    "start_time": "2022-03-29T15:39:15.526Z"
   },
   {
    "duration": 25,
    "start_time": "2022-03-29T15:41:51.756Z"
   },
   {
    "duration": 4,
    "start_time": "2022-03-29T15:41:51.783Z"
   },
   {
    "duration": 272,
    "start_time": "2022-03-29T15:41:51.789Z"
   },
   {
    "duration": 3,
    "start_time": "2022-03-29T15:41:52.062Z"
   },
   {
    "duration": 103,
    "start_time": "2022-03-29T15:41:52.066Z"
   },
   {
    "duration": 242,
    "start_time": "2022-03-29T15:41:52.171Z"
   },
   {
    "duration": 2,
    "start_time": "2022-03-29T15:41:59.638Z"
   },
   {
    "duration": 95,
    "start_time": "2022-03-29T15:42:01.794Z"
   },
   {
    "duration": 3,
    "start_time": "2022-03-29T15:42:29.281Z"
   },
   {
    "duration": 2,
    "start_time": "2022-03-29T15:42:31.542Z"
   },
   {
    "duration": 81971,
    "start_time": "2022-03-29T15:42:34.214Z"
   },
   {
    "duration": 9,
    "start_time": "2022-03-29T15:43:56.187Z"
   },
   {
    "duration": 4,
    "start_time": "2022-03-29T15:43:56.198Z"
   },
   {
    "duration": 219,
    "start_time": "2022-03-29T15:43:56.204Z"
   },
   {
    "duration": 2,
    "start_time": "2022-03-29T15:43:56.425Z"
   },
   {
    "duration": 108,
    "start_time": "2022-03-29T15:43:56.429Z"
   },
   {
    "duration": 2,
    "start_time": "2022-03-29T15:45:44.474Z"
   },
   {
    "duration": 3,
    "start_time": "2022-03-29T15:45:44.481Z"
   },
   {
    "duration": 2,
    "start_time": "2022-03-29T15:45:44.492Z"
   },
   {
    "duration": 653,
    "start_time": "2022-03-29T15:45:44.504Z"
   },
   {
    "duration": 23,
    "start_time": "2022-03-29T15:45:45.159Z"
   },
   {
    "duration": 14,
    "start_time": "2022-03-29T15:45:45.183Z"
   },
   {
    "duration": 16,
    "start_time": "2022-03-29T15:45:45.199Z"
   },
   {
    "duration": 4,
    "start_time": "2022-03-29T15:45:45.217Z"
   },
   {
    "duration": 229,
    "start_time": "2022-03-29T15:45:45.223Z"
   },
   {
    "duration": 5,
    "start_time": "2022-03-29T15:45:45.454Z"
   },
   {
    "duration": 4,
    "start_time": "2022-03-29T15:45:45.460Z"
   },
   {
    "duration": 19,
    "start_time": "2022-03-29T15:45:45.465Z"
   },
   {
    "duration": 118,
    "start_time": "2022-03-29T15:45:45.486Z"
   },
   {
    "duration": 9,
    "start_time": "2022-03-29T15:45:45.606Z"
   },
   {
    "duration": 9,
    "start_time": "2022-03-29T15:45:45.616Z"
   },
   {
    "duration": 3,
    "start_time": "2022-03-29T15:45:45.627Z"
   },
   {
    "duration": 13,
    "start_time": "2022-03-29T15:45:45.631Z"
   },
   {
    "duration": 46,
    "start_time": "2022-03-29T15:45:45.645Z"
   },
   {
    "duration": 9,
    "start_time": "2022-03-29T15:45:45.692Z"
   },
   {
    "duration": 9,
    "start_time": "2022-03-29T15:45:45.702Z"
   },
   {
    "duration": 6,
    "start_time": "2022-03-29T15:45:45.713Z"
   },
   {
    "duration": 7,
    "start_time": "2022-03-29T15:45:45.721Z"
   },
   {
    "duration": 11,
    "start_time": "2022-03-29T15:45:45.730Z"
   },
   {
    "duration": 44,
    "start_time": "2022-03-29T15:45:45.743Z"
   },
   {
    "duration": 10,
    "start_time": "2022-03-29T15:45:45.788Z"
   },
   {
    "duration": 5,
    "start_time": "2022-03-29T15:45:45.800Z"
   },
   {
    "duration": 6,
    "start_time": "2022-03-29T15:45:45.807Z"
   },
   {
    "duration": 6,
    "start_time": "2022-03-29T15:45:45.814Z"
   },
   {
    "duration": 3,
    "start_time": "2022-03-29T15:45:45.822Z"
   },
   {
    "duration": 7,
    "start_time": "2022-03-29T15:45:45.826Z"
   },
   {
    "duration": 269,
    "start_time": "2022-03-29T15:45:45.838Z"
   },
   {
    "duration": 213,
    "start_time": "2022-03-29T15:45:46.109Z"
   },
   {
    "duration": 305,
    "start_time": "2022-03-29T15:45:46.323Z"
   },
   {
    "duration": 242,
    "start_time": "2022-03-29T15:45:46.630Z"
   },
   {
    "duration": 7,
    "start_time": "2022-03-29T15:45:46.874Z"
   },
   {
    "duration": 23,
    "start_time": "2022-03-29T15:45:46.883Z"
   },
   {
    "duration": 22,
    "start_time": "2022-03-29T15:45:46.907Z"
   },
   {
    "duration": 232,
    "start_time": "2022-03-29T15:45:46.930Z"
   },
   {
    "duration": 149,
    "start_time": "2022-03-29T15:45:47.164Z"
   },
   {
    "duration": 10,
    "start_time": "2022-03-29T15:45:47.314Z"
   },
   {
    "duration": 139,
    "start_time": "2022-03-29T15:45:47.325Z"
   },
   {
    "duration": 6,
    "start_time": "2022-03-29T15:45:47.466Z"
   },
   {
    "duration": 144,
    "start_time": "2022-03-29T15:45:47.473Z"
   },
   {
    "duration": 6,
    "start_time": "2022-03-29T15:45:47.619Z"
   },
   {
    "duration": 8,
    "start_time": "2022-03-29T15:45:47.626Z"
   },
   {
    "duration": 8,
    "start_time": "2022-03-29T15:45:47.635Z"
   },
   {
    "duration": 7,
    "start_time": "2022-03-29T15:45:47.645Z"
   },
   {
    "duration": 4,
    "start_time": "2022-03-29T15:45:47.653Z"
   },
   {
    "duration": 23,
    "start_time": "2022-03-29T15:45:47.659Z"
   },
   {
    "duration": 5,
    "start_time": "2022-03-29T15:45:47.683Z"
   },
   {
    "duration": 12,
    "start_time": "2022-03-29T15:45:47.689Z"
   },
   {
    "duration": 180,
    "start_time": "2022-03-29T15:45:47.703Z"
   },
   {
    "duration": 96,
    "start_time": "2022-03-29T15:45:47.885Z"
   },
   {
    "duration": 4,
    "start_time": "2022-03-29T15:45:47.982Z"
   },
   {
    "duration": 17152,
    "start_time": "2022-03-29T15:45:47.988Z"
   },
   {
    "duration": 167,
    "start_time": "2022-03-29T15:46:05.142Z"
   },
   {
    "duration": 3,
    "start_time": "2022-03-29T15:46:05.311Z"
   },
   {
    "duration": 7,
    "start_time": "2022-03-29T15:46:05.316Z"
   },
   {
    "duration": 5,
    "start_time": "2022-03-29T15:46:05.325Z"
   },
   {
    "duration": 213943,
    "start_time": "2022-03-29T15:46:05.332Z"
   },
   {
    "duration": 7,
    "start_time": "2022-03-29T15:49:39.277Z"
   },
   {
    "duration": 31,
    "start_time": "2022-03-29T15:49:39.285Z"
   },
   {
    "duration": 4,
    "start_time": "2022-03-29T15:49:39.317Z"
   },
   {
    "duration": 7,
    "start_time": "2022-03-29T15:49:39.322Z"
   },
   {
    "duration": 26,
    "start_time": "2022-03-29T15:49:39.330Z"
   },
   {
    "duration": 23,
    "start_time": "2022-03-29T15:49:39.358Z"
   },
   {
    "duration": 3,
    "start_time": "2022-03-29T15:49:39.382Z"
   },
   {
    "duration": 8,
    "start_time": "2022-03-29T15:49:39.386Z"
   },
   {
    "duration": 11,
    "start_time": "2022-03-29T15:49:39.395Z"
   },
   {
    "duration": 11,
    "start_time": "2022-03-29T15:49:39.408Z"
   },
   {
    "duration": 5,
    "start_time": "2022-03-29T15:49:39.421Z"
   },
   {
    "duration": 15,
    "start_time": "2022-03-29T15:49:39.428Z"
   },
   {
    "duration": 5,
    "start_time": "2022-03-29T15:49:39.445Z"
   },
   {
    "duration": 43,
    "start_time": "2022-03-29T15:49:39.451Z"
   },
   {
    "duration": 3,
    "start_time": "2022-03-29T15:49:39.496Z"
   },
   {
    "duration": 5,
    "start_time": "2022-03-29T15:49:39.501Z"
   },
   {
    "duration": 6,
    "start_time": "2022-03-29T15:49:39.507Z"
   },
   {
    "duration": 6,
    "start_time": "2022-03-29T15:49:39.514Z"
   },
   {
    "duration": 10,
    "start_time": "2022-03-29T15:49:39.521Z"
   },
   {
    "duration": 9,
    "start_time": "2022-03-29T15:49:39.533Z"
   },
   {
    "duration": 17,
    "start_time": "2022-03-29T15:49:39.543Z"
   },
   {
    "duration": 20,
    "start_time": "2022-03-29T15:49:39.561Z"
   },
   {
    "duration": 3,
    "start_time": "2022-03-29T15:49:39.582Z"
   },
   {
    "duration": 8,
    "start_time": "2022-03-29T15:49:39.586Z"
   },
   {
    "duration": 3,
    "start_time": "2022-03-29T15:49:39.599Z"
   },
   {
    "duration": 7,
    "start_time": "2022-03-29T15:49:39.603Z"
   },
   {
    "duration": 76,
    "start_time": "2022-03-29T15:49:39.611Z"
   },
   {
    "duration": 197,
    "start_time": "2022-03-29T15:49:39.689Z"
   },
   {
    "duration": 97,
    "start_time": "2022-03-29T15:49:39.889Z"
   },
   {
    "duration": 537,
    "start_time": "2022-03-29T15:49:39.989Z"
   },
   {
    "duration": 2,
    "start_time": "2022-03-29T15:49:40.528Z"
   },
   {
    "duration": 7,
    "start_time": "2022-03-29T15:49:40.531Z"
   },
   {
    "duration": 81808,
    "start_time": "2022-03-29T15:49:40.539Z"
   },
   {
    "duration": 9,
    "start_time": "2022-03-29T15:51:02.349Z"
   },
   {
    "duration": 6,
    "start_time": "2022-03-29T15:51:02.360Z"
   },
   {
    "duration": 217,
    "start_time": "2022-03-29T15:51:02.367Z"
   },
   {
    "duration": 3,
    "start_time": "2022-03-29T15:51:02.585Z"
   },
   {
    "duration": 110,
    "start_time": "2022-03-29T15:51:02.589Z"
   }
  ],
  "kernelspec": {
   "display_name": "Python 3",
   "language": "python",
   "name": "python3"
  },
  "language_info": {
   "codemirror_mode": {
    "name": "ipython",
    "version": 3
   },
   "file_extension": ".py",
   "mimetype": "text/x-python",
   "name": "python",
   "nbconvert_exporter": "python",
   "pygments_lexer": "ipython3",
   "version": "3.8.8"
  },
  "toc": {
   "base_numbering": 1,
   "nav_menu": {},
   "number_sections": true,
   "sideBar": true,
   "skip_h1_title": true,
   "title_cell": "Содержание",
   "title_sidebar": "Contents",
   "toc_cell": true,
   "toc_position": {
    "height": "calc(100% - 180px)",
    "left": "10px",
    "top": "150px",
    "width": "255.594px"
   },
   "toc_section_display": true,
   "toc_window_display": true
  }
 },
 "nbformat": 4,
 "nbformat_minor": 2
}
